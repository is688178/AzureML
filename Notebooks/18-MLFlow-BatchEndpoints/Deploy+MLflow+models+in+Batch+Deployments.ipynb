{
  "cells": [
    {
      "cell_type": "markdown",
      "source": [
        "# 1 - Use MLflow models in batch deployments"
      ],
      "metadata": {
        "nteract": {
          "transient": {
            "deleting": false
          }
        }
      }
    },
    {
      "cell_type": "markdown",
      "source": [
        "**Agenda:** Deploy MLflow model to Azure ML for batch inference using batch endpoints\n",
        "\n",
        "- Azure ML supports no-code deployment of models created and logged with MLflow, means you don't have to provide a scoring script or an environment\n",
        "\n",
        "**For no-code-deployment, Azure Machine Learning provides,**\n",
        "\n",
        "1. A MLflow base image/curated environment that contains the required dependencies to run an Azure Machine Learning Batch job\n",
        "2. Creates a batch job pipeline with a scoring script for you that can be used to process data using parallelization"
      ],
      "metadata": {
        "nteract": {
          "transient": {
            "deleting": false
          }
        }
      }
    },
    {
      "cell_type": "code",
      "source": [
        "# give permissions in the workspace\n",
        "\n",
        "# workspace - Access control (IAM) - Add role assignment - job function roles - AzureML Data Scientist - next - Select members\n",
        "# select user - review + assign"
      ],
      "outputs": [],
      "execution_count": null,
      "metadata": {}
    },
    {
      "cell_type": "markdown",
      "source": [
        "# 2 - Connect to Azure Machine Learning Workspace"
      ],
      "metadata": {
        "nteract": {
          "transient": {
            "deleting": false
          }
        }
      }
    },
    {
      "cell_type": "code",
      "source": [
        "# Import the required libraries\n",
        "\n",
        "from azure.ai.ml import MLClient, Input\n",
        "from azure.ai.ml.entities import (\n",
        "    BatchEndpoint,\n",
        "    ModelBatchDeployment,\n",
        "    ModelBatchDeploymentSettings,\n",
        "    Model,\n",
        "    AmlCompute,\n",
        "    Data,\n",
        "    BatchRetrySettings,\n",
        "    CodeConfiguration,\n",
        "    Environment,\n",
        ")\n",
        "from azure.ai.ml.constants import AssetTypes, BatchDeploymentOutputAction\n",
        "from azure.identity import DefaultAzureCredential"
      ],
      "outputs": [],
      "execution_count": 1,
      "metadata": {
        "jupyter": {
          "source_hidden": false,
          "outputs_hidden": false
        },
        "nteract": {
          "transient": {
            "deleting": false
          }
        },
        "gather": {
          "logged": 1717442529366
        }
      }
    },
    {
      "cell_type": "code",
      "source": [
        "# Configure workspace details and get a handle to workspace\n",
        "\n",
        "subscription_id = \"3b57d2fe-08b1-4fe9-b535-f5c4387b9a66\"\n",
        "resource_group = \"mlflow-rg60\"\n",
        "workspace = \"mlflow-ws60\"\n",
        "\n",
        "ml_client = MLClient(DefaultAzureCredential(), subscription_id, resource_group, workspace)"
      ],
      "outputs": [],
      "execution_count": 2,
      "metadata": {
        "jupyter": {
          "source_hidden": false,
          "outputs_hidden": false
        },
        "nteract": {
          "transient": {
            "deleting": false
          }
        },
        "gather": {
          "logged": 1717442530242
        }
      }
    },
    {
      "cell_type": "markdown",
      "source": [
        "# 3 - Registering the model"
      ],
      "metadata": {
        "nteract": {
          "transient": {
            "deleting": false
          }
        }
      }
    },
    {
      "cell_type": "code",
      "source": [
        "model_name = \"heart-classifier-mlflow\"\n",
        "model_local_path = \"model\"\n",
        "\n",
        "model = ml_client.models.create_or_update(\n",
        "    Model(name=model_name, path=model_local_path, type=AssetTypes.MLFLOW_MODEL)\n",
        ")"
      ],
      "outputs": [],
      "execution_count": 3,
      "metadata": {
        "jupyter": {
          "source_hidden": false,
          "outputs_hidden": false
        },
        "nteract": {
          "transient": {
            "deleting": false
          }
        },
        "gather": {
          "logged": 1717442536610
        }
      }
    },
    {
      "cell_type": "code",
      "source": [
        "# Let's get the model\n",
        "\n",
        "model = ml_client.models.get(name=model_name, label=\"latest\")"
      ],
      "outputs": [],
      "execution_count": 4,
      "metadata": {
        "jupyter": {
          "source_hidden": false,
          "outputs_hidden": false
        },
        "nteract": {
          "transient": {
            "deleting": false
          }
        },
        "gather": {
          "logged": 1717442536807
        }
      }
    },
    {
      "cell_type": "markdown",
      "source": [
        "# 4 - Create Batch Endpoint"
      ],
      "metadata": {
        "nteract": {
          "transient": {
            "deleting": false
          }
        }
      }
    },
    {
      "cell_type": "markdown",
      "source": [
        "### a) Configure the endpoint"
      ],
      "metadata": {
        "nteract": {
          "transient": {
            "deleting": false
          }
        }
      }
    },
    {
      "cell_type": "code",
      "source": [
        "# Define endpoint name\n",
        "endpoint_name = \"heart-classifier\""
      ],
      "outputs": [],
      "execution_count": 5,
      "metadata": {
        "jupyter": {
          "source_hidden": false,
          "outputs_hidden": false
        },
        "nteract": {
          "transient": {
            "deleting": false
          }
        },
        "gather": {
          "logged": 1717442552955
        }
      }
    },
    {
      "cell_type": "code",
      "source": [
        "# Creating a unique endpoint name by including a random suffix\n",
        "\n",
        "\n",
        "# Import libraries\n",
        "import random\n",
        "import string\n",
        "\n",
        "# Create allowed characters\n",
        "allowed_chars = string.ascii_lowercase + string.digits\n",
        "\n",
        "# Generate random suffix\n",
        "endpoint_suffix = \"\".join(random.choice(allowed_chars) for x in range(5))\n",
        "\n",
        "# Combine endpoint name and suffix\n",
        "endpoint_name = f\"{endpoint_name}-{endpoint_suffix}\"\n",
        "\n",
        "# Print the endpoint name\n",
        "print(f\"Endpoint name: {endpoint_name}\")"
      ],
      "outputs": [
        {
          "output_type": "stream",
          "name": "stdout",
          "text": "Endpoint name: heart-classifier-7kl74\n"
        }
      ],
      "execution_count": 6,
      "metadata": {
        "jupyter": {
          "source_hidden": false,
          "outputs_hidden": false
        },
        "nteract": {
          "transient": {
            "deleting": false
          }
        },
        "gather": {
          "logged": 1717442554878
        }
      }
    },
    {
      "cell_type": "code",
      "source": [
        "# configure the endpoint\n",
        "\n",
        "endpoint = BatchEndpoint(\n",
        "    name=endpoint_name,\n",
        "    description=\"A heart condition classifier for batch inference\",\n",
        ")"
      ],
      "outputs": [],
      "execution_count": 7,
      "metadata": {
        "jupyter": {
          "source_hidden": false,
          "outputs_hidden": false
        },
        "nteract": {
          "transient": {
            "deleting": false
          }
        },
        "gather": {
          "logged": 1717442557430
        }
      }
    },
    {
      "cell_type": "markdown",
      "source": [
        "### b) Create the endpoint"
      ],
      "metadata": {
        "nteract": {
          "transient": {
            "deleting": false
          }
        }
      }
    },
    {
      "cell_type": "code",
      "source": [
        "ml_client.batch_endpoints.begin_create_or_update(endpoint).result()"
      ],
      "outputs": [
        {
          "output_type": "execute_result",
          "execution_count": 8,
          "data": {
            "text/plain": "<azure.ai.ml._restclient.v2022_05_01.models._models_py3.BatchEndpointData at 0x7f84f10e3c10>"
          },
          "metadata": {}
        }
      ],
      "execution_count": 8,
      "metadata": {
        "jupyter": {
          "source_hidden": false,
          "outputs_hidden": false
        },
        "nteract": {
          "transient": {
            "deleting": false
          }
        },
        "gather": {
          "logged": 1717442591052
        }
      }
    },
    {
      "cell_type": "markdown",
      "source": [
        "# 5 - Create a batch deployment"
      ],
      "metadata": {
        "nteract": {
          "transient": {
            "deleting": false
          }
        }
      }
    },
    {
      "cell_type": "markdown",
      "source": [
        "### a) Creating an scoring script to work with the model"
      ],
      "metadata": {
        "nteract": {
          "transient": {
            "deleting": false
          }
        }
      }
    },
    {
      "cell_type": "code",
      "source": [
        "# MLflow models don't require an scoring script"
      ],
      "outputs": [],
      "execution_count": null,
      "metadata": {
        "jupyter": {
          "source_hidden": false,
          "outputs_hidden": false
        },
        "nteract": {
          "transient": {
            "deleting": false
          }
        }
      }
    },
    {
      "cell_type": "markdown",
      "source": [
        "### b) Creating the compute"
      ],
      "metadata": {
        "nteract": {
          "transient": {
            "deleting": false
          }
        }
      }
    },
    {
      "cell_type": "code",
      "source": [
        "# Define compute name\n",
        "compute_name = \"batch-cluster\"\n",
        "\n",
        "# Check for existing cluster, Create compute cluster (if needed)\n",
        "if not any(filter(lambda m: m.name == compute_name, ml_client.compute.list())):\n",
        "    compute_cluster = AmlCompute(\n",
        "        name=compute_name, description=\"amlcompute\", min_instances=0, max_instances=5\n",
        "    )\n",
        "    ml_client.begin_create_or_update(compute_cluster).result()"
      ],
      "outputs": [],
      "execution_count": 9,
      "metadata": {
        "jupyter": {
          "source_hidden": false,
          "outputs_hidden": false
        },
        "nteract": {
          "transient": {
            "deleting": false
          }
        },
        "gather": {
          "logged": 1717442625910
        }
      }
    },
    {
      "cell_type": "markdown",
      "source": [
        "### c) Creating the environment"
      ],
      "metadata": {
        "nteract": {
          "transient": {
            "deleting": false
          }
        }
      }
    },
    {
      "cell_type": "code",
      "source": [
        "# MLflow models don't require an environment"
      ],
      "outputs": [],
      "execution_count": null,
      "metadata": {
        "jupyter": {
          "source_hidden": false,
          "outputs_hidden": false
        },
        "nteract": {
          "transient": {
            "deleting": false
          }
        }
      }
    },
    {
      "cell_type": "markdown",
      "source": [
        "### d) Configuring the deployment"
      ],
      "metadata": {
        "nteract": {
          "transient": {
            "deleting": false
          }
        }
      }
    },
    {
      "cell_type": "code",
      "source": [
        "deployment = ModelBatchDeployment(\n",
        "    name=\"classifier-xgboost\",\n",
        "    description=\"A heart condition classifier based on XGBoost\",\n",
        "    endpoint_name=endpoint.name,\n",
        "    model=model,\n",
        "    compute=compute_name,\n",
        "    settings=ModelBatchDeploymentSettings(\n",
        "        instance_count=2,\n",
        "        max_concurrency_per_instance=2,\n",
        "        mini_batch_size=10,\n",
        "        output_action=BatchDeploymentOutputAction.APPEND_ROW,\n",
        "        output_file_name=\"predictions.csv\",\n",
        "        retry_settings=BatchRetrySettings(max_retries=3, timeout=300),\n",
        "        logging_level=\"info\",\n",
        "    ),\n",
        ")"
      ],
      "outputs": [
        {
          "output_type": "stream",
          "name": "stderr",
          "text": "Class ModelBatchDeploymentSettings: This is an experimental class, and may change at any time. Please see https://aka.ms/azuremlexperimental for more information.\nClass ModelBatchDeployment: This is an experimental class, and may change at any time. Please see https://aka.ms/azuremlexperimental for more information.\n"
        }
      ],
      "execution_count": 10,
      "metadata": {
        "jupyter": {
          "source_hidden": false,
          "outputs_hidden": false
        },
        "nteract": {
          "transient": {
            "deleting": false
          }
        },
        "gather": {
          "logged": 1717442628698
        }
      }
    },
    {
      "cell_type": "markdown",
      "source": [
        "### e) Create the deployment"
      ],
      "metadata": {
        "nteract": {
          "transient": {
            "deleting": false
          }
        }
      }
    },
    {
      "cell_type": "code",
      "source": [
        "ml_client.batch_deployments.begin_create_or_update(deployment).result()"
      ],
      "outputs": [
        {
          "output_type": "execute_result",
          "execution_count": 11,
          "data": {
            "text/plain": "BatchDeployment({'provisioning_state': 'Succeeded', 'endpoint_name': 'heart-classifier-7kl74', 'type': None, 'name': 'classifier-xgboost', 'description': 'A heart condition classifier based on XGBoost', 'tags': {}, 'properties': {}, 'print_as_yaml': True, 'id': '/subscriptions/3b57d2fe-08b1-4fe9-b535-f5c4387b9a66/resourceGroups/mlflow-rg60/providers/Microsoft.MachineLearningServices/workspaces/mlflow-ws60/batchEndpoints/heart-classifier-7kl74/deployments/classifier-xgboost', 'Resource__source_path': None, 'base_path': '/mnt/batch/tasks/shared/LS_root/mounts/clusters/compute-instance01/code/Users/vijaygadhave199', 'creation_context': <azure.ai.ml.entities._system_data.SystemData object at 0x7f84f1131810>, 'serialize': <msrest.serialization.Serializer object at 0x7f84f1131ba0>, 'model': '/subscriptions/3b57d2fe-08b1-4fe9-b535-f5c4387b9a66/resourceGroups/mlflow-rg60/providers/Microsoft.MachineLearningServices/workspaces/mlflow-ws60/models/heart-classifier-mlflow/versions/1', 'code_configuration': None, 'environment': None, 'environment_variables': {}, 'compute': '/subscriptions/3b57d2fe-08b1-4fe9-b535-f5c4387b9a66/resourceGroups/mlflow-rg60/providers/Microsoft.MachineLearningServices/workspaces/mlflow-ws60/computes/batch-cluster', 'resources': {'instance_count': 1, 'properties': {}}, 'output_action': 'append_row', 'output_file_name': 'predictions.csv', 'error_threshold': -1, 'retry_settings': <azure.ai.ml.entities._deployment.deployment_settings.BatchRetrySettings object at 0x7f84f9264040>, 'logging_level': 'Info', 'mini_batch_size': 10, 'max_concurrency_per_instance': 2})"
          },
          "metadata": {}
        }
      ],
      "execution_count": 11,
      "metadata": {
        "jupyter": {
          "source_hidden": false,
          "outputs_hidden": false
        },
        "nteract": {
          "transient": {
            "deleting": false
          }
        },
        "gather": {
          "logged": 1717442693672
        }
      }
    },
    {
      "cell_type": "code",
      "source": [
        "# configure this new deployment as the default one\n",
        "\n",
        "# Retrieve Batch Endpoint\n",
        "endpoint = ml_client.batch_endpoints.get(endpoint.name)\n",
        "# Set Default Deployment\n",
        "endpoint.defaults.deployment_name = deployment.name\n",
        "# Update Batch Endpoint\n",
        "ml_client.batch_endpoints.begin_create_or_update(endpoint).result()"
      ],
      "outputs": [
        {
          "output_type": "execute_result",
          "execution_count": 12,
          "data": {
            "text/plain": "<azure.ai.ml._restclient.v2022_05_01.models._models_py3.BatchEndpointData at 0x7f84f10e3520>"
          },
          "metadata": {}
        }
      ],
      "execution_count": 12,
      "metadata": {
        "jupyter": {
          "source_hidden": false,
          "outputs_hidden": false
        },
        "nteract": {
          "transient": {
            "deleting": false
          }
        },
        "gather": {
          "logged": 1717442774126
        }
      }
    },
    {
      "cell_type": "code",
      "source": [
        "print(f\"The default deployment is {endpoint.defaults.deployment_name}\")"
      ],
      "outputs": [
        {
          "output_type": "stream",
          "name": "stdout",
          "text": "The default deployment is classifier-xgboost\n"
        }
      ],
      "execution_count": 13,
      "metadata": {
        "jupyter": {
          "source_hidden": false,
          "outputs_hidden": false
        },
        "nteract": {
          "transient": {
            "deleting": false
          }
        },
        "gather": {
          "logged": 1717442774679
        }
      }
    },
    {
      "cell_type": "markdown",
      "source": [
        "# 6 - Testing the deployment"
      ],
      "metadata": {
        "nteract": {
          "transient": {
            "deleting": false
          }
        }
      }
    },
    {
      "cell_type": "markdown",
      "source": [
        "### a) Creating a data asset"
      ],
      "metadata": {
        "nteract": {
          "transient": {
            "deleting": false
          }
        }
      }
    },
    {
      "cell_type": "code",
      "source": [
        "data_path = \"data\"\n",
        "dataset_name = \"heart-dataset-unlabeled\"\n",
        "\n",
        "# creates a data asset object\n",
        "heart_dataset_unlabeled = Data(\n",
        "    path=data_path,\n",
        "    type=AssetTypes.URI_FOLDER,\n",
        "    description=\"An unlabeled dataset for heart classification\",\n",
        "    name=dataset_name,\n",
        ")"
      ],
      "outputs": [],
      "execution_count": 14,
      "metadata": {
        "jupyter": {
          "source_hidden": false,
          "outputs_hidden": false
        },
        "nteract": {
          "transient": {
            "deleting": false
          }
        },
        "gather": {
          "logged": 1717443596300
        }
      }
    },
    {
      "cell_type": "code",
      "source": [
        "# creates or updates a data asset in Azure ML\n",
        "\n",
        "ml_client.data.create_or_update(heart_dataset_unlabeled)"
      ],
      "outputs": [
        {
          "output_type": "stream",
          "name": "stderr",
          "text": "\u001b[32mUploading data (0.01 MBs): 100%|██████████| 13148/13148 [00:00<00:00, 82519.75it/s]\n\u001b[39m\n\n"
        },
        {
          "output_type": "execute_result",
          "execution_count": 15,
          "data": {
            "text/plain": "Data({'skip_validation': False, 'mltable_schema_url': None, 'referenced_uris': None, 'type': 'uri_folder', 'is_anonymous': False, 'auto_increment_version': False, 'auto_delete_setting': None, 'name': 'heart-dataset-unlabeled', 'description': 'An unlabeled dataset for heart classification', 'tags': {}, 'properties': {}, 'print_as_yaml': True, 'id': '/subscriptions/3b57d2fe-08b1-4fe9-b535-f5c4387b9a66/resourceGroups/mlflow-rg60/providers/Microsoft.MachineLearningServices/workspaces/mlflow-ws60/data/heart-dataset-unlabeled/versions/1', 'Resource__source_path': None, 'base_path': '/mnt/batch/tasks/shared/LS_root/mounts/clusters/compute-instance01/code/Users/vijaygadhave199', 'creation_context': <azure.ai.ml.entities._system_data.SystemData object at 0x7f84f10e1f90>, 'serialize': <msrest.serialization.Serializer object at 0x7f84f10e39d0>, 'version': '1', 'latest_version': None, 'path': 'azureml://subscriptions/3b57d2fe-08b1-4fe9-b535-f5c4387b9a66/resourcegroups/mlflow-rg60/workspaces/mlflow-ws60/datastores/workspaceblobstore/paths/LocalUpload/c9ee3a8c0790b214c68d49028e9e127d/data/', 'datastore': None})"
          },
          "metadata": {}
        }
      ],
      "execution_count": 15,
      "metadata": {
        "jupyter": {
          "source_hidden": false,
          "outputs_hidden": false
        },
        "nteract": {
          "transient": {
            "deleting": false
          }
        },
        "gather": {
          "logged": 1717443645733
        }
      }
    },
    {
      "cell_type": "code",
      "source": [
        "# get a reference of the new data asset\n",
        "\n",
        "heart_dataset_unlabeled = ml_client.data.get(name=dataset_name, label=\"latest\")"
      ],
      "outputs": [],
      "execution_count": 16,
      "metadata": {
        "jupyter": {
          "source_hidden": false,
          "outputs_hidden": false
        },
        "nteract": {
          "transient": {
            "deleting": false
          }
        },
        "gather": {
          "logged": 1717443783290
        }
      }
    },
    {
      "cell_type": "markdown",
      "source": [
        "### b) Creating an input for the deployment"
      ],
      "metadata": {
        "nteract": {
          "transient": {
            "deleting": false
          }
        }
      }
    },
    {
      "cell_type": "code",
      "source": [
        "input = Input(type=AssetTypes.URI_FOLDER, path=heart_dataset_unlabeled.id)"
      ],
      "outputs": [],
      "execution_count": 17,
      "metadata": {
        "jupyter": {
          "source_hidden": false,
          "outputs_hidden": false
        },
        "nteract": {
          "transient": {
            "deleting": false
          }
        },
        "gather": {
          "logged": 1717443919135
        }
      }
    },
    {
      "cell_type": "code",
      "source": [
        "input"
      ],
      "outputs": [
        {
          "output_type": "execute_result",
          "execution_count": 18,
          "data": {
            "text/plain": "{'type': 'uri_folder', 'path': '/subscriptions/3b57d2fe-08b1-4fe9-b535-f5c4387b9a66/resourceGroups/mlflow-rg60/providers/Microsoft.MachineLearningServices/workspaces/mlflow-ws60/data/heart-dataset-unlabeled/versions/1'}"
          },
          "metadata": {}
        }
      ],
      "execution_count": 18,
      "metadata": {
        "jupyter": {
          "source_hidden": false,
          "outputs_hidden": false
        },
        "nteract": {
          "transient": {
            "deleting": false
          }
        },
        "gather": {
          "logged": 1717443926001
        }
      }
    },
    {
      "cell_type": "markdown",
      "source": [
        "### c) Invoke the deployment"
      ],
      "metadata": {
        "nteract": {
          "transient": {
            "deleting": false
          }
        }
      }
    },
    {
      "cell_type": "code",
      "source": [
        "job = ml_client.batch_endpoints.invoke(endpoint_name=endpoint.name, input=input)"
      ],
      "outputs": [],
      "execution_count": 19,
      "metadata": {
        "jupyter": {
          "source_hidden": false,
          "outputs_hidden": false
        },
        "nteract": {
          "transient": {
            "deleting": false
          }
        },
        "gather": {
          "logged": 1717444127655
        }
      }
    },
    {
      "cell_type": "code",
      "source": [
        "job = ml_client.batch_endpoints.invoke(\n",
        "    deployment_name=deployment.name, endpoint_name=endpoint.name, input=input\n",
        ")"
      ],
      "outputs": [],
      "execution_count": null,
      "metadata": {
        "jupyter": {
          "source_hidden": false,
          "outputs_hidden": false
        },
        "nteract": {
          "transient": {
            "deleting": false
          }
        }
      }
    },
    {
      "cell_type": "markdown",
      "source": [
        "### d) Get the details of invoked job"
      ],
      "metadata": {
        "nteract": {
          "transient": {
            "deleting": false
          }
        }
      }
    },
    {
      "cell_type": "code",
      "source": [
        "# get details and logs of the invoked job\n",
        "ml_client.jobs.get(job.name)"
      ],
      "outputs": [
        {
          "output_type": "execute_result",
          "execution_count": 21,
          "data": {
            "text/plain": "PipelineJob({'inputs': {}, 'outputs': {}, 'jobs': {}, 'component': PipelineComponent({'intellectual_property': None, 'auto_increment_version': False, 'source': 'REMOTE.WORKSPACE.JOB', 'is_anonymous': True, 'auto_delete_setting': None, 'name': 'azureml_anonymous', 'description': \"Attempting to create pipeline submission settings for endpoint: 'heart-classifier-7kl74', deployment: 'classifier-xgboost'.\", 'tags': {}, 'properties': {}, 'print_as_yaml': True, 'id': None, 'Resource__source_path': None, 'base_path': '/mnt/batch/tasks/shared/LS_root/mounts/clusters/compute-instance01/code/Users/vijaygadhave199', 'creation_context': None, 'serialize': <msrest.serialization.Serializer object at 0x7f84e424e200>, 'version': '1', 'latest_version': None, 'schema': None, 'type': 'pipeline', 'display_name': 'zen_rod_68mv9vnd', 'is_deterministic': None, 'inputs': {}, 'outputs': {}, 'yaml_str': None, 'other_parameter': {}, 'jobs': {}, 'job_types': {}, 'job_sources': {}, 'source_job_id': None}), 'type': 'pipeline', 'status': 'Completed', 'log_files': None, 'name': 'batchjob-840c71ee-d3d3-4c3c-8828-8577f5adf2db', 'description': \"Attempting to create pipeline submission settings for endpoint: 'heart-classifier-7kl74', deployment: 'classifier-xgboost'.\", 'tags': {'outputType': 'output_data', 'output_data_name': None, 'inputType': 'input_data', 'azureml.batchrun': 'true', 'azureml.deploymentname': 'classifier-xgboost', 'azureml.jobtype': 'azureml.batchjob'}, 'properties': {'azureml.deploymentname': 'classifier-xgboost', 'azureml.endpointname': 'heart-classifier-7kl74', 'azureml.pipelineid': '5a271357-3274-4783-ad39-931bf43c1fe4', 'azureml.runsource': 'azureml.PipelineRun', 'runSource': 'Unavailable', 'runType': 'HTTP', 'azureml.parameters': '{\"run_max_try\":\"3\",\"run_invocation_timeout\":\"300\",\"mini_batch_size\":\"10\",\"error_threshold\":\"-1\",\"logging_level\":\"INFO\",\"process_count_per_node\":\"2\",\"NodeCount\":\"1\",\"append_row_file_name\":\"predictions.csv\"}', 'azureml.continue_on_step_failure': 'False', 'azureml.continue_on_failed_optional_input': 'False', 'azureml.pipelineComponent': 'pipelinerun', 'azureml.pipelines.stages': '{\"Initialization\":null,\"Execution\":{\"StartTime\":\"2024-06-03T19:48:47.5112057+00:00\",\"EndTime\":\"2024-06-03T20:07:13.8873835+00:00\",\"Status\":\"Finished\"}}'}, 'print_as_yaml': True, 'id': '/subscriptions/3b57d2fe-08b1-4fe9-b535-f5c4387b9a66/resourceGroups/mlflow-rg60/providers/Microsoft.MachineLearningServices/workspaces/mlflow-ws60/jobs/batchjob-840c71ee-d3d3-4c3c-8828-8577f5adf2db', 'Resource__source_path': None, 'base_path': '/mnt/batch/tasks/shared/LS_root/mounts/clusters/compute-instance01/code/Users/vijaygadhave199', 'creation_context': <azure.ai.ml.entities._system_data.SystemData object at 0x7f84e6de0c40>, 'serialize': <msrest.serialization.Serializer object at 0x7f84e6de0df0>, 'display_name': 'zen_rod_68mv9vnd', 'experiment_name': 'heart-classifier-7kl74', 'compute': None, 'services': {'Tracking': {'endpoint': 'azureml://westus.api.azureml.ms/mlflow/v1.0/subscriptions/3b57d2fe-08b1-4fe9-b535-f5c4387b9a66/resourceGroups/mlflow-rg60/providers/Microsoft.MachineLearningServices/workspaces/mlflow-ws60?', 'type': 'Tracking'}, 'Studio': {'endpoint': 'https://ml.azure.com/runs/batchjob-840c71ee-d3d3-4c3c-8828-8577f5adf2db?wsid=/subscriptions/3b57d2fe-08b1-4fe9-b535-f5c4387b9a66/resourcegroups/mlflow-rg60/workspaces/mlflow-ws60&tid=843e1e65-e875-4fbd-8ddc-ce696f3a551d', 'type': 'Studio'}}, 'settings': {}, 'identity': None, 'default_code': None, 'default_environment': None})",
            "text/html": "<table style=\"width:100%\"><tr><th>Experiment</th><th>Name</th><th>Type</th><th>Status</th><th>Details Page</th></tr><tr><td>heart-classifier-7kl74</td><td>batchjob-840c71ee-d3d3-4c3c-8828-8577f5adf2db</td><td>pipeline</td><td>Completed</td><td><a href=\"https://ml.azure.com/runs/batchjob-840c71ee-d3d3-4c3c-8828-8577f5adf2db?wsid=/subscriptions/3b57d2fe-08b1-4fe9-b535-f5c4387b9a66/resourcegroups/mlflow-rg60/workspaces/mlflow-ws60&amp;tid=843e1e65-e875-4fbd-8ddc-ce696f3a551d\" target=\"_blank\" rel=\"noopener\">Link to Azure Machine Learning studio</a></td></tr></table>"
          },
          "metadata": {}
        }
      ],
      "execution_count": 21,
      "metadata": {
        "jupyter": {
          "source_hidden": false,
          "outputs_hidden": false
        },
        "nteract": {
          "transient": {
            "deleting": false
          }
        },
        "gather": {
          "logged": 1717446477230
        }
      }
    },
    {
      "cell_type": "code",
      "source": [
        "# wait for the job to finish using the following code\n",
        "ml_client.jobs.stream(job.name)"
      ],
      "outputs": [
        {
          "output_type": "stream",
          "name": "stdout",
          "text": "RunId: batchjob-840c71ee-d3d3-4c3c-8828-8577f5adf2db\nWeb View: https://ml.azure.com/runs/batchjob-840c71ee-d3d3-4c3c-8828-8577f5adf2db?wsid=/subscriptions/3b57d2fe-08b1-4fe9-b535-f5c4387b9a66/resourcegroups/mlflow-rg60/workspaces/mlflow-ws60\n\nExecution Summary\n=================\nRunId: batchjob-840c71ee-d3d3-4c3c-8828-8577f5adf2db\nWeb View: https://ml.azure.com/runs/batchjob-840c71ee-d3d3-4c3c-8828-8577f5adf2db?wsid=/subscriptions/3b57d2fe-08b1-4fe9-b535-f5c4387b9a66/resourcegroups/mlflow-rg60/workspaces/mlflow-ws60\n\n"
        }
      ],
      "execution_count": 22,
      "metadata": {
        "jupyter": {
          "source_hidden": false,
          "outputs_hidden": false
        },
        "nteract": {
          "transient": {
            "deleting": false
          }
        },
        "gather": {
          "logged": 1717446519626
        }
      }
    },
    {
      "cell_type": "markdown",
      "source": [
        "### e) Exploring the results"
      ],
      "metadata": {
        "nteract": {
          "transient": {
            "deleting": false
          }
        }
      }
    },
    {
      "cell_type": "code",
      "source": [
        "scoring_job = list(ml_client.jobs.list(parent_job_name=job.name))[0]"
      ],
      "outputs": [],
      "execution_count": 23,
      "metadata": {
        "jupyter": {
          "source_hidden": false,
          "outputs_hidden": false
        },
        "nteract": {
          "transient": {
            "deleting": false
          }
        },
        "gather": {
          "logged": 1717446671403
        }
      }
    },
    {
      "cell_type": "code",
      "source": [
        "print(\"Job name:\", scoring_job.name)\n",
        "print(\"Job status:\", scoring_job.status)\n",
        "print(\n",
        "    \"Job duration:\",\n",
        "    scoring_job.creation_context.last_modified_at\n",
        "    - scoring_job.creation_context.created_at,\n",
        ")"
      ],
      "outputs": [
        {
          "output_type": "stream",
          "name": "stdout",
          "text": "Job name: 675d9574-3900-495d-a009-1eaf2dd8cb4a\nJob status: Completed\nJob duration: 0:12:22.792539\n"
        }
      ],
      "execution_count": 24,
      "metadata": {
        "jupyter": {
          "source_hidden": false,
          "outputs_hidden": false
        },
        "nteract": {
          "transient": {
            "deleting": false
          }
        },
        "gather": {
          "logged": 1717446733984
        }
      }
    },
    {
      "cell_type": "markdown",
      "source": [
        "### f) Download the results"
      ],
      "metadata": {
        "nteract": {
          "transient": {
            "deleting": false
          }
        }
      }
    },
    {
      "cell_type": "code",
      "source": [
        "ml_client.jobs.download(name=scoring_job.name, download_path=\".\", output_name=\"score\")"
      ],
      "outputs": [
        {
          "output_type": "stream",
          "name": "stderr",
          "text": "Downloading artifact azureml://datastores/workspaceblobstore/paths/azureml/675d9574-3900-495d-a009-1eaf2dd8cb4a/score/ to named-outputs/score\n"
        }
      ],
      "execution_count": 25,
      "metadata": {
        "jupyter": {
          "source_hidden": false,
          "outputs_hidden": false
        },
        "nteract": {
          "transient": {
            "deleting": false
          }
        },
        "gather": {
          "logged": 1717446838656
        }
      }
    },
    {
      "cell_type": "code",
      "source": [
        "# We can read this CSV file using the pandas library\n",
        "\n",
        "import pandas as pd\n",
        "\n",
        "score = pd.read_csv(\n",
        "    \"named-outputs/score/predictions.csv\", names=[\"row\", \"prediction\", \"file\"]\n",
        ")"
      ],
      "outputs": [],
      "execution_count": 26,
      "metadata": {
        "jupyter": {
          "source_hidden": false,
          "outputs_hidden": false
        },
        "nteract": {
          "transient": {
            "deleting": false
          }
        },
        "gather": {
          "logged": 1717446903003
        }
      }
    },
    {
      "cell_type": "code",
      "source": [
        "score.head()"
      ],
      "outputs": [
        {
          "output_type": "execute_result",
          "execution_count": 27,
          "data": {
            "text/plain": "                        row prediction  file\n0  ['heart-unlabeled-0.csv'       '0']   NaN\n1  ['heart-unlabeled-0.csv'       '1']   NaN\n2  ['heart-unlabeled-0.csv'       '0']   NaN\n3  ['heart-unlabeled-0.csv'       '0']   NaN\n4  ['heart-unlabeled-0.csv'       '0']   NaN",
            "text/html": "<div>\n<style scoped>\n    .dataframe tbody tr th:only-of-type {\n        vertical-align: middle;\n    }\n\n    .dataframe tbody tr th {\n        vertical-align: top;\n    }\n\n    .dataframe thead th {\n        text-align: right;\n    }\n</style>\n<table border=\"1\" class=\"dataframe\">\n  <thead>\n    <tr style=\"text-align: right;\">\n      <th></th>\n      <th>row</th>\n      <th>prediction</th>\n      <th>file</th>\n    </tr>\n  </thead>\n  <tbody>\n    <tr>\n      <th>0</th>\n      <td>['heart-unlabeled-0.csv'</td>\n      <td>'0']</td>\n      <td>NaN</td>\n    </tr>\n    <tr>\n      <th>1</th>\n      <td>['heart-unlabeled-0.csv'</td>\n      <td>'1']</td>\n      <td>NaN</td>\n    </tr>\n    <tr>\n      <th>2</th>\n      <td>['heart-unlabeled-0.csv'</td>\n      <td>'0']</td>\n      <td>NaN</td>\n    </tr>\n    <tr>\n      <th>3</th>\n      <td>['heart-unlabeled-0.csv'</td>\n      <td>'0']</td>\n      <td>NaN</td>\n    </tr>\n    <tr>\n      <th>4</th>\n      <td>['heart-unlabeled-0.csv'</td>\n      <td>'0']</td>\n      <td>NaN</td>\n    </tr>\n  </tbody>\n</table>\n</div>"
          },
          "metadata": {}
        }
      ],
      "execution_count": 27,
      "metadata": {
        "jupyter": {
          "source_hidden": false,
          "outputs_hidden": false
        },
        "nteract": {
          "transient": {
            "deleting": false
          }
        },
        "gather": {
          "logged": 1717446916510
        }
      }
    },
    {
      "cell_type": "markdown",
      "source": [
        "# 7 - Customize deployment with an scoring script"
      ],
      "metadata": {
        "nteract": {
          "transient": {
            "deleting": false
          }
        }
      }
    },
    {
      "cell_type": "markdown",
      "source": [
        "### a) Create scoring script"
      ],
      "metadata": {
        "nteract": {
          "transient": {
            "deleting": false
          }
        }
      }
    },
    {
      "cell_type": "code",
      "source": [
        "%%writefile code/batch_driver.py\n",
        "\n",
        "import os\n",
        "import glob\n",
        "import mlflow\n",
        "import pandas as pd\n",
        "\n",
        "\n",
        "def init():\n",
        "    global model\n",
        "    global model_input_types\n",
        "    global model_output_names\n",
        "\n",
        "    # AZUREML_MODEL_DIR is an environment variable created during deployment\n",
        "    # It is the path to the model folder\n",
        "    # Please provide your model's folder name if there's one\n",
        "    model_path = glob.glob(os.environ[\"AZUREML_MODEL_DIR\"] + \"/*/\")[0]\n",
        "\n",
        "    # Load the model, it's input types and output names\n",
        "    model = mlflow.pyfunc.load(model_path)\n",
        "    if model.metadata.signature.inputs:\n",
        "        model_input_types = dict(\n",
        "            zip(\n",
        "                model.metadata.signature.inputs.input_names(),\n",
        "                model.metadata.signature.inputs.pandas_types(),\n",
        "            )\n",
        "        )\n",
        "    if model.metadata.signature.outputs:\n",
        "        if model.metadata.signature.outputs.has_input_names():\n",
        "            model_output_names = model.metadata.signature.outputs.input_names()\n",
        "        elif len(model.metadata.signature.outputs.input_names()) == 1:\n",
        "            model_output_names = [\"prediction\"]\n",
        "\n",
        "\n",
        "def run(mini_batch):\n",
        "    print(f\"run method start: {__file__}, run({len(mini_batch)} files)\")\n",
        "\n",
        "    data = pd.concat(\n",
        "        map(\n",
        "            lambda fp: pd.read_csv(fp).assign(filename=os.path.basename(fp)), mini_batch\n",
        "        )\n",
        "    )\n",
        "    if model_input_types:\n",
        "        data = data.astype(model_input_types)\n",
        "\n",
        "    pred = model.predict(data)\n",
        "\n",
        "    if pred is not pd.DataFrame:\n",
        "        if not model_output_names:\n",
        "            model_output_names = [\"pred_col\" + str(i) for i in range(pred.shape[1])]\n",
        "        pred = pd.DataFrame(pred, columns=model_output_names)\n",
        "\n",
        "    return pd.concat([data, pred], axis=1)\n"
      ],
      "outputs": [
        {
          "output_type": "stream",
          "name": "stdout",
          "text": "Writing code/batch_driver.py\n"
        }
      ],
      "execution_count": 28,
      "metadata": {
        "jupyter": {
          "source_hidden": false,
          "outputs_hidden": false
        },
        "nteract": {
          "transient": {
            "deleting": false
          }
        }
      }
    },
    {
      "cell_type": "markdown",
      "source": [
        "### b) Indicate the environment"
      ],
      "metadata": {
        "nteract": {
          "transient": {
            "deleting": false
          }
        }
      }
    },
    {
      "cell_type": "code",
      "source": [
        "environment = Environment(\n",
        "    name=\"batch-mlflow-xgboost\",\n",
        "    conda_file=\"environment/conda.yaml\",\n",
        "    image=\"mcr.microsoft.com/azureml/openmpi4.1.0-ubuntu20.04:latest\",\n",
        ")"
      ],
      "outputs": [],
      "execution_count": 29,
      "metadata": {
        "jupyter": {
          "source_hidden": false,
          "outputs_hidden": false
        },
        "nteract": {
          "transient": {
            "deleting": false
          }
        },
        "gather": {
          "logged": 1717448218177
        }
      }
    },
    {
      "cell_type": "markdown",
      "source": [
        "### c) Configure the deployment"
      ],
      "metadata": {
        "nteract": {
          "transient": {
            "deleting": false
          }
        }
      }
    },
    {
      "cell_type": "code",
      "source": [
        "deployment = ModelBatchDeployment(\n",
        "    name=\"classifier-xgboost-custom\",\n",
        "    description=\"A heart condition classifier based on XGBoost with a custom scoring script\",\n",
        "    endpoint_name=endpoint.name,\n",
        "    model=model,\n",
        "    environment=environment,\n",
        "    code_configuration=CodeConfiguration(code=\"code\", scoring_script=\"batch_driver.py\"),\n",
        "    compute=compute_name,\n",
        "    settings=ModelBatchDeploymentSettings(\n",
        "        instance_count=2,\n",
        "        max_concurrency_per_instance=2,\n",
        "        mini_batch_size=10,\n",
        "        output_action=BatchDeploymentOutputAction.APPEND_ROW,\n",
        "        output_file_name=\"predictions.csv\",\n",
        "        retry_settings=BatchRetrySettings(max_retries=3, timeout=300),\n",
        "        logging_level=\"info\",\n",
        "    ),\n",
        ")"
      ],
      "outputs": [],
      "execution_count": 30,
      "metadata": {
        "jupyter": {
          "source_hidden": false,
          "outputs_hidden": false
        },
        "nteract": {
          "transient": {
            "deleting": false
          }
        },
        "gather": {
          "logged": 1717448371809
        }
      }
    },
    {
      "cell_type": "markdown",
      "source": [
        "### d) Create the deployment"
      ],
      "metadata": {
        "nteract": {
          "transient": {
            "deleting": false
          }
        }
      }
    },
    {
      "cell_type": "code",
      "source": [
        "ml_client.batch_deployments.begin_create_or_update(deployment).result()"
      ],
      "outputs": [
        {
          "output_type": "stream",
          "name": "stderr",
          "text": "\u001b[32mUploading code (0.0 MBs): 100%|██████████| 1959/1959 [00:00<00:00, 22123.37it/s]\n\u001b[39m\n\n"
        },
        {
          "output_type": "execute_result",
          "execution_count": 31,
          "data": {
            "text/plain": "BatchDeployment({'provisioning_state': 'Succeeded', 'endpoint_name': 'heart-classifier-7kl74', 'type': None, 'name': 'classifier-xgboost-custom', 'description': 'A heart condition classifier based on XGBoost with a custom scoring script', 'tags': {}, 'properties': {}, 'print_as_yaml': True, 'id': '/subscriptions/3b57d2fe-08b1-4fe9-b535-f5c4387b9a66/resourceGroups/mlflow-rg60/providers/Microsoft.MachineLearningServices/workspaces/mlflow-ws60/batchEndpoints/heart-classifier-7kl74/deployments/classifier-xgboost-custom', 'Resource__source_path': None, 'base_path': '/mnt/batch/tasks/shared/LS_root/mounts/clusters/compute-instance01/code/Users/vijaygadhave199', 'creation_context': <azure.ai.ml.entities._system_data.SystemData object at 0x7f84aed230a0>, 'serialize': <msrest.serialization.Serializer object at 0x7f84aed20040>, 'model': '/subscriptions/3b57d2fe-08b1-4fe9-b535-f5c4387b9a66/resourceGroups/mlflow-rg60/providers/Microsoft.MachineLearningServices/workspaces/mlflow-ws60/models/heart-classifier-mlflow/versions/1', 'code_configuration': {'code': '/subscriptions/3b57d2fe-08b1-4fe9-b535-f5c4387b9a66/resourceGroups/mlflow-rg60/providers/Microsoft.MachineLearningServices/workspaces/mlflow-ws60/codes/86b87268-9ead-4976-a5eb-1fe8718fb3b0/versions/1'}, 'environment': '/subscriptions/3b57d2fe-08b1-4fe9-b535-f5c4387b9a66/resourceGroups/mlflow-rg60/providers/Microsoft.MachineLearningServices/workspaces/mlflow-ws60/environments/batch-mlflow-xgboost/versions/1', 'environment_variables': {}, 'compute': '/subscriptions/3b57d2fe-08b1-4fe9-b535-f5c4387b9a66/resourceGroups/mlflow-rg60/providers/Microsoft.MachineLearningServices/workspaces/mlflow-ws60/computes/batch-cluster', 'resources': {'instance_count': 1, 'properties': {}}, 'output_action': 'append_row', 'output_file_name': 'predictions.csv', 'error_threshold': -1, 'retry_settings': <azure.ai.ml.entities._deployment.deployment_settings.BatchRetrySettings object at 0x7f84aed23370>, 'logging_level': 'Info', 'mini_batch_size': 10, 'max_concurrency_per_instance': 2})"
          },
          "metadata": {}
        }
      ],
      "execution_count": 31,
      "metadata": {
        "jupyter": {
          "source_hidden": false,
          "outputs_hidden": false
        },
        "nteract": {
          "transient": {
            "deleting": false
          }
        },
        "gather": {
          "logged": 1717448477884
        }
      }
    },
    {
      "cell_type": "markdown",
      "source": [
        "### e) Clean up resources"
      ],
      "metadata": {
        "nteract": {
          "transient": {
            "deleting": false
          }
        }
      }
    },
    {
      "cell_type": "code",
      "source": [
        "ml_client.batch_endpoints.begin_delete(endpoint_name).result()"
      ],
      "outputs": [
        {
          "output_type": "stream",
          "name": "stdout",
          "text": "..........."
        }
      ],
      "execution_count": 32,
      "metadata": {
        "jupyter": {
          "source_hidden": false,
          "outputs_hidden": false
        },
        "nteract": {
          "transient": {
            "deleting": false
          }
        },
        "gather": {
          "logged": 1717448594021
        }
      }
    }
  ],
  "metadata": {
    "kernelspec": {
      "name": "python310-sdkv2",
      "language": "python",
      "display_name": "Python 3.10 - SDK v2"
    },
    "language_info": {
      "name": "python",
      "version": "3.10.11",
      "mimetype": "text/x-python",
      "codemirror_mode": {
        "name": "ipython",
        "version": 3
      },
      "pygments_lexer": "ipython3",
      "nbconvert_exporter": "python",
      "file_extension": ".py"
    },
    "microsoft": {
      "ms_spell_check": {
        "ms_spell_check_language": "en"
      },
      "host": {
        "AzureML": {
          "notebookHasBeenCompleted": true
        }
      }
    },
    "kernel_info": {
      "name": "python310-sdkv2"
    },
    "nteract": {
      "version": "nteract-front-end@1.0.0"
    }
  },
  "nbformat": 4,
  "nbformat_minor": 2
}