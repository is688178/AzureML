{
  "cells": [
    {
      "cell_type": "markdown",
      "source": [
        "# 1 - Prerequisites"
      ],
      "metadata": {
        "nteract": {
          "transient": {
            "deleting": false
          }
        }
      }
    },
    {
      "cell_type": "code",
      "source": [
        "# Ensure you have the dependencies for this notebook\n",
        "%pip install -r model_management.txt"
      ],
      "outputs": [
        {
          "output_type": "stream",
          "name": "stdout",
          "text": "Requirement already satisfied: mlflow in /anaconda/envs/azureml_py310_sdkv2/lib/python3.10/site-packages (from -r model_management.txt (line 1)) (2.4.1)\nRequirement already satisfied: azureml-mlflow in /anaconda/envs/azureml_py310_sdkv2/lib/python3.10/site-packages (from -r model_management.txt (line 2)) (1.51.0)\nRequirement already satisfied: scikit-learn in /anaconda/envs/azureml_py310_sdkv2/lib/python3.10/site-packages (from -r model_management.txt (line 3)) (1.2.2)\nRequirement already satisfied: pandas in /anaconda/envs/azureml_py310_sdkv2/lib/python3.10/site-packages (from -r model_management.txt (line 4)) (2.0.2)\nRequirement already satisfied: numpy in /anaconda/envs/azureml_py310_sdkv2/lib/python3.10/site-packages (from -r model_management.txt (line 5)) (1.25.0)\nRequirement already satisfied: click<9,>=7.0 in /anaconda/envs/azureml_py310_sdkv2/lib/python3.10/site-packages (from mlflow->-r model_management.txt (line 1)) (8.0.4)\nRequirement already satisfied: cloudpickle<3 in /anaconda/envs/azureml_py310_sdkv2/lib/python3.10/site-packages (from mlflow->-r model_management.txt (line 1)) (2.2.1)\nRequirement already satisfied: databricks-cli<1,>=0.8.7 in /anaconda/envs/azureml_py310_sdkv2/lib/python3.10/site-packages (from mlflow->-r model_management.txt (line 1)) (0.17.7)\nRequirement already satisfied: entrypoints<1 in /anaconda/envs/azureml_py310_sdkv2/lib/python3.10/site-packages (from mlflow->-r model_management.txt (line 1)) (0.4)\nRequirement already satisfied: gitpython<4,>=2.1.0 in /anaconda/envs/azureml_py310_sdkv2/lib/python3.10/site-packages (from mlflow->-r model_management.txt (line 1)) (3.1.31)\nRequirement already satisfied: pyyaml<7,>=5.1 in /anaconda/envs/azureml_py310_sdkv2/lib/python3.10/site-packages (from mlflow->-r model_management.txt (line 1)) (6.0)\nRequirement already satisfied: protobuf<5,>=3.12.0 in /anaconda/envs/azureml_py310_sdkv2/lib/python3.10/site-packages (from mlflow->-r model_management.txt (line 1)) (3.20.3)\nRequirement already satisfied: pytz<2024 in /anaconda/envs/azureml_py310_sdkv2/lib/python3.10/site-packages (from mlflow->-r model_management.txt (line 1)) (2023.3)\nRequirement already satisfied: requests<3,>=2.17.3 in /anaconda/envs/azureml_py310_sdkv2/lib/python3.10/site-packages (from mlflow->-r model_management.txt (line 1)) (2.31.0)\nRequirement already satisfied: packaging<24 in /anaconda/envs/azureml_py310_sdkv2/lib/python3.10/site-packages (from mlflow->-r model_management.txt (line 1)) (23.0)\nRequirement already satisfied: importlib-metadata!=4.7.0,<7,>=3.7.0 in /anaconda/envs/azureml_py310_sdkv2/lib/python3.10/site-packages (from mlflow->-r model_management.txt (line 1)) (6.7.0)\nRequirement already satisfied: sqlparse<1,>=0.4.0 in /anaconda/envs/azureml_py310_sdkv2/lib/python3.10/site-packages (from mlflow->-r model_management.txt (line 1)) (0.4.4)\nRequirement already satisfied: alembic!=1.10.0,<2 in /anaconda/envs/azureml_py310_sdkv2/lib/python3.10/site-packages (from mlflow->-r model_management.txt (line 1)) (1.11.1)\nRequirement already satisfied: docker<7,>=4.0.0 in /anaconda/envs/azureml_py310_sdkv2/lib/python3.10/site-packages (from mlflow->-r model_management.txt (line 1)) (6.1.3)\nRequirement already satisfied: Flask<3 in /anaconda/envs/azureml_py310_sdkv2/lib/python3.10/site-packages (from mlflow->-r model_management.txt (line 1)) (2.3.2)\nRequirement already satisfied: scipy<2 in /anaconda/envs/azureml_py310_sdkv2/lib/python3.10/site-packages (from mlflow->-r model_management.txt (line 1)) (1.10.1)\nRequirement already satisfied: querystring-parser<2 in /anaconda/envs/azureml_py310_sdkv2/lib/python3.10/site-packages (from mlflow->-r model_management.txt (line 1)) (1.2.4)\nRequirement already satisfied: sqlalchemy<3,>=1.4.0 in /anaconda/envs/azureml_py310_sdkv2/lib/python3.10/site-packages (from mlflow->-r model_management.txt (line 1)) (2.0.16)\nRequirement already satisfied: pyarrow<13,>=4.0.0 in /anaconda/envs/azureml_py310_sdkv2/lib/python3.10/site-packages (from mlflow->-r model_management.txt (line 1)) (12.0.1)\nRequirement already satisfied: markdown<4,>=3.3 in /anaconda/envs/azureml_py310_sdkv2/lib/python3.10/site-packages (from mlflow->-r model_management.txt (line 1)) (3.4.3)\nRequirement already satisfied: matplotlib<4 in /anaconda/envs/azureml_py310_sdkv2/lib/python3.10/site-packages (from mlflow->-r model_management.txt (line 1)) (3.7.1)\nRequirement already satisfied: gunicorn<21 in /anaconda/envs/azureml_py310_sdkv2/lib/python3.10/site-packages (from mlflow->-r model_management.txt (line 1)) (20.1.0)\nRequirement already satisfied: Jinja2<4,>=2.11 in /anaconda/envs/azureml_py310_sdkv2/lib/python3.10/site-packages (from mlflow->-r model_management.txt (line 1)) (3.1.2)\nRequirement already satisfied: jsonpickle in /anaconda/envs/azureml_py310_sdkv2/lib/python3.10/site-packages (from azureml-mlflow->-r model_management.txt (line 2)) (3.0.1)\nRequirement already satisfied: mlflow-skinny in /anaconda/envs/azureml_py310_sdkv2/lib/python3.10/site-packages (from azureml-mlflow->-r model_management.txt (line 2)) (2.4.1)\nRequirement already satisfied: azure-identity in /anaconda/envs/azureml_py310_sdkv2/lib/python3.10/site-packages (from azureml-mlflow->-r model_management.txt (line 2)) (1.13.0)\nRequirement already satisfied: msrest>=0.6.18 in /anaconda/envs/azureml_py310_sdkv2/lib/python3.10/site-packages (from azureml-mlflow->-r model_management.txt (line 2)) (0.7.1)\nRequirement already satisfied: azure-core!=1.22.0,<2.0.0,>=1.8.0 in /anaconda/envs/azureml_py310_sdkv2/lib/python3.10/site-packages (from azureml-mlflow->-r model_management.txt (line 2)) (1.27.1)\nRequirement already satisfied: azure-mgmt-core<2.0.0,>=1.2.0 in /anaconda/envs/azureml_py310_sdkv2/lib/python3.10/site-packages (from azureml-mlflow->-r model_management.txt (line 2)) (1.4.0)\nCollecting azure-storage-blob<=12.13.0,>=12.5.0 (from azureml-mlflow->-r model_management.txt (line 2))\n  Downloading azure_storage_blob-12.13.0-py3-none-any.whl (377 kB)\n\u001b[2K     \u001b[90m━━━━━━━━━━━━━━━━━━━━━━━━━━━━━━━━━━━━━━━\u001b[0m \u001b[32m377.3/377.3 kB\u001b[0m \u001b[31m5.6 MB/s\u001b[0m eta \u001b[36m0:00:00\u001b[0m00:01\u001b[0m\n\u001b[?25hRequirement already satisfied: azure-common<2.0.0,>=1.1 in /anaconda/envs/azureml_py310_sdkv2/lib/python3.10/site-packages (from azureml-mlflow->-r model_management.txt (line 2)) (1.1.28)\nRequirement already satisfied: cryptography in /anaconda/envs/azureml_py310_sdkv2/lib/python3.10/site-packages (from azureml-mlflow->-r model_management.txt (line 2)) (41.0.1)\nRequirement already satisfied: python-dateutil<3.0.0,>=2.7.3 in /anaconda/envs/azureml_py310_sdkv2/lib/python3.10/site-packages (from azureml-mlflow->-r model_management.txt (line 2)) (2.8.2)\nRequirement already satisfied: joblib>=1.1.1 in /anaconda/envs/azureml_py310_sdkv2/lib/python3.10/site-packages (from scikit-learn->-r model_management.txt (line 3)) (1.2.0)\nRequirement already satisfied: threadpoolctl>=2.0.0 in /anaconda/envs/azureml_py310_sdkv2/lib/python3.10/site-packages (from scikit-learn->-r model_management.txt (line 3)) (3.1.0)\nRequirement already satisfied: tzdata>=2022.1 in /anaconda/envs/azureml_py310_sdkv2/lib/python3.10/site-packages (from pandas->-r model_management.txt (line 4)) (2023.3)\nRequirement already satisfied: Mako in /anaconda/envs/azureml_py310_sdkv2/lib/python3.10/site-packages (from alembic!=1.10.0,<2->mlflow->-r model_management.txt (line 1)) (1.2.4)\nRequirement already satisfied: typing-extensions>=4 in /anaconda/envs/azureml_py310_sdkv2/lib/python3.10/site-packages (from alembic!=1.10.0,<2->mlflow->-r model_management.txt (line 1)) (4.6.3)\nRequirement already satisfied: six>=1.11.0 in /anaconda/envs/azureml_py310_sdkv2/lib/python3.10/site-packages (from azure-core!=1.22.0,<2.0.0,>=1.8.0->azureml-mlflow->-r model_management.txt (line 2)) (1.16.0)\nRequirement already satisfied: cffi>=1.12 in /anaconda/envs/azureml_py310_sdkv2/lib/python3.10/site-packages (from cryptography->azureml-mlflow->-r model_management.txt (line 2)) (1.15.1)\nRequirement already satisfied: pyjwt>=1.7.0 in /anaconda/envs/azureml_py310_sdkv2/lib/python3.10/site-packages (from databricks-cli<1,>=0.8.7->mlflow->-r model_management.txt (line 1)) (2.7.0)\nRequirement already satisfied: oauthlib>=3.1.0 in /anaconda/envs/azureml_py310_sdkv2/lib/python3.10/site-packages (from databricks-cli<1,>=0.8.7->mlflow->-r model_management.txt (line 1)) (3.2.2)\nRequirement already satisfied: tabulate>=0.7.7 in /anaconda/envs/azureml_py310_sdkv2/lib/python3.10/site-packages (from databricks-cli<1,>=0.8.7->mlflow->-r model_management.txt (line 1)) (0.9.0)\nRequirement already satisfied: urllib3<2.0.0,>=1.26.7 in /anaconda/envs/azureml_py310_sdkv2/lib/python3.10/site-packages (from databricks-cli<1,>=0.8.7->mlflow->-r model_management.txt (line 1)) (1.26.16)\nRequirement already satisfied: websocket-client>=0.32.0 in /anaconda/envs/azureml_py310_sdkv2/lib/python3.10/site-packages (from docker<7,>=4.0.0->mlflow->-r model_management.txt (line 1)) (1.6.0)\nRequirement already satisfied: Werkzeug>=2.3.3 in /anaconda/envs/azureml_py310_sdkv2/lib/python3.10/site-packages (from Flask<3->mlflow->-r model_management.txt (line 1)) (2.3.6)\nRequirement already satisfied: itsdangerous>=2.1.2 in /anaconda/envs/azureml_py310_sdkv2/lib/python3.10/site-packages (from Flask<3->mlflow->-r model_management.txt (line 1)) (2.1.2)\nCollecting click<9,>=7.0 (from mlflow->-r model_management.txt (line 1))\n  Downloading click-8.1.7-py3-none-any.whl (97 kB)\n\u001b[2K     \u001b[90m━━━━━━━━━━━━━━━━━━━━━━━━━━━━━━━━━━━━━━━━\u001b[0m \u001b[32m97.9/97.9 kB\u001b[0m \u001b[31m7.0 MB/s\u001b[0m eta \u001b[36m0:00:00\u001b[0m\n\u001b[?25hRequirement already satisfied: blinker>=1.6.2 in /anaconda/envs/azureml_py310_sdkv2/lib/python3.10/site-packages (from Flask<3->mlflow->-r model_management.txt (line 1)) (1.6.2)\nRequirement already satisfied: gitdb<5,>=4.0.1 in /anaconda/envs/azureml_py310_sdkv2/lib/python3.10/site-packages (from gitpython<4,>=2.1.0->mlflow->-r model_management.txt (line 1)) (4.0.10)\nRequirement already satisfied: setuptools>=3.0 in /anaconda/envs/azureml_py310_sdkv2/lib/python3.10/site-packages (from gunicorn<21->mlflow->-r model_management.txt (line 1)) (67.8.0)\nRequirement already satisfied: zipp>=0.5 in /anaconda/envs/azureml_py310_sdkv2/lib/python3.10/site-packages (from importlib-metadata!=4.7.0,<7,>=3.7.0->mlflow->-r model_management.txt (line 1)) (3.15.0)\nRequirement already satisfied: MarkupSafe>=2.0 in /anaconda/envs/azureml_py310_sdkv2/lib/python3.10/site-packages (from Jinja2<4,>=2.11->mlflow->-r model_management.txt (line 1)) (2.1.3)\nRequirement already satisfied: contourpy>=1.0.1 in /anaconda/envs/azureml_py310_sdkv2/lib/python3.10/site-packages (from matplotlib<4->mlflow->-r model_management.txt (line 1)) (1.1.0)\nRequirement already satisfied: cycler>=0.10 in /anaconda/envs/azureml_py310_sdkv2/lib/python3.10/site-packages (from matplotlib<4->mlflow->-r model_management.txt (line 1)) (0.11.0)\nRequirement already satisfied: fonttools>=4.22.0 in /anaconda/envs/azureml_py310_sdkv2/lib/python3.10/site-packages (from matplotlib<4->mlflow->-r model_management.txt (line 1)) (4.40.0)\nRequirement already satisfied: kiwisolver>=1.0.1 in /anaconda/envs/azureml_py310_sdkv2/lib/python3.10/site-packages (from matplotlib<4->mlflow->-r model_management.txt (line 1)) (1.4.4)\nRequirement already satisfied: pillow>=6.2.0 in /anaconda/envs/azureml_py310_sdkv2/lib/python3.10/site-packages (from matplotlib<4->mlflow->-r model_management.txt (line 1)) (9.5.0)\nRequirement already satisfied: pyparsing>=2.3.1 in /anaconda/envs/azureml_py310_sdkv2/lib/python3.10/site-packages (from matplotlib<4->mlflow->-r model_management.txt (line 1)) (3.1.0)\nRequirement already satisfied: certifi>=2017.4.17 in /anaconda/envs/azureml_py310_sdkv2/lib/python3.10/site-packages (from msrest>=0.6.18->azureml-mlflow->-r model_management.txt (line 2)) (2023.5.7)\nRequirement already satisfied: isodate>=0.6.0 in /anaconda/envs/azureml_py310_sdkv2/lib/python3.10/site-packages (from msrest>=0.6.18->azureml-mlflow->-r model_management.txt (line 2)) (0.6.1)\nRequirement already satisfied: requests-oauthlib>=0.5.0 in /anaconda/envs/azureml_py310_sdkv2/lib/python3.10/site-packages (from msrest>=0.6.18->azureml-mlflow->-r model_management.txt (line 2)) (1.3.1)\nRequirement already satisfied: charset-normalizer<4,>=2 in /anaconda/envs/azureml_py310_sdkv2/lib/python3.10/site-packages (from requests<3,>=2.17.3->mlflow->-r model_management.txt (line 1)) (3.1.0)\nRequirement already satisfied: idna<4,>=2.5 in /anaconda/envs/azureml_py310_sdkv2/lib/python3.10/site-packages (from requests<3,>=2.17.3->mlflow->-r model_management.txt (line 1)) (3.4)\nRequirement already satisfied: greenlet!=0.4.17 in /anaconda/envs/azureml_py310_sdkv2/lib/python3.10/site-packages (from sqlalchemy<3,>=1.4.0->mlflow->-r model_management.txt (line 1)) (2.0.2)\nRequirement already satisfied: msal<2.0.0,>=1.20.0 in /anaconda/envs/azureml_py310_sdkv2/lib/python3.10/site-packages (from azure-identity->azureml-mlflow->-r model_management.txt (line 2)) (1.22.0)\nRequirement already satisfied: msal-extensions<2.0.0,>=0.3.0 in /anaconda/envs/azureml_py310_sdkv2/lib/python3.10/site-packages (from azure-identity->azureml-mlflow->-r model_management.txt (line 2)) (1.0.0)\nRequirement already satisfied: pycparser in /anaconda/envs/azureml_py310_sdkv2/lib/python3.10/site-packages (from cffi>=1.12->cryptography->azureml-mlflow->-r model_management.txt (line 2)) (2.21)\nRequirement already satisfied: smmap<6,>=3.0.1 in /anaconda/envs/azureml_py310_sdkv2/lib/python3.10/site-packages (from gitdb<5,>=4.0.1->gitpython<4,>=2.1.0->mlflow->-r model_management.txt (line 1)) (5.0.0)\nRequirement already satisfied: portalocker<3,>=1.0 in /anaconda/envs/azureml_py310_sdkv2/lib/python3.10/site-packages (from msal-extensions<2.0.0,>=0.3.0->azure-identity->azureml-mlflow->-r model_management.txt (line 2)) (2.7.0)\nInstalling collected packages: click, azure-storage-blob\n  Attempting uninstall: click\n    Found existing installation: click 8.0.4\n    Uninstalling click-8.0.4:\n      Successfully uninstalled click-8.0.4\n  Attempting uninstall: azure-storage-blob\n    Found existing installation: azure-storage-blob 12.16.0\n    Uninstalling azure-storage-blob-12.16.0:\n      Successfully uninstalled azure-storage-blob-12.16.0\n\u001b[31mERROR: pip's dependency resolver does not currently take into account all the packages that are installed. This behaviour is the source of the following dependency conflicts.\nazure-storage-file-datalake 12.11.0 requires azure-storage-blob<13.0.0,>=12.16.0b1, but you have azure-storage-blob 12.13.0 which is incompatible.\nray 2.0.0 requires click<=8.0.4,>=7.0, but you have click 8.1.7 which is incompatible.\u001b[0m\u001b[31m\n\u001b[0mSuccessfully installed azure-storage-blob-12.13.0 click-8.1.7\nNote: you may need to restart the kernel to use updated packages.\n"
        }
      ],
      "execution_count": 1,
      "metadata": {
        "gather": {
          "logged": 1716300457022
        }
      }
    },
    {
      "cell_type": "code",
      "source": [
        "# Required imports\n",
        "import mlflow\n",
        "from sklearn import linear_model"
      ],
      "outputs": [],
      "execution_count": 2,
      "metadata": {
        "jupyter": {
          "source_hidden": false,
          "outputs_hidden": false
        },
        "nteract": {
          "transient": {
            "deleting": false
          }
        },
        "gather": {
          "logged": 1716300472843
        }
      }
    },
    {
      "cell_type": "code",
      "source": [
        "# Define naming conventions\n",
        "experiment_name = \"model-management-examples\"\n",
        "model_name = \"mlflow-sample-model\"\n",
        "artifact_path = \"regressor\""
      ],
      "outputs": [],
      "execution_count": 3,
      "metadata": {
        "jupyter": {
          "source_hidden": false,
          "outputs_hidden": false
        },
        "nteract": {
          "transient": {
            "deleting": false
          }
        },
        "gather": {
          "logged": 1716300472994
        }
      }
    },
    {
      "cell_type": "markdown",
      "source": [
        "# 2 - Creating models from an existing run"
      ],
      "metadata": {
        "nteract": {
          "transient": {
            "deleting": false
          }
        }
      }
    },
    {
      "cell_type": "code",
      "source": [
        "mlflow.set_experiment(experiment_name=experiment_name)\n",
        "with mlflow.start_run(run_name=\"sample-run\"):\n",
        "    reg = linear_model.LinearRegression()\n",
        "    reg.fit([[0, 0], [1, 1], [2, 2]], [0, 1, 2])\n",
        "\n",
        "    mlflow.sklearn.log_model(reg, artifact_path)"
      ],
      "outputs": [
        {
          "output_type": "stream",
          "name": "stderr",
          "text": "2024/05/21 14:07:57 INFO mlflow.tracking.fluent: Experiment with name 'model-management-examples' does not exist. Creating a new experiment.\n2024/05/21 14:08:03 WARNING mlflow.utils.environment: Encountered an unexpected error while inferring pip requirements (model URI: /tmp/tmp4jr35evo/model/model.pkl, flavor: sklearn), fall back to return ['scikit-learn==1.2.2', 'cloudpickle==2.2.1']. Set logging level to DEBUG to see the full traceback.\n/anaconda/envs/azureml_py310_sdkv2/lib/python3.10/site-packages/_distutils_hack/__init__.py:33: UserWarning: Setuptools is replacing distutils.\n  warnings.warn(\"Setuptools is replacing distutils.\")\n"
        }
      ],
      "execution_count": 4,
      "metadata": {
        "jupyter": {
          "source_hidden": false,
          "outputs_hidden": false
        },
        "nteract": {
          "transient": {
            "deleting": false
          }
        },
        "gather": {
          "logged": 1716300489052
        }
      }
    },
    {
      "cell_type": "code",
      "source": [
        "# search for the last run of the experiment:\n",
        "\n",
        "exp = mlflow.get_experiment_by_name(experiment_name)\n",
        "last_run = mlflow.search_runs(exp.experiment_id, output_format=\"list\")[-1]\n",
        "print(last_run.info.run_id)"
      ],
      "outputs": [
        {
          "output_type": "stream",
          "name": "stdout",
          "text": "dd7aefd6-9015-4e5b-a324-65a09b6f947e\n"
        }
      ],
      "execution_count": 5,
      "metadata": {
        "jupyter": {
          "source_hidden": false,
          "outputs_hidden": false
        },
        "nteract": {
          "transient": {
            "deleting": false
          }
        },
        "gather": {
          "logged": 1716300489436
        }
      }
    },
    {
      "cell_type": "code",
      "source": [
        "# register the model using Mlflow client\n",
        "\n",
        "mlflow.register_model(f\"runs:/{last_run.info.run_id}/{artifact_path}\", model_name)"
      ],
      "outputs": [
        {
          "output_type": "stream",
          "name": "stderr",
          "text": "Successfully registered model 'mlflow-sample-model'.\n2024/05/21 14:08:10 INFO mlflow.tracking._model_registry.client: Waiting up to 300 seconds for model version to finish creation. Model name: mlflow-sample-model, version 1\nCreated version '1' of model 'mlflow-sample-model'.\n"
        },
        {
          "output_type": "execute_result",
          "execution_count": 6,
          "data": {
            "text/plain": "<ModelVersion: aliases=[], creation_timestamp=1716300490030, current_stage='None', description='', last_updated_timestamp=1716300490030, name='mlflow-sample-model', run_id='dd7aefd6-9015-4e5b-a324-65a09b6f947e', run_link='', source='azureml://westus.api.azureml.ms/mlflow/v2.0/subscriptions/3b57d2fe-08b1-4fe9-b535-f5c4387b9a66/resourceGroups/mlflow-rg98/providers/Microsoft.MachineLearningServices/workspaces/mlflow-ws98/experiments/2b7be778-1dc3-47f8-9dd7-868dbae47f2d/runs/dd7aefd6-9015-4e5b-a324-65a09b6f947e/artifacts/regressor', status='READY', status_message='', tags={}, user_id='', version='1'>"
          },
          "metadata": {}
        }
      ],
      "execution_count": 6,
      "metadata": {
        "jupyter": {
          "source_hidden": false,
          "outputs_hidden": false
        },
        "nteract": {
          "transient": {
            "deleting": false
          }
        },
        "gather": {
          "logged": 1716300490487
        }
      }
    },
    {
      "cell_type": "markdown",
      "source": [
        "# 3 - Creating models from assets"
      ],
      "metadata": {
        "nteract": {
          "transient": {
            "deleting": false
          }
        }
      }
    },
    {
      "cell_type": "code",
      "source": [
        "reg = linear_model.LinearRegression()\n",
        "reg.fit([[0, 0], [1, 1], [2, 2]], [0, 1, 2])\n",
        "\n",
        "mlflow.sklearn.save_model(reg, artifact_path)"
      ],
      "outputs": [],
      "execution_count": 7,
      "metadata": {
        "jupyter": {
          "source_hidden": false,
          "outputs_hidden": false
        },
        "nteract": {
          "transient": {
            "deleting": false
          }
        },
        "gather": {
          "logged": 1716300733529
        }
      }
    },
    {
      "cell_type": "code",
      "source": [
        "# Check the files in the folder\n",
        "!ls regressor"
      ],
      "outputs": [
        {
          "output_type": "stream",
          "name": "stdout",
          "text": "MLmodel  conda.yaml  model.pkl\tpython_env.yaml  requirements.txt\r\n"
        }
      ],
      "execution_count": 8,
      "metadata": {
        "jupyter": {
          "source_hidden": false,
          "outputs_hidden": false
        },
        "nteract": {
          "transient": {
            "deleting": false
          }
        },
        "gather": {
          "logged": 1716300733729
        }
      }
    },
    {
      "cell_type": "code",
      "source": [
        "# register the model from the local path\n",
        "mlflow.register_model(f\"file://{artifact_path}\", model_name)"
      ],
      "outputs": [
        {
          "output_type": "stream",
          "name": "stderr",
          "text": "Registered model 'mlflow-sample-model' already exists. Creating a new version of this model...\n2024/05/21 14:12:14 INFO mlflow.tracking._model_registry.client: Waiting up to 300 seconds for model version to finish creation. Model name: mlflow-sample-model, version 2\nCreated version '2' of model 'mlflow-sample-model'.\n"
        },
        {
          "output_type": "execute_result",
          "execution_count": 9,
          "data": {
            "text/plain": "<ModelVersion: aliases=[], creation_timestamp=1716300734663, current_stage='None', description='', last_updated_timestamp=1716300734663, name='mlflow-sample-model', run_id='', run_link='', source='azureml://artifacts/LocalUpload/240521T141213-46d910b0/regressor', status='READY', status_message='', tags={}, user_id='', version='2'>"
          },
          "metadata": {}
        }
      ],
      "execution_count": 9,
      "metadata": {
        "jupyter": {
          "source_hidden": false,
          "outputs_hidden": false
        },
        "nteract": {
          "transient": {
            "deleting": false
          }
        },
        "gather": {
          "logged": 1716300735053
        }
      }
    },
    {
      "cell_type": "markdown",
      "source": [
        "# 4 - Querying models"
      ],
      "metadata": {
        "nteract": {
          "transient": {
            "deleting": false
          }
        }
      }
    },
    {
      "cell_type": "code",
      "source": [
        "client = mlflow.tracking.MlflowClient()"
      ],
      "outputs": [],
      "execution_count": 10,
      "metadata": {
        "jupyter": {
          "source_hidden": false,
          "outputs_hidden": false
        },
        "nteract": {
          "transient": {
            "deleting": false
          }
        },
        "gather": {
          "logged": 1716300737126
        }
      }
    },
    {
      "cell_type": "markdown",
      "source": [
        "### a) Querying all the models in the registry"
      ],
      "metadata": {
        "nteract": {
          "transient": {
            "deleting": false
          }
        }
      }
    },
    {
      "cell_type": "code",
      "source": [
        "for model in client.search_registered_models():\n",
        "    print(f\"{model.name}\")"
      ],
      "outputs": [
        {
          "output_type": "stream",
          "name": "stdout",
          "text": "azureml_dd7aefd6-9015-4e5b-a324-65a09b6f947e_output_mlflow_log_model_591141088\nmlflow-sample-model\n"
        }
      ],
      "execution_count": 11,
      "metadata": {
        "jupyter": {
          "source_hidden": false,
          "outputs_hidden": false
        },
        "nteract": {
          "transient": {
            "deleting": false
          }
        },
        "gather": {
          "logged": 1716300738639
        }
      }
    },
    {
      "cell_type": "code",
      "source": [
        "client.search_registered_models(f\"name='{model_name}'\")"
      ],
      "outputs": [
        {
          "output_type": "execute_result",
          "execution_count": 12,
          "data": {
            "text/plain": "[<RegisteredModel: aliases={}, creation_timestamp=1716300489306, description='', last_updated_timestamp=1716300489306, latest_versions=[<ModelVersion: aliases=[], creation_timestamp=1716300734663, current_stage='None', description='', last_updated_timestamp=1716300734663, name='mlflow-sample-model', run_id='', run_link='', source='azureml://artifacts/LocalUpload/240521T141213-46d910b0/regressor', status='READY', status_message='', tags={}, user_id='', version='2'>], name='mlflow-sample-model', tags={}>]"
          },
          "metadata": {}
        }
      ],
      "execution_count": 12,
      "metadata": {
        "jupyter": {
          "source_hidden": false,
          "outputs_hidden": false
        },
        "nteract": {
          "transient": {
            "deleting": false
          }
        },
        "gather": {
          "logged": 1716300740463
        }
      }
    },
    {
      "cell_type": "markdown",
      "source": [
        "### b) Getting model versions from registered models"
      ],
      "metadata": {
        "nteract": {
          "transient": {
            "deleting": false
          }
        }
      }
    },
    {
      "cell_type": "code",
      "source": [
        "client.search_model_versions(f\"name='{model_name}'\")"
      ],
      "outputs": [
        {
          "output_type": "execute_result",
          "execution_count": 13,
          "data": {
            "text/plain": "[<ModelVersion: aliases=[], creation_timestamp=1716300734663, current_stage='None', description='', last_updated_timestamp=1716300734663, name='mlflow-sample-model', run_id='', run_link='', source='azureml://artifacts/LocalUpload/240521T141213-46d910b0/regressor', status='READY', status_message='', tags={}, user_id='', version='2'>,\n <ModelVersion: aliases=[], creation_timestamp=1716300490030, current_stage='None', description='', last_updated_timestamp=1716300490030, name='mlflow-sample-model', run_id='dd7aefd6-9015-4e5b-a324-65a09b6f947e', run_link='', source='azureml://westus.api.azureml.ms/mlflow/v2.0/subscriptions/3b57d2fe-08b1-4fe9-b535-f5c4387b9a66/resourceGroups/mlflow-rg98/providers/Microsoft.MachineLearningServices/workspaces/mlflow-ws98/experiments/2b7be778-1dc3-47f8-9dd7-868dbae47f2d/runs/dd7aefd6-9015-4e5b-a324-65a09b6f947e/artifacts/regressor', status='READY', status_message='', tags={}, user_id='', version='1'>]"
          },
          "metadata": {}
        }
      ],
      "execution_count": 13,
      "metadata": {
        "jupyter": {
          "source_hidden": false,
          "outputs_hidden": false
        },
        "nteract": {
          "transient": {
            "deleting": false
          }
        },
        "gather": {
          "logged": 1716300743151
        }
      }
    },
    {
      "cell_type": "markdown",
      "source": [
        "### c) Getting specific versions of the model"
      ],
      "metadata": {
        "nteract": {
          "transient": {
            "deleting": false
          }
        }
      }
    },
    {
      "cell_type": "code",
      "source": [
        "# get the last registered model version of a given model\n",
        "client.get_registered_model(model_name)"
      ],
      "outputs": [
        {
          "output_type": "execute_result",
          "execution_count": 14,
          "data": {
            "text/plain": "<RegisteredModel: aliases={}, creation_timestamp=1716300489306, description='', last_updated_timestamp=1716300489306, latest_versions=[<ModelVersion: aliases=[], creation_timestamp=1716300734663, current_stage='None', description='', last_updated_timestamp=1716300734663, name='mlflow-sample-model', run_id='', run_link='', source='azureml://artifacts/LocalUpload/240521T141213-46d910b0/regressor', status='READY', status_message='', tags={}, user_id='', version='2'>], name='mlflow-sample-model', tags={}>"
          },
          "metadata": {}
        }
      ],
      "execution_count": 14,
      "metadata": {
        "jupyter": {
          "source_hidden": false,
          "outputs_hidden": false
        },
        "nteract": {
          "transient": {
            "deleting": false
          }
        },
        "gather": {
          "logged": 1716300745474
        }
      }
    },
    {
      "cell_type": "code",
      "source": [
        "# Get specific version of the model\n",
        "client.get_model_version(model_name, version=2)"
      ],
      "outputs": [
        {
          "output_type": "execute_result",
          "execution_count": 15,
          "data": {
            "text/plain": "<ModelVersion: aliases=[], creation_timestamp=1716300734663, current_stage='None', description='', last_updated_timestamp=1716300734663, name='mlflow-sample-model', run_id='', run_link='', source='azureml://artifacts/LocalUpload/240521T141213-46d910b0/regressor', status='READY', status_message='', tags={}, user_id='', version='2'>"
          },
          "metadata": {}
        }
      ],
      "execution_count": 15,
      "metadata": {
        "jupyter": {
          "source_hidden": false,
          "outputs_hidden": false
        },
        "nteract": {
          "transient": {
            "deleting": false
          }
        },
        "gather": {
          "logged": 1716300747483
        }
      }
    },
    {
      "cell_type": "markdown",
      "source": [
        "# 5 - Model stages"
      ],
      "metadata": {
        "nteract": {
          "transient": {
            "deleting": false
          }
        }
      }
    },
    {
      "cell_type": "markdown",
      "source": [
        "### a) Queying model stages"
      ],
      "metadata": {
        "nteract": {
          "transient": {
            "deleting": false
          }
        }
      }
    },
    {
      "cell_type": "code",
      "source": [
        "client.get_model_version_stages(model_name, version=\"latest\")"
      ],
      "outputs": [
        {
          "output_type": "execute_result",
          "execution_count": 16,
          "data": {
            "text/plain": "['None', 'Staging', 'Production', 'Archived']"
          },
          "metadata": {}
        }
      ],
      "execution_count": 16,
      "metadata": {
        "jupyter": {
          "source_hidden": false,
          "outputs_hidden": false
        },
        "nteract": {
          "transient": {
            "deleting": false
          }
        },
        "gather": {
          "logged": 1716300749573
        }
      }
    },
    {
      "cell_type": "code",
      "source": [
        "# See model version stage by getting the model from the registry\n",
        "client.get_latest_versions(model_name, stages=[\"Staging\"])"
      ],
      "outputs": [
        {
          "output_type": "execute_result",
          "execution_count": 17,
          "data": {
            "text/plain": "[]"
          },
          "metadata": {}
        }
      ],
      "execution_count": 17,
      "metadata": {
        "jupyter": {
          "source_hidden": false,
          "outputs_hidden": false
        },
        "nteract": {
          "transient": {
            "deleting": false
          }
        },
        "gather": {
          "logged": 1716300750955
        }
      }
    },
    {
      "cell_type": "code",
      "source": [
        "client.get_latest_versions(model_name, stages=[\"None\"])"
      ],
      "outputs": [
        {
          "output_type": "execute_result",
          "execution_count": 18,
          "data": {
            "text/plain": "[<ModelVersion: aliases=[], creation_timestamp=1716300734663, current_stage='None', description='', last_updated_timestamp=1716300734663, name='mlflow-sample-model', run_id='', run_link='', source='azureml://artifacts/LocalUpload/240521T141213-46d910b0/regressor', status='READY', status_message='', tags={}, user_id='', version='2'>]"
          },
          "metadata": {}
        }
      ],
      "execution_count": 18,
      "metadata": {
        "jupyter": {
          "source_hidden": false,
          "outputs_hidden": false
        },
        "nteract": {
          "transient": {
            "deleting": false
          }
        },
        "gather": {
          "logged": 1716300755484
        }
      }
    },
    {
      "cell_type": "markdown",
      "source": [
        "### b) Transitioning models"
      ],
      "metadata": {
        "nteract": {
          "transient": {
            "deleting": false
          }
        }
      }
    },
    {
      "cell_type": "code",
      "source": [
        "client.transition_model_version_stage(model_name, version=2, stage=\"Staging\")"
      ],
      "outputs": [
        {
          "output_type": "execute_result",
          "execution_count": 19,
          "data": {
            "text/plain": "<ModelVersion: aliases=[], creation_timestamp=1716300734663, current_stage='Staging', description='', last_updated_timestamp=1716300758186, name='mlflow-sample-model', run_id='', run_link='', source='azureml://artifacts/LocalUpload/240521T141213-46d910b0/regressor', status='READY', status_message='', tags={}, user_id='', version='2'>"
          },
          "metadata": {}
        }
      ],
      "execution_count": 19,
      "metadata": {
        "jupyter": {
          "source_hidden": false,
          "outputs_hidden": false
        },
        "nteract": {
          "transient": {
            "deleting": false
          }
        },
        "gather": {
          "logged": 1716300759048
        }
      }
    },
    {
      "cell_type": "code",
      "source": [
        "# See model version stage by getting the model from the registry\n",
        "client.get_latest_versions(model_name, stages=[\"Staging\"])"
      ],
      "outputs": [
        {
          "output_type": "execute_result",
          "execution_count": 20,
          "data": {
            "text/plain": "[<ModelVersion: aliases=[], creation_timestamp=1716300734663, current_stage='Staging', description='', last_updated_timestamp=1716300758186, name='mlflow-sample-model', run_id='', run_link='', source='azureml://artifacts/LocalUpload/240521T141213-46d910b0/regressor', status='READY', status_message='', tags={}, user_id='', version='2'>]"
          },
          "metadata": {}
        }
      ],
      "execution_count": 20,
      "metadata": {
        "jupyter": {
          "source_hidden": false,
          "outputs_hidden": false
        },
        "nteract": {
          "transient": {
            "deleting": false
          }
        },
        "gather": {
          "logged": 1716300760935
        }
      }
    },
    {
      "cell_type": "code",
      "source": [
        "client.transition_model_version_stage(model_name, version=3, stage=\"Staging\", archive_existing_versions=True)"
      ],
      "outputs": [],
      "execution_count": null,
      "metadata": {
        "jupyter": {
          "source_hidden": false,
          "outputs_hidden": false
        },
        "nteract": {
          "transient": {
            "deleting": false
          }
        }
      }
    },
    {
      "cell_type": "markdown",
      "source": [
        "### c) Loading models from stages"
      ],
      "metadata": {
        "nteract": {
          "transient": {
            "deleting": false
          }
        }
      }
    },
    {
      "cell_type": "code",
      "source": [
        "model = mlflow.pyfunc.load_model(f\"models:/{model_name}/Staging\")"
      ],
      "outputs": [
        {
          "output_type": "stream",
          "name": "stderr",
          "text": "2024/05/21 14:12:44 WARNING mlflow.pyfunc: Detected one or more mismatches between the model's dependencies and the current Python environment:\n - mlflow (current: 2.4.1, required: mlflow==2.4)\nTo fix the mismatches, call `mlflow.pyfunc.get_model_dependencies(model_uri)` to fetch the model's environment and install dependencies using the resulting environment file.\n"
        }
      ],
      "execution_count": 21,
      "metadata": {
        "jupyter": {
          "source_hidden": false,
          "outputs_hidden": false
        },
        "nteract": {
          "transient": {
            "deleting": false
          }
        },
        "gather": {
          "logged": 1716300764987
        }
      }
    },
    {
      "cell_type": "code",
      "source": [
        "pip install mlflow==2.4"
      ],
      "outputs": [
        {
          "output_type": "stream",
          "name": "stdout",
          "text": "Collecting mlflow==2.4\n  Downloading mlflow-2.4.0-py3-none-any.whl (18.1 MB)\n\u001b[2K     \u001b[90m━━━━━━━━━━━━━━━━━━━━━━━━━━━━━━━━━━━━━━━━\u001b[0m \u001b[32m18.1/18.1 MB\u001b[0m \u001b[31m31.1 MB/s\u001b[0m eta \u001b[36m0:00:00\u001b[0m00:01\u001b[0m00:01\u001b[0m\n\u001b[?25hRequirement already satisfied: click<9,>=7.0 in /anaconda/envs/azureml_py310_sdkv2/lib/python3.10/site-packages (from mlflow==2.4) (8.1.7)\nRequirement already satisfied: cloudpickle<3 in /anaconda/envs/azureml_py310_sdkv2/lib/python3.10/site-packages (from mlflow==2.4) (2.2.1)\nRequirement already satisfied: databricks-cli<1,>=0.8.7 in /anaconda/envs/azureml_py310_sdkv2/lib/python3.10/site-packages (from mlflow==2.4) (0.17.7)\nRequirement already satisfied: entrypoints<1 in /anaconda/envs/azureml_py310_sdkv2/lib/python3.10/site-packages (from mlflow==2.4) (0.4)\nRequirement already satisfied: gitpython<4,>=2.1.0 in /anaconda/envs/azureml_py310_sdkv2/lib/python3.10/site-packages (from mlflow==2.4) (3.1.31)\nRequirement already satisfied: pyyaml<7,>=5.1 in /anaconda/envs/azureml_py310_sdkv2/lib/python3.10/site-packages (from mlflow==2.4) (6.0)\nRequirement already satisfied: protobuf<5,>=3.12.0 in /anaconda/envs/azureml_py310_sdkv2/lib/python3.10/site-packages (from mlflow==2.4) (3.20.3)\nRequirement already satisfied: pytz<2024 in /anaconda/envs/azureml_py310_sdkv2/lib/python3.10/site-packages (from mlflow==2.4) (2023.3)\nRequirement already satisfied: requests<3,>=2.17.3 in /anaconda/envs/azureml_py310_sdkv2/lib/python3.10/site-packages (from mlflow==2.4) (2.31.0)\nRequirement already satisfied: packaging<24 in /anaconda/envs/azureml_py310_sdkv2/lib/python3.10/site-packages (from mlflow==2.4) (23.0)\nRequirement already satisfied: importlib-metadata!=4.7.0,<7,>=3.7.0 in /anaconda/envs/azureml_py310_sdkv2/lib/python3.10/site-packages (from mlflow==2.4) (6.7.0)\nRequirement already satisfied: sqlparse<1,>=0.4.0 in /anaconda/envs/azureml_py310_sdkv2/lib/python3.10/site-packages (from mlflow==2.4) (0.4.4)\nRequirement already satisfied: alembic!=1.10.0,<2 in /anaconda/envs/azureml_py310_sdkv2/lib/python3.10/site-packages (from mlflow==2.4) (1.11.1)\nRequirement already satisfied: docker<7,>=4.0.0 in /anaconda/envs/azureml_py310_sdkv2/lib/python3.10/site-packages (from mlflow==2.4) (6.1.3)\nRequirement already satisfied: Flask<3 in /anaconda/envs/azureml_py310_sdkv2/lib/python3.10/site-packages (from mlflow==2.4) (2.3.2)\nRequirement already satisfied: numpy<2 in /anaconda/envs/azureml_py310_sdkv2/lib/python3.10/site-packages (from mlflow==2.4) (1.25.0)\nRequirement already satisfied: scipy<2 in /anaconda/envs/azureml_py310_sdkv2/lib/python3.10/site-packages (from mlflow==2.4) (1.10.1)\nRequirement already satisfied: pandas<3 in /anaconda/envs/azureml_py310_sdkv2/lib/python3.10/site-packages (from mlflow==2.4) (2.0.2)\nRequirement already satisfied: querystring-parser<2 in /anaconda/envs/azureml_py310_sdkv2/lib/python3.10/site-packages (from mlflow==2.4) (1.2.4)\nRequirement already satisfied: sqlalchemy<3,>=1.4.0 in /anaconda/envs/azureml_py310_sdkv2/lib/python3.10/site-packages (from mlflow==2.4) (2.0.16)\nRequirement already satisfied: scikit-learn<2 in /anaconda/envs/azureml_py310_sdkv2/lib/python3.10/site-packages (from mlflow==2.4) (1.2.2)\nRequirement already satisfied: pyarrow<13,>=4.0.0 in /anaconda/envs/azureml_py310_sdkv2/lib/python3.10/site-packages (from mlflow==2.4) (12.0.1)\nRequirement already satisfied: markdown<4,>=3.3 in /anaconda/envs/azureml_py310_sdkv2/lib/python3.10/site-packages (from mlflow==2.4) (3.4.3)\nRequirement already satisfied: matplotlib<4 in /anaconda/envs/azureml_py310_sdkv2/lib/python3.10/site-packages (from mlflow==2.4) (3.7.1)\nRequirement already satisfied: gunicorn<21 in /anaconda/envs/azureml_py310_sdkv2/lib/python3.10/site-packages (from mlflow==2.4) (20.1.0)\nRequirement already satisfied: Jinja2<4,>=2.11 in /anaconda/envs/azureml_py310_sdkv2/lib/python3.10/site-packages (from mlflow==2.4) (3.1.2)\nRequirement already satisfied: Mako in /anaconda/envs/azureml_py310_sdkv2/lib/python3.10/site-packages (from alembic!=1.10.0,<2->mlflow==2.4) (1.2.4)\nRequirement already satisfied: typing-extensions>=4 in /anaconda/envs/azureml_py310_sdkv2/lib/python3.10/site-packages (from alembic!=1.10.0,<2->mlflow==2.4) (4.6.3)\nRequirement already satisfied: pyjwt>=1.7.0 in /anaconda/envs/azureml_py310_sdkv2/lib/python3.10/site-packages (from databricks-cli<1,>=0.8.7->mlflow==2.4) (2.7.0)\nRequirement already satisfied: oauthlib>=3.1.0 in /anaconda/envs/azureml_py310_sdkv2/lib/python3.10/site-packages (from databricks-cli<1,>=0.8.7->mlflow==2.4) (3.2.2)\nRequirement already satisfied: tabulate>=0.7.7 in /anaconda/envs/azureml_py310_sdkv2/lib/python3.10/site-packages (from databricks-cli<1,>=0.8.7->mlflow==2.4) (0.9.0)\nRequirement already satisfied: six>=1.10.0 in /anaconda/envs/azureml_py310_sdkv2/lib/python3.10/site-packages (from databricks-cli<1,>=0.8.7->mlflow==2.4) (1.16.0)\nRequirement already satisfied: urllib3<2.0.0,>=1.26.7 in /anaconda/envs/azureml_py310_sdkv2/lib/python3.10/site-packages (from databricks-cli<1,>=0.8.7->mlflow==2.4) (1.26.16)\nRequirement already satisfied: websocket-client>=0.32.0 in /anaconda/envs/azureml_py310_sdkv2/lib/python3.10/site-packages (from docker<7,>=4.0.0->mlflow==2.4) (1.6.0)\nRequirement already satisfied: Werkzeug>=2.3.3 in /anaconda/envs/azureml_py310_sdkv2/lib/python3.10/site-packages (from Flask<3->mlflow==2.4) (2.3.6)\nRequirement already satisfied: itsdangerous>=2.1.2 in /anaconda/envs/azureml_py310_sdkv2/lib/python3.10/site-packages (from Flask<3->mlflow==2.4) (2.1.2)\nRequirement already satisfied: blinker>=1.6.2 in /anaconda/envs/azureml_py310_sdkv2/lib/python3.10/site-packages (from Flask<3->mlflow==2.4) (1.6.2)\nRequirement already satisfied: gitdb<5,>=4.0.1 in /anaconda/envs/azureml_py310_sdkv2/lib/python3.10/site-packages (from gitpython<4,>=2.1.0->mlflow==2.4) (4.0.10)\nRequirement already satisfied: setuptools>=3.0 in /anaconda/envs/azureml_py310_sdkv2/lib/python3.10/site-packages (from gunicorn<21->mlflow==2.4) (67.8.0)\nRequirement already satisfied: zipp>=0.5 in /anaconda/envs/azureml_py310_sdkv2/lib/python3.10/site-packages (from importlib-metadata!=4.7.0,<7,>=3.7.0->mlflow==2.4) (3.15.0)\nRequirement already satisfied: MarkupSafe>=2.0 in /anaconda/envs/azureml_py310_sdkv2/lib/python3.10/site-packages (from Jinja2<4,>=2.11->mlflow==2.4) (2.1.3)\nRequirement already satisfied: contourpy>=1.0.1 in /anaconda/envs/azureml_py310_sdkv2/lib/python3.10/site-packages (from matplotlib<4->mlflow==2.4) (1.1.0)\nRequirement already satisfied: cycler>=0.10 in /anaconda/envs/azureml_py310_sdkv2/lib/python3.10/site-packages (from matplotlib<4->mlflow==2.4) (0.11.0)\nRequirement already satisfied: fonttools>=4.22.0 in /anaconda/envs/azureml_py310_sdkv2/lib/python3.10/site-packages (from matplotlib<4->mlflow==2.4) (4.40.0)\nRequirement already satisfied: kiwisolver>=1.0.1 in /anaconda/envs/azureml_py310_sdkv2/lib/python3.10/site-packages (from matplotlib<4->mlflow==2.4) (1.4.4)\nRequirement already satisfied: pillow>=6.2.0 in /anaconda/envs/azureml_py310_sdkv2/lib/python3.10/site-packages (from matplotlib<4->mlflow==2.4) (9.5.0)\nRequirement already satisfied: pyparsing>=2.3.1 in /anaconda/envs/azureml_py310_sdkv2/lib/python3.10/site-packages (from matplotlib<4->mlflow==2.4) (3.1.0)\nRequirement already satisfied: python-dateutil>=2.7 in /anaconda/envs/azureml_py310_sdkv2/lib/python3.10/site-packages (from matplotlib<4->mlflow==2.4) (2.8.2)\nRequirement already satisfied: tzdata>=2022.1 in /anaconda/envs/azureml_py310_sdkv2/lib/python3.10/site-packages (from pandas<3->mlflow==2.4) (2023.3)\nRequirement already satisfied: charset-normalizer<4,>=2 in /anaconda/envs/azureml_py310_sdkv2/lib/python3.10/site-packages (from requests<3,>=2.17.3->mlflow==2.4) (3.1.0)\nRequirement already satisfied: idna<4,>=2.5 in /anaconda/envs/azureml_py310_sdkv2/lib/python3.10/site-packages (from requests<3,>=2.17.3->mlflow==2.4) (3.4)\nRequirement already satisfied: certifi>=2017.4.17 in /anaconda/envs/azureml_py310_sdkv2/lib/python3.10/site-packages (from requests<3,>=2.17.3->mlflow==2.4) (2023.5.7)\nRequirement already satisfied: joblib>=1.1.1 in /anaconda/envs/azureml_py310_sdkv2/lib/python3.10/site-packages (from scikit-learn<2->mlflow==2.4) (1.2.0)\nRequirement already satisfied: threadpoolctl>=2.0.0 in /anaconda/envs/azureml_py310_sdkv2/lib/python3.10/site-packages (from scikit-learn<2->mlflow==2.4) (3.1.0)\nRequirement already satisfied: greenlet!=0.4.17 in /anaconda/envs/azureml_py310_sdkv2/lib/python3.10/site-packages (from sqlalchemy<3,>=1.4.0->mlflow==2.4) (2.0.2)\nRequirement already satisfied: smmap<6,>=3.0.1 in /anaconda/envs/azureml_py310_sdkv2/lib/python3.10/site-packages (from gitdb<5,>=4.0.1->gitpython<4,>=2.1.0->mlflow==2.4) (5.0.0)\nInstalling collected packages: mlflow\n  Attempting uninstall: mlflow\n    Found existing installation: mlflow 2.4.1\n    Uninstalling mlflow-2.4.1:\n      Successfully uninstalled mlflow-2.4.1\nSuccessfully installed mlflow-2.4.0\nNote: you may need to restart the kernel to use updated packages.\n"
        }
      ],
      "execution_count": 22,
      "metadata": {
        "jupyter": {
          "source_hidden": false,
          "outputs_hidden": false
        },
        "nteract": {
          "transient": {
            "deleting": false
          }
        },
        "gather": {
          "logged": 1716300772440
        }
      }
    },
    {
      "cell_type": "code",
      "source": [
        "model = mlflow.pyfunc.load_model(f\"models:/{model_name}/Staging\")"
      ],
      "outputs": [],
      "execution_count": 23,
      "metadata": {
        "jupyter": {
          "source_hidden": false,
          "outputs_hidden": false
        },
        "nteract": {
          "transient": {
            "deleting": false
          }
        },
        "gather": {
          "logged": 1716300773595
        }
      }
    },
    {
      "cell_type": "markdown",
      "source": [
        "# 6 - Editing and Deleting Models"
      ],
      "metadata": {
        "nteract": {
          "transient": {
            "deleting": false
          }
        }
      }
    },
    {
      "cell_type": "markdown",
      "source": [
        "### a) Editing Models"
      ],
      "metadata": {
        "nteract": {
          "transient": {
            "deleting": false
          }
        }
      }
    },
    {
      "cell_type": "code",
      "source": [
        "# edit model's description\n",
        "client.update_model_version(model_name, version=1, description=\"A sample regressor model\")"
      ],
      "outputs": [
        {
          "output_type": "execute_result",
          "execution_count": 24,
          "data": {
            "text/plain": "<ModelVersion: aliases=[], creation_timestamp=1716300490030, current_stage='None', description='A sample regressor model', last_updated_timestamp=1716301380970, name='mlflow-sample-model', run_id='dd7aefd6-9015-4e5b-a324-65a09b6f947e', run_link='', source='azureml://westus.api.azureml.ms/mlflow/v2.0/subscriptions/3b57d2fe-08b1-4fe9-b535-f5c4387b9a66/resourceGroups/mlflow-rg98/providers/Microsoft.MachineLearningServices/workspaces/mlflow-ws98/experiments/2b7be778-1dc3-47f8-9dd7-868dbae47f2d/runs/dd7aefd6-9015-4e5b-a324-65a09b6f947e/artifacts/regressor', status='READY', status_message='', tags={}, user_id='', version='1'>"
          },
          "metadata": {}
        }
      ],
      "execution_count": 24,
      "metadata": {
        "jupyter": {
          "source_hidden": false,
          "outputs_hidden": false
        },
        "nteract": {
          "transient": {
            "deleting": false
          }
        },
        "gather": {
          "logged": 1716301381354
        }
      }
    },
    {
      "cell_type": "code",
      "source": [
        "# set model version tag\n",
        "client.set_model_version_tag(model_name, version=\"1\", key=\"type\", value=\"regression\")"
      ],
      "outputs": [],
      "execution_count": 25,
      "metadata": {
        "jupyter": {
          "source_hidden": false,
          "outputs_hidden": false
        },
        "nteract": {
          "transient": {
            "deleting": false
          }
        },
        "gather": {
          "logged": 1716301432031
        }
      }
    },
    {
      "cell_type": "code",
      "source": [
        "# Get specific version of the model\n",
        "client.get_model_version(model_name, version=1)"
      ],
      "outputs": [
        {
          "output_type": "execute_result",
          "execution_count": 26,
          "data": {
            "text/plain": "<ModelVersion: aliases=[], creation_timestamp=1716300490030, current_stage='None', description='A sample regressor model', last_updated_timestamp=1716301431677, name='mlflow-sample-model', run_id='dd7aefd6-9015-4e5b-a324-65a09b6f947e', run_link='', source='azureml://westus.api.azureml.ms/mlflow/v2.0/subscriptions/3b57d2fe-08b1-4fe9-b535-f5c4387b9a66/resourceGroups/mlflow-rg98/providers/Microsoft.MachineLearningServices/workspaces/mlflow-ws98/experiments/2b7be778-1dc3-47f8-9dd7-868dbae47f2d/runs/dd7aefd6-9015-4e5b-a324-65a09b6f947e/artifacts/regressor', status='READY', status_message='', tags={'type': 'regression'}, user_id='', version='1'>"
          },
          "metadata": {}
        }
      ],
      "execution_count": 26,
      "metadata": {
        "jupyter": {
          "source_hidden": false,
          "outputs_hidden": false
        },
        "nteract": {
          "transient": {
            "deleting": false
          }
        },
        "gather": {
          "logged": 1716301460708
        }
      }
    },
    {
      "cell_type": "code",
      "source": [
        "# remove model version_tag\n",
        "client.delete_model_version_tag(model_name, version=\"1\", key=\"type\")"
      ],
      "outputs": [],
      "execution_count": 27,
      "metadata": {
        "jupyter": {
          "source_hidden": false,
          "outputs_hidden": false
        },
        "nteract": {
          "transient": {
            "deleting": false
          }
        },
        "gather": {
          "logged": 1716301508942
        }
      }
    },
    {
      "cell_type": "code",
      "source": [
        "# Get specific version of the model\n",
        "client.get_model_version(model_name, version=1)"
      ],
      "outputs": [
        {
          "output_type": "execute_result",
          "execution_count": 28,
          "data": {
            "text/plain": "<ModelVersion: aliases=[], creation_timestamp=1716300490030, current_stage='None', description='A sample regressor model', last_updated_timestamp=1716301508569, name='mlflow-sample-model', run_id='dd7aefd6-9015-4e5b-a324-65a09b6f947e', run_link='', source='azureml://westus.api.azureml.ms/mlflow/v2.0/subscriptions/3b57d2fe-08b1-4fe9-b535-f5c4387b9a66/resourceGroups/mlflow-rg98/providers/Microsoft.MachineLearningServices/workspaces/mlflow-ws98/experiments/2b7be778-1dc3-47f8-9dd7-868dbae47f2d/runs/dd7aefd6-9015-4e5b-a324-65a09b6f947e/artifacts/regressor', status='READY', status_message='', tags={}, user_id='', version='1'>"
          },
          "metadata": {}
        }
      ],
      "execution_count": 28,
      "metadata": {
        "jupyter": {
          "source_hidden": false,
          "outputs_hidden": false
        },
        "nteract": {
          "transient": {
            "deleting": false
          }
        },
        "gather": {
          "logged": 1716301514136
        }
      }
    },
    {
      "cell_type": "markdown",
      "source": [
        "### b) Deleting Model Version"
      ],
      "metadata": {
        "nteract": {
          "transient": {
            "deleting": false
          }
        }
      }
    },
    {
      "cell_type": "code",
      "source": [
        "last_version = client.search_model_versions(filter_string=f\"name='{model_name}'\")[1].version\n",
        "print(f\"Last model version is {last_version}\")"
      ],
      "outputs": [
        {
          "output_type": "stream",
          "name": "stdout",
          "text": "Last model version is 1\n"
        }
      ],
      "execution_count": 32,
      "metadata": {
        "jupyter": {
          "source_hidden": false,
          "outputs_hidden": false
        },
        "nteract": {
          "transient": {
            "deleting": false
          }
        },
        "gather": {
          "logged": 1716301632978
        }
      }
    },
    {
      "cell_type": "code",
      "source": [
        "# Archive model version\n",
        "client.transition_model_version_stage(name=model_name, version=1, stage=\"Archived\")"
      ],
      "outputs": [
        {
          "output_type": "execute_result",
          "execution_count": 33,
          "data": {
            "text/plain": "<ModelVersion: aliases=[], creation_timestamp=1716300490030, current_stage='Archived', description='A sample regressor model', last_updated_timestamp=1716301657035, name='mlflow-sample-model', run_id='dd7aefd6-9015-4e5b-a324-65a09b6f947e', run_link='', source='azureml://westus.api.azureml.ms/mlflow/v2.0/subscriptions/3b57d2fe-08b1-4fe9-b535-f5c4387b9a66/resourceGroups/mlflow-rg98/providers/Microsoft.MachineLearningServices/workspaces/mlflow-ws98/experiments/2b7be778-1dc3-47f8-9dd7-868dbae47f2d/runs/dd7aefd6-9015-4e5b-a324-65a09b6f947e/artifacts/regressor', status='READY', status_message='', tags={}, user_id='', version='1'>"
          },
          "metadata": {}
        }
      ],
      "execution_count": 33,
      "metadata": {
        "jupyter": {
          "source_hidden": false,
          "outputs_hidden": false
        },
        "nteract": {
          "transient": {
            "deleting": false
          }
        },
        "gather": {
          "logged": 1716301657966
        }
      }
    },
    {
      "cell_type": "code",
      "source": [
        "# Retrieve Archived model version\n",
        "client.transition_model_version_stage(name=model_name, version=1, stage=\"None\")"
      ],
      "outputs": [
        {
          "output_type": "execute_result",
          "execution_count": 34,
          "data": {
            "text/plain": "<ModelVersion: aliases=[], creation_timestamp=1716300490030, current_stage='None', description='A sample regressor model', last_updated_timestamp=1716301698414, name='mlflow-sample-model', run_id='dd7aefd6-9015-4e5b-a324-65a09b6f947e', run_link='', source='azureml://westus.api.azureml.ms/mlflow/v2.0/subscriptions/3b57d2fe-08b1-4fe9-b535-f5c4387b9a66/resourceGroups/mlflow-rg98/providers/Microsoft.MachineLearningServices/workspaces/mlflow-ws98/experiments/2b7be778-1dc3-47f8-9dd7-868dbae47f2d/runs/dd7aefd6-9015-4e5b-a324-65a09b6f947e/artifacts/regressor', status='READY', status_message='', tags={}, user_id='', version='1'>"
          },
          "metadata": {}
        }
      ],
      "execution_count": 34,
      "metadata": {
        "jupyter": {
          "source_hidden": false,
          "outputs_hidden": false
        },
        "nteract": {
          "transient": {
            "deleting": false
          }
        },
        "gather": {
          "logged": 1716301698822
        }
      }
    },
    {
      "cell_type": "code",
      "source": [
        "# Delete model version\n",
        "client.delete_model_version(model_name, version=last_version)"
      ],
      "outputs": [],
      "execution_count": 35,
      "metadata": {
        "jupyter": {
          "source_hidden": false,
          "outputs_hidden": false
        },
        "nteract": {
          "transient": {
            "deleting": false
          }
        },
        "gather": {
          "logged": 1716301762549
        }
      }
    }
  ],
  "metadata": {
    "kernelspec": {
      "name": "python310-sdkv2",
      "language": "python",
      "display_name": "Python 3.10 - SDK v2"
    },
    "language_info": {
      "name": "python",
      "version": "3.10.11",
      "mimetype": "text/x-python",
      "codemirror_mode": {
        "name": "ipython",
        "version": 3
      },
      "pygments_lexer": "ipython3",
      "nbconvert_exporter": "python",
      "file_extension": ".py"
    },
    "microsoft": {
      "ms_spell_check": {
        "ms_spell_check_language": "en"
      },
      "host": {
        "AzureML": {
          "notebookHasBeenCompleted": true
        }
      }
    },
    "kernel_info": {
      "name": "python310-sdkv2"
    },
    "nteract": {
      "version": "nteract-front-end@1.0.0"
    }
  },
  "nbformat": 4,
  "nbformat_minor": 2
}