{
  "cells": [
    {
      "cell_type": "markdown",
      "source": [
        "- **MLflow client allows you to:**\n",
        "- Create, delete and search for experiments in a workspace\n",
        "- Start, stop, cancel and query runs for experiments\n",
        "- Track and retrieve metrics, parameters, artifacts and models from runs"
      ],
      "metadata": {
        "nteract": {
          "transient": {
            "deleting": false
          }
        }
      }
    },
    {
      "cell_type": "markdown",
      "source": [
        "# 1 - Prerequisites"
      ],
      "metadata": {
        "nteract": {
          "transient": {
            "deleting": false
          }
        }
      }
    },
    {
      "cell_type": "code",
      "source": [
        "# Ensure you have the dependencies for this notebook\n",
        "%pip install -r run_history.txt"
      ],
      "outputs": [
        {
          "output_type": "stream",
          "name": "stdout",
          "text": "Collecting xgboost==2.0.3 (from -r run_history.txt (line 1))\n  Downloading xgboost-2.0.3-py3-none-manylinux2014_x86_64.whl (297.1 MB)\n\u001b[2K     \u001b[90m━━━━━━━━━━━━━━━━━━━━━━━━━━━━━━━━━━━━━━━\u001b[0m \u001b[32m297.1/297.1 MB\u001b[0m \u001b[31m2.7 MB/s\u001b[0m eta \u001b[36m0:00:00\u001b[0m00:01\u001b[0m00:01\u001b[0m\n\u001b[?25hCollecting mlflow==2.12.1 (from -r run_history.txt (line 2))\n  Downloading mlflow-2.12.1-py3-none-any.whl (20.2 MB)\n\u001b[2K     \u001b[90m━━━━━━━━━━━━━━━━━━━━━━━━━━━━━━━━━━━━━━━━\u001b[0m \u001b[32m20.2/20.2 MB\u001b[0m \u001b[31m21.6 MB/s\u001b[0m eta \u001b[36m0:00:00\u001b[0m00:01\u001b[0m00:01\u001b[0m\n\u001b[?25hCollecting azureml-mlflow==1.56.0 (from -r run_history.txt (line 3))\n  Downloading azureml_mlflow-1.56.0-py3-none-any.whl (1.0 MB)\n\u001b[2K     \u001b[90m━━━━━━━━━━━━━━━━━━━━━━━━━━━━━━━━━━━━━━━━\u001b[0m \u001b[32m1.0/1.0 MB\u001b[0m \u001b[31m38.1 MB/s\u001b[0m eta \u001b[36m0:00:00\u001b[0m\n\u001b[?25hCollecting scikit-learn==1.4.2 (from -r run_history.txt (line 4))\n  Downloading scikit_learn-1.4.2-cp310-cp310-manylinux_2_17_x86_64.manylinux2014_x86_64.whl (12.1 MB)\n\u001b[2K     \u001b[90m━━━━━━━━━━━━━━━━━━━━━━━━━━━━━━━━━━━━━━━━\u001b[0m \u001b[32m12.1/12.1 MB\u001b[0m \u001b[31m60.3 MB/s\u001b[0m eta \u001b[36m0:00:00\u001b[0m00:01\u001b[0m00:01\u001b[0m\n\u001b[?25hCollecting pandas==2.2.2 (from -r run_history.txt (line 5))\n  Downloading pandas-2.2.2-cp310-cp310-manylinux_2_17_x86_64.manylinux2014_x86_64.whl (13.0 MB)\n\u001b[2K     \u001b[90m━━━━━━━━━━━━━━━━━━━━━━━━━━━━━━━━━━━━━━━━\u001b[0m \u001b[32m13.0/13.0 MB\u001b[0m \u001b[31m69.4 MB/s\u001b[0m eta \u001b[36m0:00:00\u001b[0m00:01\u001b[0m00:01\u001b[0m\n\u001b[?25hCollecting numpy==1.26.4 (from -r run_history.txt (line 6))\n  Downloading numpy-1.26.4-cp310-cp310-manylinux_2_17_x86_64.manylinux2014_x86_64.whl (18.2 MB)\n\u001b[2K     \u001b[90m━━━━━━━━━━━━━━━━━━━━━━━━━━━━━━━━━━━━━━━━\u001b[0m \u001b[32m18.2/18.2 MB\u001b[0m \u001b[31m60.9 MB/s\u001b[0m eta \u001b[36m0:00:00\u001b[0m00:01\u001b[0m00:01\u001b[0m\n\u001b[?25hCollecting matplotlib==3.8.4 (from -r run_history.txt (line 7))\n  Downloading matplotlib-3.8.4-cp310-cp310-manylinux_2_17_x86_64.manylinux2014_x86_64.whl (11.6 MB)\n\u001b[2K     \u001b[90m━━━━━━━━━━━━━━━━━━━━━━━━━━━━━━━━━━━━━━━━\u001b[0m \u001b[32m11.6/11.6 MB\u001b[0m \u001b[31m71.3 MB/s\u001b[0m eta \u001b[36m0:00:00\u001b[0m00:01\u001b[0m00:01\u001b[0m\n\u001b[?25hRequirement already satisfied: scipy in /anaconda/envs/azureml_py310_sdkv2/lib/python3.10/site-packages (from xgboost==2.0.3->-r run_history.txt (line 1)) (1.10.1)\nRequirement already satisfied: Flask<4 in /anaconda/envs/azureml_py310_sdkv2/lib/python3.10/site-packages (from mlflow==2.12.1->-r run_history.txt (line 2)) (2.3.2)\nRequirement already satisfied: alembic!=1.10.0,<2 in /anaconda/envs/azureml_py310_sdkv2/lib/python3.10/site-packages (from mlflow==2.12.1->-r run_history.txt (line 2)) (1.11.1)\nRequirement already satisfied: click<9,>=7.0 in /anaconda/envs/azureml_py310_sdkv2/lib/python3.10/site-packages (from mlflow==2.12.1->-r run_history.txt (line 2)) (8.0.4)\nRequirement already satisfied: cloudpickle<4 in /anaconda/envs/azureml_py310_sdkv2/lib/python3.10/site-packages (from mlflow==2.12.1->-r run_history.txt (line 2)) (2.2.1)\nRequirement already satisfied: docker<8,>=4.0.0 in /anaconda/envs/azureml_py310_sdkv2/lib/python3.10/site-packages (from mlflow==2.12.1->-r run_history.txt (line 2)) (6.1.3)\nRequirement already satisfied: entrypoints<1 in /anaconda/envs/azureml_py310_sdkv2/lib/python3.10/site-packages (from mlflow==2.12.1->-r run_history.txt (line 2)) (0.4)\nRequirement already satisfied: gitpython<4,>=3.1.9 in /anaconda/envs/azureml_py310_sdkv2/lib/python3.10/site-packages (from mlflow==2.12.1->-r run_history.txt (line 2)) (3.1.31)\nCollecting graphene<4 (from mlflow==2.12.1->-r run_history.txt (line 2))\n  Downloading graphene-3.3-py2.py3-none-any.whl (128 kB)\n\u001b[2K     \u001b[90m━━━━━━━━━━━━━━━━━━━━━━━━━━━━━━━━━━━━━━━\u001b[0m \u001b[32m128.2/128.2 kB\u001b[0m \u001b[31m4.3 MB/s\u001b[0m eta \u001b[36m0:00:00\u001b[0m\n\u001b[?25hRequirement already satisfied: importlib-metadata!=4.7.0,<8,>=3.7.0 in /anaconda/envs/azureml_py310_sdkv2/lib/python3.10/site-packages (from mlflow==2.12.1->-r run_history.txt (line 2)) (6.7.0)\nRequirement already satisfied: markdown<4,>=3.3 in /anaconda/envs/azureml_py310_sdkv2/lib/python3.10/site-packages (from mlflow==2.12.1->-r run_history.txt (line 2)) (3.4.3)\nRequirement already satisfied: packaging<25 in /anaconda/envs/azureml_py310_sdkv2/lib/python3.10/site-packages (from mlflow==2.12.1->-r run_history.txt (line 2)) (23.0)\nRequirement already satisfied: protobuf<6,>=3.12.0 in /anaconda/envs/azureml_py310_sdkv2/lib/python3.10/site-packages (from mlflow==2.12.1->-r run_history.txt (line 2)) (3.20.3)\nRequirement already satisfied: pyarrow<16,>=4.0.0 in /anaconda/envs/azureml_py310_sdkv2/lib/python3.10/site-packages (from mlflow==2.12.1->-r run_history.txt (line 2)) (12.0.1)\nRequirement already satisfied: pytz<2025 in /anaconda/envs/azureml_py310_sdkv2/lib/python3.10/site-packages (from mlflow==2.12.1->-r run_history.txt (line 2)) (2023.3)\nRequirement already satisfied: pyyaml<7,>=5.1 in /anaconda/envs/azureml_py310_sdkv2/lib/python3.10/site-packages (from mlflow==2.12.1->-r run_history.txt (line 2)) (6.0)\nRequirement already satisfied: querystring-parser<2 in /anaconda/envs/azureml_py310_sdkv2/lib/python3.10/site-packages (from mlflow==2.12.1->-r run_history.txt (line 2)) (1.2.4)\nRequirement already satisfied: requests<3,>=2.17.3 in /anaconda/envs/azureml_py310_sdkv2/lib/python3.10/site-packages (from mlflow==2.12.1->-r run_history.txt (line 2)) (2.31.0)\nRequirement already satisfied: sqlalchemy<3,>=1.4.0 in /anaconda/envs/azureml_py310_sdkv2/lib/python3.10/site-packages (from mlflow==2.12.1->-r run_history.txt (line 2)) (2.0.16)\nRequirement already satisfied: sqlparse<1,>=0.4.0 in /anaconda/envs/azureml_py310_sdkv2/lib/python3.10/site-packages (from mlflow==2.12.1->-r run_history.txt (line 2)) (0.4.4)\nRequirement already satisfied: Jinja2<4,>=2.11 in /anaconda/envs/azureml_py310_sdkv2/lib/python3.10/site-packages (from mlflow==2.12.1->-r run_history.txt (line 2)) (3.1.2)\nRequirement already satisfied: gunicorn<22 in /anaconda/envs/azureml_py310_sdkv2/lib/python3.10/site-packages (from mlflow==2.12.1->-r run_history.txt (line 2)) (20.1.0)\nRequirement already satisfied: jsonpickle in /anaconda/envs/azureml_py310_sdkv2/lib/python3.10/site-packages (from azureml-mlflow==1.56.0->-r run_history.txt (line 3)) (3.0.1)\nRequirement already satisfied: mlflow-skinny in /anaconda/envs/azureml_py310_sdkv2/lib/python3.10/site-packages (from azureml-mlflow==1.56.0->-r run_history.txt (line 3)) (2.4.1)\nRequirement already satisfied: azure-identity in /anaconda/envs/azureml_py310_sdkv2/lib/python3.10/site-packages (from azureml-mlflow==1.56.0->-r run_history.txt (line 3)) (1.13.0)\nRequirement already satisfied: msrest>=0.6.18 in /anaconda/envs/azureml_py310_sdkv2/lib/python3.10/site-packages (from azureml-mlflow==1.56.0->-r run_history.txt (line 3)) (0.7.1)\nRequirement already satisfied: azure-core!=1.22.0,<2.0.0,>=1.8.0 in /anaconda/envs/azureml_py310_sdkv2/lib/python3.10/site-packages (from azureml-mlflow==1.56.0->-r run_history.txt (line 3)) (1.27.1)\nRequirement already satisfied: azure-mgmt-core<2.0.0,>=1.2.0 in /anaconda/envs/azureml_py310_sdkv2/lib/python3.10/site-packages (from azureml-mlflow==1.56.0->-r run_history.txt (line 3)) (1.4.0)\nRequirement already satisfied: azure-storage-blob<=12.19.0,>=12.5.0 in /anaconda/envs/azureml_py310_sdkv2/lib/python3.10/site-packages (from azureml-mlflow==1.56.0->-r run_history.txt (line 3)) (12.16.0)\nRequirement already satisfied: azure-common<2.0.0,>=1.1 in /anaconda/envs/azureml_py310_sdkv2/lib/python3.10/site-packages (from azureml-mlflow==1.56.0->-r run_history.txt (line 3)) (1.1.28)\nRequirement already satisfied: cryptography in /anaconda/envs/azureml_py310_sdkv2/lib/python3.10/site-packages (from azureml-mlflow==1.56.0->-r run_history.txt (line 3)) (41.0.1)\nRequirement already satisfied: python-dateutil<3.0.0,>=2.7.3 in /anaconda/envs/azureml_py310_sdkv2/lib/python3.10/site-packages (from azureml-mlflow==1.56.0->-r run_history.txt (line 3)) (2.8.2)\nRequirement already satisfied: joblib>=1.2.0 in /anaconda/envs/azureml_py310_sdkv2/lib/python3.10/site-packages (from scikit-learn==1.4.2->-r run_history.txt (line 4)) (1.2.0)\nRequirement already satisfied: threadpoolctl>=2.0.0 in /anaconda/envs/azureml_py310_sdkv2/lib/python3.10/site-packages (from scikit-learn==1.4.2->-r run_history.txt (line 4)) (3.1.0)\nRequirement already satisfied: tzdata>=2022.7 in /anaconda/envs/azureml_py310_sdkv2/lib/python3.10/site-packages (from pandas==2.2.2->-r run_history.txt (line 5)) (2023.3)\nRequirement already satisfied: contourpy>=1.0.1 in /anaconda/envs/azureml_py310_sdkv2/lib/python3.10/site-packages (from matplotlib==3.8.4->-r run_history.txt (line 7)) (1.1.0)\nRequirement already satisfied: cycler>=0.10 in /anaconda/envs/azureml_py310_sdkv2/lib/python3.10/site-packages (from matplotlib==3.8.4->-r run_history.txt (line 7)) (0.11.0)\nRequirement already satisfied: fonttools>=4.22.0 in /anaconda/envs/azureml_py310_sdkv2/lib/python3.10/site-packages (from matplotlib==3.8.4->-r run_history.txt (line 7)) (4.40.0)\nRequirement already satisfied: kiwisolver>=1.3.1 in /anaconda/envs/azureml_py310_sdkv2/lib/python3.10/site-packages (from matplotlib==3.8.4->-r run_history.txt (line 7)) (1.4.4)\nRequirement already satisfied: pillow>=8 in /anaconda/envs/azureml_py310_sdkv2/lib/python3.10/site-packages (from matplotlib==3.8.4->-r run_history.txt (line 7)) (9.5.0)\nRequirement already satisfied: pyparsing>=2.3.1 in /anaconda/envs/azureml_py310_sdkv2/lib/python3.10/site-packages (from matplotlib==3.8.4->-r run_history.txt (line 7)) (3.1.0)\nRequirement already satisfied: Mako in /anaconda/envs/azureml_py310_sdkv2/lib/python3.10/site-packages (from alembic!=1.10.0,<2->mlflow==2.12.1->-r run_history.txt (line 2)) (1.2.4)\nRequirement already satisfied: typing-extensions>=4 in /anaconda/envs/azureml_py310_sdkv2/lib/python3.10/site-packages (from alembic!=1.10.0,<2->mlflow==2.12.1->-r run_history.txt (line 2)) (4.6.3)\nRequirement already satisfied: six>=1.11.0 in /anaconda/envs/azureml_py310_sdkv2/lib/python3.10/site-packages (from azure-core!=1.22.0,<2.0.0,>=1.8.0->azureml-mlflow==1.56.0->-r run_history.txt (line 3)) (1.16.0)\nRequirement already satisfied: isodate>=0.6.1 in /anaconda/envs/azureml_py310_sdkv2/lib/python3.10/site-packages (from azure-storage-blob<=12.19.0,>=12.5.0->azureml-mlflow==1.56.0->-r run_history.txt (line 3)) (0.6.1)\nRequirement already satisfied: cffi>=1.12 in /anaconda/envs/azureml_py310_sdkv2/lib/python3.10/site-packages (from cryptography->azureml-mlflow==1.56.0->-r run_history.txt (line 3)) (1.15.1)\nRequirement already satisfied: urllib3>=1.26.0 in /anaconda/envs/azureml_py310_sdkv2/lib/python3.10/site-packages (from docker<8,>=4.0.0->mlflow==2.12.1->-r run_history.txt (line 2)) (1.26.16)\nRequirement already satisfied: websocket-client>=0.32.0 in /anaconda/envs/azureml_py310_sdkv2/lib/python3.10/site-packages (from docker<8,>=4.0.0->mlflow==2.12.1->-r run_history.txt (line 2)) (1.6.0)\nRequirement already satisfied: Werkzeug>=2.3.3 in /anaconda/envs/azureml_py310_sdkv2/lib/python3.10/site-packages (from Flask<4->mlflow==2.12.1->-r run_history.txt (line 2)) (2.3.6)\nRequirement already satisfied: itsdangerous>=2.1.2 in /anaconda/envs/azureml_py310_sdkv2/lib/python3.10/site-packages (from Flask<4->mlflow==2.12.1->-r run_history.txt (line 2)) (2.1.2)\nCollecting click<9,>=7.0 (from mlflow==2.12.1->-r run_history.txt (line 2))\n  Downloading click-8.1.7-py3-none-any.whl (97 kB)\n\u001b[2K     \u001b[90m━━━━━━━━━━━━━━━━━━━━━━━━━━━━━━━━━━━━━━━━\u001b[0m \u001b[32m97.9/97.9 kB\u001b[0m \u001b[31m5.8 MB/s\u001b[0m eta \u001b[36m0:00:00\u001b[0m\n\u001b[?25hRequirement already satisfied: blinker>=1.6.2 in /anaconda/envs/azureml_py310_sdkv2/lib/python3.10/site-packages (from Flask<4->mlflow==2.12.1->-r run_history.txt (line 2)) (1.6.2)\nRequirement already satisfied: gitdb<5,>=4.0.1 in /anaconda/envs/azureml_py310_sdkv2/lib/python3.10/site-packages (from gitpython<4,>=3.1.9->mlflow==2.12.1->-r run_history.txt (line 2)) (4.0.10)\nCollecting graphql-core<3.3,>=3.1 (from graphene<4->mlflow==2.12.1->-r run_history.txt (line 2))\n  Downloading graphql_core-3.2.3-py3-none-any.whl (202 kB)\n\u001b[2K     \u001b[90m━━━━━━━━━━━━━━━━━━━━━━━━━━━━━━━━━━━━━━\u001b[0m \u001b[32m202.9/202.9 kB\u001b[0m \u001b[31m16.6 MB/s\u001b[0m eta \u001b[36m0:00:00\u001b[0m\n\u001b[?25hCollecting graphql-relay<3.3,>=3.1 (from graphene<4->mlflow==2.12.1->-r run_history.txt (line 2))\n  Downloading graphql_relay-3.2.0-py3-none-any.whl (16 kB)\nCollecting aniso8601<10,>=8 (from graphene<4->mlflow==2.12.1->-r run_history.txt (line 2))\n  Downloading aniso8601-9.0.1-py2.py3-none-any.whl (52 kB)\n\u001b[2K     \u001b[90m━━━━━━━━━━━━━━━━━━━━━━━━━━━━━━━━━━━━━━━━\u001b[0m \u001b[32m52.8/52.8 kB\u001b[0m \u001b[31m4.3 MB/s\u001b[0m eta \u001b[36m0:00:00\u001b[0m\n\u001b[?25hRequirement already satisfied: setuptools>=3.0 in /anaconda/envs/azureml_py310_sdkv2/lib/python3.10/site-packages (from gunicorn<22->mlflow==2.12.1->-r run_history.txt (line 2)) (67.8.0)\nRequirement already satisfied: zipp>=0.5 in /anaconda/envs/azureml_py310_sdkv2/lib/python3.10/site-packages (from importlib-metadata!=4.7.0,<8,>=3.7.0->mlflow==2.12.1->-r run_history.txt (line 2)) (3.15.0)\nRequirement already satisfied: MarkupSafe>=2.0 in /anaconda/envs/azureml_py310_sdkv2/lib/python3.10/site-packages (from Jinja2<4,>=2.11->mlflow==2.12.1->-r run_history.txt (line 2)) (2.1.3)\nRequirement already satisfied: certifi>=2017.4.17 in /anaconda/envs/azureml_py310_sdkv2/lib/python3.10/site-packages (from msrest>=0.6.18->azureml-mlflow==1.56.0->-r run_history.txt (line 3)) (2023.5.7)\nRequirement already satisfied: requests-oauthlib>=0.5.0 in /anaconda/envs/azureml_py310_sdkv2/lib/python3.10/site-packages (from msrest>=0.6.18->azureml-mlflow==1.56.0->-r run_history.txt (line 3)) (1.3.1)\nRequirement already satisfied: charset-normalizer<4,>=2 in /anaconda/envs/azureml_py310_sdkv2/lib/python3.10/site-packages (from requests<3,>=2.17.3->mlflow==2.12.1->-r run_history.txt (line 2)) (3.1.0)\nRequirement already satisfied: idna<4,>=2.5 in /anaconda/envs/azureml_py310_sdkv2/lib/python3.10/site-packages (from requests<3,>=2.17.3->mlflow==2.12.1->-r run_history.txt (line 2)) (3.4)\nRequirement already satisfied: greenlet!=0.4.17 in /anaconda/envs/azureml_py310_sdkv2/lib/python3.10/site-packages (from sqlalchemy<3,>=1.4.0->mlflow==2.12.1->-r run_history.txt (line 2)) (2.0.2)\nRequirement already satisfied: msal<2.0.0,>=1.20.0 in /anaconda/envs/azureml_py310_sdkv2/lib/python3.10/site-packages (from azure-identity->azureml-mlflow==1.56.0->-r run_history.txt (line 3)) (1.22.0)\nRequirement already satisfied: msal-extensions<2.0.0,>=0.3.0 in /anaconda/envs/azureml_py310_sdkv2/lib/python3.10/site-packages (from azure-identity->azureml-mlflow==1.56.0->-r run_history.txt (line 3)) (1.0.0)\nRequirement already satisfied: databricks-cli<1,>=0.8.7 in /anaconda/envs/azureml_py310_sdkv2/lib/python3.10/site-packages (from mlflow-skinny->azureml-mlflow==1.56.0->-r run_history.txt (line 3)) (0.17.7)\nRequirement already satisfied: pycparser in /anaconda/envs/azureml_py310_sdkv2/lib/python3.10/site-packages (from cffi>=1.12->cryptography->azureml-mlflow==1.56.0->-r run_history.txt (line 3)) (2.21)\nRequirement already satisfied: pyjwt>=1.7.0 in /anaconda/envs/azureml_py310_sdkv2/lib/python3.10/site-packages (from databricks-cli<1,>=0.8.7->mlflow-skinny->azureml-mlflow==1.56.0->-r run_history.txt (line 3)) (2.7.0)\nRequirement already satisfied: oauthlib>=3.1.0 in /anaconda/envs/azureml_py310_sdkv2/lib/python3.10/site-packages (from databricks-cli<1,>=0.8.7->mlflow-skinny->azureml-mlflow==1.56.0->-r run_history.txt (line 3)) (3.2.2)\nRequirement already satisfied: tabulate>=0.7.7 in /anaconda/envs/azureml_py310_sdkv2/lib/python3.10/site-packages (from databricks-cli<1,>=0.8.7->mlflow-skinny->azureml-mlflow==1.56.0->-r run_history.txt (line 3)) (0.9.0)\nRequirement already satisfied: smmap<6,>=3.0.1 in /anaconda/envs/azureml_py310_sdkv2/lib/python3.10/site-packages (from gitdb<5,>=4.0.1->gitpython<4,>=3.1.9->mlflow==2.12.1->-r run_history.txt (line 2)) (5.0.0)\nRequirement already satisfied: portalocker<3,>=1.0 in /anaconda/envs/azureml_py310_sdkv2/lib/python3.10/site-packages (from msal-extensions<2.0.0,>=0.3.0->azure-identity->azureml-mlflow==1.56.0->-r run_history.txt (line 3)) (2.7.0)\nInstalling collected packages: aniso8601, numpy, graphql-core, click, pandas, graphql-relay, xgboost, scikit-learn, matplotlib, graphene, mlflow, azureml-mlflow\n  Attempting uninstall: numpy\n    Found existing installation: numpy 1.25.0\n    Uninstalling numpy-1.25.0:\n      Successfully uninstalled numpy-1.25.0\n  Attempting uninstall: click\n    Found existing installation: click 8.0.4\n    Uninstalling click-8.0.4:\n      Successfully uninstalled click-8.0.4\n  Attempting uninstall: pandas\n    Found existing installation: pandas 2.0.2\n    Uninstalling pandas-2.0.2:\n      Successfully uninstalled pandas-2.0.2\n  Attempting uninstall: scikit-learn\n    Found existing installation: scikit-learn 1.2.2\n    Uninstalling scikit-learn-1.2.2:\n      Successfully uninstalled scikit-learn-1.2.2\n  Attempting uninstall: matplotlib\n    Found existing installation: matplotlib 3.7.1\n    Uninstalling matplotlib-3.7.1:\n      Successfully uninstalled matplotlib-3.7.1\n  Attempting uninstall: mlflow\n    Found existing installation: mlflow 2.4.1\n    Uninstalling mlflow-2.4.1:\n      Successfully uninstalled mlflow-2.4.1\n  Attempting uninstall: azureml-mlflow\n    Found existing installation: azureml-mlflow 1.51.0\n    Uninstalling azureml-mlflow-1.51.0:\n      Successfully uninstalled azureml-mlflow-1.51.0\n\u001b[31mERROR: pip's dependency resolver does not currently take into account all the packages that are installed. This behaviour is the source of the following dependency conflicts.\nray 2.0.0 requires click<=8.0.4,>=7.0, but you have click 8.1.7 which is incompatible.\u001b[0m\u001b[31m\n\u001b[0mSuccessfully installed aniso8601-9.0.1 azureml-mlflow-1.56.0 click-8.1.7 graphene-3.3 graphql-core-3.2.3 graphql-relay-3.2.0 matplotlib-3.8.4 mlflow-2.12.1 numpy-1.26.4 pandas-2.2.2 scikit-learn-1.4.2 xgboost-2.0.3\nNote: you may need to restart the kernel to use updated packages.\n"
        }
      ],
      "execution_count": 1,
      "metadata": {
        "jupyter": {
          "source_hidden": false,
          "outputs_hidden": false
        },
        "nteract": {
          "transient": {
            "deleting": false
          }
        },
        "gather": {
          "logged": 1715826074193
        }
      }
    },
    {
      "cell_type": "code",
      "source": [
        "import mlflow"
      ],
      "outputs": [],
      "execution_count": 2,
      "metadata": {
        "jupyter": {
          "source_hidden": false,
          "outputs_hidden": false
        },
        "nteract": {
          "transient": {
            "deleting": false
          }
        },
        "gather": {
          "logged": 1715826083242
        }
      }
    },
    {
      "cell_type": "code",
      "source": [
        "experiment_name = \"heart-classifier-sample\"\n",
        "model_name = \"heart-classifier\"\n",
        "artifact_path = \"pipeline\""
      ],
      "outputs": [],
      "execution_count": 3,
      "metadata": {
        "jupyter": {
          "source_hidden": false,
          "outputs_hidden": false
        },
        "nteract": {
          "transient": {
            "deleting": false
          }
        },
        "gather": {
          "logged": 1715826083362
        }
      }
    },
    {
      "cell_type": "code",
      "source": [
        "from trainer import train_and_log"
      ],
      "outputs": [],
      "execution_count": 4,
      "metadata": {
        "jupyter": {
          "source_hidden": false,
          "outputs_hidden": false
        },
        "nteract": {
          "transient": {
            "deleting": false
          }
        },
        "gather": {
          "logged": 1715826088038
        }
      }
    },
    {
      "cell_type": "code",
      "source": [
        "mlflow.set_experiment(experiment_name=experiment_name)\n",
        "input_data = \"https://azuremlexampledata.blob.core.windows.net/data/heart-disease-uci/data/heart.csv\"\n",
        "\n",
        "for run_idx in range(3):\n",
        "    with mlflow.start_run(run_name=f\"{experiment_name}-run-{run_idx}\"):\n",
        "        train_and_log(input_data)"
      ],
      "outputs": [
        {
          "output_type": "stream",
          "name": "stderr",
          "text": "2024/05/16 02:21:26 INFO mlflow.tracking.fluent: Experiment with name 'heart-classifier-sample' does not exist. Creating a new experiment.\n2024/05/16 02:21:44 WARNING mlflow.sklearn: Failed to log evaluation dataset information to MLflow Tracking. Reason: BAD_REQUEST: Response: {'Error': {'Code': 'UserError', 'Severity': None, 'Message': 'Cannot log the same dataset with different context', 'MessageFormat': None, 'MessageParameters': None, 'ReferenceCode': None, 'DetailsUri': None, 'Target': None, 'Details': [], 'InnerError': None, 'DebugInfo': None, 'AdditionalInfo': None}, 'Correlation': {'operation': '88b4e219ae9cbd4ebc809cf52a2ce93b', 'request': '2ce4a492b2c8cc6b'}, 'Environment': 'westus', 'Location': 'westus', 'Time': '2024-05-16T02:21:44.4385678+00:00', 'ComponentName': 'mlflow', 'statusCode': 400, 'error_code': 'BAD_REQUEST'}\n/anaconda/envs/azureml_py310_sdkv2/lib/python3.10/site-packages/mlflow/types/utils.py:394: UserWarning: Hint: Inferred schema contains integer column(s). Integer columns in Python cannot represent missing values. If your input data contains missing values at inference time, it will be encoded as floats and will cause a schema enforcement error. The best way to avoid this problem is to infer the model schema based on a realistic data sample (training dataset) that includes missing values. Alternatively, you can declare integer columns as doubles (float64) whenever these columns may have missing values. See `Handling Integers With Missing Values <https://www.mlflow.org/docs/latest/models.html#handling-integers-with-missing-values>`_ for more details.\n  warnings.warn(\n2024/05/16 02:21:57 WARNING mlflow.utils.environment: Encountered an unexpected error while inferring pip requirements (model URI: /tmp/tmpapbp0vq7/model/model.pkl, flavor: sklearn). Fall back to return ['scikit-learn==1.4.2', 'cloudpickle==2.2.1']. Set logging level to DEBUG to see the full traceback. \n/anaconda/envs/azureml_py310_sdkv2/lib/python3.10/site-packages/_distutils_hack/__init__.py:33: UserWarning: Setuptools is replacing distutils.\n  warnings.warn(\"Setuptools is replacing distutils.\")\n2024/05/16 02:22:02 WARNING mlflow.sklearn: Failed to log evaluation dataset information to MLflow Tracking. Reason: BAD_REQUEST: Response: {'Error': {'Code': 'UserError', 'Severity': None, 'Message': 'Cannot log the same dataset with different context', 'MessageFormat': None, 'MessageParameters': None, 'ReferenceCode': None, 'DetailsUri': None, 'Target': None, 'Details': [], 'InnerError': None, 'DebugInfo': None, 'AdditionalInfo': None}, 'Correlation': {'operation': 'c730aa63c8b62f3550f4443b15948892', 'request': '68a8d16421012d12'}, 'Environment': 'westus', 'Location': 'westus', 'Time': '2024-05-16T02:22:02.5612078+00:00', 'ComponentName': 'mlflow', 'statusCode': 400, 'error_code': 'BAD_REQUEST'}\n/anaconda/envs/azureml_py310_sdkv2/lib/python3.10/site-packages/mlflow/types/utils.py:394: UserWarning: Hint: Inferred schema contains integer column(s). Integer columns in Python cannot represent missing values. If your input data contains missing values at inference time, it will be encoded as floats and will cause a schema enforcement error. The best way to avoid this problem is to infer the model schema based on a realistic data sample (training dataset) that includes missing values. Alternatively, you can declare integer columns as doubles (float64) whenever these columns may have missing values. See `Handling Integers With Missing Values <https://www.mlflow.org/docs/latest/models.html#handling-integers-with-missing-values>`_ for more details.\n  warnings.warn(\n2024/05/16 02:22:14 WARNING mlflow.utils.environment: Encountered an unexpected error while inferring pip requirements (model URI: /tmp/tmpwgajnrhd/model/model.pkl, flavor: sklearn). Fall back to return ['scikit-learn==1.4.2', 'cloudpickle==2.2.1']. Set logging level to DEBUG to see the full traceback. \n2024/05/16 02:22:17 WARNING mlflow.sklearn: Failed to log evaluation dataset information to MLflow Tracking. Reason: BAD_REQUEST: Response: {'Error': {'Code': 'UserError', 'Severity': None, 'Message': 'Cannot log the same dataset with different context', 'MessageFormat': None, 'MessageParameters': None, 'ReferenceCode': None, 'DetailsUri': None, 'Target': None, 'Details': [], 'InnerError': None, 'DebugInfo': None, 'AdditionalInfo': None}, 'Correlation': {'operation': '8f81193fa7e4be230eb97e4cf898f3ad', 'request': '2cc243b226958f5b'}, 'Environment': 'westus', 'Location': 'westus', 'Time': '2024-05-16T02:22:17.5311658+00:00', 'ComponentName': 'mlflow', 'statusCode': 400, 'error_code': 'BAD_REQUEST'}\n/anaconda/envs/azureml_py310_sdkv2/lib/python3.10/site-packages/mlflow/types/utils.py:394: UserWarning: Hint: Inferred schema contains integer column(s). Integer columns in Python cannot represent missing values. If your input data contains missing values at inference time, it will be encoded as floats and will cause a schema enforcement error. The best way to avoid this problem is to infer the model schema based on a realistic data sample (training dataset) that includes missing values. Alternatively, you can declare integer columns as doubles (float64) whenever these columns may have missing values. See `Handling Integers With Missing Values <https://www.mlflow.org/docs/latest/models.html#handling-integers-with-missing-values>`_ for more details.\n  warnings.warn(\n2024/05/16 02:22:29 WARNING mlflow.utils.environment: Encountered an unexpected error while inferring pip requirements (model URI: /tmp/tmplr1awiv_/model/model.pkl, flavor: sklearn). Fall back to return ['scikit-learn==1.4.2', 'cloudpickle==2.2.1']. Set logging level to DEBUG to see the full traceback. \n"
        },
        {
          "output_type": "stream",
          "name": "stdout",
          "text": "Accuracy: 79.12%\nAccuracy: 80.22%\nAccuracy: 81.32%\n"
        }
      ],
      "execution_count": 5,
      "metadata": {
        "jupyter": {
          "source_hidden": false,
          "outputs_hidden": false
        },
        "nteract": {
          "transient": {
            "deleting": false
          }
        },
        "gather": {
          "logged": 1715826153107
        }
      }
    },
    {
      "cell_type": "markdown",
      "source": [
        "# 2 - Getting experiments"
      ],
      "metadata": {
        "nteract": {
          "transient": {
            "deleting": false
          }
        }
      }
    },
    {
      "cell_type": "code",
      "source": [
        "# get all the active experiments in the workspace using MLFlow\n",
        "\n",
        "experiments = mlflow.search_experiments()\n",
        "for exp in experiments:\n",
        "    print(exp.name)"
      ],
      "outputs": [
        {
          "output_type": "stream",
          "name": "stdout",
          "text": "heart-classifier-sample\n"
        }
      ],
      "execution_count": 6,
      "metadata": {
        "jupyter": {
          "source_hidden": false,
          "outputs_hidden": false
        },
        "nteract": {
          "transient": {
            "deleting": false
          }
        },
        "gather": {
          "logged": 1715826153562
        }
      }
    },
    {
      "cell_type": "code",
      "source": [
        "# retrieve archived experiments as well\n",
        "\n",
        "from mlflow.entities import ViewType\n",
        "\n",
        "experiments = mlflow.search_experiments(view_type=ViewType.ALL)\n",
        "for exp in experiments:\n",
        "    print(exp.name)"
      ],
      "outputs": [
        {
          "output_type": "stream",
          "name": "stdout",
          "text": "heart-classifier-sample\n"
        }
      ],
      "execution_count": 7,
      "metadata": {
        "jupyter": {
          "source_hidden": false,
          "outputs_hidden": false
        },
        "nteract": {
          "transient": {
            "deleting": false
          }
        },
        "gather": {
          "logged": 1715826153890
        }
      }
    },
    {
      "cell_type": "code",
      "source": [
        "# Getting a specific experiment\n",
        "\n",
        "exp = mlflow.get_experiment_by_name(experiment_name)\n",
        "print(exp)"
      ],
      "outputs": [
        {
          "output_type": "stream",
          "name": "stdout",
          "text": "<Experiment: artifact_location='', creation_time=1715826087470, experiment_id='0f0b3354-3be9-415e-9d6b-8bb6984f756d', last_update_time=None, lifecycle_stage='active', name='heart-classifier-sample', tags={}>\n"
        }
      ],
      "execution_count": 8,
      "metadata": {
        "jupyter": {
          "source_hidden": false,
          "outputs_hidden": false
        },
        "nteract": {
          "transient": {
            "deleting": false
          }
        },
        "gather": {
          "logged": 1715826154264
        }
      }
    },
    {
      "cell_type": "markdown",
      "source": [
        "# 3 - Getting runs inside an experiment"
      ],
      "metadata": {
        "nteract": {
          "transient": {
            "deleting": false
          }
        }
      }
    },
    {
      "cell_type": "markdown",
      "source": [
        "### a) Getting all the runs"
      ],
      "metadata": {
        "nteract": {
          "transient": {
            "deleting": false
          }
        }
      }
    },
    {
      "cell_type": "code",
      "source": [
        "# Getting all the runs\n",
        "mlflow.search_runs(exp.experiment_id)"
      ],
      "outputs": [
        {
          "output_type": "execute_result",
          "execution_count": 19,
          "data": {
            "text/plain": "                                 run_id                         experiment_id  \\\n0  30d28b88-0c88-4ef1-9645-21a018204ebe  0f0b3354-3be9-415e-9d6b-8bb6984f756d   \n1  8110ba89-f1cf-455a-b452-e44f412de4c4  0f0b3354-3be9-415e-9d6b-8bb6984f756d   \n2  d75741cd-ebc3-40e3-b42f-6e2826b87553  0f0b3354-3be9-415e-9d6b-8bb6984f756d   \n\n     status artifact_uri                       start_time  \\\n0  FINISHED              2024-05-16 02:21:27.765000+00:00   \n1  FINISHED              2024-05-16 02:22:00.793000+00:00   \n2  FINISHED              2024-05-16 02:22:15.688000+00:00   \n\n                          end_time  metrics.accuracy params.max_delta_step  \\\n0 2024-05-16 02:22:00.439000+00:00          0.791209                  None   \n1 2024-05-16 02:22:15.388000+00:00          0.802198                  None   \n2 2024-05-16 02:22:31.242000+00:00          0.813187                  None   \n\n  params.gamma params.learning_rate  ... params.n_jobs params.subsample  \\\n0         None                 None  ...          None             None   \n1         None                 None  ...          None             None   \n2         None                 None  ...          None             None   \n\n  params.eval_metric params.maximize params.max_depth params.multi_strategy  \\\n0            logloss            None             None                  None   \n1            logloss            None             None                  None   \n2            logloss            None             None                  None   \n\n  params.device            tags.mlflow.runName tags.mlflow.user  \\\n0          None  heart-classifier-sample-run-0    Vijay Gadhave   \n1          None  heart-classifier-sample-run-1    Vijay Gadhave   \n2          None  heart-classifier-sample-run-2    Vijay Gadhave   \n\n                  tags.mlflow.rootRunId  \n0  30d28b88-0c88-4ef1-9645-21a018204ebe  \n1  8110ba89-f1cf-455a-b452-e44f412de4c4  \n2  d75741cd-ebc3-40e3-b42f-6e2826b87553  \n\n[3 rows x 47 columns]",
            "text/html": "<div>\n<style scoped>\n    .dataframe tbody tr th:only-of-type {\n        vertical-align: middle;\n    }\n\n    .dataframe tbody tr th {\n        vertical-align: top;\n    }\n\n    .dataframe thead th {\n        text-align: right;\n    }\n</style>\n<table border=\"1\" class=\"dataframe\">\n  <thead>\n    <tr style=\"text-align: right;\">\n      <th></th>\n      <th>run_id</th>\n      <th>experiment_id</th>\n      <th>status</th>\n      <th>artifact_uri</th>\n      <th>start_time</th>\n      <th>end_time</th>\n      <th>metrics.accuracy</th>\n      <th>params.max_delta_step</th>\n      <th>params.gamma</th>\n      <th>params.learning_rate</th>\n      <th>...</th>\n      <th>params.n_jobs</th>\n      <th>params.subsample</th>\n      <th>params.eval_metric</th>\n      <th>params.maximize</th>\n      <th>params.max_depth</th>\n      <th>params.multi_strategy</th>\n      <th>params.device</th>\n      <th>tags.mlflow.runName</th>\n      <th>tags.mlflow.user</th>\n      <th>tags.mlflow.rootRunId</th>\n    </tr>\n  </thead>\n  <tbody>\n    <tr>\n      <th>0</th>\n      <td>30d28b88-0c88-4ef1-9645-21a018204ebe</td>\n      <td>0f0b3354-3be9-415e-9d6b-8bb6984f756d</td>\n      <td>FINISHED</td>\n      <td></td>\n      <td>2024-05-16 02:21:27.765000+00:00</td>\n      <td>2024-05-16 02:22:00.439000+00:00</td>\n      <td>0.791209</td>\n      <td>None</td>\n      <td>None</td>\n      <td>None</td>\n      <td>...</td>\n      <td>None</td>\n      <td>None</td>\n      <td>logloss</td>\n      <td>None</td>\n      <td>None</td>\n      <td>None</td>\n      <td>None</td>\n      <td>heart-classifier-sample-run-0</td>\n      <td>Vijay Gadhave</td>\n      <td>30d28b88-0c88-4ef1-9645-21a018204ebe</td>\n    </tr>\n    <tr>\n      <th>1</th>\n      <td>8110ba89-f1cf-455a-b452-e44f412de4c4</td>\n      <td>0f0b3354-3be9-415e-9d6b-8bb6984f756d</td>\n      <td>FINISHED</td>\n      <td></td>\n      <td>2024-05-16 02:22:00.793000+00:00</td>\n      <td>2024-05-16 02:22:15.388000+00:00</td>\n      <td>0.802198</td>\n      <td>None</td>\n      <td>None</td>\n      <td>None</td>\n      <td>...</td>\n      <td>None</td>\n      <td>None</td>\n      <td>logloss</td>\n      <td>None</td>\n      <td>None</td>\n      <td>None</td>\n      <td>None</td>\n      <td>heart-classifier-sample-run-1</td>\n      <td>Vijay Gadhave</td>\n      <td>8110ba89-f1cf-455a-b452-e44f412de4c4</td>\n    </tr>\n    <tr>\n      <th>2</th>\n      <td>d75741cd-ebc3-40e3-b42f-6e2826b87553</td>\n      <td>0f0b3354-3be9-415e-9d6b-8bb6984f756d</td>\n      <td>FINISHED</td>\n      <td></td>\n      <td>2024-05-16 02:22:15.688000+00:00</td>\n      <td>2024-05-16 02:22:31.242000+00:00</td>\n      <td>0.813187</td>\n      <td>None</td>\n      <td>None</td>\n      <td>None</td>\n      <td>...</td>\n      <td>None</td>\n      <td>None</td>\n      <td>logloss</td>\n      <td>None</td>\n      <td>None</td>\n      <td>None</td>\n      <td>None</td>\n      <td>heart-classifier-sample-run-2</td>\n      <td>Vijay Gadhave</td>\n      <td>d75741cd-ebc3-40e3-b42f-6e2826b87553</td>\n    </tr>\n  </tbody>\n</table>\n<p>3 rows × 47 columns</p>\n</div>"
          },
          "metadata": {}
        }
      ],
      "execution_count": 19,
      "metadata": {
        "jupyter": {
          "source_hidden": false,
          "outputs_hidden": false
        },
        "nteract": {
          "transient": {
            "deleting": false
          }
        },
        "gather": {
          "logged": 1715826682487
        }
      }
    },
    {
      "cell_type": "markdown",
      "source": [
        "### b) Filtering and ordering runs"
      ],
      "metadata": {
        "nteract": {
          "transient": {
            "deleting": false
          }
        }
      }
    },
    {
      "cell_type": "code",
      "source": [
        "# ordered descending by start_time\n",
        "mlflow.search_runs(exp.experiment_id, order_by=[\"start_time DESC\"], max_results=3)"
      ],
      "outputs": [
        {
          "output_type": "execute_result",
          "execution_count": 20,
          "data": {
            "text/plain": "                                 run_id                         experiment_id  \\\n0  d75741cd-ebc3-40e3-b42f-6e2826b87553  0f0b3354-3be9-415e-9d6b-8bb6984f756d   \n1  8110ba89-f1cf-455a-b452-e44f412de4c4  0f0b3354-3be9-415e-9d6b-8bb6984f756d   \n2  30d28b88-0c88-4ef1-9645-21a018204ebe  0f0b3354-3be9-415e-9d6b-8bb6984f756d   \n\n     status artifact_uri                       start_time  \\\n0  FINISHED              2024-05-16 02:22:15.688000+00:00   \n1  FINISHED              2024-05-16 02:22:00.793000+00:00   \n2  FINISHED              2024-05-16 02:21:27.765000+00:00   \n\n                          end_time  metrics.accuracy params.max_delta_step  \\\n0 2024-05-16 02:22:31.242000+00:00          0.813187                  None   \n1 2024-05-16 02:22:15.388000+00:00          0.802198                  None   \n2 2024-05-16 02:22:00.439000+00:00          0.791209                  None   \n\n  params.gamma params.learning_rate  ... params.n_jobs params.subsample  \\\n0         None                 None  ...          None             None   \n1         None                 None  ...          None             None   \n2         None                 None  ...          None             None   \n\n  params.eval_metric params.maximize params.max_depth params.multi_strategy  \\\n0            logloss            None             None                  None   \n1            logloss            None             None                  None   \n2            logloss            None             None                  None   \n\n  params.device            tags.mlflow.runName tags.mlflow.user  \\\n0          None  heart-classifier-sample-run-2    Vijay Gadhave   \n1          None  heart-classifier-sample-run-1    Vijay Gadhave   \n2          None  heart-classifier-sample-run-0    Vijay Gadhave   \n\n                  tags.mlflow.rootRunId  \n0  d75741cd-ebc3-40e3-b42f-6e2826b87553  \n1  8110ba89-f1cf-455a-b452-e44f412de4c4  \n2  30d28b88-0c88-4ef1-9645-21a018204ebe  \n\n[3 rows x 47 columns]",
            "text/html": "<div>\n<style scoped>\n    .dataframe tbody tr th:only-of-type {\n        vertical-align: middle;\n    }\n\n    .dataframe tbody tr th {\n        vertical-align: top;\n    }\n\n    .dataframe thead th {\n        text-align: right;\n    }\n</style>\n<table border=\"1\" class=\"dataframe\">\n  <thead>\n    <tr style=\"text-align: right;\">\n      <th></th>\n      <th>run_id</th>\n      <th>experiment_id</th>\n      <th>status</th>\n      <th>artifact_uri</th>\n      <th>start_time</th>\n      <th>end_time</th>\n      <th>metrics.accuracy</th>\n      <th>params.max_delta_step</th>\n      <th>params.gamma</th>\n      <th>params.learning_rate</th>\n      <th>...</th>\n      <th>params.n_jobs</th>\n      <th>params.subsample</th>\n      <th>params.eval_metric</th>\n      <th>params.maximize</th>\n      <th>params.max_depth</th>\n      <th>params.multi_strategy</th>\n      <th>params.device</th>\n      <th>tags.mlflow.runName</th>\n      <th>tags.mlflow.user</th>\n      <th>tags.mlflow.rootRunId</th>\n    </tr>\n  </thead>\n  <tbody>\n    <tr>\n      <th>0</th>\n      <td>d75741cd-ebc3-40e3-b42f-6e2826b87553</td>\n      <td>0f0b3354-3be9-415e-9d6b-8bb6984f756d</td>\n      <td>FINISHED</td>\n      <td></td>\n      <td>2024-05-16 02:22:15.688000+00:00</td>\n      <td>2024-05-16 02:22:31.242000+00:00</td>\n      <td>0.813187</td>\n      <td>None</td>\n      <td>None</td>\n      <td>None</td>\n      <td>...</td>\n      <td>None</td>\n      <td>None</td>\n      <td>logloss</td>\n      <td>None</td>\n      <td>None</td>\n      <td>None</td>\n      <td>None</td>\n      <td>heart-classifier-sample-run-2</td>\n      <td>Vijay Gadhave</td>\n      <td>d75741cd-ebc3-40e3-b42f-6e2826b87553</td>\n    </tr>\n    <tr>\n      <th>1</th>\n      <td>8110ba89-f1cf-455a-b452-e44f412de4c4</td>\n      <td>0f0b3354-3be9-415e-9d6b-8bb6984f756d</td>\n      <td>FINISHED</td>\n      <td></td>\n      <td>2024-05-16 02:22:00.793000+00:00</td>\n      <td>2024-05-16 02:22:15.388000+00:00</td>\n      <td>0.802198</td>\n      <td>None</td>\n      <td>None</td>\n      <td>None</td>\n      <td>...</td>\n      <td>None</td>\n      <td>None</td>\n      <td>logloss</td>\n      <td>None</td>\n      <td>None</td>\n      <td>None</td>\n      <td>None</td>\n      <td>heart-classifier-sample-run-1</td>\n      <td>Vijay Gadhave</td>\n      <td>8110ba89-f1cf-455a-b452-e44f412de4c4</td>\n    </tr>\n    <tr>\n      <th>2</th>\n      <td>30d28b88-0c88-4ef1-9645-21a018204ebe</td>\n      <td>0f0b3354-3be9-415e-9d6b-8bb6984f756d</td>\n      <td>FINISHED</td>\n      <td></td>\n      <td>2024-05-16 02:21:27.765000+00:00</td>\n      <td>2024-05-16 02:22:00.439000+00:00</td>\n      <td>0.791209</td>\n      <td>None</td>\n      <td>None</td>\n      <td>None</td>\n      <td>...</td>\n      <td>None</td>\n      <td>None</td>\n      <td>logloss</td>\n      <td>None</td>\n      <td>None</td>\n      <td>None</td>\n      <td>None</td>\n      <td>heart-classifier-sample-run-0</td>\n      <td>Vijay Gadhave</td>\n      <td>30d28b88-0c88-4ef1-9645-21a018204ebe</td>\n    </tr>\n  </tbody>\n</table>\n<p>3 rows × 47 columns</p>\n</div>"
          },
          "metadata": {}
        }
      ],
      "execution_count": 20,
      "metadata": {
        "jupyter": {
          "source_hidden": false,
          "outputs_hidden": false
        },
        "nteract": {
          "transient": {
            "deleting": false
          }
        },
        "gather": {
          "logged": 1715826870183
        }
      }
    },
    {
      "cell_type": "code",
      "source": [
        "# ordered ascending by start_time\n",
        "mlflow.search_runs(exp.experiment_id, order_by=[\"start_time AESC\"], max_results=3)"
      ],
      "outputs": [
        {
          "output_type": "execute_result",
          "execution_count": 21,
          "data": {
            "text/plain": "                                 run_id                         experiment_id  \\\n0  30d28b88-0c88-4ef1-9645-21a018204ebe  0f0b3354-3be9-415e-9d6b-8bb6984f756d   \n1  8110ba89-f1cf-455a-b452-e44f412de4c4  0f0b3354-3be9-415e-9d6b-8bb6984f756d   \n2  d75741cd-ebc3-40e3-b42f-6e2826b87553  0f0b3354-3be9-415e-9d6b-8bb6984f756d   \n\n     status artifact_uri                       start_time  \\\n0  FINISHED              2024-05-16 02:21:27.765000+00:00   \n1  FINISHED              2024-05-16 02:22:00.793000+00:00   \n2  FINISHED              2024-05-16 02:22:15.688000+00:00   \n\n                          end_time  metrics.accuracy params.max_delta_step  \\\n0 2024-05-16 02:22:00.439000+00:00          0.791209                  None   \n1 2024-05-16 02:22:15.388000+00:00          0.802198                  None   \n2 2024-05-16 02:22:31.242000+00:00          0.813187                  None   \n\n  params.gamma params.learning_rate  ... params.n_jobs params.subsample  \\\n0         None                 None  ...          None             None   \n1         None                 None  ...          None             None   \n2         None                 None  ...          None             None   \n\n  params.eval_metric params.maximize params.max_depth params.multi_strategy  \\\n0            logloss            None             None                  None   \n1            logloss            None             None                  None   \n2            logloss            None             None                  None   \n\n  params.device            tags.mlflow.runName tags.mlflow.user  \\\n0          None  heart-classifier-sample-run-0    Vijay Gadhave   \n1          None  heart-classifier-sample-run-1    Vijay Gadhave   \n2          None  heart-classifier-sample-run-2    Vijay Gadhave   \n\n                  tags.mlflow.rootRunId  \n0  30d28b88-0c88-4ef1-9645-21a018204ebe  \n1  8110ba89-f1cf-455a-b452-e44f412de4c4  \n2  d75741cd-ebc3-40e3-b42f-6e2826b87553  \n\n[3 rows x 47 columns]",
            "text/html": "<div>\n<style scoped>\n    .dataframe tbody tr th:only-of-type {\n        vertical-align: middle;\n    }\n\n    .dataframe tbody tr th {\n        vertical-align: top;\n    }\n\n    .dataframe thead th {\n        text-align: right;\n    }\n</style>\n<table border=\"1\" class=\"dataframe\">\n  <thead>\n    <tr style=\"text-align: right;\">\n      <th></th>\n      <th>run_id</th>\n      <th>experiment_id</th>\n      <th>status</th>\n      <th>artifact_uri</th>\n      <th>start_time</th>\n      <th>end_time</th>\n      <th>metrics.accuracy</th>\n      <th>params.max_delta_step</th>\n      <th>params.gamma</th>\n      <th>params.learning_rate</th>\n      <th>...</th>\n      <th>params.n_jobs</th>\n      <th>params.subsample</th>\n      <th>params.eval_metric</th>\n      <th>params.maximize</th>\n      <th>params.max_depth</th>\n      <th>params.multi_strategy</th>\n      <th>params.device</th>\n      <th>tags.mlflow.runName</th>\n      <th>tags.mlflow.user</th>\n      <th>tags.mlflow.rootRunId</th>\n    </tr>\n  </thead>\n  <tbody>\n    <tr>\n      <th>0</th>\n      <td>30d28b88-0c88-4ef1-9645-21a018204ebe</td>\n      <td>0f0b3354-3be9-415e-9d6b-8bb6984f756d</td>\n      <td>FINISHED</td>\n      <td></td>\n      <td>2024-05-16 02:21:27.765000+00:00</td>\n      <td>2024-05-16 02:22:00.439000+00:00</td>\n      <td>0.791209</td>\n      <td>None</td>\n      <td>None</td>\n      <td>None</td>\n      <td>...</td>\n      <td>None</td>\n      <td>None</td>\n      <td>logloss</td>\n      <td>None</td>\n      <td>None</td>\n      <td>None</td>\n      <td>None</td>\n      <td>heart-classifier-sample-run-0</td>\n      <td>Vijay Gadhave</td>\n      <td>30d28b88-0c88-4ef1-9645-21a018204ebe</td>\n    </tr>\n    <tr>\n      <th>1</th>\n      <td>8110ba89-f1cf-455a-b452-e44f412de4c4</td>\n      <td>0f0b3354-3be9-415e-9d6b-8bb6984f756d</td>\n      <td>FINISHED</td>\n      <td></td>\n      <td>2024-05-16 02:22:00.793000+00:00</td>\n      <td>2024-05-16 02:22:15.388000+00:00</td>\n      <td>0.802198</td>\n      <td>None</td>\n      <td>None</td>\n      <td>None</td>\n      <td>...</td>\n      <td>None</td>\n      <td>None</td>\n      <td>logloss</td>\n      <td>None</td>\n      <td>None</td>\n      <td>None</td>\n      <td>None</td>\n      <td>heart-classifier-sample-run-1</td>\n      <td>Vijay Gadhave</td>\n      <td>8110ba89-f1cf-455a-b452-e44f412de4c4</td>\n    </tr>\n    <tr>\n      <th>2</th>\n      <td>d75741cd-ebc3-40e3-b42f-6e2826b87553</td>\n      <td>0f0b3354-3be9-415e-9d6b-8bb6984f756d</td>\n      <td>FINISHED</td>\n      <td></td>\n      <td>2024-05-16 02:22:15.688000+00:00</td>\n      <td>2024-05-16 02:22:31.242000+00:00</td>\n      <td>0.813187</td>\n      <td>None</td>\n      <td>None</td>\n      <td>None</td>\n      <td>...</td>\n      <td>None</td>\n      <td>None</td>\n      <td>logloss</td>\n      <td>None</td>\n      <td>None</td>\n      <td>None</td>\n      <td>None</td>\n      <td>heart-classifier-sample-run-2</td>\n      <td>Vijay Gadhave</td>\n      <td>d75741cd-ebc3-40e3-b42f-6e2826b87553</td>\n    </tr>\n  </tbody>\n</table>\n<p>3 rows × 47 columns</p>\n</div>"
          },
          "metadata": {}
        }
      ],
      "execution_count": 21,
      "metadata": {
        "jupyter": {
          "source_hidden": false,
          "outputs_hidden": false
        },
        "nteract": {
          "transient": {
            "deleting": false
          }
        },
        "gather": {
          "logged": 1715826930868
        }
      }
    },
    {
      "cell_type": "code",
      "source": [
        "# search by metrics to know which run generated the best results:\n",
        "mlflow.search_runs(exp.experiment_id).sort_values(\"metrics.accuracy\", ascending=False)"
      ],
      "outputs": [
        {
          "output_type": "execute_result",
          "execution_count": 22,
          "data": {
            "text/plain": "                                 run_id                         experiment_id  \\\n2  d75741cd-ebc3-40e3-b42f-6e2826b87553  0f0b3354-3be9-415e-9d6b-8bb6984f756d   \n1  8110ba89-f1cf-455a-b452-e44f412de4c4  0f0b3354-3be9-415e-9d6b-8bb6984f756d   \n0  30d28b88-0c88-4ef1-9645-21a018204ebe  0f0b3354-3be9-415e-9d6b-8bb6984f756d   \n\n     status artifact_uri                       start_time  \\\n2  FINISHED              2024-05-16 02:22:15.688000+00:00   \n1  FINISHED              2024-05-16 02:22:00.793000+00:00   \n0  FINISHED              2024-05-16 02:21:27.765000+00:00   \n\n                          end_time  metrics.accuracy params.max_delta_step  \\\n2 2024-05-16 02:22:31.242000+00:00          0.813187                  None   \n1 2024-05-16 02:22:15.388000+00:00          0.802198                  None   \n0 2024-05-16 02:22:00.439000+00:00          0.791209                  None   \n\n  params.gamma params.learning_rate  ... params.n_jobs params.subsample  \\\n2         None                 None  ...          None             None   \n1         None                 None  ...          None             None   \n0         None                 None  ...          None             None   \n\n  params.eval_metric params.maximize params.max_depth params.multi_strategy  \\\n2            logloss            None             None                  None   \n1            logloss            None             None                  None   \n0            logloss            None             None                  None   \n\n  params.device            tags.mlflow.runName tags.mlflow.user  \\\n2          None  heart-classifier-sample-run-2    Vijay Gadhave   \n1          None  heart-classifier-sample-run-1    Vijay Gadhave   \n0          None  heart-classifier-sample-run-0    Vijay Gadhave   \n\n                  tags.mlflow.rootRunId  \n2  d75741cd-ebc3-40e3-b42f-6e2826b87553  \n1  8110ba89-f1cf-455a-b452-e44f412de4c4  \n0  30d28b88-0c88-4ef1-9645-21a018204ebe  \n\n[3 rows x 47 columns]",
            "text/html": "<div>\n<style scoped>\n    .dataframe tbody tr th:only-of-type {\n        vertical-align: middle;\n    }\n\n    .dataframe tbody tr th {\n        vertical-align: top;\n    }\n\n    .dataframe thead th {\n        text-align: right;\n    }\n</style>\n<table border=\"1\" class=\"dataframe\">\n  <thead>\n    <tr style=\"text-align: right;\">\n      <th></th>\n      <th>run_id</th>\n      <th>experiment_id</th>\n      <th>status</th>\n      <th>artifact_uri</th>\n      <th>start_time</th>\n      <th>end_time</th>\n      <th>metrics.accuracy</th>\n      <th>params.max_delta_step</th>\n      <th>params.gamma</th>\n      <th>params.learning_rate</th>\n      <th>...</th>\n      <th>params.n_jobs</th>\n      <th>params.subsample</th>\n      <th>params.eval_metric</th>\n      <th>params.maximize</th>\n      <th>params.max_depth</th>\n      <th>params.multi_strategy</th>\n      <th>params.device</th>\n      <th>tags.mlflow.runName</th>\n      <th>tags.mlflow.user</th>\n      <th>tags.mlflow.rootRunId</th>\n    </tr>\n  </thead>\n  <tbody>\n    <tr>\n      <th>2</th>\n      <td>d75741cd-ebc3-40e3-b42f-6e2826b87553</td>\n      <td>0f0b3354-3be9-415e-9d6b-8bb6984f756d</td>\n      <td>FINISHED</td>\n      <td></td>\n      <td>2024-05-16 02:22:15.688000+00:00</td>\n      <td>2024-05-16 02:22:31.242000+00:00</td>\n      <td>0.813187</td>\n      <td>None</td>\n      <td>None</td>\n      <td>None</td>\n      <td>...</td>\n      <td>None</td>\n      <td>None</td>\n      <td>logloss</td>\n      <td>None</td>\n      <td>None</td>\n      <td>None</td>\n      <td>None</td>\n      <td>heart-classifier-sample-run-2</td>\n      <td>Vijay Gadhave</td>\n      <td>d75741cd-ebc3-40e3-b42f-6e2826b87553</td>\n    </tr>\n    <tr>\n      <th>1</th>\n      <td>8110ba89-f1cf-455a-b452-e44f412de4c4</td>\n      <td>0f0b3354-3be9-415e-9d6b-8bb6984f756d</td>\n      <td>FINISHED</td>\n      <td></td>\n      <td>2024-05-16 02:22:00.793000+00:00</td>\n      <td>2024-05-16 02:22:15.388000+00:00</td>\n      <td>0.802198</td>\n      <td>None</td>\n      <td>None</td>\n      <td>None</td>\n      <td>...</td>\n      <td>None</td>\n      <td>None</td>\n      <td>logloss</td>\n      <td>None</td>\n      <td>None</td>\n      <td>None</td>\n      <td>None</td>\n      <td>heart-classifier-sample-run-1</td>\n      <td>Vijay Gadhave</td>\n      <td>8110ba89-f1cf-455a-b452-e44f412de4c4</td>\n    </tr>\n    <tr>\n      <th>0</th>\n      <td>30d28b88-0c88-4ef1-9645-21a018204ebe</td>\n      <td>0f0b3354-3be9-415e-9d6b-8bb6984f756d</td>\n      <td>FINISHED</td>\n      <td></td>\n      <td>2024-05-16 02:21:27.765000+00:00</td>\n      <td>2024-05-16 02:22:00.439000+00:00</td>\n      <td>0.791209</td>\n      <td>None</td>\n      <td>None</td>\n      <td>None</td>\n      <td>...</td>\n      <td>None</td>\n      <td>None</td>\n      <td>logloss</td>\n      <td>None</td>\n      <td>None</td>\n      <td>None</td>\n      <td>None</td>\n      <td>heart-classifier-sample-run-0</td>\n      <td>Vijay Gadhave</td>\n      <td>30d28b88-0c88-4ef1-9645-21a018204ebe</td>\n    </tr>\n  </tbody>\n</table>\n<p>3 rows × 47 columns</p>\n</div>"
          },
          "metadata": {}
        }
      ],
      "execution_count": 22,
      "metadata": {
        "jupyter": {
          "source_hidden": false,
          "outputs_hidden": false
        },
        "nteract": {
          "transient": {
            "deleting": false
          }
        },
        "gather": {
          "logged": 1715826997646
        }
      }
    },
    {
      "cell_type": "code",
      "source": [
        "# Run with a specific combination in the hyperparameters\n",
        "mlflow.search_runs(exp.experiment_id, filter_string=\"params.num_boost_round='100'\", max_results=3)"
      ],
      "outputs": [
        {
          "output_type": "execute_result",
          "execution_count": 23,
          "data": {
            "text/plain": "                                 run_id                         experiment_id  \\\n0  30d28b88-0c88-4ef1-9645-21a018204ebe  0f0b3354-3be9-415e-9d6b-8bb6984f756d   \n1  8110ba89-f1cf-455a-b452-e44f412de4c4  0f0b3354-3be9-415e-9d6b-8bb6984f756d   \n2  d75741cd-ebc3-40e3-b42f-6e2826b87553  0f0b3354-3be9-415e-9d6b-8bb6984f756d   \n\n     status artifact_uri                       start_time  \\\n0  FINISHED              2024-05-16 02:21:27.765000+00:00   \n1  FINISHED              2024-05-16 02:22:00.793000+00:00   \n2  FINISHED              2024-05-16 02:22:15.688000+00:00   \n\n                          end_time  metrics.accuracy params.max_delta_step  \\\n0 2024-05-16 02:22:00.439000+00:00          0.791209                  None   \n1 2024-05-16 02:22:15.388000+00:00          0.802198                  None   \n2 2024-05-16 02:22:31.242000+00:00          0.813187                  None   \n\n  params.gamma params.learning_rate  ... params.n_jobs params.subsample  \\\n0         None                 None  ...          None             None   \n1         None                 None  ...          None             None   \n2         None                 None  ...          None             None   \n\n  params.eval_metric params.maximize params.max_depth params.multi_strategy  \\\n0            logloss            None             None                  None   \n1            logloss            None             None                  None   \n2            logloss            None             None                  None   \n\n  params.device            tags.mlflow.runName tags.mlflow.user  \\\n0          None  heart-classifier-sample-run-0    Vijay Gadhave   \n1          None  heart-classifier-sample-run-1    Vijay Gadhave   \n2          None  heart-classifier-sample-run-2    Vijay Gadhave   \n\n                  tags.mlflow.rootRunId  \n0  30d28b88-0c88-4ef1-9645-21a018204ebe  \n1  8110ba89-f1cf-455a-b452-e44f412de4c4  \n2  d75741cd-ebc3-40e3-b42f-6e2826b87553  \n\n[3 rows x 47 columns]",
            "text/html": "<div>\n<style scoped>\n    .dataframe tbody tr th:only-of-type {\n        vertical-align: middle;\n    }\n\n    .dataframe tbody tr th {\n        vertical-align: top;\n    }\n\n    .dataframe thead th {\n        text-align: right;\n    }\n</style>\n<table border=\"1\" class=\"dataframe\">\n  <thead>\n    <tr style=\"text-align: right;\">\n      <th></th>\n      <th>run_id</th>\n      <th>experiment_id</th>\n      <th>status</th>\n      <th>artifact_uri</th>\n      <th>start_time</th>\n      <th>end_time</th>\n      <th>metrics.accuracy</th>\n      <th>params.max_delta_step</th>\n      <th>params.gamma</th>\n      <th>params.learning_rate</th>\n      <th>...</th>\n      <th>params.n_jobs</th>\n      <th>params.subsample</th>\n      <th>params.eval_metric</th>\n      <th>params.maximize</th>\n      <th>params.max_depth</th>\n      <th>params.multi_strategy</th>\n      <th>params.device</th>\n      <th>tags.mlflow.runName</th>\n      <th>tags.mlflow.user</th>\n      <th>tags.mlflow.rootRunId</th>\n    </tr>\n  </thead>\n  <tbody>\n    <tr>\n      <th>0</th>\n      <td>30d28b88-0c88-4ef1-9645-21a018204ebe</td>\n      <td>0f0b3354-3be9-415e-9d6b-8bb6984f756d</td>\n      <td>FINISHED</td>\n      <td></td>\n      <td>2024-05-16 02:21:27.765000+00:00</td>\n      <td>2024-05-16 02:22:00.439000+00:00</td>\n      <td>0.791209</td>\n      <td>None</td>\n      <td>None</td>\n      <td>None</td>\n      <td>...</td>\n      <td>None</td>\n      <td>None</td>\n      <td>logloss</td>\n      <td>None</td>\n      <td>None</td>\n      <td>None</td>\n      <td>None</td>\n      <td>heart-classifier-sample-run-0</td>\n      <td>Vijay Gadhave</td>\n      <td>30d28b88-0c88-4ef1-9645-21a018204ebe</td>\n    </tr>\n    <tr>\n      <th>1</th>\n      <td>8110ba89-f1cf-455a-b452-e44f412de4c4</td>\n      <td>0f0b3354-3be9-415e-9d6b-8bb6984f756d</td>\n      <td>FINISHED</td>\n      <td></td>\n      <td>2024-05-16 02:22:00.793000+00:00</td>\n      <td>2024-05-16 02:22:15.388000+00:00</td>\n      <td>0.802198</td>\n      <td>None</td>\n      <td>None</td>\n      <td>None</td>\n      <td>...</td>\n      <td>None</td>\n      <td>None</td>\n      <td>logloss</td>\n      <td>None</td>\n      <td>None</td>\n      <td>None</td>\n      <td>None</td>\n      <td>heart-classifier-sample-run-1</td>\n      <td>Vijay Gadhave</td>\n      <td>8110ba89-f1cf-455a-b452-e44f412de4c4</td>\n    </tr>\n    <tr>\n      <th>2</th>\n      <td>d75741cd-ebc3-40e3-b42f-6e2826b87553</td>\n      <td>0f0b3354-3be9-415e-9d6b-8bb6984f756d</td>\n      <td>FINISHED</td>\n      <td></td>\n      <td>2024-05-16 02:22:15.688000+00:00</td>\n      <td>2024-05-16 02:22:31.242000+00:00</td>\n      <td>0.813187</td>\n      <td>None</td>\n      <td>None</td>\n      <td>None</td>\n      <td>...</td>\n      <td>None</td>\n      <td>None</td>\n      <td>logloss</td>\n      <td>None</td>\n      <td>None</td>\n      <td>None</td>\n      <td>None</td>\n      <td>heart-classifier-sample-run-2</td>\n      <td>Vijay Gadhave</td>\n      <td>d75741cd-ebc3-40e3-b42f-6e2826b87553</td>\n    </tr>\n  </tbody>\n</table>\n<p>3 rows × 47 columns</p>\n</div>"
          },
          "metadata": {}
        }
      ],
      "execution_count": 23,
      "metadata": {
        "jupyter": {
          "source_hidden": false,
          "outputs_hidden": false
        },
        "nteract": {
          "transient": {
            "deleting": false
          }
        },
        "gather": {
          "logged": 1715827082725
        }
      }
    },
    {
      "cell_type": "code",
      "source": [
        "runs = mlflow.search_runs(\n",
        "    exp.experiment_id,\n",
        "    filter_string=\"params.num_boost_round='100'\",\n",
        "    output_format=\"list\",\n",
        ")"
      ],
      "outputs": [],
      "execution_count": 24,
      "metadata": {
        "jupyter": {
          "source_hidden": false,
          "outputs_hidden": false
        },
        "nteract": {
          "transient": {
            "deleting": false
          }
        },
        "gather": {
          "logged": 1715827139800
        }
      }
    },
    {
      "cell_type": "code",
      "source": [
        "# get the last run matching the search criteria\n",
        "last_run = runs[-1]\n",
        "print(last_run)"
      ],
      "outputs": [
        {
          "output_type": "stream",
          "name": "stdout",
          "text": "<Run: data=<RunData: metrics={'accuracy': 0.8131868131868132}, params={'base_score': 'None',\n 'booster': 'None',\n 'colsample_bylevel': 'None',\n 'colsample_bynode': 'None',\n 'colsample_bytree': 'None',\n 'custom_metric': 'None',\n 'device': 'None',\n 'early_stopping_rounds': 'None',\n 'eval_metric': 'logloss',\n 'gamma': 'None',\n 'grow_policy': 'None',\n 'interaction_constraints': 'None',\n 'learning_rate': 'None',\n 'max_bin': 'None',\n 'max_cat_threshold': 'None',\n 'max_cat_to_onehot': 'None',\n 'max_delta_step': 'None',\n 'max_depth': 'None',\n 'max_leaves': 'None',\n 'maximize': 'None',\n 'min_child_weight': 'None',\n 'monotone_constraints': 'None',\n 'multi_strategy': 'None',\n 'n_jobs': 'None',\n 'num_boost_round': '100',\n 'num_parallel_tree': 'None',\n 'objective': 'binary:logistic',\n 'random_state': 'None',\n 'reg_alpha': 'None',\n 'reg_lambda': 'None',\n 'sampling_method': 'None',\n 'scale_pos_weight': 'None',\n 'subsample': 'None',\n 'tree_method': 'None',\n 'validate_parameters': 'None',\n 'verbose_eval': 'True',\n 'verbosity': 'None'}, tags={'mlflow.rootRunId': 'd75741cd-ebc3-40e3-b42f-6e2826b87553',\n 'mlflow.runName': 'heart-classifier-sample-run-2',\n 'mlflow.user': 'Vijay Gadhave'}>, info=<RunInfo: artifact_uri='', end_time=1715826151242, experiment_id='0f0b3354-3be9-415e-9d6b-8bb6984f756d', lifecycle_stage='active', run_id='d75741cd-ebc3-40e3-b42f-6e2826b87553', run_name='heart-classifier-sample-run-2', run_uuid='d75741cd-ebc3-40e3-b42f-6e2826b87553', start_time=1715826135688, status='FINISHED', user_id='Vijay Gadhave'>, inputs=<RunInputs: dataset_inputs=[<DatasetInput: dataset=<Dataset: digest='3e7e15d3', name='dataset', profile='{\"features_shape\": [212, 13], \"features_size\": 2756, \"features_nbytes\": 11024}', schema=('{\"mlflow_tensorspec\": {\"features\": \"[{\\\\\"type\\\\\": \\\\\"tensor\\\\\", '\n '\\\\\"tensor-spec\\\\\": {\\\\\"dtype\\\\\": \\\\\"float32\\\\\", \\\\\"shape\\\\\": [-1, 13]}}]\", '\n '\"targets\": null}}'), source=('{\"tags\": {\"mlflow.user\": \"azureuser\", \"mlflow.source.name\": '\n '\"/anaconda/envs/azureml_py310_sdkv2/lib/python3.10/site-packages/ipykernel_launcher.py\", '\n '\"mlflow.source.type\": \"LOCAL\"}}'), source_type='code'>, tags=[<InputTag: key='mlflow.data.context', value='train'>]>]>>\n"
        }
      ],
      "execution_count": 25,
      "metadata": {
        "jupyter": {
          "source_hidden": false,
          "outputs_hidden": false
        },
        "nteract": {
          "transient": {
            "deleting": false
          }
        },
        "gather": {
          "logged": 1715827155885
        }
      }
    },
    {
      "cell_type": "code",
      "source": [
        "# filter experiment run by status (SCHEDULED, RUNNING, FINISHED, FAILED, KILLED)\n",
        "runs = mlflow.search_runs(exp.experiment_id)\n",
        "runs[runs.status == \"FINISHED\"]"
      ],
      "outputs": [
        {
          "output_type": "execute_result",
          "execution_count": 26,
          "data": {
            "text/plain": "                                 run_id                         experiment_id  \\\n0  30d28b88-0c88-4ef1-9645-21a018204ebe  0f0b3354-3be9-415e-9d6b-8bb6984f756d   \n1  8110ba89-f1cf-455a-b452-e44f412de4c4  0f0b3354-3be9-415e-9d6b-8bb6984f756d   \n2  d75741cd-ebc3-40e3-b42f-6e2826b87553  0f0b3354-3be9-415e-9d6b-8bb6984f756d   \n\n     status artifact_uri                       start_time  \\\n0  FINISHED              2024-05-16 02:21:27.765000+00:00   \n1  FINISHED              2024-05-16 02:22:00.793000+00:00   \n2  FINISHED              2024-05-16 02:22:15.688000+00:00   \n\n                          end_time  metrics.accuracy params.max_delta_step  \\\n0 2024-05-16 02:22:00.439000+00:00          0.791209                  None   \n1 2024-05-16 02:22:15.388000+00:00          0.802198                  None   \n2 2024-05-16 02:22:31.242000+00:00          0.813187                  None   \n\n  params.gamma params.learning_rate  ... params.n_jobs params.subsample  \\\n0         None                 None  ...          None             None   \n1         None                 None  ...          None             None   \n2         None                 None  ...          None             None   \n\n  params.eval_metric params.maximize params.max_depth params.multi_strategy  \\\n0            logloss            None             None                  None   \n1            logloss            None             None                  None   \n2            logloss            None             None                  None   \n\n  params.device            tags.mlflow.runName tags.mlflow.user  \\\n0          None  heart-classifier-sample-run-0    Vijay Gadhave   \n1          None  heart-classifier-sample-run-1    Vijay Gadhave   \n2          None  heart-classifier-sample-run-2    Vijay Gadhave   \n\n                  tags.mlflow.rootRunId  \n0  30d28b88-0c88-4ef1-9645-21a018204ebe  \n1  8110ba89-f1cf-455a-b452-e44f412de4c4  \n2  d75741cd-ebc3-40e3-b42f-6e2826b87553  \n\n[3 rows x 47 columns]",
            "text/html": "<div>\n<style scoped>\n    .dataframe tbody tr th:only-of-type {\n        vertical-align: middle;\n    }\n\n    .dataframe tbody tr th {\n        vertical-align: top;\n    }\n\n    .dataframe thead th {\n        text-align: right;\n    }\n</style>\n<table border=\"1\" class=\"dataframe\">\n  <thead>\n    <tr style=\"text-align: right;\">\n      <th></th>\n      <th>run_id</th>\n      <th>experiment_id</th>\n      <th>status</th>\n      <th>artifact_uri</th>\n      <th>start_time</th>\n      <th>end_time</th>\n      <th>metrics.accuracy</th>\n      <th>params.max_delta_step</th>\n      <th>params.gamma</th>\n      <th>params.learning_rate</th>\n      <th>...</th>\n      <th>params.n_jobs</th>\n      <th>params.subsample</th>\n      <th>params.eval_metric</th>\n      <th>params.maximize</th>\n      <th>params.max_depth</th>\n      <th>params.multi_strategy</th>\n      <th>params.device</th>\n      <th>tags.mlflow.runName</th>\n      <th>tags.mlflow.user</th>\n      <th>tags.mlflow.rootRunId</th>\n    </tr>\n  </thead>\n  <tbody>\n    <tr>\n      <th>0</th>\n      <td>30d28b88-0c88-4ef1-9645-21a018204ebe</td>\n      <td>0f0b3354-3be9-415e-9d6b-8bb6984f756d</td>\n      <td>FINISHED</td>\n      <td></td>\n      <td>2024-05-16 02:21:27.765000+00:00</td>\n      <td>2024-05-16 02:22:00.439000+00:00</td>\n      <td>0.791209</td>\n      <td>None</td>\n      <td>None</td>\n      <td>None</td>\n      <td>...</td>\n      <td>None</td>\n      <td>None</td>\n      <td>logloss</td>\n      <td>None</td>\n      <td>None</td>\n      <td>None</td>\n      <td>None</td>\n      <td>heart-classifier-sample-run-0</td>\n      <td>Vijay Gadhave</td>\n      <td>30d28b88-0c88-4ef1-9645-21a018204ebe</td>\n    </tr>\n    <tr>\n      <th>1</th>\n      <td>8110ba89-f1cf-455a-b452-e44f412de4c4</td>\n      <td>0f0b3354-3be9-415e-9d6b-8bb6984f756d</td>\n      <td>FINISHED</td>\n      <td></td>\n      <td>2024-05-16 02:22:00.793000+00:00</td>\n      <td>2024-05-16 02:22:15.388000+00:00</td>\n      <td>0.802198</td>\n      <td>None</td>\n      <td>None</td>\n      <td>None</td>\n      <td>...</td>\n      <td>None</td>\n      <td>None</td>\n      <td>logloss</td>\n      <td>None</td>\n      <td>None</td>\n      <td>None</td>\n      <td>None</td>\n      <td>heart-classifier-sample-run-1</td>\n      <td>Vijay Gadhave</td>\n      <td>8110ba89-f1cf-455a-b452-e44f412de4c4</td>\n    </tr>\n    <tr>\n      <th>2</th>\n      <td>d75741cd-ebc3-40e3-b42f-6e2826b87553</td>\n      <td>0f0b3354-3be9-415e-9d6b-8bb6984f756d</td>\n      <td>FINISHED</td>\n      <td></td>\n      <td>2024-05-16 02:22:15.688000+00:00</td>\n      <td>2024-05-16 02:22:31.242000+00:00</td>\n      <td>0.813187</td>\n      <td>None</td>\n      <td>None</td>\n      <td>None</td>\n      <td>...</td>\n      <td>None</td>\n      <td>None</td>\n      <td>logloss</td>\n      <td>None</td>\n      <td>None</td>\n      <td>None</td>\n      <td>None</td>\n      <td>heart-classifier-sample-run-2</td>\n      <td>Vijay Gadhave</td>\n      <td>d75741cd-ebc3-40e3-b42f-6e2826b87553</td>\n    </tr>\n  </tbody>\n</table>\n<p>3 rows × 47 columns</p>\n</div>"
          },
          "metadata": {}
        }
      ],
      "execution_count": 26,
      "metadata": {
        "jupyter": {
          "source_hidden": false,
          "outputs_hidden": false
        },
        "nteract": {
          "transient": {
            "deleting": false
          }
        },
        "gather": {
          "logged": 1715827292594
        }
      }
    },
    {
      "cell_type": "code",
      "source": [
        "# filter experiment run by status (SCHEDULED, RUNNING, FINISHED, FAILED, KILLED)\n",
        "runs = mlflow.search_runs(exp.experiment_id)\n",
        "runs[runs.status == \"RUNNING\"]"
      ],
      "outputs": [
        {
          "output_type": "execute_result",
          "execution_count": 27,
          "data": {
            "text/plain": "Empty DataFrame\nColumns: [run_id, experiment_id, status, artifact_uri, start_time, end_time, metrics.accuracy, params.max_delta_step, params.gamma, params.learning_rate, params.verbose_eval, params.num_boost_round, params.grow_policy, params.booster, params.max_cat_threshold, params.max_leaves, params.base_score, params.min_child_weight, params.reg_alpha, params.colsample_bynode, params.max_bin, params.reg_lambda, params.tree_method, params.objective, params.colsample_bytree, params.sampling_method, params.verbosity, params.monotone_constraints, params.num_parallel_tree, params.max_cat_to_onehot, params.validate_parameters, params.random_state, params.scale_pos_weight, params.interaction_constraints, params.early_stopping_rounds, params.custom_metric, params.colsample_bylevel, params.n_jobs, params.subsample, params.eval_metric, params.maximize, params.max_depth, params.multi_strategy, params.device, tags.mlflow.runName, tags.mlflow.user, tags.mlflow.rootRunId]\nIndex: []\n\n[0 rows x 47 columns]",
            "text/html": "<div>\n<style scoped>\n    .dataframe tbody tr th:only-of-type {\n        vertical-align: middle;\n    }\n\n    .dataframe tbody tr th {\n        vertical-align: top;\n    }\n\n    .dataframe thead th {\n        text-align: right;\n    }\n</style>\n<table border=\"1\" class=\"dataframe\">\n  <thead>\n    <tr style=\"text-align: right;\">\n      <th></th>\n      <th>run_id</th>\n      <th>experiment_id</th>\n      <th>status</th>\n      <th>artifact_uri</th>\n      <th>start_time</th>\n      <th>end_time</th>\n      <th>metrics.accuracy</th>\n      <th>params.max_delta_step</th>\n      <th>params.gamma</th>\n      <th>params.learning_rate</th>\n      <th>...</th>\n      <th>params.n_jobs</th>\n      <th>params.subsample</th>\n      <th>params.eval_metric</th>\n      <th>params.maximize</th>\n      <th>params.max_depth</th>\n      <th>params.multi_strategy</th>\n      <th>params.device</th>\n      <th>tags.mlflow.runName</th>\n      <th>tags.mlflow.user</th>\n      <th>tags.mlflow.rootRunId</th>\n    </tr>\n  </thead>\n  <tbody>\n  </tbody>\n</table>\n<p>0 rows × 47 columns</p>\n</div>"
          },
          "metadata": {}
        }
      ],
      "execution_count": 27,
      "metadata": {
        "jupyter": {
          "source_hidden": false,
          "outputs_hidden": false
        },
        "nteract": {
          "transient": {
            "deleting": false
          }
        },
        "gather": {
          "logged": 1715827310477
        }
      }
    },
    {
      "cell_type": "markdown",
      "source": [
        "# 4 - Getting metrics, params, artifacts and models from a run"
      ],
      "metadata": {
        "nteract": {
          "transient": {
            "deleting": false
          }
        }
      }
    },
    {
      "cell_type": "markdown",
      "source": [
        "### a) Metrics"
      ],
      "metadata": {
        "nteract": {
          "transient": {
            "deleting": false
          }
        }
      }
    },
    {
      "cell_type": "code",
      "source": [
        "# Metrics\n",
        "last_run.data.metrics"
      ],
      "outputs": [
        {
          "output_type": "execute_result",
          "execution_count": 28,
          "data": {
            "text/plain": "{'accuracy': 0.8131868131868132}"
          },
          "metadata": {}
        }
      ],
      "execution_count": 28,
      "metadata": {
        "jupyter": {
          "source_hidden": false,
          "outputs_hidden": false
        },
        "nteract": {
          "transient": {
            "deleting": false
          }
        },
        "gather": {
          "logged": 1715827530829
        }
      }
    },
    {
      "cell_type": "markdown",
      "source": [
        "### b) Parameters"
      ],
      "metadata": {
        "nteract": {
          "transient": {
            "deleting": false
          }
        }
      }
    },
    {
      "cell_type": "code",
      "source": [
        "# Parameters\n",
        "last_run.data.params"
      ],
      "outputs": [
        {
          "output_type": "execute_result",
          "execution_count": 29,
          "data": {
            "text/plain": "{'objective': 'binary:logistic',\n 'base_score': 'None',\n 'booster': 'None',\n 'colsample_bylevel': 'None',\n 'colsample_bynode': 'None',\n 'colsample_bytree': 'None',\n 'device': 'None',\n 'eval_metric': 'logloss',\n 'gamma': 'None',\n 'grow_policy': 'None',\n 'interaction_constraints': 'None',\n 'learning_rate': 'None',\n 'max_bin': 'None',\n 'max_cat_threshold': 'None',\n 'max_cat_to_onehot': 'None',\n 'max_delta_step': 'None',\n 'max_depth': 'None',\n 'max_leaves': 'None',\n 'min_child_weight': 'None',\n 'monotone_constraints': 'None',\n 'multi_strategy': 'None',\n 'n_jobs': 'None',\n 'num_parallel_tree': 'None',\n 'random_state': 'None',\n 'reg_alpha': 'None',\n 'reg_lambda': 'None',\n 'sampling_method': 'None',\n 'scale_pos_weight': 'None',\n 'subsample': 'None',\n 'tree_method': 'None',\n 'validate_parameters': 'None',\n 'verbosity': 'None',\n 'num_boost_round': '100',\n 'early_stopping_rounds': 'None',\n 'custom_metric': 'None',\n 'verbose_eval': 'True',\n 'maximize': 'None'}"
          },
          "metadata": {}
        }
      ],
      "execution_count": 29,
      "metadata": {
        "jupyter": {
          "source_hidden": false,
          "outputs_hidden": false
        },
        "nteract": {
          "transient": {
            "deleting": false
          }
        },
        "gather": {
          "logged": 1715827583079
        }
      }
    },
    {
      "cell_type": "markdown",
      "source": [
        "### c) Artifacts"
      ],
      "metadata": {
        "nteract": {
          "transient": {
            "deleting": false
          }
        }
      }
    },
    {
      "cell_type": "code",
      "source": [
        "# Artifacts\n",
        "client = mlflow.tracking.MlflowClient()\n",
        "client.list_artifacts(last_run.info.run_id)"
      ],
      "outputs": [
        {
          "output_type": "execute_result",
          "execution_count": 31,
          "data": {
            "text/plain": "[<FileInfo: file_size=-1, is_dir=False, path='feature_importance_weight.json'>,\n <FileInfo: file_size=-1, is_dir=False, path='feature_importance_weight.png'>,\n <FileInfo: file_size=-1, is_dir=True, path='pipeline'>]"
          },
          "metadata": {}
        }
      ],
      "execution_count": 31,
      "metadata": {
        "jupyter": {
          "source_hidden": false,
          "outputs_hidden": false
        },
        "nteract": {
          "transient": {
            "deleting": false
          }
        },
        "gather": {
          "logged": 1715827726896
        }
      }
    },
    {
      "cell_type": "code",
      "source": [
        "# download any artifact using the method download_artifact\n",
        "file_path = mlflow.artifacts.download_artifacts(run_id=last_run.info.run_id, artifact_path=\"feature_importance_weight.png\")"
      ],
      "outputs": [
        {
          "output_type": "stream",
          "name": "stderr",
          "text": "/anaconda/envs/azureml_py310_sdkv2/lib/python3.10/site-packages/tqdm/auto.py:21: TqdmWarning: IProgress not found. Please update jupyter and ipywidgets. See https://ipywidgets.readthedocs.io/en/stable/user_install.html\n  from .autonotebook import tqdm as notebook_tqdm\nDownloading artifacts: 100%|██████████| 1/1 [00:00<00:00,  1.17it/s]\n"
        }
      ],
      "execution_count": 33,
      "metadata": {
        "jupyter": {
          "source_hidden": false,
          "outputs_hidden": false
        },
        "nteract": {
          "transient": {
            "deleting": false
          }
        },
        "gather": {
          "logged": 1715827859164
        }
      }
    },
    {
      "cell_type": "code",
      "source": [
        "file_path"
      ],
      "outputs": [
        {
          "output_type": "execute_result",
          "execution_count": 34,
          "data": {
            "text/plain": "'/tmp/tmp6wplvj9e/feature_importance_weight.png'"
          },
          "metadata": {}
        }
      ],
      "execution_count": 34,
      "metadata": {
        "jupyter": {
          "source_hidden": false,
          "outputs_hidden": false
        },
        "nteract": {
          "transient": {
            "deleting": false
          }
        },
        "gather": {
          "logged": 1715827888194
        }
      }
    },
    {
      "cell_type": "code",
      "source": [
        "# Since the artifact is an image, we can display it in the following way:\n",
        "\n",
        "import matplotlib.pyplot as plt\n",
        "import matplotlib.image as img\n",
        "\n",
        "image = img.imread(file_path)\n",
        "plt.imshow(image)\n",
        "plt.show()"
      ],
      "outputs": [
        {
          "output_type": "display_data",
          "data": {
            "text/plain": "<Figure size 640x480 with 1 Axes>",
            "image/png": "[encoded data removed]"
          },
          "metadata": {}
        }
      ],
      "execution_count": 35,
      "metadata": {
        "jupyter": {
          "source_hidden": false,
          "outputs_hidden": false
        },
        "nteract": {
          "transient": {
            "deleting": false
          }
        },
        "gather": {
          "logged": 1715827974697
        }
      }
    },
    {
      "cell_type": "markdown",
      "source": [
        "### d) Models"
      ],
      "metadata": {
        "nteract": {
          "transient": {
            "deleting": false
          }
        }
      }
    },
    {
      "cell_type": "code",
      "source": [
        "model_local_path = mlflow.artifacts.download_artifacts(run_id=last_run.info.run_id, artifact_path=artifact_path)"
      ],
      "outputs": [
        {
          "output_type": "stream",
          "name": "stderr",
          "text": "Downloading artifacts: 100%|██████████| 9/9 [00:00<00:00, 19.43it/s]\n"
        }
      ],
      "execution_count": 36,
      "metadata": {
        "jupyter": {
          "source_hidden": false,
          "outputs_hidden": false
        },
        "nteract": {
          "transient": {
            "deleting": false
          }
        },
        "gather": {
          "logged": 1715828113154
        }
      }
    },
    {
      "cell_type": "code",
      "source": [
        "# load the model from the local path using MLflow\n",
        "\n",
        "model = mlflow.sklearn.load_model(model_local_path)"
      ],
      "outputs": [],
      "execution_count": 37,
      "metadata": {
        "jupyter": {
          "source_hidden": false,
          "outputs_hidden": false
        },
        "nteract": {
          "transient": {
            "deleting": false
          }
        },
        "gather": {
          "logged": 1715828176158
        }
      }
    },
    {
      "cell_type": "code",
      "source": [
        "# Skip the download path and directly reference the model from the run\n",
        "model = mlflow.sklearn.load_model(f\"runs:/{last_run.info.run_id}/{artifact_path}\")"
      ],
      "outputs": [
        {
          "output_type": "stream",
          "name": "stderr",
          "text": "Downloading artifacts: 100%|██████████| 9/9 [00:00<00:00, 19.61it/s]   \n"
        }
      ],
      "execution_count": 38,
      "metadata": {
        "jupyter": {
          "source_hidden": false,
          "outputs_hidden": false
        },
        "nteract": {
          "transient": {
            "deleting": false
          }
        },
        "gather": {
          "logged": 1715828238929
        }
      }
    }
  ],
  "metadata": {
    "kernelspec": {
      "name": "python310-sdkv2",
      "language": "python",
      "display_name": "Python 3.10 - SDK v2"
    },
    "language_info": {
      "name": "python",
      "version": "3.10.11",
      "mimetype": "text/x-python",
      "codemirror_mode": {
        "name": "ipython",
        "version": 3
      },
      "pygments_lexer": "ipython3",
      "nbconvert_exporter": "python",
      "file_extension": ".py"
    },
    "microsoft": {
      "ms_spell_check": {
        "ms_spell_check_language": "en"
      },
      "host": {
        "AzureML": {
          "notebookHasBeenCompleted": true
        }
      }
    },
    "kernel_info": {
      "name": "python310-sdkv2"
    },
    "nteract": {
      "version": "nteract-front-end@1.0.0"
    }
  },
  "nbformat": 4,
  "nbformat_minor": 2
}