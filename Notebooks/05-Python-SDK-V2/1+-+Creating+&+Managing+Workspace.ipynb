{
  "cells": [
    {
      "cell_type": "markdown",
      "source": [
        "# 1 - Creating the workspace"
      ],
      "metadata": {
        "nteract": {
          "transient": {
            "deleting": false
          }
        }
      }
    },
    {
      "cell_type": "code",
      "source": [
        "# Importing the libraries\n",
        "\n",
        "from azure.ai.ml import MLClient\n",
        "from azure.ai.ml.entities import Workspace\n",
        "from azure.identity import DefaultAzureCredential"
      ],
      "outputs": [],
      "execution_count": 2,
      "metadata": {
        "jupyter": {
          "source_hidden": false,
          "outputs_hidden": false
        },
        "nteract": {
          "transient": {
            "deleting": false
          }
        },
        "gather": {
          "logged": 1712865812703
        }
      }
    },
    {
      "cell_type": "code",
      "source": [
        "# Enter the details of subscription\n",
        "\n",
        "subscription_id = \"3b57d2fe-08b1-4fe9-b535-f5c4387b9a66\"\n",
        "resource_group = \"azureml-sdkv2-rg\""
      ],
      "outputs": [],
      "execution_count": 3,
      "metadata": {
        "jupyter": {
          "source_hidden": false,
          "outputs_hidden": false
        },
        "nteract": {
          "transient": {
            "deleting": false
          }
        },
        "gather": {
          "logged": 1712865876462
        }
      }
    },
    {
      "cell_type": "code",
      "source": [
        "# get the handle to workspace\n",
        "\n",
        "ml_client = MLClient(DefaultAzureCredential(), subscription_id, resource_group)"
      ],
      "outputs": [],
      "execution_count": 4,
      "metadata": {
        "jupyter": {
          "source_hidden": false,
          "outputs_hidden": false
        },
        "nteract": {
          "transient": {
            "deleting": false
          }
        },
        "gather": {
          "logged": 1712865926995
        }
      }
    },
    {
      "cell_type": "code",
      "source": [
        "# Creating the workspace\n",
        "\n",
        "workspace_name = \"workspace-10\"\n",
        "\n",
        "ws = Workspace(\n",
        "    name=workspace_name,\n",
        "    description=\"creating the workspace using python sdk v2\",\n",
        "    tags=dict(purpose=\"demo\"),\n",
        "    display_name=\"basic workspace\",\n",
        "    location=\"eastus\",\n",
        "    hbi_workspace=False\n",
        ")\n",
        "\n",
        "ws_basic = ml_client.workspaces.begin_create(ws).result()\n",
        "print(ws_basic)"
      ],
      "outputs": [
        {
          "output_type": "stream",
          "name": "stderr",
          "text": "Class ManagedNetwork: This is an experimental class, and may change at any time. Please see https://aka.ms/azuremlexperimental for more information.\nThe deployment request workspace-10-3897938 was accepted. ARM deployment URI for reference: \nhttps://portal.azure.com//#blade/HubsExtension/DeploymentDetailsBlade/overview/id/%2Fsubscriptions%2F3b57d2fe-08b1-4fe9-b535-f5c4387b9a66%2FresourceGroups%2Fazureml-sdkv2-rg%2Fproviders%2FMicrosoft.Resources%2Fdeployments%2Fworkspace-10-3897938\nCreating Storage Account: (workspacstorageaec73dd19  ) ..  Done (19s)\nCreating Key Vault: (workspackeyvault603b520d  )  Done (17s)\nCreating Log Analytics Workspace: (workspaclogalyti2a80cb72  )  Done (16s)\nCreating AzureML Workspace: (workspace-10  ) ..  Done (17s)\nCreating Application Insights: (workspacinsights50def974  )  Done (17s)\nTotal time : 37s\n\nClass ManagedNetworkSchema: This is an experimental class, and may change at any time. Please see https://aka.ms/azuremlexperimental for more information.\nClass ManagedNetworkStatusSchema: This is an experimental class, and may change at any time. Please see https://aka.ms/azuremlexperimental for more information.\n"
        },
        {
          "output_type": "stream",
          "name": "stdout",
          "text": "application_insights: /subscriptions/3b57d2fe-08b1-4fe9-b535-f5c4387b9a66/resourceGroups/azureml-sdkv2-rg/providers/Microsoft.insights/components/workspacinsights50def974\ndescription: creating the workspace using python sdk v2\ndiscovery_url: https://eastus.api.azureml.ms/discovery\ndisplay_name: basic workspace\nenable_data_isolation: false\nhbi_workspace: false\nid: /subscriptions/3b57d2fe-08b1-4fe9-b535-f5c4387b9a66/resourceGroups/azureml-sdkv2-rg/providers/Microsoft.MachineLearningServices/workspaces/workspace-10\nidentity:\n  principal_id: a8cd33db-a300-4e05-b4b2-8cf80c07c8ea\n  tenant_id: 843e1e65-e875-4fbd-8ddc-ce696f3a551d\n  type: system_assigned\nkey_vault: /subscriptions/3b57d2fe-08b1-4fe9-b535-f5c4387b9a66/resourceGroups/azureml-sdkv2-rg/providers/Microsoft.Keyvault/vaults/workspackeyvault603b520d\nlocation: eastus\nmanaged_network:\n  isolation_mode: disabled\n  outbound_rules: []\nmlflow_tracking_uri: azureml://eastus.api.azureml.ms/mlflow/v1.0/subscriptions/3b57d2fe-08b1-4fe9-b535-f5c4387b9a66/resourceGroups/azureml-sdkv2-rg/providers/Microsoft.MachineLearningServices/workspaces/workspace-10\nname: workspace-10\npublic_network_access: Enabled\nresource_group: azureml-sdkv2-rg\nstorage_account: /subscriptions/3b57d2fe-08b1-4fe9-b535-f5c4387b9a66/resourceGroups/azureml-sdkv2-rg/providers/Microsoft.Storage/storageAccounts/workspacstorageaec73dd19\ntags:\n  createdByToolkit: sdk-v2-1.8.0\n  purpose: demo\n\n"
        }
      ],
      "execution_count": 5,
      "metadata": {
        "jupyter": {
          "source_hidden": false,
          "outputs_hidden": false
        },
        "nteract": {
          "transient": {
            "deleting": false
          }
        },
        "gather": {
          "logged": 1712866298522
        }
      }
    },
    {
      "cell_type": "markdown",
      "source": [
        "# 2 - Create workspace with existing resources"
      ],
      "metadata": {
        "nteract": {
          "transient": {
            "deleting": false
          }
        }
      }
    },
    {
      "cell_type": "code",
      "source": [
        "# existing_storage_account = e.g. \"/subscriptions/<SUBSCRIPTION_ID>/resourceGroups/<RESOURCE_GROUP>/providers/Microsoft.Storage/storageAccounts/<STORAGE_ACCOUNT>\"\n",
        "# existing_container_registry = e.g. \"/subscriptions/<SUBSCRIPTION_ID>/resourceGroups/<RESOURCE_GROUP>/providers/Microsoft.ContainerRegistry/registries/<CONTAINER_REGISTRY>\"\n",
        "# existing_key_vault = e.g. \"/subscriptions/<SUBSCRIPTION_ID>/resourceGroups/<RESOURCE_GROUP>/providers/Microsoft.KeyVault/vaults/<KEY_VAULT>\"\n",
        "# existing_application_insights = e.g. \"/subscriptions/<SUBSCRIPTION_ID>/resourceGroups/<RESOURCE_GROUP>/providers/Microsoft.insights/components/<APP_INSIGHTS>\""
      ],
      "outputs": [],
      "execution_count": null,
      "metadata": {
        "jupyter": {
          "source_hidden": false,
          "outputs_hidden": false
        },
        "nteract": {
          "transient": {
            "deleting": false
          }
        }
      }
    },
    {
      "cell_type": "code",
      "source": [
        "workspace_name = \"workspace-20\"\n",
        "\n",
        "existing_storage_account = ws_basic.storage_account\n",
        "existing_container_registry = ws_basic.container_registry\n",
        "existing_key_vault = ws_basic.key_vault\n",
        "existing_application_insights = ws_basic.application_insights\n",
        "\n",
        "ws = Workspace(\n",
        "    name=workspace_name,\n",
        "    description=\"creating the workspace using existing resources\",\n",
        "    tags=dict(purpose=\"demo\"),\n",
        "    display_name=\"workspace with existing resources\",\n",
        "    location=\"eastus\",\n",
        "    hbi_workspace=False,\n",
        "    storage_account=existing_storage_account,\n",
        "    container_registry=existing_container_registry,\n",
        "    key_vault=existing_key_vault,\n",
        "    application_insights=existing_application_insights\n",
        ")\n",
        "\n",
        "ws_with_existing_resources = ml_client.workspaces.begin_create(ws).result()\n",
        "print(ws_with_existing_resources)"
      ],
      "outputs": [
        {
          "output_type": "stream",
          "name": "stderr",
          "text": "The deployment request workspace-20-9840239 was accepted. ARM deployment URI for reference: \nhttps://portal.azure.com//#blade/HubsExtension/DeploymentDetailsBlade/overview/id/%2Fsubscriptions%2F3b57d2fe-08b1-4fe9-b535-f5c4387b9a66%2FresourceGroups%2Fazureml-sdkv2-rg%2Fproviders%2FMicrosoft.Resources%2Fdeployments%2Fworkspace-20-9840239\nCreating AzureML Workspace: (workspace-20  ) ..  Done (18s)\nTotal time : 18s\n\n"
        },
        {
          "output_type": "stream",
          "name": "stdout",
          "text": "application_insights: /subscriptions/3b57d2fe-08b1-4fe9-b535-f5c4387b9a66/resourceGroups/azureml-sdkv2-rg/providers/Microsoft.insights/components/workspacinsights50def974\ndescription: creating the workspace using existing resources\ndiscovery_url: https://eastus.api.azureml.ms/discovery\ndisplay_name: workspace with existing resources\nenable_data_isolation: false\nhbi_workspace: false\nid: /subscriptions/3b57d2fe-08b1-4fe9-b535-f5c4387b9a66/resourceGroups/azureml-sdkv2-rg/providers/Microsoft.MachineLearningServices/workspaces/workspace-20\nidentity:\n  principal_id: 8404d0e2-4e95-47f5-9ae5-c0ba9a2ab457\n  tenant_id: 843e1e65-e875-4fbd-8ddc-ce696f3a551d\n  type: system_assigned\nkey_vault: /subscriptions/3b57d2fe-08b1-4fe9-b535-f5c4387b9a66/resourceGroups/azureml-sdkv2-rg/providers/Microsoft.Keyvault/vaults/workspackeyvault603b520d\nlocation: eastus\nmanaged_network:\n  isolation_mode: disabled\n  outbound_rules: []\nmlflow_tracking_uri: azureml://eastus.api.azureml.ms/mlflow/v1.0/subscriptions/3b57d2fe-08b1-4fe9-b535-f5c4387b9a66/resourceGroups/azureml-sdkv2-rg/providers/Microsoft.MachineLearningServices/workspaces/workspace-20\nname: workspace-20\npublic_network_access: Enabled\nresource_group: azureml-sdkv2-rg\nstorage_account: /subscriptions/3b57d2fe-08b1-4fe9-b535-f5c4387b9a66/resourceGroups/azureml-sdkv2-rg/providers/Microsoft.Storage/storageAccounts/workspacstorageaec73dd19\ntags:\n  createdByToolkit: sdk-v2-1.8.0\n  purpose: demo\n\n"
        }
      ],
      "execution_count": 6,
      "metadata": {
        "jupyter": {
          "source_hidden": false,
          "outputs_hidden": false
        },
        "nteract": {
          "transient": {
            "deleting": false
          }
        },
        "gather": {
          "logged": 1712867084539
        }
      }
    },
    {
      "cell_type": "markdown",
      "source": [
        "# 3 - Finding and Loading Workspace"
      ],
      "metadata": {
        "nteract": {
          "transient": {
            "deleting": false
          }
        }
      }
    },
    {
      "cell_type": "code",
      "source": [
        "# Importing the libraries\n",
        "from azure.ai.ml import MLClient\n",
        "from azure.ai.ml.entities import Workspace\n",
        "from azure.identity import DefaultAzureCredential\n",
        "\n",
        "# Enter the details of subscription\n",
        "subscription_id = \"3b57d2fe-08b1-4fe9-b535-f5c4387b9a66\"\n",
        "resource_group = \"azureml-sdkv2-rg\"\n",
        "\n",
        "# get the handle to workspace\n",
        "ml_client = MLClient(DefaultAzureCredential(), subscription_id, resource_group)"
      ],
      "outputs": [],
      "execution_count": 7,
      "metadata": {
        "jupyter": {
          "source_hidden": false,
          "outputs_hidden": false
        },
        "nteract": {
          "transient": {
            "deleting": false
          }
        },
        "gather": {
          "logged": 1712869234360
        }
      }
    },
    {
      "cell_type": "code",
      "source": [
        "# list of workspaces in a resource group\n",
        "\n",
        "for i in ml_client.workspaces.list():\n",
        "    print(i.name, \":\", i.display_name, \":\", i.description, \":\", i.location)"
      ],
      "outputs": [
        {
          "output_type": "stream",
          "name": "stdout",
          "text": "azureml-sdkv2-ws : azureml-sdkv2-ws :  : eastus\nworkspace-10 : basic workspace : creating the workspace using python sdk v2 : eastus\nworkspace-20 : workspace with existing resources : creating the workspace using existing resources : eastus\n"
        }
      ],
      "execution_count": 8,
      "metadata": {
        "jupyter": {
          "source_hidden": false,
          "outputs_hidden": false
        },
        "nteract": {
          "transient": {
            "deleting": false
          }
        },
        "gather": {
          "logged": 1712869345021
        }
      }
    },
    {
      "cell_type": "code",
      "source": [
        "# get the details of a specific workspace with name\n",
        "\n",
        "ws = ml_client.workspaces.get(\"workspace-10\")\n",
        "print(ws.location, \":\", ws.resource_group)"
      ],
      "outputs": [
        {
          "output_type": "stream",
          "name": "stdout",
          "text": "eastus : azureml-sdkv2-rg\n"
        }
      ],
      "execution_count": 9,
      "metadata": {
        "jupyter": {
          "source_hidden": false,
          "outputs_hidden": false
        },
        "nteract": {
          "transient": {
            "deleting": false
          }
        },
        "gather": {
          "logged": 1712869460040
        }
      }
    },
    {
      "cell_type": "markdown",
      "source": [
        "# 4 - Load a specific workspace using parameters"
      ],
      "metadata": {
        "nteract": {
          "transient": {
            "deleting": false
          }
        }
      }
    },
    {
      "cell_type": "code",
      "source": [
        "# Importing the libraries\n",
        "from azure.ai.ml import MLClient\n",
        "from azure.ai.ml.entities import Workspace\n",
        "from azure.identity import DefaultAzureCredential\n",
        "\n",
        "ws = MLClient(\n",
        "    DefaultAzureCredential(),\n",
        "    subscription_id=\"3b57d2fe-08b1-4fe9-b535-f5c4387b9a66\",\n",
        "    resource_group_name=\"azureml-sdkv2-rg\",\n",
        "    workspace_name=\"azureml-sdkv2-ws\"\n",
        ")\n",
        "\n",
        "print(ws)"
      ],
      "outputs": [
        {
          "output_type": "stream",
          "name": "stdout",
          "text": "MLClient(credential=<azure.identity._credentials.default.DefaultAzureCredential object at 0x7f64639d4c70>,\n         subscription_id=3b57d2fe-08b1-4fe9-b535-f5c4387b9a66,\n         resource_group_name=azureml-sdkv2-rg,\n         workspace_name=azureml-sdkv2-ws)\n"
        }
      ],
      "execution_count": 10,
      "metadata": {
        "jupyter": {
          "source_hidden": false,
          "outputs_hidden": false
        },
        "nteract": {
          "transient": {
            "deleting": false
          }
        },
        "gather": {
          "logged": 1712869631705
        }
      }
    },
    {
      "cell_type": "markdown",
      "source": [
        "# 5 - Clean up resources"
      ],
      "metadata": {
        "nteract": {
          "transient": {
            "deleting": false
          }
        }
      }
    },
    {
      "cell_type": "code",
      "source": [
        "ml_client.workspaces.begin_delete(name=ws_basic.name, delete_dependent_resources=True)\n",
        "\n",
        "ml_client.workspaces.begin_delete(name=ws_with_existing_resources.name, delete_dependent_resources=True)"
      ],
      "outputs": [
        {
          "output_type": "stream",
          "name": "stderr",
          "text": "Delete request initiated for workspace: workspace-10\n\nDelete request initiated for workspace: workspace-20\n\n"
        },
        {
          "output_type": "execute_result",
          "execution_count": 11,
          "data": {
            "text/plain": "<azure.core.polling._poller.LROPoller at 0x7f64631b23b0>"
          },
          "metadata": {}
        }
      ],
      "execution_count": 11,
      "metadata": {
        "jupyter": {
          "source_hidden": false,
          "outputs_hidden": false
        },
        "nteract": {
          "transient": {
            "deleting": false
          }
        },
        "gather": {
          "logged": 1712869765122
        }
      }
    }
  ],
  "metadata": {
    "kernelspec": {
      "name": "python310-sdkv2",
      "language": "python",
      "display_name": "Python 3.10 - SDK v2"
    },
    "language_info": {
      "name": "python",
      "version": "3.10.11",
      "mimetype": "text/x-python",
      "codemirror_mode": {
        "name": "ipython",
        "version": 3
      },
      "pygments_lexer": "ipython3",
      "nbconvert_exporter": "python",
      "file_extension": ".py"
    },
    "microsoft": {
      "ms_spell_check": {
        "ms_spell_check_language": "en"
      }
    },
    "kernel_info": {
      "name": "python310-sdkv2"
    },
    "nteract": {
      "version": "nteract-front-end@1.0.0"
    }
  },
  "nbformat": 4,
  "nbformat_minor": 2
}