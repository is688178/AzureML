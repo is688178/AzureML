{
 "cells": [
  {
   "cell_type": "markdown",
   "source": [
    "# 1 - Connect to Azure Machine Learning Workspace"
   ],
   "metadata": {
    "nteract": {
     "transient": {
      "deleting": false
     }
    }
   }
  },
  {
   "cell_type": "code",
   "source": [
    "# Import required libraries\n",
    "\n",
    "from azure.ai.ml import MLClient\n",
    "from azure.identity import DefaultAzureCredential"
   ],
   "outputs": [],
   "execution_count": 1,
   "metadata": {
    "nteract": {
     "transient": {
      "deleting": false
     }
    },
    "gather": {
     "logged": 1712873189210
    }
   }
  },
  {
   "cell_type": "code",
   "source": [
    "# Enter details of your AML workspace\n",
    "\n",
    "subscription_id='your_subscription_id'\n",
    "resource_group='you_resource_group'\n",
    "workspace = \"azureml-sdkv2-ws\""
   ],
   "outputs": [],
   "execution_count": 2,
   "metadata": {
    "nteract": {
     "transient": {
      "deleting": false
     }
    },
    "gather": {
     "logged": 1712873191321
    }
   }
  },
  {
   "cell_type": "code",
   "source": [
    "# get a handle to the workspace\n",
    "\n",
    "ml_client = MLClient(DefaultAzureCredential(), subscription_id, resource_group, workspace)\n",
    "print(ml_client)"
   ],
   "outputs": [
    {
     "output_type": "stream",
     "name": "stdout",
     "text": "MLClient(credential=<azure.identity._credentials.default.DefaultAzureCredential object at 0x7f0768f722c0>,\n         subscription_id=3b57d2fe-08b1-4fe9-b535-f5c4387b9a66,\n         resource_group_name=azureml-sdkv2-rg,\n         workspace_name=azureml-sdkv2-ws)\n"
    }
   ],
   "execution_count": 3,
   "metadata": {
    "nteract": {
     "transient": {
      "deleting": false
     }
    },
    "gather": {
     "logged": 1712873194575
    }
   }
  },
  {
   "cell_type": "markdown",
   "source": [
    "# 2 - Create Compute Instance"
   ],
   "metadata": {
    "nteract": {
     "transient": {
      "deleting": false
     }
    }
   }
  },
  {
   "cell_type": "code",
   "source": [
    "from azure.ai.ml.entities import ComputeInstance, AmlCompute"
   ],
   "outputs": [],
   "execution_count": 4,
   "metadata": {
    "nteract": {
     "transient": {
      "deleting": false
     }
    },
    "gather": {
     "logged": 1712873321297
    }
   }
  },
  {
   "cell_type": "code",
   "source": [
    "ci_name = \"compute-instanceXXXX\"\n",
    "ci_basic = ComputeInstance(name=ci_name, size=\"Standard_DS3_v2\", idle_time_before_shutdown_minutes=60)\n",
    "ml_client.begin_create_or_update(ci_basic).result()"
   ],
   "outputs": [
    {
     "output_type": "execute_result",
     "execution_count": 5,
     "data": {
      "text/plain": "ComputeInstance({'state': 'Running', 'last_operation': {'operation_name': 'Create', 'operation_time': '2024-04-11T22:13:20.071Z', 'operation_status': 'Succeeded', 'operation_trigger': 'User'}, 'os_image_metadata': <azure.ai.ml.entities._compute._image_metadata.ImageMetadata object at 0x7f075d11f2e0>, 'services': [{'display_name': 'Jupyter', 'endpoint_uri': 'https://compute-instance15794.eastus.instances.azureml.ms/tree/'}, {'display_name': 'Jupyter Lab', 'endpoint_uri': 'https://compute-instance15794.eastus.instances.azureml.ms/lab'}], 'type': 'computeinstance', 'created_on': None, 'provisioning_state': 'Succeeded', 'provisioning_errors': None, 'name': 'compute-instance15794', 'description': None, 'tags': None, 'properties': {}, 'print_as_yaml': True, 'id': '/subscriptions/3b57d2fe-08b1-4fe9-b535-f5c4387b9a66/resourceGroups/azureml-sdkv2-rg/providers/Microsoft.MachineLearningServices/workspaces/azureml-sdkv2-ws/computes/compute-instance15794', 'Resource__source_path': None, 'base_path': '/mnt/batch/tasks/shared/LS_root/mounts/clusters/aml-compute01/code/Users/vijaygadhave199', 'creation_context': None, 'serialize': <msrest.serialization.Serializer object at 0x7f075d11f010>, 'resource_id': None, 'location': 'eastus', 'size': 'Standard_DS3_v2', 'ssh_public_access_enabled': False, 'create_on_behalf_of': None, 'network_settings': <azure.ai.ml.entities._compute.compute.NetworkSettings object at 0x7f075d11f7f0>, 'ssh_settings': <azure.ai.ml.entities._compute.compute_instance.ComputeInstanceSshSettings object at 0x7f075d11f340>, 'schedules': None, 'identity': None, 'idle_time_before_shutdown': 'PT60M', 'idle_time_before_shutdown_minutes': 60, 'setup_scripts': None, 'enable_node_public_ip': True, 'custom_applications': None, 'subnet': None})"
     },
     "metadata": {}
    }
   ],
   "execution_count": 5,
   "metadata": {
    "nteract": {
     "transient": {
      "deleting": false
     }
    },
    "gather": {
     "logged": 1712873714017
    }
   }
  },
  {
   "cell_type": "markdown",
   "source": [
    "# 3 - Interact with a Compute Instance"
   ],
   "metadata": {
    "nteract": {
     "transient": {
      "deleting": false
     }
    }
   }
  },
  {
   "cell_type": "code",
   "source": [
    "from azure.ai.ml.entities import ComputeInstance, AmlCompute"
   ],
   "outputs": [],
   "execution_count": 6,
   "metadata": {
    "nteract": {
     "transient": {
      "deleting": false
     }
    },
    "gather": {
     "logged": 1712873972451
    }
   }
  },
  {
   "cell_type": "code",
   "source": [
    "# get compute instance\n",
    "ci_state = ml_client.compute.get(ci_name)\n",
    "print(ci_state)"
   ],
   "outputs": [
    {
     "output_type": "stream",
     "name": "stdout",
     "text": "enable_node_public_ip: true\nid: /subscriptions/3b57d2fe-08b1-4fe9-b535-f5c4387b9a66/resourceGroups/azureml-sdkv2-rg/providers/Microsoft.MachineLearningServices/workspaces/azureml-sdkv2-ws/computes/compute-instance15794\nidle_time_before_shutdown: PT60M\nidle_time_before_shutdown_minutes: 60\nlast_operation:\n  operation_name: Create\n  operation_status: Succeeded\n  operation_time: '2024-04-11T22:13:20.071Z'\n  operation_trigger: User\nlocation: eastus\nname: compute-instance15794\nnetwork_settings:\n  private_ip_address: 10.0.0.4\n  public_ip_address: 172.190.195.200\nos_image_metadata:\n  current_image_version: 24.01.30\n  is_latest_os_image_version: true\n  latest_image_version: 24.01.30\nprovisioning_state: Succeeded\nservices:\n- display_name: Jupyter\n  endpoint_uri: https://compute-instance15794.eastus.instances.azureml.ms/tree/\n- display_name: Jupyter Lab\n  endpoint_uri: https://compute-instance15794.eastus.instances.azureml.ms/lab\nsize: Standard_DS3_v2\nssh_public_access_enabled: false\nssh_settings:\n  admin_username: azureuser\n  ssh_port: '50000'\nstate: Running\ntype: computeinstance\n\n"
    }
   ],
   "execution_count": 7,
   "metadata": {
    "nteract": {
     "transient": {
      "deleting": false
     }
    },
    "gather": {
     "logged": 1712874023263
    }
   }
  },
  {
   "cell_type": "code",
   "source": [
    "# Stop compute instance\n",
    "\n",
    "ml_client.compute.begin_stop(ci_name).wait()"
   ],
   "outputs": [],
   "execution_count": null,
   "metadata": {
    "nteract": {
     "transient": {
      "deleting": false
     }
    }
   }
  },
  {
   "cell_type": "code",
   "source": [
    "# Start compute instance\n",
    "\n",
    "ml_client.compute.begin_start(ci_name).wait()"
   ],
   "outputs": [],
   "execution_count": null,
   "metadata": {
    "nteract": {
     "transient": {
      "deleting": false
     }
    }
   }
  },
  {
   "cell_type": "code",
   "source": [
    "# Restart compute instance\n",
    "\n",
    "ml_client.compute.begin_restart(ci_name).wait()"
   ],
   "outputs": [],
   "execution_count": null,
   "metadata": {
    "nteract": {
     "transient": {
      "deleting": false
     }
    }
   }
  },
  {
   "cell_type": "code",
   "source": [
    "# delete compute instance\n",
    "\n",
    "ml_client.compute.begin_delete(ci_name).wait()"
   ],
   "outputs": [],
   "execution_count": 8,
   "metadata": {
    "nteract": {
     "transient": {
      "deleting": false
     }
    },
    "gather": {
     "logged": 1712874355254
    }
   }
  }
 ],
 "metadata": {
  "kernelspec": {
   "name": "python310-sdkv2",
   "language": "python",
   "display_name": "Python 3.10 - SDK v2"
  },
  "language_info": {
   "name": "python",
   "version": "3.10.11",
   "mimetype": "text/x-python",
   "codemirror_mode": {
    "name": "ipython",
    "version": 3
   },
   "pygments_lexer": "ipython3",
   "nbconvert_exporter": "python",
   "file_extension": ".py"
  },
  "microsoft": {
   "ms_spell_check": {
    "ms_spell_check_language": "en"
   }
  },
  "kernel_info": {
   "name": "python310-sdkv2"
  },
  "nteract": {
   "version": "nteract-front-end@1.0.0"
  }
 },
 "nbformat": 4,
 "nbformat_minor": 2
}
