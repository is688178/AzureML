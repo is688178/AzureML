{
  "cells": [
    {
      "cell_type": "markdown",
      "source": [
        "# 1 - Business Problem"
      ],
      "metadata": {
        "nteract": {
          "transient": {
            "deleting": false
          }
        }
      }
    },
    {
      "cell_type": "markdown",
      "source": [
        "- We will consider the [Heart Disease Data Set](https://archive.ics.uci.edu/ml/datasets/heart+disease)\n",
        "- In this example we will concentrate on attempting to distinguish presence (values 1,2,3,4) from absence (value 0)"
      ],
      "metadata": {
        "nteract": {
          "transient": {
            "deleting": false
          }
        }
      }
    },
    {
      "cell_type": "markdown",
      "source": [
        "# 2 - Importing required libraries"
      ],
      "metadata": {
        "nteract": {
          "transient": {
            "deleting": false
          }
        }
      }
    },
    {
      "cell_type": "code",
      "source": [
        "pip install xgboost"
      ],
      "outputs": [
        {
          "output_type": "stream",
          "name": "stdout",
          "text": "Collecting xgboost\n  Downloading xgboost-2.0.3-py3-none-manylinux2014_x86_64.whl (297.1 MB)\n\u001b[2K     \u001b[90m━━━━━━━━━━━━━━━━━━━━━━━━━━━━━━━━━━━━━━━\u001b[0m \u001b[32m297.1/297.1 MB\u001b[0m \u001b[31m4.4 MB/s\u001b[0m eta \u001b[36m0:00:00\u001b[0m00:01\u001b[0m00:01\u001b[0m\n\u001b[?25hRequirement already satisfied: numpy in /anaconda/envs/azureml_py310_sdkv2/lib/python3.10/site-packages (from xgboost) (1.25.0)\nRequirement already satisfied: scipy in /anaconda/envs/azureml_py310_sdkv2/lib/python3.10/site-packages (from xgboost) (1.10.1)\nInstalling collected packages: xgboost\nSuccessfully installed xgboost-2.0.3\nNote: you may need to restart the kernel to use updated packages.\n"
        }
      ],
      "execution_count": 1,
      "metadata": {
        "gather": {
          "logged": 1716667331766
        }
      }
    },
    {
      "cell_type": "code",
      "source": [
        "pip show xgboost"
      ],
      "outputs": [
        {
          "output_type": "stream",
          "name": "stdout",
          "text": "Name: xgboost\r\nVersion: 2.0.3\r\nSummary: XGBoost Python Package\r\nHome-page: \r\nAuthor: \r\nAuthor-email: Hyunsu Cho <chohyu01@cs.washington.edu>, Jiaming Yuan <jm.yuan@outlook.com>\r\nLicense: Apache-2.0\r\nLocation: /anaconda/envs/azureml_py310_sdkv2/lib/python3.10/site-packages\r\nRequires: numpy, scipy\r\nRequired-by: \r\nNote: you may need to restart the kernel to use updated packages.\n"
        }
      ],
      "execution_count": 2,
      "metadata": {
        "jupyter": {
          "source_hidden": false,
          "outputs_hidden": false
        },
        "nteract": {
          "transient": {
            "deleting": false
          }
        },
        "gather": {
          "logged": 1716667333372
        }
      }
    },
    {
      "cell_type": "code",
      "source": [
        "pip install --upgrade xgboost"
      ],
      "outputs": [
        {
          "output_type": "stream",
          "name": "stdout",
          "text": "Requirement already satisfied: xgboost in /anaconda/envs/azureml_py310_sdkv2/lib/python3.10/site-packages (2.0.3)\nRequirement already satisfied: numpy in /anaconda/envs/azureml_py310_sdkv2/lib/python3.10/site-packages (from xgboost) (1.25.0)\nRequirement already satisfied: scipy in /anaconda/envs/azureml_py310_sdkv2/lib/python3.10/site-packages (from xgboost) (1.10.1)\nNote: you may need to restart the kernel to use updated packages.\n"
        }
      ],
      "execution_count": 3,
      "metadata": {
        "jupyter": {
          "source_hidden": false,
          "outputs_hidden": false
        },
        "nteract": {
          "transient": {
            "deleting": false
          }
        },
        "gather": {
          "logged": 1716667335357
        }
      }
    },
    {
      "cell_type": "code",
      "source": [
        "pip show xgboost"
      ],
      "outputs": [
        {
          "output_type": "stream",
          "name": "stdout",
          "text": "Name: xgboost\r\nVersion: 2.0.3\r\nSummary: XGBoost Python Package\r\nHome-page: \r\nAuthor: \r\nAuthor-email: Hyunsu Cho <chohyu01@cs.washington.edu>, Jiaming Yuan <jm.yuan@outlook.com>\r\nLicense: Apache-2.0\r\nLocation: /anaconda/envs/azureml_py310_sdkv2/lib/python3.10/site-packages\r\nRequires: numpy, scipy\r\nRequired-by: \r\nNote: you may need to restart the kernel to use updated packages.\n"
        }
      ],
      "execution_count": 4,
      "metadata": {
        "jupyter": {
          "source_hidden": false,
          "outputs_hidden": false
        },
        "nteract": {
          "transient": {
            "deleting": false
          }
        },
        "gather": {
          "logged": 1716667337160
        }
      }
    },
    {
      "cell_type": "code",
      "source": [
        "pip install mlflow"
      ],
      "outputs": [
        {
          "output_type": "stream",
          "name": "stdout",
          "text": "Requirement already satisfied: mlflow in /anaconda/envs/azureml_py310_sdkv2/lib/python3.10/site-packages (2.4.1)\nRequirement already satisfied: click<9,>=7.0 in /anaconda/envs/azureml_py310_sdkv2/lib/python3.10/site-packages (from mlflow) (8.0.4)\nRequirement already satisfied: cloudpickle<3 in /anaconda/envs/azureml_py310_sdkv2/lib/python3.10/site-packages (from mlflow) (2.2.1)\nRequirement already satisfied: databricks-cli<1,>=0.8.7 in /anaconda/envs/azureml_py310_sdkv2/lib/python3.10/site-packages (from mlflow) (0.17.7)\nRequirement already satisfied: entrypoints<1 in /anaconda/envs/azureml_py310_sdkv2/lib/python3.10/site-packages (from mlflow) (0.4)\nRequirement already satisfied: gitpython<4,>=2.1.0 in /anaconda/envs/azureml_py310_sdkv2/lib/python3.10/site-packages (from mlflow) (3.1.31)\nRequirement already satisfied: pyyaml<7,>=5.1 in /anaconda/envs/azureml_py310_sdkv2/lib/python3.10/site-packages (from mlflow) (6.0)\nRequirement already satisfied: protobuf<5,>=3.12.0 in /anaconda/envs/azureml_py310_sdkv2/lib/python3.10/site-packages (from mlflow) (3.20.3)\nRequirement already satisfied: pytz<2024 in /anaconda/envs/azureml_py310_sdkv2/lib/python3.10/site-packages (from mlflow) (2023.3)\nRequirement already satisfied: requests<3,>=2.17.3 in /anaconda/envs/azureml_py310_sdkv2/lib/python3.10/site-packages (from mlflow) (2.31.0)\nRequirement already satisfied: packaging<24 in /anaconda/envs/azureml_py310_sdkv2/lib/python3.10/site-packages (from mlflow) (23.0)\nRequirement already satisfied: importlib-metadata!=4.7.0,<7,>=3.7.0 in /anaconda/envs/azureml_py310_sdkv2/lib/python3.10/site-packages (from mlflow) (6.7.0)\nRequirement already satisfied: sqlparse<1,>=0.4.0 in /anaconda/envs/azureml_py310_sdkv2/lib/python3.10/site-packages (from mlflow) (0.4.4)\nRequirement already satisfied: alembic!=1.10.0,<2 in /anaconda/envs/azureml_py310_sdkv2/lib/python3.10/site-packages (from mlflow) (1.11.1)\nRequirement already satisfied: docker<7,>=4.0.0 in /anaconda/envs/azureml_py310_sdkv2/lib/python3.10/site-packages (from mlflow) (6.1.3)\nRequirement already satisfied: Flask<3 in /anaconda/envs/azureml_py310_sdkv2/lib/python3.10/site-packages (from mlflow) (2.3.2)\nRequirement already satisfied: numpy<2 in /anaconda/envs/azureml_py310_sdkv2/lib/python3.10/site-packages (from mlflow) (1.25.0)\nRequirement already satisfied: scipy<2 in /anaconda/envs/azureml_py310_sdkv2/lib/python3.10/site-packages (from mlflow) (1.10.1)\nRequirement already satisfied: pandas<3 in /anaconda/envs/azureml_py310_sdkv2/lib/python3.10/site-packages (from mlflow) (2.0.2)\nRequirement already satisfied: querystring-parser<2 in /anaconda/envs/azureml_py310_sdkv2/lib/python3.10/site-packages (from mlflow) (1.2.4)\nRequirement already satisfied: sqlalchemy<3,>=1.4.0 in /anaconda/envs/azureml_py310_sdkv2/lib/python3.10/site-packages (from mlflow) (2.0.16)\nRequirement already satisfied: scikit-learn<2 in /anaconda/envs/azureml_py310_sdkv2/lib/python3.10/site-packages (from mlflow) (1.2.2)\nRequirement already satisfied: pyarrow<13,>=4.0.0 in /anaconda/envs/azureml_py310_sdkv2/lib/python3.10/site-packages (from mlflow) (12.0.1)\nRequirement already satisfied: markdown<4,>=3.3 in /anaconda/envs/azureml_py310_sdkv2/lib/python3.10/site-packages (from mlflow) (3.4.3)\nRequirement already satisfied: matplotlib<4 in /anaconda/envs/azureml_py310_sdkv2/lib/python3.10/site-packages (from mlflow) (3.7.1)\nRequirement already satisfied: gunicorn<21 in /anaconda/envs/azureml_py310_sdkv2/lib/python3.10/site-packages (from mlflow) (20.1.0)\nRequirement already satisfied: Jinja2<4,>=2.11 in /anaconda/envs/azureml_py310_sdkv2/lib/python3.10/site-packages (from mlflow) (3.1.2)\nRequirement already satisfied: Mako in /anaconda/envs/azureml_py310_sdkv2/lib/python3.10/site-packages (from alembic!=1.10.0,<2->mlflow) (1.2.4)\nRequirement already satisfied: typing-extensions>=4 in /anaconda/envs/azureml_py310_sdkv2/lib/python3.10/site-packages (from alembic!=1.10.0,<2->mlflow) (4.6.3)\nRequirement already satisfied: pyjwt>=1.7.0 in /anaconda/envs/azureml_py310_sdkv2/lib/python3.10/site-packages (from databricks-cli<1,>=0.8.7->mlflow) (2.7.0)\nRequirement already satisfied: oauthlib>=3.1.0 in /anaconda/envs/azureml_py310_sdkv2/lib/python3.10/site-packages (from databricks-cli<1,>=0.8.7->mlflow) (3.2.2)\nRequirement already satisfied: tabulate>=0.7.7 in /anaconda/envs/azureml_py310_sdkv2/lib/python3.10/site-packages (from databricks-cli<1,>=0.8.7->mlflow) (0.9.0)\nRequirement already satisfied: six>=1.10.0 in /anaconda/envs/azureml_py310_sdkv2/lib/python3.10/site-packages (from databricks-cli<1,>=0.8.7->mlflow) (1.16.0)\nRequirement already satisfied: urllib3<2.0.0,>=1.26.7 in /anaconda/envs/azureml_py310_sdkv2/lib/python3.10/site-packages (from databricks-cli<1,>=0.8.7->mlflow) (1.26.16)\nRequirement already satisfied: websocket-client>=0.32.0 in /anaconda/envs/azureml_py310_sdkv2/lib/python3.10/site-packages (from docker<7,>=4.0.0->mlflow) (1.6.0)\nRequirement already satisfied: Werkzeug>=2.3.3 in /anaconda/envs/azureml_py310_sdkv2/lib/python3.10/site-packages (from Flask<3->mlflow) (2.3.6)\nRequirement already satisfied: itsdangerous>=2.1.2 in /anaconda/envs/azureml_py310_sdkv2/lib/python3.10/site-packages (from Flask<3->mlflow) (2.1.2)\nCollecting click<9,>=7.0 (from mlflow)\n  Downloading click-8.1.7-py3-none-any.whl (97 kB)\n\u001b[2K     \u001b[90m━━━━━━━━━━━━━━━━━━━━━━━━━━━━━━━━━━━━━━━━\u001b[0m \u001b[32m97.9/97.9 kB\u001b[0m \u001b[31m3.7 MB/s\u001b[0m eta \u001b[36m0:00:00\u001b[0m\n\u001b[?25hRequirement already satisfied: blinker>=1.6.2 in /anaconda/envs/azureml_py310_sdkv2/lib/python3.10/site-packages (from Flask<3->mlflow) (1.6.2)\nRequirement already satisfied: gitdb<5,>=4.0.1 in /anaconda/envs/azureml_py310_sdkv2/lib/python3.10/site-packages (from gitpython<4,>=2.1.0->mlflow) (4.0.10)\nRequirement already satisfied: setuptools>=3.0 in /anaconda/envs/azureml_py310_sdkv2/lib/python3.10/site-packages (from gunicorn<21->mlflow) (67.8.0)\nRequirement already satisfied: zipp>=0.5 in /anaconda/envs/azureml_py310_sdkv2/lib/python3.10/site-packages (from importlib-metadata!=4.7.0,<7,>=3.7.0->mlflow) (3.15.0)\nRequirement already satisfied: MarkupSafe>=2.0 in /anaconda/envs/azureml_py310_sdkv2/lib/python3.10/site-packages (from Jinja2<4,>=2.11->mlflow) (2.1.3)\nRequirement already satisfied: contourpy>=1.0.1 in /anaconda/envs/azureml_py310_sdkv2/lib/python3.10/site-packages (from matplotlib<4->mlflow) (1.1.0)\nRequirement already satisfied: cycler>=0.10 in /anaconda/envs/azureml_py310_sdkv2/lib/python3.10/site-packages (from matplotlib<4->mlflow) (0.11.0)\nRequirement already satisfied: fonttools>=4.22.0 in /anaconda/envs/azureml_py310_sdkv2/lib/python3.10/site-packages (from matplotlib<4->mlflow) (4.40.0)\nRequirement already satisfied: kiwisolver>=1.0.1 in /anaconda/envs/azureml_py310_sdkv2/lib/python3.10/site-packages (from matplotlib<4->mlflow) (1.4.4)\nRequirement already satisfied: pillow>=6.2.0 in /anaconda/envs/azureml_py310_sdkv2/lib/python3.10/site-packages (from matplotlib<4->mlflow) (9.5.0)\nRequirement already satisfied: pyparsing>=2.3.1 in /anaconda/envs/azureml_py310_sdkv2/lib/python3.10/site-packages (from matplotlib<4->mlflow) (3.1.0)\nRequirement already satisfied: python-dateutil>=2.7 in /anaconda/envs/azureml_py310_sdkv2/lib/python3.10/site-packages (from matplotlib<4->mlflow) (2.8.2)\nRequirement already satisfied: tzdata>=2022.1 in /anaconda/envs/azureml_py310_sdkv2/lib/python3.10/site-packages (from pandas<3->mlflow) (2023.3)\nRequirement already satisfied: charset-normalizer<4,>=2 in /anaconda/envs/azureml_py310_sdkv2/lib/python3.10/site-packages (from requests<3,>=2.17.3->mlflow) (3.1.0)\nRequirement already satisfied: idna<4,>=2.5 in /anaconda/envs/azureml_py310_sdkv2/lib/python3.10/site-packages (from requests<3,>=2.17.3->mlflow) (3.4)\nRequirement already satisfied: certifi>=2017.4.17 in /anaconda/envs/azureml_py310_sdkv2/lib/python3.10/site-packages (from requests<3,>=2.17.3->mlflow) (2023.5.7)\nRequirement already satisfied: joblib>=1.1.1 in /anaconda/envs/azureml_py310_sdkv2/lib/python3.10/site-packages (from scikit-learn<2->mlflow) (1.2.0)\nRequirement already satisfied: threadpoolctl>=2.0.0 in /anaconda/envs/azureml_py310_sdkv2/lib/python3.10/site-packages (from scikit-learn<2->mlflow) (3.1.0)\nRequirement already satisfied: greenlet!=0.4.17 in /anaconda/envs/azureml_py310_sdkv2/lib/python3.10/site-packages (from sqlalchemy<3,>=1.4.0->mlflow) (2.0.2)\nRequirement already satisfied: smmap<6,>=3.0.1 in /anaconda/envs/azureml_py310_sdkv2/lib/python3.10/site-packages (from gitdb<5,>=4.0.1->gitpython<4,>=2.1.0->mlflow) (5.0.0)\nInstalling collected packages: click\n  Attempting uninstall: click\n    Found existing installation: click 8.0.4\n    Uninstalling click-8.0.4:\n      Successfully uninstalled click-8.0.4\n\u001b[31mERROR: pip's dependency resolver does not currently take into account all the packages that are installed. This behaviour is the source of the following dependency conflicts.\nray 2.0.0 requires click<=8.0.4,>=7.0, but you have click 8.1.7 which is incompatible.\u001b[0m\u001b[31m\n\u001b[0mSuccessfully installed click-8.1.7\nNote: you may need to restart the kernel to use updated packages.\n"
        }
      ],
      "execution_count": 5,
      "metadata": {
        "jupyter": {
          "source_hidden": false,
          "outputs_hidden": false
        },
        "nteract": {
          "transient": {
            "deleting": false
          }
        },
        "gather": {
          "logged": 1716667339706
        }
      }
    },
    {
      "cell_type": "code",
      "source": [
        "pip show mlflow"
      ],
      "outputs": [
        {
          "output_type": "stream",
          "name": "stdout",
          "text": "Name: mlflow\r\nVersion: 2.4.1\r\nSummary: MLflow: A Platform for ML Development and Productionization\r\nHome-page: https://mlflow.org/\r\nAuthor: Databricks\r\nAuthor-email: \r\nLicense: Apache License 2.0\r\nLocation: /anaconda/envs/azureml_py310_sdkv2/lib/python3.10/site-packages\r\nRequires: alembic, click, cloudpickle, databricks-cli, docker, entrypoints, Flask, gitpython, gunicorn, importlib-metadata, Jinja2, markdown, matplotlib, numpy, packaging, pandas, protobuf, pyarrow, pytz, pyyaml, querystring-parser, requests, scikit-learn, scipy, sqlalchemy, sqlparse\r\nRequired-by: \r\nNote: you may need to restart the kernel to use updated packages.\n"
        }
      ],
      "execution_count": 6,
      "metadata": {
        "jupyter": {
          "source_hidden": false,
          "outputs_hidden": false
        },
        "nteract": {
          "transient": {
            "deleting": false
          }
        },
        "gather": {
          "logged": 1716667341325
        }
      }
    },
    {
      "cell_type": "code",
      "source": [
        "pip install --upgrade mlflow"
      ],
      "outputs": [
        {
          "output_type": "stream",
          "name": "stdout",
          "text": "Requirement already satisfied: mlflow in /anaconda/envs/azureml_py310_sdkv2/lib/python3.10/site-packages (2.4.1)\nCollecting mlflow\n  Downloading mlflow-2.13.0-py3-none-any.whl (25.0 MB)\n\u001b[2K     \u001b[90m━━━━━━━━━━━━━━━━━━━━━━━━━━━━━━━━━━━━━━━━\u001b[0m \u001b[32m25.0/25.0 MB\u001b[0m \u001b[31m64.0 MB/s\u001b[0m eta \u001b[36m0:00:00\u001b[0m00:01\u001b[0m00:01\u001b[0m\n\u001b[?25hRequirement already satisfied: Flask<4 in /anaconda/envs/azureml_py310_sdkv2/lib/python3.10/site-packages (from mlflow) (2.3.2)\nRequirement already satisfied: alembic!=1.10.0,<2 in /anaconda/envs/azureml_py310_sdkv2/lib/python3.10/site-packages (from mlflow) (1.11.1)\nRequirement already satisfied: cachetools<6,>=5.0.0 in /anaconda/envs/azureml_py310_sdkv2/lib/python3.10/site-packages (from mlflow) (5.3.1)\nRequirement already satisfied: click<9,>=7.0 in /anaconda/envs/azureml_py310_sdkv2/lib/python3.10/site-packages (from mlflow) (8.1.7)\nRequirement already satisfied: cloudpickle<4 in /anaconda/envs/azureml_py310_sdkv2/lib/python3.10/site-packages (from mlflow) (2.2.1)\nRequirement already satisfied: docker<8,>=4.0.0 in /anaconda/envs/azureml_py310_sdkv2/lib/python3.10/site-packages (from mlflow) (6.1.3)\nRequirement already satisfied: entrypoints<1 in /anaconda/envs/azureml_py310_sdkv2/lib/python3.10/site-packages (from mlflow) (0.4)\nRequirement already satisfied: gitpython<4,>=3.1.9 in /anaconda/envs/azureml_py310_sdkv2/lib/python3.10/site-packages (from mlflow) (3.1.31)\nCollecting graphene<4 (from mlflow)\n  Downloading graphene-3.3-py2.py3-none-any.whl (128 kB)\n\u001b[2K     \u001b[90m━━━━━━━━━━━━━━━━━━━━━━━━━━━━━━━━━━━━━━\u001b[0m \u001b[32m128.2/128.2 kB\u001b[0m \u001b[31m13.8 MB/s\u001b[0m eta \u001b[36m0:00:00\u001b[0m\n\u001b[?25hRequirement already satisfied: importlib-metadata!=4.7.0,<8,>=3.7.0 in /anaconda/envs/azureml_py310_sdkv2/lib/python3.10/site-packages (from mlflow) (6.7.0)\nRequirement already satisfied: markdown<4,>=3.3 in /anaconda/envs/azureml_py310_sdkv2/lib/python3.10/site-packages (from mlflow) (3.4.3)\nRequirement already satisfied: matplotlib<4 in /anaconda/envs/azureml_py310_sdkv2/lib/python3.10/site-packages (from mlflow) (3.7.1)\nRequirement already satisfied: numpy<2 in /anaconda/envs/azureml_py310_sdkv2/lib/python3.10/site-packages (from mlflow) (1.25.0)\nCollecting opentelemetry-api<3,>=1.0.0 (from mlflow)\n  Downloading opentelemetry_api-1.24.0-py3-none-any.whl (60 kB)\n\u001b[2K     \u001b[90m━━━━━━━━━━━━━━━━━━━━━━━━━━━━━━━━━━━━━━━━\u001b[0m \u001b[32m60.1/60.1 kB\u001b[0m \u001b[31m7.9 MB/s\u001b[0m eta \u001b[36m0:00:00\u001b[0m\n\u001b[?25hCollecting opentelemetry-sdk<3,>=1.0.0 (from mlflow)\n  Downloading opentelemetry_sdk-1.24.0-py3-none-any.whl (106 kB)\n\u001b[2K     \u001b[90m━━━━━━━━━━━━━━━━━━━━━━━━━━━━━━━━━━━━━━\u001b[0m \u001b[32m106.1/106.1 kB\u001b[0m \u001b[31m13.8 MB/s\u001b[0m eta \u001b[36m0:00:00\u001b[0m\n\u001b[?25hRequirement already satisfied: packaging<25 in /anaconda/envs/azureml_py310_sdkv2/lib/python3.10/site-packages (from mlflow) (23.0)\nRequirement already satisfied: pandas<3 in /anaconda/envs/azureml_py310_sdkv2/lib/python3.10/site-packages (from mlflow) (2.0.2)\nRequirement already satisfied: protobuf<5,>=3.12.0 in /anaconda/envs/azureml_py310_sdkv2/lib/python3.10/site-packages (from mlflow) (3.20.3)\nRequirement already satisfied: pyarrow<16,>=4.0.0 in /anaconda/envs/azureml_py310_sdkv2/lib/python3.10/site-packages (from mlflow) (12.0.1)\nRequirement already satisfied: pytz<2025 in /anaconda/envs/azureml_py310_sdkv2/lib/python3.10/site-packages (from mlflow) (2023.3)\nRequirement already satisfied: pyyaml<7,>=5.1 in /anaconda/envs/azureml_py310_sdkv2/lib/python3.10/site-packages (from mlflow) (6.0)\nRequirement already satisfied: querystring-parser<2 in /anaconda/envs/azureml_py310_sdkv2/lib/python3.10/site-packages (from mlflow) (1.2.4)\nRequirement already satisfied: requests<3,>=2.17.3 in /anaconda/envs/azureml_py310_sdkv2/lib/python3.10/site-packages (from mlflow) (2.31.0)\nRequirement already satisfied: scikit-learn<2 in /anaconda/envs/azureml_py310_sdkv2/lib/python3.10/site-packages (from mlflow) (1.2.2)\nRequirement already satisfied: scipy<2 in /anaconda/envs/azureml_py310_sdkv2/lib/python3.10/site-packages (from mlflow) (1.10.1)\nRequirement already satisfied: sqlalchemy<3,>=1.4.0 in /anaconda/envs/azureml_py310_sdkv2/lib/python3.10/site-packages (from mlflow) (2.0.16)\nRequirement already satisfied: sqlparse<1,>=0.4.0 in /anaconda/envs/azureml_py310_sdkv2/lib/python3.10/site-packages (from mlflow) (0.4.4)\nRequirement already satisfied: Jinja2<4,>=2.11 in /anaconda/envs/azureml_py310_sdkv2/lib/python3.10/site-packages (from mlflow) (3.1.2)\nRequirement already satisfied: gunicorn<23 in /anaconda/envs/azureml_py310_sdkv2/lib/python3.10/site-packages (from mlflow) (20.1.0)\nRequirement already satisfied: Mako in /anaconda/envs/azureml_py310_sdkv2/lib/python3.10/site-packages (from alembic!=1.10.0,<2->mlflow) (1.2.4)\nRequirement already satisfied: typing-extensions>=4 in /anaconda/envs/azureml_py310_sdkv2/lib/python3.10/site-packages (from alembic!=1.10.0,<2->mlflow) (4.6.3)\nRequirement already satisfied: urllib3>=1.26.0 in /anaconda/envs/azureml_py310_sdkv2/lib/python3.10/site-packages (from docker<8,>=4.0.0->mlflow) (1.26.16)\nRequirement already satisfied: websocket-client>=0.32.0 in /anaconda/envs/azureml_py310_sdkv2/lib/python3.10/site-packages (from docker<8,>=4.0.0->mlflow) (1.6.0)\nRequirement already satisfied: Werkzeug>=2.3.3 in /anaconda/envs/azureml_py310_sdkv2/lib/python3.10/site-packages (from Flask<4->mlflow) (2.3.6)\nRequirement already satisfied: itsdangerous>=2.1.2 in /anaconda/envs/azureml_py310_sdkv2/lib/python3.10/site-packages (from Flask<4->mlflow) (2.1.2)\nRequirement already satisfied: blinker>=1.6.2 in /anaconda/envs/azureml_py310_sdkv2/lib/python3.10/site-packages (from Flask<4->mlflow) (1.6.2)\nRequirement already satisfied: gitdb<5,>=4.0.1 in /anaconda/envs/azureml_py310_sdkv2/lib/python3.10/site-packages (from gitpython<4,>=3.1.9->mlflow) (4.0.10)\nCollecting graphql-core<3.3,>=3.1 (from graphene<4->mlflow)\n  Downloading graphql_core-3.2.3-py3-none-any.whl (202 kB)\n\u001b[2K     \u001b[90m━━━━━━━━━━━━━━━━━━━━━━━━━━━━━━━━━━━━━━\u001b[0m \u001b[32m202.9/202.9 kB\u001b[0m \u001b[31m21.1 MB/s\u001b[0m eta \u001b[36m0:00:00\u001b[0m\n\u001b[?25hCollecting graphql-relay<3.3,>=3.1 (from graphene<4->mlflow)\n  Downloading graphql_relay-3.2.0-py3-none-any.whl (16 kB)\nCollecting aniso8601<10,>=8 (from graphene<4->mlflow)\n  Downloading aniso8601-9.0.1-py2.py3-none-any.whl (52 kB)\n\u001b[2K     \u001b[90m━━━━━━━━━━━━━━━━━━━━━━━━━━━━━━━━━━━━━━━━\u001b[0m \u001b[32m52.8/52.8 kB\u001b[0m \u001b[31m6.5 MB/s\u001b[0m eta \u001b[36m0:00:00\u001b[0m\n\u001b[?25hRequirement already satisfied: setuptools>=3.0 in /anaconda/envs/azureml_py310_sdkv2/lib/python3.10/site-packages (from gunicorn<23->mlflow) (67.8.0)\nRequirement already satisfied: zipp>=0.5 in /anaconda/envs/azureml_py310_sdkv2/lib/python3.10/site-packages (from importlib-metadata!=4.7.0,<8,>=3.7.0->mlflow) (3.15.0)\nRequirement already satisfied: MarkupSafe>=2.0 in /anaconda/envs/azureml_py310_sdkv2/lib/python3.10/site-packages (from Jinja2<4,>=2.11->mlflow) (2.1.3)\nRequirement already satisfied: contourpy>=1.0.1 in /anaconda/envs/azureml_py310_sdkv2/lib/python3.10/site-packages (from matplotlib<4->mlflow) (1.1.0)\nRequirement already satisfied: cycler>=0.10 in /anaconda/envs/azureml_py310_sdkv2/lib/python3.10/site-packages (from matplotlib<4->mlflow) (0.11.0)\nRequirement already satisfied: fonttools>=4.22.0 in /anaconda/envs/azureml_py310_sdkv2/lib/python3.10/site-packages (from matplotlib<4->mlflow) (4.40.0)\nRequirement already satisfied: kiwisolver>=1.0.1 in /anaconda/envs/azureml_py310_sdkv2/lib/python3.10/site-packages (from matplotlib<4->mlflow) (1.4.4)\nRequirement already satisfied: pillow>=6.2.0 in /anaconda/envs/azureml_py310_sdkv2/lib/python3.10/site-packages (from matplotlib<4->mlflow) (9.5.0)\nRequirement already satisfied: pyparsing>=2.3.1 in /anaconda/envs/azureml_py310_sdkv2/lib/python3.10/site-packages (from matplotlib<4->mlflow) (3.1.0)\nRequirement already satisfied: python-dateutil>=2.7 in /anaconda/envs/azureml_py310_sdkv2/lib/python3.10/site-packages (from matplotlib<4->mlflow) (2.8.2)\nCollecting deprecated>=1.2.6 (from opentelemetry-api<3,>=1.0.0->mlflow)\n  Downloading Deprecated-1.2.14-py2.py3-none-any.whl (9.6 kB)\nCollecting opentelemetry-semantic-conventions==0.45b0 (from opentelemetry-sdk<3,>=1.0.0->mlflow)\n  Downloading opentelemetry_semantic_conventions-0.45b0-py3-none-any.whl (36 kB)\nRequirement already satisfied: tzdata>=2022.1 in /anaconda/envs/azureml_py310_sdkv2/lib/python3.10/site-packages (from pandas<3->mlflow) (2023.3)\nRequirement already satisfied: six in /anaconda/envs/azureml_py310_sdkv2/lib/python3.10/site-packages (from querystring-parser<2->mlflow) (1.16.0)\nRequirement already satisfied: charset-normalizer<4,>=2 in /anaconda/envs/azureml_py310_sdkv2/lib/python3.10/site-packages (from requests<3,>=2.17.3->mlflow) (3.1.0)\nRequirement already satisfied: idna<4,>=2.5 in /anaconda/envs/azureml_py310_sdkv2/lib/python3.10/site-packages (from requests<3,>=2.17.3->mlflow) (3.4)\nRequirement already satisfied: certifi>=2017.4.17 in /anaconda/envs/azureml_py310_sdkv2/lib/python3.10/site-packages (from requests<3,>=2.17.3->mlflow) (2023.5.7)\nRequirement already satisfied: joblib>=1.1.1 in /anaconda/envs/azureml_py310_sdkv2/lib/python3.10/site-packages (from scikit-learn<2->mlflow) (1.2.0)\nRequirement already satisfied: threadpoolctl>=2.0.0 in /anaconda/envs/azureml_py310_sdkv2/lib/python3.10/site-packages (from scikit-learn<2->mlflow) (3.1.0)\nRequirement already satisfied: greenlet!=0.4.17 in /anaconda/envs/azureml_py310_sdkv2/lib/python3.10/site-packages (from sqlalchemy<3,>=1.4.0->mlflow) (2.0.2)\nCollecting wrapt<2,>=1.10 (from deprecated>=1.2.6->opentelemetry-api<3,>=1.0.0->mlflow)\n  Downloading wrapt-1.16.0-cp310-cp310-manylinux_2_5_x86_64.manylinux1_x86_64.manylinux_2_17_x86_64.manylinux2014_x86_64.whl (80 kB)\n\u001b[2K     \u001b[90m━━━━━━━━━━━━━━━━━━━━━━━━━━━━━━━━━━━━━━━━\u001b[0m \u001b[32m80.3/80.3 kB\u001b[0m \u001b[31m9.4 MB/s\u001b[0m eta \u001b[36m0:00:00\u001b[0m\n\u001b[?25hRequirement already satisfied: smmap<6,>=3.0.1 in /anaconda/envs/azureml_py310_sdkv2/lib/python3.10/site-packages (from gitdb<5,>=4.0.1->gitpython<4,>=3.1.9->mlflow) (5.0.0)\nInstalling collected packages: aniso8601, wrapt, opentelemetry-semantic-conventions, graphql-core, graphql-relay, deprecated, opentelemetry-api, graphene, opentelemetry-sdk, mlflow\n  Attempting uninstall: mlflow\n    Found existing installation: mlflow 2.4.1\n    Uninstalling mlflow-2.4.1:\n      Successfully uninstalled mlflow-2.4.1\nSuccessfully installed aniso8601-9.0.1 deprecated-1.2.14 graphene-3.3 graphql-core-3.2.3 graphql-relay-3.2.0 mlflow-2.13.0 opentelemetry-api-1.24.0 opentelemetry-sdk-1.24.0 opentelemetry-semantic-conventions-0.45b0 wrapt-1.16.0\nNote: you may need to restart the kernel to use updated packages.\n"
        }
      ],
      "execution_count": 7,
      "metadata": {
        "jupyter": {
          "source_hidden": false,
          "outputs_hidden": false
        },
        "nteract": {
          "transient": {
            "deleting": false
          }
        },
        "gather": {
          "logged": 1716667346690
        }
      }
    },
    {
      "cell_type": "code",
      "source": [
        "pip show mlflow"
      ],
      "outputs": [
        {
          "output_type": "stream",
          "name": "stdout",
          "text": "Name: mlflow\r\nVersion: 2.13.0\r\nSummary: MLflow is an open source platform for the complete machine learning lifecycle\r\nHome-page: \r\nAuthor: \r\nAuthor-email: \r\nLicense: Copyright 2018 Databricks, Inc.  All rights reserved.\r\n        \r\n                                        Apache License\r\n                                   Version 2.0, January 2004\r\n                                http://www.apache.org/licenses/\r\n        \r\n           TERMS AND CONDITIONS FOR USE, REPRODUCTION, AND DISTRIBUTION\r\n        \r\n           1. Definitions.\r\n        \r\n              \"License\" shall mean the terms and conditions for use, reproduction,\r\n              and distribution as defined by Sections 1 through 9 of this document.\r\n        \r\n              \"Licensor\" shall mean the copyright owner or entity authorized by\r\n              the copyright owner that is granting the License.\r\n        \r\n              \"Legal Entity\" shall mean the union of the acting entity and all\r\n              other entities that control, are controlled by, or are under common\r\n              control with that entity. For the purposes of this definition,\r\n              \"control\" means (i) the power, direct or indirect, to cause the\r\n              direction or management of such entity, whether by contract or\r\n              otherwise, or (ii) ownership of fifty percent (50%) or more of the\r\n              outstanding shares, or (iii) beneficial ownership of such entity.\r\n        \r\n              \"You\" (or \"Your\") shall mean an individual or Legal Entity\r\n              exercising permissions granted by this License.\r\n        \r\n              \"Source\" form shall mean the preferred form for making modifications,\r\n              including but not limited to software source code, documentation\r\n              source, and configuration files.\r\n        \r\n              \"Object\" form shall mean any form resulting from mechanical\r\n              transformation or translation of a Source form, including but\r\n              not limited to compiled object code, generated documentation,\r\n              and conversions to other media types.\r\n        \r\n              \"Work\" shall mean the work of authorship, whether in Source or\r\n              Object form, made available under the License, as indicated by a\r\n              copyright notice that is included in or attached to the work\r\n              (an example is provided in the Appendix below).\r\n        \r\n              \"Derivative Works\" shall mean any work, whether in Source or Object\r\n              form, that is based on (or derived from) the Work and for which the\r\n              editorial revisions, annotations, elaborations, or other modifications\r\n              represent, as a whole, an original work of authorship. For the purposes\r\n              of this License, Derivative Works shall not include works that remain\r\n              separable from, or merely link (or bind by name) to the interfaces of,\r\n              the Work and Derivative Works thereof.\r\n        \r\n              \"Contribution\" shall mean any work of authorship, including\r\n              the original version of the Work and any modifications or additions\r\n              to that Work or Derivative Works thereof, that is intentionally\r\n              submitted to Licensor for inclusion in the Work by the copyright owner\r\n              or by an individual or Legal Entity authorized to submit on behalf of\r\n              the copyright owner. For the purposes of this definition, \"submitted\"\r\n              means any form of electronic, verbal, or written communication sent\r\n              to the Licensor or its representatives, including but not limited to\r\n              communication on electronic mailing lists, source code control systems,\r\n              and issue tracking systems that are managed by, or on behalf of, the\r\n              Licensor for the purpose of discussing and improving the Work, but\r\n              excluding communication that is conspicuously marked or otherwise\r\n              designated in writing by the copyright owner as \"Not a Contribution.\"\r\n        \r\n              \"Contributor\" shall mean Licensor and any individual or Legal Entity\r\n              on behalf of whom a Contribution has been received by Licensor and\r\n              subsequently incorporated within the Work.\r\n        \r\n           2. Grant of Copyright License. Subject to the terms and conditions of\r\n              this License, each Contributor hereby grants to You a perpetual,\r\n              worldwide, non-exclusive, no-charge, royalty-free, irrevocable\r\n              copyright license to reproduce, prepare Derivative Works of,\r\n              publicly display, publicly perform, sublicense, and distribute the\r\n              Work and such Derivative Works in Source or Object form.\r\n        \r\n           3. Grant of Patent License. Subject to the terms and conditions of\r\n              this License, each Contributor hereby grants to You a perpetual,\r\n              worldwide, non-exclusive, no-charge, royalty-free, irrevocable\r\n              (except as stated in this section) patent license to make, have made,\r\n              use, offer to sell, sell, import, and otherwise transfer the Work,\r\n              where such license applies only to those patent claims licensable\r\n              by such Contributor that are necessarily infringed by their\r\n              Contribution(s) alone or by combination of their Contribution(s)\r\n              with the Work to which such Contribution(s) was submitted. If You\r\n              institute patent litigation against any entity (including a\r\n              cross-claim or counterclaim in a lawsuit) alleging that the Work\r\n              or a Contribution incorporated within the Work constitutes direct\r\n              or contributory patent infringement, then any patent licenses\r\n              granted to You under this License for that Work shall terminate\r\n              as of the date such litigation is filed.\r\n        \r\n           4. Redistribution. You may reproduce and distribute copies of the\r\n              Work or Derivative Works thereof in any medium, with or without\r\n              modifications, and in Source or Object form, provided that You\r\n              meet the following conditions:\r\n        \r\n              (a) You must give any other recipients of the Work or\r\n                  Derivative Works a copy of this License; and\r\n        \r\n              (b) You must cause any modified files to carry prominent notices\r\n                  stating that You changed the files; and\r\n        \r\n              (c) You must retain, in the Source form of any Derivative Works\r\n                  that You distribute, all copyright, patent, trademark, and\r\n                  attribution notices from the Source form of the Work,\r\n                  excluding those notices that do not pertain to any part of\r\n                  the Derivative Works; and\r\n        \r\n              (d) If the Work includes a \"NOTICE\" text file as part of its\r\n                  distribution, then any Derivative Works that You distribute must\r\n                  include a readable copy of the attribution notices contained\r\n                  within such NOTICE file, excluding those notices that do not\r\n                  pertain to any part of the Derivative Works, in at least one\r\n                  of the following places: within a NOTICE text file distributed\r\n                  as part of the Derivative Works; within the Source form or\r\n                  documentation, if provided along with the Derivative Works; or,\r\n                  within a display generated by the Derivative Works, if and\r\n                  wherever such third-party notices normally appear. The contents\r\n                  of the NOTICE file are for informational purposes only and\r\n                  do not modify the License. You may add Your own attribution\r\n                  notices within Derivative Works that You distribute, alongside\r\n                  or as an addendum to the NOTICE text from the Work, provided\r\n                  that such additional attribution notices cannot be construed\r\n                  as modifying the License.\r\n        \r\n              You may add Your own copyright statement to Your modifications and\r\n              may provide additional or different license terms and conditions\r\n              for use, reproduction, or distribution of Your modifications, or\r\n              for any such Derivative Works as a whole, provided Your use,\r\n              reproduction, and distribution of the Work otherwise complies with\r\n              the conditions stated in this License.\r\n        \r\n           5. Submission of Contributions. Unless You explicitly state otherwise,\r\n              any Contribution intentionally submitted for inclusion in the Work\r\n              by You to the Licensor shall be under the terms and conditions of\r\n              this License, without any additional terms or conditions.\r\n              Notwithstanding the above, nothing herein shall supersede or modify\r\n              the terms of any separate license agreement you may have executed\r\n              with Licensor regarding such Contributions.\r\n        \r\n           6. Trademarks. This License does not grant permission to use the trade\r\n              names, trademarks, service marks, or product names of the Licensor,\r\n              except as required for reasonable and customary use in describing the\r\n              origin of the Work and reproducing the content of the NOTICE file.\r\n        \r\n           7. Disclaimer of Warranty. Unless required by applicable law or\r\n              agreed to in writing, Licensor provides the Work (and each\r\n              Contributor provides its Contributions) on an \"AS IS\" BASIS,\r\n              WITHOUT WARRANTIES OR CONDITIONS OF ANY KIND, either express or\r\n              implied, including, without limitation, any warranties or conditions\r\n              of TITLE, NON-INFRINGEMENT, MERCHANTABILITY, or FITNESS FOR A\r\n              PARTICULAR PURPOSE. You are solely responsible for determining the\r\n              appropriateness of using or redistributing the Work and assume any\r\n              risks associated with Your exercise of permissions under this License.\r\n        \r\n           8. Limitation of Liability. In no event and under no legal theory,\r\n              whether in tort (including negligence), contract, or otherwise,\r\n              unless required by applicable law (such as deliberate and grossly\r\n              negligent acts) or agreed to in writing, shall any Contributor be\r\n              liable to You for damages, including any direct, indirect, special,\r\n              incidental, or consequential damages of any character arising as a\r\n              result of this License or out of the use or inability to use the\r\n              Work (including but not limited to damages for loss of goodwill,\r\n              work stoppage, computer failure or malfunction, or any and all\r\n              other commercial damages or losses), even if such Contributor\r\n              has been advised of the possibility of such damages.\r\n        \r\n           9. Accepting Warranty or Additional Liability. While redistributing\r\n              the Work or Derivative Works thereof, You may choose to offer,\r\n              and charge a fee for, acceptance of support, warranty, indemnity,\r\n              or other liability obligations and/or rights consistent with this\r\n              License. However, in accepting such obligations, You may act only\r\n              on Your own behalf and on Your sole responsibility, not on behalf\r\n              of any other Contributor, and only if You agree to indemnify,\r\n              defend, and hold each Contributor harmless for any liability\r\n              incurred by, or claims asserted against, such Contributor by reason\r\n              of your accepting any such warranty or additional liability.\r\n        \r\n           END OF TERMS AND CONDITIONS\r\n           APPENDIX: How to apply the Apache License to your work.\r\n        \r\n              To apply the Apache License to your work, attach the following\r\n              boilerplate notice, with the fields enclosed by brackets \"[]\"\r\n              replaced with your own identifying information. (Don't include\r\n              the brackets!)  The text should be enclosed in the appropriate\r\n              comment syntax for the file format. We also recommend that a\r\n              file or class name and description of purpose be included on the\r\n              same \"printed page\" as the copyright notice for easier\r\n              identification within third-party archives.\r\n        \r\n           Copyright [yyyy] [name of copyright owner]\r\n        \r\n           Licensed under the Apache License, Version 2.0 (the \"License\");\r\n           you may not use this file except in compliance with the License.\r\n           You may obtain a copy of the License at\r\n        \r\n               http://www.apache.org/licenses/LICENSE-2.0\r\n        \r\n           Unless required by applicable law or agreed to in writing, software\r\n           distributed under the License is distributed on an \"AS IS\" BASIS,\r\n           WITHOUT WARRANTIES OR CONDITIONS OF ANY KIND, either express or implied.\r\n           See the License for the specific language governing permissions and\r\n           limitations under the License.\r\n        \r\nLocation: /anaconda/envs/azureml_py310_sdkv2/lib/python3.10/site-packages\r\nRequires: alembic, cachetools, click, cloudpickle, docker, entrypoints, Flask, gitpython, graphene, gunicorn, importlib-metadata, Jinja2, markdown, matplotlib, numpy, opentelemetry-api, opentelemetry-sdk, packaging, pandas, protobuf, pyarrow, pytz, pyyaml, querystring-parser, requests, scikit-learn, scipy, sqlalchemy, sqlparse\r\nRequired-by: \r\nNote: you may need to restart the kernel to use updated packages.\n"
        }
      ],
      "execution_count": 8,
      "metadata": {
        "jupyter": {
          "source_hidden": false,
          "outputs_hidden": false
        },
        "nteract": {
          "transient": {
            "deleting": false
          }
        },
        "gather": {
          "logged": 1716667348476
        }
      }
    },
    {
      "cell_type": "code",
      "source": [
        "# restart kernel\n",
        "# kernel operations - restart kernel"
      ],
      "outputs": [],
      "execution_count": null,
      "metadata": {
        "jupyter": {
          "source_hidden": false,
          "outputs_hidden": false
        },
        "nteract": {
          "transient": {
            "deleting": false
          }
        }
      }
    },
    {
      "cell_type": "code",
      "source": [
        "import xgboost\n",
        "import mlflow\n",
        "from mlflow.tracking.client import MlflowClient\n",
        "import sklearn\n",
        "import numpy as np\n",
        "import pandas as pd\n",
        "import matplotlib.pyplot as plt"
      ],
      "outputs": [],
      "execution_count": 1,
      "metadata": {
        "jupyter": {
          "source_hidden": false,
          "outputs_hidden": false
        },
        "nteract": {
          "transient": {
            "deleting": false
          }
        },
        "gather": {
          "logged": 1716667387738
        }
      }
    },
    {
      "cell_type": "code",
      "source": [
        "import warnings\n",
        "warnings.simplefilter(\"ignore\")"
      ],
      "outputs": [],
      "execution_count": 2,
      "metadata": {
        "jupyter": {
          "source_hidden": false,
          "outputs_hidden": false
        },
        "nteract": {
          "transient": {
            "deleting": false
          }
        },
        "gather": {
          "logged": 1716667387939
        }
      }
    },
    {
      "cell_type": "markdown",
      "source": [
        "# 3 - Configuring the experiment"
      ],
      "metadata": {
        "nteract": {
          "transient": {
            "deleting": false
          }
        }
      }
    },
    {
      "cell_type": "code",
      "source": [
        "import mlflow\n",
        "mlflow.set_experiment(experiment_name=\"heart-condition-classifier\")"
      ],
      "outputs": [
        {
          "output_type": "stream",
          "name": "stderr",
          "text": "2024/05/25 20:03:09 INFO mlflow.tracking.fluent: Experiment with name 'heart-condition-classifier' does not exist. Creating a new experiment.\n"
        },
        {
          "output_type": "execute_result",
          "execution_count": 3,
          "data": {
            "text/plain": "<Experiment: artifact_location='', creation_time=1716667389343, experiment_id='965e518e-474d-47dd-b4b0-bbc01aa89545', last_update_time=None, lifecycle_stage='active', name='heart-condition-classifier', tags={}>"
          },
          "metadata": {}
        }
      ],
      "execution_count": 3,
      "metadata": {
        "jupyter": {
          "source_hidden": false,
          "outputs_hidden": false
        },
        "nteract": {
          "transient": {
            "deleting": false
          }
        },
        "gather": {
          "logged": 1716667388945
        }
      }
    },
    {
      "cell_type": "markdown",
      "source": [
        "# 4- Exploring data"
      ],
      "metadata": {
        "nteract": {
          "transient": {
            "deleting": false
          }
        }
      }
    },
    {
      "cell_type": "code",
      "source": [
        "import pandas as pd"
      ],
      "outputs": [],
      "execution_count": 4,
      "metadata": {
        "jupyter": {
          "source_hidden": false,
          "outputs_hidden": false
        },
        "nteract": {
          "transient": {
            "deleting": false
          }
        },
        "gather": {
          "logged": 1716667389117
        }
      }
    },
    {
      "cell_type": "code",
      "source": [
        "file_url = \"https://azuremlexampledata.blob.core.windows.net/data/heart-disease-uci/data/heart.csv\"\n",
        "df = pd.read_csv(file_url)"
      ],
      "outputs": [],
      "execution_count": 5,
      "metadata": {
        "jupyter": {
          "source_hidden": false,
          "outputs_hidden": false
        },
        "nteract": {
          "transient": {
            "deleting": false
          }
        },
        "gather": {
          "logged": 1716667389380
        }
      }
    },
    {
      "cell_type": "code",
      "source": [
        "df['thal'] = df['thal'].astype(\"category\").cat.codes"
      ],
      "outputs": [],
      "execution_count": 6,
      "metadata": {
        "jupyter": {
          "source_hidden": false,
          "outputs_hidden": false
        },
        "nteract": {
          "transient": {
            "deleting": false
          }
        },
        "gather": {
          "logged": 1716667389626
        }
      }
    },
    {
      "cell_type": "code",
      "source": [
        "# split dataset into train and test set\n",
        "\n",
        "from sklearn.model_selection import train_test_split\n",
        "\n",
        "X_train, X_test, y_train, y_test = train_test_split(df.drop(\"target\", axis=1), df[\"target\"], test_size=0.3)"
      ],
      "outputs": [],
      "execution_count": 7,
      "metadata": {
        "jupyter": {
          "source_hidden": false,
          "outputs_hidden": false
        },
        "nteract": {
          "transient": {
            "deleting": false
          }
        },
        "gather": {
          "logged": 1716667389799
        }
      }
    },
    {
      "cell_type": "markdown",
      "source": [
        "# 5 - Training the model"
      ],
      "metadata": {
        "nteract": {
          "transient": {
            "deleting": false
          }
        }
      }
    },
    {
      "cell_type": "code",
      "source": [
        "mlflow.xgboost.autolog()"
      ],
      "outputs": [],
      "execution_count": 8,
      "metadata": {
        "jupyter": {
          "source_hidden": false,
          "outputs_hidden": false
        },
        "nteract": {
          "transient": {
            "deleting": false
          }
        },
        "gather": {
          "logged": 1716667389984
        }
      }
    },
    {
      "cell_type": "code",
      "source": [
        "from xgboost import XGBClassifier\n",
        "model = XGBClassifier(use_label_encoder=False, eval_metric='logloss')"
      ],
      "outputs": [],
      "execution_count": 9,
      "metadata": {
        "jupyter": {
          "source_hidden": false,
          "outputs_hidden": false
        },
        "nteract": {
          "transient": {
            "deleting": false
          }
        },
        "gather": {
          "logged": 1716667390177
        }
      }
    },
    {
      "cell_type": "code",
      "source": [
        "run = mlflow.start_run()"
      ],
      "outputs": [],
      "execution_count": 10,
      "metadata": {
        "jupyter": {
          "source_hidden": false,
          "outputs_hidden": false
        },
        "nteract": {
          "transient": {
            "deleting": false
          }
        },
        "gather": {
          "logged": 1716667390352
        }
      }
    },
    {
      "cell_type": "code",
      "source": [
        "model.fit(X_train, y_train, eval_set=[(X_test, y_test)], verbose=False)"
      ],
      "outputs": [
        {
          "output_type": "execute_result",
          "execution_count": 11,
          "data": {
            "text/plain": "XGBClassifier(base_score=None, booster=None, callbacks=None,\n              colsample_bylevel=None, colsample_bynode=None,\n              colsample_bytree=None, device=None, early_stopping_rounds=None,\n              enable_categorical=False, eval_metric='logloss',\n              feature_types=None, gamma=None, grow_policy=None,\n              importance_type=None, interaction_constraints=None,\n              learning_rate=None, max_bin=None, max_cat_threshold=None,\n              max_cat_to_onehot=None, max_delta_step=None, max_depth=None,\n              max_leaves=None, min_child_weight=None, missing=nan,\n              monotone_constraints=None, multi_strategy=None, n_estimators=None,\n              n_jobs=None, num_parallel_tree=None, random_state=None, ...)",
            "text/html": "<style>#sk-container-id-1 {color: black;background-color: white;}#sk-container-id-1 pre{padding: 0;}#sk-container-id-1 div.sk-toggleable {background-color: white;}#sk-container-id-1 label.sk-toggleable__label {cursor: pointer;display: block;width: 100%;margin-bottom: 0;padding: 0.3em;box-sizing: border-box;text-align: center;}#sk-container-id-1 label.sk-toggleable__label-arrow:before {content: \"▸\";float: left;margin-right: 0.25em;color: #696969;}#sk-container-id-1 label.sk-toggleable__label-arrow:hover:before {color: black;}#sk-container-id-1 div.sk-estimator:hover label.sk-toggleable__label-arrow:before {color: black;}#sk-container-id-1 div.sk-toggleable__content {max-height: 0;max-width: 0;overflow: hidden;text-align: left;background-color: #f0f8ff;}#sk-container-id-1 div.sk-toggleable__content pre {margin: 0.2em;color: black;border-radius: 0.25em;background-color: #f0f8ff;}#sk-container-id-1 input.sk-toggleable__control:checked~div.sk-toggleable__content {max-height: 200px;max-width: 100%;overflow: auto;}#sk-container-id-1 input.sk-toggleable__control:checked~label.sk-toggleable__label-arrow:before {content: \"▾\";}#sk-container-id-1 div.sk-estimator input.sk-toggleable__control:checked~label.sk-toggleable__label {background-color: #d4ebff;}#sk-container-id-1 div.sk-label input.sk-toggleable__control:checked~label.sk-toggleable__label {background-color: #d4ebff;}#sk-container-id-1 input.sk-hidden--visually {border: 0;clip: rect(1px 1px 1px 1px);clip: rect(1px, 1px, 1px, 1px);height: 1px;margin: -1px;overflow: hidden;padding: 0;position: absolute;width: 1px;}#sk-container-id-1 div.sk-estimator {font-family: monospace;background-color: #f0f8ff;border: 1px dotted black;border-radius: 0.25em;box-sizing: border-box;margin-bottom: 0.5em;}#sk-container-id-1 div.sk-estimator:hover {background-color: #d4ebff;}#sk-container-id-1 div.sk-parallel-item::after {content: \"\";width: 100%;border-bottom: 1px solid gray;flex-grow: 1;}#sk-container-id-1 div.sk-label:hover label.sk-toggleable__label {background-color: #d4ebff;}#sk-container-id-1 div.sk-serial::before {content: \"\";position: absolute;border-left: 1px solid gray;box-sizing: border-box;top: 0;bottom: 0;left: 50%;z-index: 0;}#sk-container-id-1 div.sk-serial {display: flex;flex-direction: column;align-items: center;background-color: white;padding-right: 0.2em;padding-left: 0.2em;position: relative;}#sk-container-id-1 div.sk-item {position: relative;z-index: 1;}#sk-container-id-1 div.sk-parallel {display: flex;align-items: stretch;justify-content: center;background-color: white;position: relative;}#sk-container-id-1 div.sk-item::before, #sk-container-id-1 div.sk-parallel-item::before {content: \"\";position: absolute;border-left: 1px solid gray;box-sizing: border-box;top: 0;bottom: 0;left: 50%;z-index: -1;}#sk-container-id-1 div.sk-parallel-item {display: flex;flex-direction: column;z-index: 1;position: relative;background-color: white;}#sk-container-id-1 div.sk-parallel-item:first-child::after {align-self: flex-end;width: 50%;}#sk-container-id-1 div.sk-parallel-item:last-child::after {align-self: flex-start;width: 50%;}#sk-container-id-1 div.sk-parallel-item:only-child::after {width: 0;}#sk-container-id-1 div.sk-dashed-wrapped {border: 1px dashed gray;margin: 0 0.4em 0.5em 0.4em;box-sizing: border-box;padding-bottom: 0.4em;background-color: white;}#sk-container-id-1 div.sk-label label {font-family: monospace;font-weight: bold;display: inline-block;line-height: 1.2em;}#sk-container-id-1 div.sk-label-container {text-align: center;}#sk-container-id-1 div.sk-container {/* jupyter's `normalize.less` sets `[hidden] { display: none; }` but bootstrap.min.css set `[hidden] { display: none !important; }` so we also need the `!important` here to be able to override the default hidden behavior on the sphinx rendered scikit-learn.org. See: https://github.com/scikit-learn/scikit-learn/issues/21755 */display: inline-block !important;position: relative;}#sk-container-id-1 div.sk-text-repr-fallback {display: none;}</style><div id=\"sk-container-id-1\" class=\"sk-top-container\"><div class=\"sk-text-repr-fallback\"><pre>XGBClassifier(base_score=None, booster=None, callbacks=None,\n              colsample_bylevel=None, colsample_bynode=None,\n              colsample_bytree=None, device=None, early_stopping_rounds=None,\n              enable_categorical=False, eval_metric=&#x27;logloss&#x27;,\n              feature_types=None, gamma=None, grow_policy=None,\n              importance_type=None, interaction_constraints=None,\n              learning_rate=None, max_bin=None, max_cat_threshold=None,\n              max_cat_to_onehot=None, max_delta_step=None, max_depth=None,\n              max_leaves=None, min_child_weight=None, missing=nan,\n              monotone_constraints=None, multi_strategy=None, n_estimators=None,\n              n_jobs=None, num_parallel_tree=None, random_state=None, ...)</pre><b>In a Jupyter environment, please rerun this cell to show the HTML representation or trust the notebook. <br />On GitHub, the HTML representation is unable to render, please try loading this page with nbviewer.org.</b></div><div class=\"sk-container\" hidden><div class=\"sk-item\"><div class=\"sk-estimator sk-toggleable\"><input class=\"sk-toggleable__control sk-hidden--visually\" id=\"sk-estimator-id-1\" type=\"checkbox\" checked><label for=\"sk-estimator-id-1\" class=\"sk-toggleable__label sk-toggleable__label-arrow\">XGBClassifier</label><div class=\"sk-toggleable__content\"><pre>XGBClassifier(base_score=None, booster=None, callbacks=None,\n              colsample_bylevel=None, colsample_bynode=None,\n              colsample_bytree=None, device=None, early_stopping_rounds=None,\n              enable_categorical=False, eval_metric=&#x27;logloss&#x27;,\n              feature_types=None, gamma=None, grow_policy=None,\n              importance_type=None, interaction_constraints=None,\n              learning_rate=None, max_bin=None, max_cat_threshold=None,\n              max_cat_to_onehot=None, max_delta_step=None, max_depth=None,\n              max_leaves=None, min_child_weight=None, missing=nan,\n              monotone_constraints=None, multi_strategy=None, n_estimators=None,\n              n_jobs=None, num_parallel_tree=None, random_state=None, ...)</pre></div></div></div></div></div>"
          },
          "metadata": {}
        }
      ],
      "execution_count": 11,
      "metadata": {
        "jupyter": {
          "source_hidden": false,
          "outputs_hidden": false
        },
        "nteract": {
          "transient": {
            "deleting": false
          }
        },
        "gather": {
          "logged": 1716667422304
        }
      }
    },
    {
      "cell_type": "markdown",
      "source": [
        "# 6 - Logging extra metrics"
      ],
      "metadata": {
        "nteract": {
          "transient": {
            "deleting": false
          }
        }
      }
    },
    {
      "cell_type": "code",
      "source": [
        "y_pred = model.predict(X_test)"
      ],
      "outputs": [
        {
          "output_type": "stream",
          "name": "stderr",
          "text": "2024/05/25 20:03:42 WARNING mlflow.sklearn: Failed to log evaluation dataset information to MLflow Tracking. Reason: BAD_REQUEST: Response: {'Error': {'Code': 'UserError', 'Severity': None, 'Message': 'Cannot log the same dataset with different context', 'MessageFormat': None, 'MessageParameters': None, 'ReferenceCode': None, 'DetailsUri': None, 'Target': None, 'Details': [], 'InnerError': None, 'DebugInfo': None, 'AdditionalInfo': None}, 'Correlation': {'operation': '32ecf2ca8ffb9b1ec95b74155cc57768', 'request': '29025be333aaf598'}, 'Environment': 'westus', 'Location': 'westus', 'Time': '2024-05-25T20:03:42.9919424+00:00', 'ComponentName': 'mlflow', 'statusCode': 400, 'error_code': 'BAD_REQUEST'}\n"
        }
      ],
      "execution_count": 12,
      "metadata": {
        "jupyter": {
          "source_hidden": false,
          "outputs_hidden": false
        },
        "nteract": {
          "transient": {
            "deleting": false
          }
        },
        "gather": {
          "logged": 1716667422527
        }
      }
    },
    {
      "cell_type": "code",
      "source": [
        "from sklearn.metrics import accuracy_score, recall_score\n",
        "\n",
        "accuracy = accuracy_score(y_test, y_pred)\n",
        "recall = recall_score(y_test, y_pred)"
      ],
      "outputs": [
        {
          "output_type": "stream",
          "name": "stderr",
          "text": "2024/05/25 20:03:44 WARNING mlflow.utils.autologging_utils: Encountered unexpected error during xgboost autologging: UserError: Resource Conflict: ArtifactId ExperimentRun/dcid.a6872159-589a-4528-aeac-3af5a9289712/metric_info.json already exists.\n"
        }
      ],
      "execution_count": 13,
      "metadata": {
        "jupyter": {
          "source_hidden": false,
          "outputs_hidden": false
        },
        "nteract": {
          "transient": {
            "deleting": false
          }
        },
        "gather": {
          "logged": 1716667423720
        }
      }
    },
    {
      "cell_type": "code",
      "source": [
        "print(\"Accuracy: %.2f%%\" % (accuracy * 100.0))\n",
        "print(\"Recall: %.2f%%\" % (recall * 100.0))"
      ],
      "outputs": [
        {
          "output_type": "stream",
          "name": "stdout",
          "text": "Accuracy: 84.62%\nRecall: 66.67%\n"
        }
      ],
      "execution_count": 14,
      "metadata": {
        "jupyter": {
          "source_hidden": false,
          "outputs_hidden": false
        },
        "nteract": {
          "transient": {
            "deleting": false
          }
        },
        "gather": {
          "logged": 1716667423879
        }
      }
    },
    {
      "cell_type": "code",
      "source": [
        "mlflow.end_run()"
      ],
      "outputs": [],
      "execution_count": 15,
      "metadata": {
        "jupyter": {
          "source_hidden": false,
          "outputs_hidden": false
        },
        "nteract": {
          "transient": {
            "deleting": false
          }
        },
        "gather": {
          "logged": 1716667424240
        }
      }
    },
    {
      "cell_type": "markdown",
      "source": [
        "# 7 - Register Model"
      ],
      "metadata": {
        "nteract": {
          "transient": {
            "deleting": false
          }
        }
      }
    },
    {
      "cell_type": "code",
      "source": [
        "# Ensure you have the dependencies for this notebook\n",
        "%pip install -r model_management.txt"
      ],
      "outputs": [
        {
          "output_type": "stream",
          "name": "stdout",
          "text": "Requirement already satisfied: mlflow in /anaconda/envs/azureml_py310_sdkv2/lib/python3.10/site-packages (from -r model_management.txt (line 1)) (2.13.0)\nRequirement already satisfied: azureml-mlflow in /anaconda/envs/azureml_py310_sdkv2/lib/python3.10/site-packages (from -r model_management.txt (line 2)) (1.51.0)\nRequirement already satisfied: scikit-learn in /anaconda/envs/azureml_py310_sdkv2/lib/python3.10/site-packages (from -r model_management.txt (line 3)) (1.2.2)\nRequirement already satisfied: pandas in /anaconda/envs/azureml_py310_sdkv2/lib/python3.10/site-packages (from -r model_management.txt (line 4)) (2.0.2)\nRequirement already satisfied: numpy in /anaconda/envs/azureml_py310_sdkv2/lib/python3.10/site-packages (from -r model_management.txt (line 5)) (1.25.0)\nRequirement already satisfied: Flask<4 in /anaconda/envs/azureml_py310_sdkv2/lib/python3.10/site-packages (from mlflow->-r model_management.txt (line 1)) (2.3.2)\nRequirement already satisfied: alembic!=1.10.0,<2 in /anaconda/envs/azureml_py310_sdkv2/lib/python3.10/site-packages (from mlflow->-r model_management.txt (line 1)) (1.11.1)\nRequirement already satisfied: cachetools<6,>=5.0.0 in /anaconda/envs/azureml_py310_sdkv2/lib/python3.10/site-packages (from mlflow->-r model_management.txt (line 1)) (5.3.1)\nRequirement already satisfied: click<9,>=7.0 in /anaconda/envs/azureml_py310_sdkv2/lib/python3.10/site-packages (from mlflow->-r model_management.txt (line 1)) (8.1.7)\nRequirement already satisfied: cloudpickle<4 in /anaconda/envs/azureml_py310_sdkv2/lib/python3.10/site-packages (from mlflow->-r model_management.txt (line 1)) (2.2.1)\nRequirement already satisfied: docker<8,>=4.0.0 in /anaconda/envs/azureml_py310_sdkv2/lib/python3.10/site-packages (from mlflow->-r model_management.txt (line 1)) (6.1.3)\nRequirement already satisfied: entrypoints<1 in /anaconda/envs/azureml_py310_sdkv2/lib/python3.10/site-packages (from mlflow->-r model_management.txt (line 1)) (0.4)\nRequirement already satisfied: gitpython<4,>=3.1.9 in /anaconda/envs/azureml_py310_sdkv2/lib/python3.10/site-packages (from mlflow->-r model_management.txt (line 1)) (3.1.31)\nRequirement already satisfied: graphene<4 in /anaconda/envs/azureml_py310_sdkv2/lib/python3.10/site-packages (from mlflow->-r model_management.txt (line 1)) (3.3)\nRequirement already satisfied: importlib-metadata!=4.7.0,<8,>=3.7.0 in /anaconda/envs/azureml_py310_sdkv2/lib/python3.10/site-packages (from mlflow->-r model_management.txt (line 1)) (6.7.0)\nRequirement already satisfied: markdown<4,>=3.3 in /anaconda/envs/azureml_py310_sdkv2/lib/python3.10/site-packages (from mlflow->-r model_management.txt (line 1)) (3.4.3)\nRequirement already satisfied: matplotlib<4 in /anaconda/envs/azureml_py310_sdkv2/lib/python3.10/site-packages (from mlflow->-r model_management.txt (line 1)) (3.7.1)\nRequirement already satisfied: opentelemetry-api<3,>=1.0.0 in /anaconda/envs/azureml_py310_sdkv2/lib/python3.10/site-packages (from mlflow->-r model_management.txt (line 1)) (1.24.0)\nRequirement already satisfied: opentelemetry-sdk<3,>=1.0.0 in /anaconda/envs/azureml_py310_sdkv2/lib/python3.10/site-packages (from mlflow->-r model_management.txt (line 1)) (1.24.0)\nRequirement already satisfied: packaging<25 in /anaconda/envs/azureml_py310_sdkv2/lib/python3.10/site-packages (from mlflow->-r model_management.txt (line 1)) (23.0)\nRequirement already satisfied: protobuf<5,>=3.12.0 in /anaconda/envs/azureml_py310_sdkv2/lib/python3.10/site-packages (from mlflow->-r model_management.txt (line 1)) (3.20.3)\nRequirement already satisfied: pyarrow<16,>=4.0.0 in /anaconda/envs/azureml_py310_sdkv2/lib/python3.10/site-packages (from mlflow->-r model_management.txt (line 1)) (12.0.1)\nRequirement already satisfied: pytz<2025 in /anaconda/envs/azureml_py310_sdkv2/lib/python3.10/site-packages (from mlflow->-r model_management.txt (line 1)) (2023.3)\nRequirement already satisfied: pyyaml<7,>=5.1 in /anaconda/envs/azureml_py310_sdkv2/lib/python3.10/site-packages (from mlflow->-r model_management.txt (line 1)) (6.0)\nRequirement already satisfied: querystring-parser<2 in /anaconda/envs/azureml_py310_sdkv2/lib/python3.10/site-packages (from mlflow->-r model_management.txt (line 1)) (1.2.4)\nRequirement already satisfied: requests<3,>=2.17.3 in /anaconda/envs/azureml_py310_sdkv2/lib/python3.10/site-packages (from mlflow->-r model_management.txt (line 1)) (2.31.0)\nRequirement already satisfied: scipy<2 in /anaconda/envs/azureml_py310_sdkv2/lib/python3.10/site-packages (from mlflow->-r model_management.txt (line 1)) (1.10.1)\nRequirement already satisfied: sqlalchemy<3,>=1.4.0 in /anaconda/envs/azureml_py310_sdkv2/lib/python3.10/site-packages (from mlflow->-r model_management.txt (line 1)) (2.0.16)\nRequirement already satisfied: sqlparse<1,>=0.4.0 in /anaconda/envs/azureml_py310_sdkv2/lib/python3.10/site-packages (from mlflow->-r model_management.txt (line 1)) (0.4.4)\nRequirement already satisfied: Jinja2<4,>=2.11 in /anaconda/envs/azureml_py310_sdkv2/lib/python3.10/site-packages (from mlflow->-r model_management.txt (line 1)) (3.1.2)\nRequirement already satisfied: gunicorn<23 in /anaconda/envs/azureml_py310_sdkv2/lib/python3.10/site-packages (from mlflow->-r model_management.txt (line 1)) (20.1.0)\nRequirement already satisfied: jsonpickle in /anaconda/envs/azureml_py310_sdkv2/lib/python3.10/site-packages (from azureml-mlflow->-r model_management.txt (line 2)) (3.0.1)\nRequirement already satisfied: mlflow-skinny in /anaconda/envs/azureml_py310_sdkv2/lib/python3.10/site-packages (from azureml-mlflow->-r model_management.txt (line 2)) (2.4.1)\nRequirement already satisfied: azure-identity in /anaconda/envs/azureml_py310_sdkv2/lib/python3.10/site-packages (from azureml-mlflow->-r model_management.txt (line 2)) (1.13.0)\nRequirement already satisfied: msrest>=0.6.18 in /anaconda/envs/azureml_py310_sdkv2/lib/python3.10/site-packages (from azureml-mlflow->-r model_management.txt (line 2)) (0.7.1)\nRequirement already satisfied: azure-core!=1.22.0,<2.0.0,>=1.8.0 in /anaconda/envs/azureml_py310_sdkv2/lib/python3.10/site-packages (from azureml-mlflow->-r model_management.txt (line 2)) (1.27.1)\nRequirement already satisfied: azure-mgmt-core<2.0.0,>=1.2.0 in /anaconda/envs/azureml_py310_sdkv2/lib/python3.10/site-packages (from azureml-mlflow->-r model_management.txt (line 2)) (1.4.0)\nCollecting azure-storage-blob<=12.13.0,>=12.5.0 (from azureml-mlflow->-r model_management.txt (line 2))\n  Downloading azure_storage_blob-12.13.0-py3-none-any.whl (377 kB)\n\u001b[2K     \u001b[90m━━━━━━━━━━━━━━━━━━━━━━━━━━━━━━━━━━━━━━━\u001b[0m \u001b[32m377.3/377.3 kB\u001b[0m \u001b[31m9.3 MB/s\u001b[0m eta \u001b[36m0:00:00\u001b[0m00:01\u001b[0m\n\u001b[?25hRequirement already satisfied: azure-common<2.0.0,>=1.1 in /anaconda/envs/azureml_py310_sdkv2/lib/python3.10/site-packages (from azureml-mlflow->-r model_management.txt (line 2)) (1.1.28)\nRequirement already satisfied: cryptography in /anaconda/envs/azureml_py310_sdkv2/lib/python3.10/site-packages (from azureml-mlflow->-r model_management.txt (line 2)) (41.0.1)\nRequirement already satisfied: python-dateutil<3.0.0,>=2.7.3 in /anaconda/envs/azureml_py310_sdkv2/lib/python3.10/site-packages (from azureml-mlflow->-r model_management.txt (line 2)) (2.8.2)\nRequirement already satisfied: joblib>=1.1.1 in /anaconda/envs/azureml_py310_sdkv2/lib/python3.10/site-packages (from scikit-learn->-r model_management.txt (line 3)) (1.2.0)\nRequirement already satisfied: threadpoolctl>=2.0.0 in /anaconda/envs/azureml_py310_sdkv2/lib/python3.10/site-packages (from scikit-learn->-r model_management.txt (line 3)) (3.1.0)\nRequirement already satisfied: tzdata>=2022.1 in /anaconda/envs/azureml_py310_sdkv2/lib/python3.10/site-packages (from pandas->-r model_management.txt (line 4)) (2023.3)\nRequirement already satisfied: Mako in /anaconda/envs/azureml_py310_sdkv2/lib/python3.10/site-packages (from alembic!=1.10.0,<2->mlflow->-r model_management.txt (line 1)) (1.2.4)\nRequirement already satisfied: typing-extensions>=4 in /anaconda/envs/azureml_py310_sdkv2/lib/python3.10/site-packages (from alembic!=1.10.0,<2->mlflow->-r model_management.txt (line 1)) (4.6.3)\nRequirement already satisfied: six>=1.11.0 in /anaconda/envs/azureml_py310_sdkv2/lib/python3.10/site-packages (from azure-core!=1.22.0,<2.0.0,>=1.8.0->azureml-mlflow->-r model_management.txt (line 2)) (1.16.0)\nRequirement already satisfied: cffi>=1.12 in /anaconda/envs/azureml_py310_sdkv2/lib/python3.10/site-packages (from cryptography->azureml-mlflow->-r model_management.txt (line 2)) (1.15.1)\nRequirement already satisfied: urllib3>=1.26.0 in /anaconda/envs/azureml_py310_sdkv2/lib/python3.10/site-packages (from docker<8,>=4.0.0->mlflow->-r model_management.txt (line 1)) (1.26.16)\nRequirement already satisfied: websocket-client>=0.32.0 in /anaconda/envs/azureml_py310_sdkv2/lib/python3.10/site-packages (from docker<8,>=4.0.0->mlflow->-r model_management.txt (line 1)) (1.6.0)\nRequirement already satisfied: Werkzeug>=2.3.3 in /anaconda/envs/azureml_py310_sdkv2/lib/python3.10/site-packages (from Flask<4->mlflow->-r model_management.txt (line 1)) (2.3.6)\nRequirement already satisfied: itsdangerous>=2.1.2 in /anaconda/envs/azureml_py310_sdkv2/lib/python3.10/site-packages (from Flask<4->mlflow->-r model_management.txt (line 1)) (2.1.2)\nRequirement already satisfied: blinker>=1.6.2 in /anaconda/envs/azureml_py310_sdkv2/lib/python3.10/site-packages (from Flask<4->mlflow->-r model_management.txt (line 1)) (1.6.2)\nRequirement already satisfied: gitdb<5,>=4.0.1 in /anaconda/envs/azureml_py310_sdkv2/lib/python3.10/site-packages (from gitpython<4,>=3.1.9->mlflow->-r model_management.txt (line 1)) (4.0.10)\nRequirement already satisfied: graphql-core<3.3,>=3.1 in /anaconda/envs/azureml_py310_sdkv2/lib/python3.10/site-packages (from graphene<4->mlflow->-r model_management.txt (line 1)) (3.2.3)\nRequirement already satisfied: graphql-relay<3.3,>=3.1 in /anaconda/envs/azureml_py310_sdkv2/lib/python3.10/site-packages (from graphene<4->mlflow->-r model_management.txt (line 1)) (3.2.0)\nRequirement already satisfied: aniso8601<10,>=8 in /anaconda/envs/azureml_py310_sdkv2/lib/python3.10/site-packages (from graphene<4->mlflow->-r model_management.txt (line 1)) (9.0.1)\nRequirement already satisfied: setuptools>=3.0 in /anaconda/envs/azureml_py310_sdkv2/lib/python3.10/site-packages (from gunicorn<23->mlflow->-r model_management.txt (line 1)) (67.8.0)\nRequirement already satisfied: zipp>=0.5 in /anaconda/envs/azureml_py310_sdkv2/lib/python3.10/site-packages (from importlib-metadata!=4.7.0,<8,>=3.7.0->mlflow->-r model_management.txt (line 1)) (3.15.0)\nRequirement already satisfied: MarkupSafe>=2.0 in /anaconda/envs/azureml_py310_sdkv2/lib/python3.10/site-packages (from Jinja2<4,>=2.11->mlflow->-r model_management.txt (line 1)) (2.1.3)\nRequirement already satisfied: contourpy>=1.0.1 in /anaconda/envs/azureml_py310_sdkv2/lib/python3.10/site-packages (from matplotlib<4->mlflow->-r model_management.txt (line 1)) (1.1.0)\nRequirement already satisfied: cycler>=0.10 in /anaconda/envs/azureml_py310_sdkv2/lib/python3.10/site-packages (from matplotlib<4->mlflow->-r model_management.txt (line 1)) (0.11.0)\nRequirement already satisfied: fonttools>=4.22.0 in /anaconda/envs/azureml_py310_sdkv2/lib/python3.10/site-packages (from matplotlib<4->mlflow->-r model_management.txt (line 1)) (4.40.0)\nRequirement already satisfied: kiwisolver>=1.0.1 in /anaconda/envs/azureml_py310_sdkv2/lib/python3.10/site-packages (from matplotlib<4->mlflow->-r model_management.txt (line 1)) (1.4.4)\nRequirement already satisfied: pillow>=6.2.0 in /anaconda/envs/azureml_py310_sdkv2/lib/python3.10/site-packages (from matplotlib<4->mlflow->-r model_management.txt (line 1)) (9.5.0)\nRequirement already satisfied: pyparsing>=2.3.1 in /anaconda/envs/azureml_py310_sdkv2/lib/python3.10/site-packages (from matplotlib<4->mlflow->-r model_management.txt (line 1)) (3.1.0)\nRequirement already satisfied: certifi>=2017.4.17 in /anaconda/envs/azureml_py310_sdkv2/lib/python3.10/site-packages (from msrest>=0.6.18->azureml-mlflow->-r model_management.txt (line 2)) (2023.5.7)\nRequirement already satisfied: isodate>=0.6.0 in /anaconda/envs/azureml_py310_sdkv2/lib/python3.10/site-packages (from msrest>=0.6.18->azureml-mlflow->-r model_management.txt (line 2)) (0.6.1)\nRequirement already satisfied: requests-oauthlib>=0.5.0 in /anaconda/envs/azureml_py310_sdkv2/lib/python3.10/site-packages (from msrest>=0.6.18->azureml-mlflow->-r model_management.txt (line 2)) (1.3.1)\nRequirement already satisfied: deprecated>=1.2.6 in /anaconda/envs/azureml_py310_sdkv2/lib/python3.10/site-packages (from opentelemetry-api<3,>=1.0.0->mlflow->-r model_management.txt (line 1)) (1.2.14)\nRequirement already satisfied: opentelemetry-semantic-conventions==0.45b0 in /anaconda/envs/azureml_py310_sdkv2/lib/python3.10/site-packages (from opentelemetry-sdk<3,>=1.0.0->mlflow->-r model_management.txt (line 1)) (0.45b0)\nRequirement already satisfied: charset-normalizer<4,>=2 in /anaconda/envs/azureml_py310_sdkv2/lib/python3.10/site-packages (from requests<3,>=2.17.3->mlflow->-r model_management.txt (line 1)) (3.1.0)\nRequirement already satisfied: idna<4,>=2.5 in /anaconda/envs/azureml_py310_sdkv2/lib/python3.10/site-packages (from requests<3,>=2.17.3->mlflow->-r model_management.txt (line 1)) (3.4)\nRequirement already satisfied: greenlet!=0.4.17 in /anaconda/envs/azureml_py310_sdkv2/lib/python3.10/site-packages (from sqlalchemy<3,>=1.4.0->mlflow->-r model_management.txt (line 1)) (2.0.2)\nRequirement already satisfied: msal<2.0.0,>=1.20.0 in /anaconda/envs/azureml_py310_sdkv2/lib/python3.10/site-packages (from azure-identity->azureml-mlflow->-r model_management.txt (line 2)) (1.22.0)\nRequirement already satisfied: msal-extensions<2.0.0,>=0.3.0 in /anaconda/envs/azureml_py310_sdkv2/lib/python3.10/site-packages (from azure-identity->azureml-mlflow->-r model_management.txt (line 2)) (1.0.0)\nRequirement already satisfied: databricks-cli<1,>=0.8.7 in /anaconda/envs/azureml_py310_sdkv2/lib/python3.10/site-packages (from mlflow-skinny->azureml-mlflow->-r model_management.txt (line 2)) (0.17.7)\nRequirement already satisfied: pycparser in /anaconda/envs/azureml_py310_sdkv2/lib/python3.10/site-packages (from cffi>=1.12->cryptography->azureml-mlflow->-r model_management.txt (line 2)) (2.21)\nRequirement already satisfied: pyjwt>=1.7.0 in /anaconda/envs/azureml_py310_sdkv2/lib/python3.10/site-packages (from databricks-cli<1,>=0.8.7->mlflow-skinny->azureml-mlflow->-r model_management.txt (line 2)) (2.7.0)\nRequirement already satisfied: oauthlib>=3.1.0 in /anaconda/envs/azureml_py310_sdkv2/lib/python3.10/site-packages (from databricks-cli<1,>=0.8.7->mlflow-skinny->azureml-mlflow->-r model_management.txt (line 2)) (3.2.2)\nRequirement already satisfied: tabulate>=0.7.7 in /anaconda/envs/azureml_py310_sdkv2/lib/python3.10/site-packages (from databricks-cli<1,>=0.8.7->mlflow-skinny->azureml-mlflow->-r model_management.txt (line 2)) (0.9.0)\nRequirement already satisfied: wrapt<2,>=1.10 in /anaconda/envs/azureml_py310_sdkv2/lib/python3.10/site-packages (from deprecated>=1.2.6->opentelemetry-api<3,>=1.0.0->mlflow->-r model_management.txt (line 1)) (1.16.0)\nRequirement already satisfied: smmap<6,>=3.0.1 in /anaconda/envs/azureml_py310_sdkv2/lib/python3.10/site-packages (from gitdb<5,>=4.0.1->gitpython<4,>=3.1.9->mlflow->-r model_management.txt (line 1)) (5.0.0)\nRequirement already satisfied: portalocker<3,>=1.0 in /anaconda/envs/azureml_py310_sdkv2/lib/python3.10/site-packages (from msal-extensions<2.0.0,>=0.3.0->azure-identity->azureml-mlflow->-r model_management.txt (line 2)) (2.7.0)\nInstalling collected packages: azure-storage-blob\n  Attempting uninstall: azure-storage-blob\n    Found existing installation: azure-storage-blob 12.16.0\n    Uninstalling azure-storage-blob-12.16.0:\n      Successfully uninstalled azure-storage-blob-12.16.0\n\u001b[31mERROR: pip's dependency resolver does not currently take into account all the packages that are installed. This behaviour is the source of the following dependency conflicts.\nazure-storage-file-datalake 12.11.0 requires azure-storage-blob<13.0.0,>=12.16.0b1, but you have azure-storage-blob 12.13.0 which is incompatible.\u001b[0m\u001b[31m\n\u001b[0mSuccessfully installed azure-storage-blob-12.13.0\nNote: you may need to restart the kernel to use updated packages.\n"
        }
      ],
      "execution_count": 16,
      "metadata": {
        "jupyter": {
          "source_hidden": false,
          "outputs_hidden": false
        },
        "nteract": {
          "transient": {
            "deleting": false
          }
        },
        "gather": {
          "logged": 1716667427281
        }
      }
    },
    {
      "cell_type": "code",
      "source": [
        "# Define naming conventions\n",
        "\n",
        "experiment_name = \"heart-condition-classifier\"\n",
        "model_name = \"heart-classifier\"\n",
        "artifact_path = \"model\""
      ],
      "outputs": [],
      "execution_count": 17,
      "metadata": {
        "jupyter": {
          "source_hidden": false,
          "outputs_hidden": false
        },
        "nteract": {
          "transient": {
            "deleting": false
          }
        },
        "gather": {
          "logged": 1716667427601
        }
      }
    },
    {
      "cell_type": "code",
      "source": [
        "# search for the last run of the experiment:\n",
        "\n",
        "exp = mlflow.get_experiment_by_name(experiment_name)\n",
        "last_run = mlflow.search_runs(exp.experiment_id, output_format=\"list\")[-1]\n",
        "print(last_run.info.run_id)"
      ],
      "outputs": [
        {
          "output_type": "stream",
          "name": "stdout",
          "text": "a6872159-589a-4528-aeac-3af5a9289712\n"
        }
      ],
      "execution_count": 18,
      "metadata": {
        "jupyter": {
          "source_hidden": false,
          "outputs_hidden": false
        },
        "nteract": {
          "transient": {
            "deleting": false
          }
        },
        "gather": {
          "logged": 1716667427978
        }
      }
    },
    {
      "cell_type": "code",
      "source": [
        "# register the model using Mlflow client\n",
        "\n",
        "mlflow.register_model(f\"runs:/{last_run.info.run_id}/{artifact_path}\", model_name)"
      ],
      "outputs": [
        {
          "output_type": "stream",
          "name": "stderr",
          "text": "Successfully registered model 'heart-classifier'.\n2024/05/25 20:03:48 INFO mlflow.store.model_registry.abstract_store: Waiting up to 300 seconds for model version to finish creation. Model name: heart-classifier, version 1\nCreated version '1' of model 'heart-classifier'.\n"
        },
        {
          "output_type": "execute_result",
          "execution_count": 19,
          "data": {
            "text/plain": "<ModelVersion: aliases=[], creation_timestamp=1716667428751, current_stage='None', description='', last_updated_timestamp=1716667428751, name='heart-classifier', run_id='a6872159-589a-4528-aeac-3af5a9289712', run_link='', source='azureml://westus.api.azureml.ms/mlflow/v2.0/subscriptions/3b57d2fe-08b1-4fe9-b535-f5c4387b9a66/resourceGroups/mlflow-rg71/providers/Microsoft.MachineLearningServices/workspaces/mlflow-ws71/experiments/965e518e-474d-47dd-b4b0-bbc01aa89545/runs/a6872159-589a-4528-aeac-3af5a9289712/artifacts/model', status='READY', status_message='', tags={}, user_id='', version='1'>"
          },
          "metadata": {}
        }
      ],
      "execution_count": 19,
      "metadata": {
        "jupyter": {
          "source_hidden": false,
          "outputs_hidden": false
        },
        "nteract": {
          "transient": {
            "deleting": false
          }
        },
        "gather": {
          "logged": 1716667428460
        }
      }
    },
    {
      "cell_type": "code",
      "source": [
        "# check if the model is registered\n",
        "\n",
        "mlflow_client = MlflowClient()\n",
        "model_versions = mlflow_client.search_model_versions(filter_string=f\"name = '{model_name}'\")"
      ],
      "outputs": [],
      "execution_count": 20,
      "metadata": {
        "jupyter": {
          "source_hidden": false,
          "outputs_hidden": false
        },
        "nteract": {
          "transient": {
            "deleting": false
          }
        },
        "gather": {
          "logged": 1716667428770
        }
      }
    },
    {
      "cell_type": "code",
      "source": [
        "model_versions"
      ],
      "outputs": [
        {
          "output_type": "execute_result",
          "execution_count": 21,
          "data": {
            "text/plain": "[<ModelVersion: aliases=[], creation_timestamp=1716667428751, current_stage='None', description='', last_updated_timestamp=1716667428751, name='heart-classifier', run_id='a6872159-589a-4528-aeac-3af5a9289712', run_link='', source='azureml://westus.api.azureml.ms/mlflow/v2.0/subscriptions/3b57d2fe-08b1-4fe9-b535-f5c4387b9a66/resourceGroups/mlflow-rg71/providers/Microsoft.MachineLearningServices/workspaces/mlflow-ws71/experiments/965e518e-474d-47dd-b4b0-bbc01aa89545/runs/a6872159-589a-4528-aeac-3af5a9289712/artifacts/model', status='READY', status_message='', tags={}, user_id='', version='1'>]"
          },
          "metadata": {}
        }
      ],
      "execution_count": 21,
      "metadata": {
        "jupyter": {
          "source_hidden": false,
          "outputs_hidden": false
        },
        "nteract": {
          "transient": {
            "deleting": false
          }
        },
        "gather": {
          "logged": 1716667429108
        }
      }
    },
    {
      "cell_type": "code",
      "source": [
        "# If model is not registered, then register\n",
        "\n",
        "if any(model_versions):\n",
        "    version = model_versions[0].version\n",
        "else:\n",
        "    registered_model = mlflow_client.create_model_version(\n",
        "        name=model_name, source=f\"file://{artifact_path}\"\n",
        "    )\n",
        "    version = registered_model.version"
      ],
      "outputs": [],
      "execution_count": 22,
      "metadata": {
        "jupyter": {
          "source_hidden": false,
          "outputs_hidden": false
        },
        "nteract": {
          "transient": {
            "deleting": false
          }
        },
        "gather": {
          "logged": 1716667429396
        }
      }
    },
    {
      "cell_type": "code",
      "source": [
        "print(f\"We are going to deploy model {model_name} with version {version}\")"
      ],
      "outputs": [
        {
          "output_type": "stream",
          "name": "stdout",
          "text": "We are going to deploy model heart-classifier with version 1\n"
        }
      ],
      "execution_count": 23,
      "metadata": {
        "jupyter": {
          "source_hidden": false,
          "outputs_hidden": false
        },
        "nteract": {
          "transient": {
            "deleting": false
          }
        },
        "gather": {
          "logged": 1716667429742
        }
      }
    },
    {
      "cell_type": "markdown",
      "source": [
        "# 8 - Create a web service"
      ],
      "metadata": {
        "nteract": {
          "transient": {
            "deleting": false
          }
        }
      }
    },
    {
      "cell_type": "markdown",
      "source": [
        "### a) Configure the web service for ACI"
      ],
      "metadata": {
        "nteract": {
          "transient": {
            "deleting": false
          }
        }
      }
    },
    {
      "cell_type": "code",
      "source": [
        "webservice_name = \"heart-classifier-aci\"\n",
        "print(f\"Web service name: {webservice_name}\")"
      ],
      "outputs": [
        {
          "output_type": "stream",
          "name": "stdout",
          "text": "Web service name: heart-classifier-aci\n"
        }
      ],
      "execution_count": 24,
      "metadata": {
        "jupyter": {
          "source_hidden": false,
          "outputs_hidden": false
        },
        "nteract": {
          "transient": {
            "deleting": false
          }
        },
        "gather": {
          "logged": 1716668034639
        }
      }
    },
    {
      "cell_type": "code",
      "source": [
        "# To configure the hardware requirements of your deployment, you need to create a JSON file with the desired configuration\n",
        "deploy_config = {\"computeType\": \"aci\"}"
      ],
      "outputs": [],
      "execution_count": 25,
      "metadata": {
        "jupyter": {
          "source_hidden": false,
          "outputs_hidden": false
        },
        "nteract": {
          "transient": {
            "deleting": false
          }
        },
        "gather": {
          "logged": 1716668087655
        }
      }
    },
    {
      "cell_type": "code",
      "source": [
        "# Write the configuration to a file\n",
        "\n",
        "import json\n",
        "\n",
        "deployment_config_path = \"deployment_config.json\"\n",
        "\n",
        "with open(deployment_config_path, \"w\") as outfile:\n",
        "    outfile.write(json.dumps(deploy_config))"
      ],
      "outputs": [],
      "execution_count": 26,
      "metadata": {
        "jupyter": {
          "source_hidden": false,
          "outputs_hidden": false
        },
        "nteract": {
          "transient": {
            "deleting": false
          }
        },
        "gather": {
          "logged": 1716668170970
        }
      }
    },
    {
      "cell_type": "markdown",
      "source": [
        "### b) Create the web service"
      ],
      "metadata": {
        "nteract": {
          "transient": {
            "deleting": false
          }
        }
      }
    },
    {
      "cell_type": "code",
      "source": [
        "# create an MLflow deployment client for Azure Machine Learning\n",
        "\n",
        "from mlflow.deployments import get_deploy_client\n",
        "deployment_client = get_deploy_client(mlflow.get_tracking_uri())"
      ],
      "outputs": [],
      "execution_count": 27,
      "metadata": {
        "jupyter": {
          "source_hidden": false,
          "outputs_hidden": false
        },
        "nteract": {
          "transient": {
            "deleting": false
          }
        },
        "gather": {
          "logged": 1716668366586
        }
      }
    },
    {
      "cell_type": "code",
      "source": [
        "# create a simple deployment \n",
        "\n",
        "deployment = deployment_client.create_deployment(\n",
        "    name=webservice_name,\n",
        "    model_uri=f\"models:/{model_name}/{version}\",\n",
        "    config={\"deploy-config-file\": deployment_config_path},\n",
        ")"
      ],
      "outputs": [
        {
          "output_type": "stream",
          "name": "stderr",
          "text": "Downloading artifacts: 100%|██████████| 9/9 [00:01<00:00,  8.51it/s]\n"
        },
        {
          "output_type": "stream",
          "name": "stdout",
          "text": "Running\n2024-05-25 20:25:34+00:00 Creating Container Registry if not exists....................\n2024-05-25 20:35:35+00:00 Registering the environment.\n2024-05-25 20:35:36+00:00 Building image.........................\n2024-05-25 20:47:21+00:00 Generating deployment configuration.\n2024-05-25 20:47:22+00:00 Submitting deployment to compute.\n2024-05-25 20:47:36+00:00 Checking the status of deployment heart-classifier-aci....\n2024-05-25 20:49:08+00:00 Checking the status of inference endpoint heart-classifier-aci.\nSucceeded\nAciService creation operation finished, operation \"Succeeded\"\n"
        }
      ],
      "execution_count": 28,
      "metadata": {
        "jupyter": {
          "source_hidden": false,
          "outputs_hidden": false
        },
        "nteract": {
          "transient": {
            "deleting": false
          }
        },
        "gather": {
          "logged": 1716670160720
        }
      }
    },
    {
      "cell_type": "code",
      "source": [
        "# Get the scoring URI from the web service\n",
        "\n",
        "scoring_uri = deployment_client.get_deployment(webservice_name)[\"scoringUri\"]"
      ],
      "outputs": [],
      "execution_count": 29,
      "metadata": {
        "jupyter": {
          "source_hidden": false,
          "outputs_hidden": false
        },
        "nteract": {
          "transient": {
            "deleting": false
          }
        },
        "gather": {
          "logged": 1716670404522
        }
      }
    },
    {
      "cell_type": "markdown",
      "source": [
        "# 9 - Test the deployment"
      ],
      "metadata": {
        "nteract": {
          "transient": {
            "deleting": false
          }
        }
      }
    },
    {
      "cell_type": "code",
      "source": [
        "df = pd.read_csv(\"data/heart.csv\")\n",
        "df"
      ],
      "outputs": [
        {
          "output_type": "execute_result",
          "execution_count": 30,
          "data": {
            "text/plain": "   age  sex  cp  trestbps  chol  fbs  restecg  thalach  exang  oldpeak  slope  \\\n0   67    1   4       120   229    0        2      129      1      2.6      2   \n1   41    0   2       130   204    0        2      172      0      1.4      1   \n2   62    0   4       140   268    0        2      160      0      3.6      3   \n3   63    1   4       130   254    0        2      147      0      1.4      2   \n4   57    1   4       140   192    0        0      148      0      0.4      2   \n\n   ca  thal  target  \n0   2     4       0  \n1   0     3       0  \n2   2     3       1  \n3   1     4       1  \n4   0     2       0  ",
            "text/html": "<div>\n<style scoped>\n    .dataframe tbody tr th:only-of-type {\n        vertical-align: middle;\n    }\n\n    .dataframe tbody tr th {\n        vertical-align: top;\n    }\n\n    .dataframe thead th {\n        text-align: right;\n    }\n</style>\n<table border=\"1\" class=\"dataframe\">\n  <thead>\n    <tr style=\"text-align: right;\">\n      <th></th>\n      <th>age</th>\n      <th>sex</th>\n      <th>cp</th>\n      <th>trestbps</th>\n      <th>chol</th>\n      <th>fbs</th>\n      <th>restecg</th>\n      <th>thalach</th>\n      <th>exang</th>\n      <th>oldpeak</th>\n      <th>slope</th>\n      <th>ca</th>\n      <th>thal</th>\n      <th>target</th>\n    </tr>\n  </thead>\n  <tbody>\n    <tr>\n      <th>0</th>\n      <td>67</td>\n      <td>1</td>\n      <td>4</td>\n      <td>120</td>\n      <td>229</td>\n      <td>0</td>\n      <td>2</td>\n      <td>129</td>\n      <td>1</td>\n      <td>2.6</td>\n      <td>2</td>\n      <td>2</td>\n      <td>4</td>\n      <td>0</td>\n    </tr>\n    <tr>\n      <th>1</th>\n      <td>41</td>\n      <td>0</td>\n      <td>2</td>\n      <td>130</td>\n      <td>204</td>\n      <td>0</td>\n      <td>2</td>\n      <td>172</td>\n      <td>0</td>\n      <td>1.4</td>\n      <td>1</td>\n      <td>0</td>\n      <td>3</td>\n      <td>0</td>\n    </tr>\n    <tr>\n      <th>2</th>\n      <td>62</td>\n      <td>0</td>\n      <td>4</td>\n      <td>140</td>\n      <td>268</td>\n      <td>0</td>\n      <td>2</td>\n      <td>160</td>\n      <td>0</td>\n      <td>3.6</td>\n      <td>3</td>\n      <td>2</td>\n      <td>3</td>\n      <td>1</td>\n    </tr>\n    <tr>\n      <th>3</th>\n      <td>63</td>\n      <td>1</td>\n      <td>4</td>\n      <td>130</td>\n      <td>254</td>\n      <td>0</td>\n      <td>2</td>\n      <td>147</td>\n      <td>0</td>\n      <td>1.4</td>\n      <td>2</td>\n      <td>1</td>\n      <td>4</td>\n      <td>1</td>\n    </tr>\n    <tr>\n      <th>4</th>\n      <td>57</td>\n      <td>1</td>\n      <td>4</td>\n      <td>140</td>\n      <td>192</td>\n      <td>0</td>\n      <td>0</td>\n      <td>148</td>\n      <td>0</td>\n      <td>0.4</td>\n      <td>2</td>\n      <td>0</td>\n      <td>2</td>\n      <td>0</td>\n    </tr>\n  </tbody>\n</table>\n</div>"
          },
          "metadata": {}
        }
      ],
      "execution_count": 30,
      "metadata": {
        "jupyter": {
          "source_hidden": false,
          "outputs_hidden": false
        },
        "nteract": {
          "transient": {
            "deleting": false
          }
        },
        "gather": {
          "logged": 1716670605354
        }
      }
    },
    {
      "cell_type": "code",
      "source": [
        "df.drop(columns=['target'], inplace=True)\n",
        "df"
      ],
      "outputs": [
        {
          "output_type": "execute_result",
          "execution_count": 31,
          "data": {
            "text/plain": "   age  sex  cp  trestbps  chol  fbs  restecg  thalach  exang  oldpeak  slope  \\\n0   67    1   4       120   229    0        2      129      1      2.6      2   \n1   41    0   2       130   204    0        2      172      0      1.4      1   \n2   62    0   4       140   268    0        2      160      0      3.6      3   \n3   63    1   4       130   254    0        2      147      0      1.4      2   \n4   57    1   4       140   192    0        0      148      0      0.4      2   \n\n   ca  thal  \n0   2     4  \n1   0     3  \n2   2     3  \n3   1     4  \n4   0     2  ",
            "text/html": "<div>\n<style scoped>\n    .dataframe tbody tr th:only-of-type {\n        vertical-align: middle;\n    }\n\n    .dataframe tbody tr th {\n        vertical-align: top;\n    }\n\n    .dataframe thead th {\n        text-align: right;\n    }\n</style>\n<table border=\"1\" class=\"dataframe\">\n  <thead>\n    <tr style=\"text-align: right;\">\n      <th></th>\n      <th>age</th>\n      <th>sex</th>\n      <th>cp</th>\n      <th>trestbps</th>\n      <th>chol</th>\n      <th>fbs</th>\n      <th>restecg</th>\n      <th>thalach</th>\n      <th>exang</th>\n      <th>oldpeak</th>\n      <th>slope</th>\n      <th>ca</th>\n      <th>thal</th>\n    </tr>\n  </thead>\n  <tbody>\n    <tr>\n      <th>0</th>\n      <td>67</td>\n      <td>1</td>\n      <td>4</td>\n      <td>120</td>\n      <td>229</td>\n      <td>0</td>\n      <td>2</td>\n      <td>129</td>\n      <td>1</td>\n      <td>2.6</td>\n      <td>2</td>\n      <td>2</td>\n      <td>4</td>\n    </tr>\n    <tr>\n      <th>1</th>\n      <td>41</td>\n      <td>0</td>\n      <td>2</td>\n      <td>130</td>\n      <td>204</td>\n      <td>0</td>\n      <td>2</td>\n      <td>172</td>\n      <td>0</td>\n      <td>1.4</td>\n      <td>1</td>\n      <td>0</td>\n      <td>3</td>\n    </tr>\n    <tr>\n      <th>2</th>\n      <td>62</td>\n      <td>0</td>\n      <td>4</td>\n      <td>140</td>\n      <td>268</td>\n      <td>0</td>\n      <td>2</td>\n      <td>160</td>\n      <td>0</td>\n      <td>3.6</td>\n      <td>3</td>\n      <td>2</td>\n      <td>3</td>\n    </tr>\n    <tr>\n      <th>3</th>\n      <td>63</td>\n      <td>1</td>\n      <td>4</td>\n      <td>130</td>\n      <td>254</td>\n      <td>0</td>\n      <td>2</td>\n      <td>147</td>\n      <td>0</td>\n      <td>1.4</td>\n      <td>2</td>\n      <td>1</td>\n      <td>4</td>\n    </tr>\n    <tr>\n      <th>4</th>\n      <td>57</td>\n      <td>1</td>\n      <td>4</td>\n      <td>140</td>\n      <td>192</td>\n      <td>0</td>\n      <td>0</td>\n      <td>148</td>\n      <td>0</td>\n      <td>0.4</td>\n      <td>2</td>\n      <td>0</td>\n      <td>2</td>\n    </tr>\n  </tbody>\n</table>\n</div>"
          },
          "metadata": {}
        }
      ],
      "execution_count": 31,
      "metadata": {
        "jupyter": {
          "source_hidden": false,
          "outputs_hidden": false
        },
        "nteract": {
          "transient": {
            "deleting": false
          }
        },
        "gather": {
          "logged": 1716670626861
        }
      }
    },
    {
      "cell_type": "code",
      "source": [
        "deployment_client.predict(deployment_name=webservice_name, df=df)"
      ],
      "outputs": [
        {
          "output_type": "execute_result",
          "execution_count": 32,
          "data": {
            "text/plain": "array([1, 0, 1, 1, 0])"
          },
          "metadata": {}
        }
      ],
      "execution_count": 32,
      "metadata": {
        "jupyter": {
          "source_hidden": false,
          "outputs_hidden": false
        },
        "nteract": {
          "transient": {
            "deleting": false
          }
        },
        "gather": {
          "logged": 1716670654326
        }
      }
    },
    {
      "cell_type": "markdown",
      "source": [
        "# 10 - Invoke the web service with REST"
      ],
      "metadata": {
        "nteract": {
          "transient": {
            "deleting": false
          }
        }
      }
    },
    {
      "cell_type": "code",
      "source": [
        "# Sample Data Preparation\n",
        "\n",
        "sample_request = {\n",
        "    \"input_data\": json.loads(df.to_json(orient=\"split\", index=False))\n",
        "}"
      ],
      "outputs": [],
      "execution_count": 33,
      "metadata": {
        "jupyter": {
          "source_hidden": false,
          "outputs_hidden": false
        },
        "nteract": {
          "transient": {
            "deleting": false
          }
        },
        "gather": {
          "logged": 1716670856281
        }
      }
    },
    {
      "cell_type": "code",
      "source": [
        "# Setting Headers\n",
        "\n",
        "headers = {\n",
        "    \"Content-Type\": \"application/json\",\n",
        "}"
      ],
      "outputs": [],
      "execution_count": 34,
      "metadata": {
        "jupyter": {
          "source_hidden": false,
          "outputs_hidden": false
        },
        "nteract": {
          "transient": {
            "deleting": false
          }
        },
        "gather": {
          "logged": 1716670948467
        }
      }
    },
    {
      "cell_type": "code",
      "source": [
        "# Send Prediction Request\n",
        "\n",
        "import requests\n",
        "\n",
        "req = requests.post(scoring_uri, json=sample_request, headers=headers)\n",
        "\n",
        "\n",
        "# Getting the Response\n",
        "req.json()"
      ],
      "outputs": [
        {
          "output_type": "execute_result",
          "execution_count": 35,
          "data": {
            "text/plain": "[1, 0, 1, 1, 0]"
          },
          "metadata": {}
        }
      ],
      "execution_count": 35,
      "metadata": {
        "jupyter": {
          "source_hidden": false,
          "outputs_hidden": false
        },
        "nteract": {
          "transient": {
            "deleting": false
          }
        },
        "gather": {
          "logged": 1716671102555
        }
      }
    }
  ],
  "metadata": {
    "kernelspec": {
      "name": "python310-sdkv2",
      "language": "python",
      "display_name": "Python 3.10 - SDK v2"
    },
    "language_info": {
      "name": "python",
      "version": "3.10.11",
      "mimetype": "text/x-python",
      "codemirror_mode": {
        "name": "ipython",
        "version": 3
      },
      "pygments_lexer": "ipython3",
      "nbconvert_exporter": "python",
      "file_extension": ".py"
    },
    "microsoft": {
      "ms_spell_check": {
        "ms_spell_check_language": "en"
      },
      "host": {
        "AzureML": {
          "notebookHasBeenCompleted": true
        }
      }
    },
    "kernel_info": {
      "name": "python310-sdkv2"
    },
    "nteract": {
      "version": "nteract-front-end@1.0.0"
    }
  },
  "nbformat": 4,
  "nbformat_minor": 2
}