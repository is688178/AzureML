{
  "cells": [
    {
      "cell_type": "markdown",
      "source": [
        "# 1 - Business Problem"
      ],
      "metadata": {
        "nteract": {
          "transient": {
            "deleting": false
          }
        }
      }
    },
    {
      "cell_type": "code",
      "source": [
        "import pandas as pd\n",
        "\n",
        "df = pd.read_csv(\"./data/training-mltable-folder/bank_marketing_train_data.csv\")\n",
        "df.head()"
      ],
      "outputs": [
        {
          "output_type": "execute_result",
          "execution_count": 1,
          "data": {
            "text/plain": "   age          job  marital    education  default housing loan    contact  \\\n0   57   technician  married  high.school       no      no  yes   cellular   \n1   55      unknown  married      unknown  unknown     yes   no  telephone   \n2   33  blue-collar  married     basic.9y       no      no   no   cellular   \n3   36       admin.  married  high.school       no      no   no  telephone   \n4   27    housemaid  married  high.school       no     yes   no   cellular   \n\n  month day_of_week  ...  campaign  pdays  previous     poutcome emp.var.rate  \\\n0   may         mon  ...         1    999         1      failure         -1.8   \n1   may         thu  ...         2    999         0  nonexistent          1.1   \n2   may         fri  ...         1    999         1      failure         -1.8   \n3   jun         fri  ...         4    999         0  nonexistent          1.4   \n4   jul         fri  ...         2    999         0  nonexistent          1.4   \n\n   cons.price.idx  cons.conf.idx  euribor3m  nr.employed   y  \n0          92.893          -46.2      1.299       5099.1  no  \n1          93.994          -36.4      4.860       5191.0  no  \n2          92.893          -46.2      1.313       5099.1  no  \n3          94.465          -41.8      4.967       5228.1  no  \n4          93.918          -42.7      4.963       5228.1  no  \n\n[5 rows x 21 columns]",
            "text/html": "<div>\n<style scoped>\n    .dataframe tbody tr th:only-of-type {\n        vertical-align: middle;\n    }\n\n    .dataframe tbody tr th {\n        vertical-align: top;\n    }\n\n    .dataframe thead th {\n        text-align: right;\n    }\n</style>\n<table border=\"1\" class=\"dataframe\">\n  <thead>\n    <tr style=\"text-align: right;\">\n      <th></th>\n      <th>age</th>\n      <th>job</th>\n      <th>marital</th>\n      <th>education</th>\n      <th>default</th>\n      <th>housing</th>\n      <th>loan</th>\n      <th>contact</th>\n      <th>month</th>\n      <th>day_of_week</th>\n      <th>...</th>\n      <th>campaign</th>\n      <th>pdays</th>\n      <th>previous</th>\n      <th>poutcome</th>\n      <th>emp.var.rate</th>\n      <th>cons.price.idx</th>\n      <th>cons.conf.idx</th>\n      <th>euribor3m</th>\n      <th>nr.employed</th>\n      <th>y</th>\n    </tr>\n  </thead>\n  <tbody>\n    <tr>\n      <th>0</th>\n      <td>57</td>\n      <td>technician</td>\n      <td>married</td>\n      <td>high.school</td>\n      <td>no</td>\n      <td>no</td>\n      <td>yes</td>\n      <td>cellular</td>\n      <td>may</td>\n      <td>mon</td>\n      <td>...</td>\n      <td>1</td>\n      <td>999</td>\n      <td>1</td>\n      <td>failure</td>\n      <td>-1.8</td>\n      <td>92.893</td>\n      <td>-46.2</td>\n      <td>1.299</td>\n      <td>5099.1</td>\n      <td>no</td>\n    </tr>\n    <tr>\n      <th>1</th>\n      <td>55</td>\n      <td>unknown</td>\n      <td>married</td>\n      <td>unknown</td>\n      <td>unknown</td>\n      <td>yes</td>\n      <td>no</td>\n      <td>telephone</td>\n      <td>may</td>\n      <td>thu</td>\n      <td>...</td>\n      <td>2</td>\n      <td>999</td>\n      <td>0</td>\n      <td>nonexistent</td>\n      <td>1.1</td>\n      <td>93.994</td>\n      <td>-36.4</td>\n      <td>4.860</td>\n      <td>5191.0</td>\n      <td>no</td>\n    </tr>\n    <tr>\n      <th>2</th>\n      <td>33</td>\n      <td>blue-collar</td>\n      <td>married</td>\n      <td>basic.9y</td>\n      <td>no</td>\n      <td>no</td>\n      <td>no</td>\n      <td>cellular</td>\n      <td>may</td>\n      <td>fri</td>\n      <td>...</td>\n      <td>1</td>\n      <td>999</td>\n      <td>1</td>\n      <td>failure</td>\n      <td>-1.8</td>\n      <td>92.893</td>\n      <td>-46.2</td>\n      <td>1.313</td>\n      <td>5099.1</td>\n      <td>no</td>\n    </tr>\n    <tr>\n      <th>3</th>\n      <td>36</td>\n      <td>admin.</td>\n      <td>married</td>\n      <td>high.school</td>\n      <td>no</td>\n      <td>no</td>\n      <td>no</td>\n      <td>telephone</td>\n      <td>jun</td>\n      <td>fri</td>\n      <td>...</td>\n      <td>4</td>\n      <td>999</td>\n      <td>0</td>\n      <td>nonexistent</td>\n      <td>1.4</td>\n      <td>94.465</td>\n      <td>-41.8</td>\n      <td>4.967</td>\n      <td>5228.1</td>\n      <td>no</td>\n    </tr>\n    <tr>\n      <th>4</th>\n      <td>27</td>\n      <td>housemaid</td>\n      <td>married</td>\n      <td>high.school</td>\n      <td>no</td>\n      <td>yes</td>\n      <td>no</td>\n      <td>cellular</td>\n      <td>jul</td>\n      <td>fri</td>\n      <td>...</td>\n      <td>2</td>\n      <td>999</td>\n      <td>0</td>\n      <td>nonexistent</td>\n      <td>1.4</td>\n      <td>93.918</td>\n      <td>-42.7</td>\n      <td>4.963</td>\n      <td>5228.1</td>\n      <td>no</td>\n    </tr>\n  </tbody>\n</table>\n<p>5 rows × 21 columns</p>\n</div>"
          },
          "metadata": {}
        }
      ],
      "execution_count": 1,
      "metadata": {
        "gather": {
          "logged": 1714190884119
        }
      }
    },
    {
      "cell_type": "code",
      "source": [
        "df.shape"
      ],
      "outputs": [
        {
          "output_type": "execute_result",
          "execution_count": 2,
          "data": {
            "text/plain": "(29999, 21)"
          },
          "metadata": {}
        }
      ],
      "execution_count": 2,
      "metadata": {
        "jupyter": {
          "source_hidden": false,
          "outputs_hidden": false
        },
        "nteract": {
          "transient": {
            "deleting": false
          }
        },
        "gather": {
          "logged": 1714190911106
        }
      }
    },
    {
      "cell_type": "code",
      "source": [
        "df.info()"
      ],
      "outputs": [
        {
          "output_type": "stream",
          "name": "stdout",
          "text": "<class 'pandas.core.frame.DataFrame'>\nRangeIndex: 29999 entries, 0 to 29998\nData columns (total 21 columns):\n #   Column          Non-Null Count  Dtype  \n---  ------          --------------  -----  \n 0   age             29999 non-null  int64  \n 1   job             29999 non-null  object \n 2   marital         29999 non-null  object \n 3   education       29999 non-null  object \n 4   default         29999 non-null  object \n 5   housing         29999 non-null  object \n 6   loan            29999 non-null  object \n 7   contact         29999 non-null  object \n 8   month           29999 non-null  object \n 9   day_of_week     29999 non-null  object \n 10  duration        29999 non-null  int64  \n 11  campaign        29999 non-null  int64  \n 12  pdays           29999 non-null  int64  \n 13  previous        29999 non-null  int64  \n 14  poutcome        29999 non-null  object \n 15  emp.var.rate    29999 non-null  float64\n 16  cons.price.idx  29999 non-null  float64\n 17  cons.conf.idx   29999 non-null  float64\n 18  euribor3m       29999 non-null  float64\n 19  nr.employed     29999 non-null  float64\n 20  y               29999 non-null  object \ndtypes: float64(5), int64(5), object(11)\nmemory usage: 4.8+ MB\n"
        }
      ],
      "execution_count": 3,
      "metadata": {
        "jupyter": {
          "source_hidden": false,
          "outputs_hidden": false
        },
        "nteract": {
          "transient": {
            "deleting": false
          }
        },
        "gather": {
          "logged": 1714190912563
        }
      }
    },
    {
      "cell_type": "code",
      "source": [
        "df.describe()"
      ],
      "outputs": [
        {
          "output_type": "execute_result",
          "execution_count": 4,
          "data": {
            "text/plain": "                age      duration      campaign         pdays      previous  \\\ncount  29999.000000  29999.000000  29999.000000  29999.000000  29999.000000   \nmean      40.042968    258.482849      2.567719    962.059369      0.174539   \nstd       10.443217    260.242432      2.783605    187.933424      0.497949   \nmin       17.000000      0.000000      1.000000      0.000000      0.000000   \n25%       32.000000    102.000000      1.000000    999.000000      0.000000   \n50%       38.000000    179.000000      2.000000    999.000000      0.000000   \n75%       47.000000    319.000000      3.000000    999.000000      0.000000   \nmax       98.000000   4918.000000     56.000000    999.000000      7.000000   \n\n       emp.var.rate  cons.price.idx  cons.conf.idx     euribor3m   nr.employed  \ncount  29999.000000    29999.000000   29999.000000  29999.000000  29999.000000  \nmean       0.078083       93.575004     -40.513184      3.618437   5166.945855  \nstd        1.571887        0.578637       4.620560      1.734565     72.169284  \nmin       -3.400000       92.201000     -50.800000      0.634000   4963.600000  \n25%       -1.800000       93.075000     -42.700000      1.344000   5099.100000  \n50%        1.100000       93.749000     -41.800000      4.857000   5191.000000  \n75%        1.400000       93.994000     -36.400000      4.961000   5228.100000  \nmax        1.400000       94.767000     -26.900000      5.045000   5228.100000  ",
            "text/html": "<div>\n<style scoped>\n    .dataframe tbody tr th:only-of-type {\n        vertical-align: middle;\n    }\n\n    .dataframe tbody tr th {\n        vertical-align: top;\n    }\n\n    .dataframe thead th {\n        text-align: right;\n    }\n</style>\n<table border=\"1\" class=\"dataframe\">\n  <thead>\n    <tr style=\"text-align: right;\">\n      <th></th>\n      <th>age</th>\n      <th>duration</th>\n      <th>campaign</th>\n      <th>pdays</th>\n      <th>previous</th>\n      <th>emp.var.rate</th>\n      <th>cons.price.idx</th>\n      <th>cons.conf.idx</th>\n      <th>euribor3m</th>\n      <th>nr.employed</th>\n    </tr>\n  </thead>\n  <tbody>\n    <tr>\n      <th>count</th>\n      <td>29999.000000</td>\n      <td>29999.000000</td>\n      <td>29999.000000</td>\n      <td>29999.000000</td>\n      <td>29999.000000</td>\n      <td>29999.000000</td>\n      <td>29999.000000</td>\n      <td>29999.000000</td>\n      <td>29999.000000</td>\n      <td>29999.000000</td>\n    </tr>\n    <tr>\n      <th>mean</th>\n      <td>40.042968</td>\n      <td>258.482849</td>\n      <td>2.567719</td>\n      <td>962.059369</td>\n      <td>0.174539</td>\n      <td>0.078083</td>\n      <td>93.575004</td>\n      <td>-40.513184</td>\n      <td>3.618437</td>\n      <td>5166.945855</td>\n    </tr>\n    <tr>\n      <th>std</th>\n      <td>10.443217</td>\n      <td>260.242432</td>\n      <td>2.783605</td>\n      <td>187.933424</td>\n      <td>0.497949</td>\n      <td>1.571887</td>\n      <td>0.578637</td>\n      <td>4.620560</td>\n      <td>1.734565</td>\n      <td>72.169284</td>\n    </tr>\n    <tr>\n      <th>min</th>\n      <td>17.000000</td>\n      <td>0.000000</td>\n      <td>1.000000</td>\n      <td>0.000000</td>\n      <td>0.000000</td>\n      <td>-3.400000</td>\n      <td>92.201000</td>\n      <td>-50.800000</td>\n      <td>0.634000</td>\n      <td>4963.600000</td>\n    </tr>\n    <tr>\n      <th>25%</th>\n      <td>32.000000</td>\n      <td>102.000000</td>\n      <td>1.000000</td>\n      <td>999.000000</td>\n      <td>0.000000</td>\n      <td>-1.800000</td>\n      <td>93.075000</td>\n      <td>-42.700000</td>\n      <td>1.344000</td>\n      <td>5099.100000</td>\n    </tr>\n    <tr>\n      <th>50%</th>\n      <td>38.000000</td>\n      <td>179.000000</td>\n      <td>2.000000</td>\n      <td>999.000000</td>\n      <td>0.000000</td>\n      <td>1.100000</td>\n      <td>93.749000</td>\n      <td>-41.800000</td>\n      <td>4.857000</td>\n      <td>5191.000000</td>\n    </tr>\n    <tr>\n      <th>75%</th>\n      <td>47.000000</td>\n      <td>319.000000</td>\n      <td>3.000000</td>\n      <td>999.000000</td>\n      <td>0.000000</td>\n      <td>1.400000</td>\n      <td>93.994000</td>\n      <td>-36.400000</td>\n      <td>4.961000</td>\n      <td>5228.100000</td>\n    </tr>\n    <tr>\n      <th>max</th>\n      <td>98.000000</td>\n      <td>4918.000000</td>\n      <td>56.000000</td>\n      <td>999.000000</td>\n      <td>7.000000</td>\n      <td>1.400000</td>\n      <td>94.767000</td>\n      <td>-26.900000</td>\n      <td>5.045000</td>\n      <td>5228.100000</td>\n    </tr>\n  </tbody>\n</table>\n</div>"
          },
          "metadata": {}
        }
      ],
      "execution_count": 4,
      "metadata": {
        "jupyter": {
          "source_hidden": false,
          "outputs_hidden": false
        },
        "nteract": {
          "transient": {
            "deleting": false
          }
        },
        "gather": {
          "logged": 1714190915365
        }
      }
    },
    {
      "cell_type": "markdown",
      "source": [
        "# 2 - Connect to Azure Machine Learning Workspace"
      ],
      "metadata": {
        "nteract": {
          "transient": {
            "deleting": false
          }
        }
      }
    },
    {
      "cell_type": "code",
      "source": [
        "# Import required libraries\n",
        "import os\n",
        "from azure.identity import DefaultAzureCredential\n",
        "from azure.ai.ml import automl, Input, MLClient, command\n",
        "\n",
        "from azure.ai.ml.constants import AssetTypes\n",
        "from azure.ai.ml.entities import Data\n",
        "from azure.ai.ml.automl import (classification, ClassificationPrimaryMetrics, ClassificationModels)"
      ],
      "outputs": [],
      "execution_count": 5,
      "metadata": {
        "jupyter": {
          "source_hidden": false,
          "outputs_hidden": false
        },
        "nteract": {
          "transient": {
            "deleting": false
          }
        },
        "gather": {
          "logged": 1714190918845
        }
      }
    },
    {
      "cell_type": "code",
      "source": [
        "# Configure workspace details and get a handle to workspace\n",
        "\n",
        "# Details of azure ML workspace\n",
        "subscription_id = \"3b57d2fe-08b1-4fe9-b535-f5c4387b9a66\"\n",
        "resource_group = \"automl-rg\"\n",
        "workspace = \"automl-ws\"\n",
        "\n",
        "# Get a handle to workspace\n",
        "ml_client = MLClient(DefaultAzureCredential(), subscription_id, resource_group, workspace)"
      ],
      "outputs": [],
      "execution_count": 6,
      "metadata": {
        "jupyter": {
          "source_hidden": false,
          "outputs_hidden": false
        },
        "nteract": {
          "transient": {
            "deleting": false
          }
        },
        "gather": {
          "logged": 1714190919546
        }
      }
    },
    {
      "cell_type": "code",
      "source": [
        "# Show Azure ML Workspace information\n",
        "\n",
        "workspace = ml_client.workspaces.get(name=ml_client.workspace_name)\n",
        "\n",
        "subscription_id = ml_client.connections._subscription_id\n",
        "resource_group = workspace.resource_group\n",
        "workspace_name = ml_client.workspace_name\n",
        "\n",
        "output = {}\n",
        "output[\"Workspace\"] = workspace_name\n",
        "output[\"Subscription ID\"] = subscription_id\n",
        "output[\"Resource Group\"] = resource_group\n",
        "output[\"Location\"] = workspace.location\n",
        "output"
      ],
      "outputs": [
        {
          "output_type": "execute_result",
          "execution_count": 7,
          "data": {
            "text/plain": "{'Workspace': 'automl-ws',\n 'Subscription ID': '3b57d2fe-08b1-4fe9-b535-f5c4387b9a66',\n 'Resource Group': 'automl-rg',\n 'Location': 'westus'}"
          },
          "metadata": {}
        }
      ],
      "execution_count": 7,
      "metadata": {
        "jupyter": {
          "source_hidden": false,
          "outputs_hidden": false
        },
        "nteract": {
          "transient": {
            "deleting": false
          }
        },
        "gather": {
          "logged": 1714190921984
        }
      }
    },
    {
      "cell_type": "markdown",
      "source": [
        "# 3 - MLTable with input Training Data"
      ],
      "metadata": {
        "nteract": {
          "transient": {
            "deleting": false
          }
        }
      }
    },
    {
      "cell_type": "code",
      "source": [
        "# Create MLTable\n",
        "\n",
        "import mltable\n",
        "\n",
        "paths = [{'file': './data/training-mltable-folder/bank_marketing_train_data.csv'}]\n",
        "\n",
        "train_table = mltable.from_delimited_files(paths)\n",
        "train_table.save(\"./data/training-mltable-folder\")"
      ],
      "outputs": [],
      "execution_count": 8,
      "metadata": {
        "jupyter": {
          "source_hidden": false,
          "outputs_hidden": false
        },
        "nteract": {
          "transient": {
            "deleting": false
          }
        },
        "gather": {
          "logged": 1714190925930
        }
      }
    },
    {
      "cell_type": "code",
      "source": [
        "# Create MLTable data input\n",
        "\n",
        "my_training_data_input = Input(type=AssetTypes.MLTABLE, path='./data/training-mltable-folder')"
      ],
      "outputs": [],
      "execution_count": 9,
      "metadata": {
        "jupyter": {
          "source_hidden": false,
          "outputs_hidden": false
        },
        "nteract": {
          "transient": {
            "deleting": false
          }
        },
        "gather": {
          "logged": 1714190926123
        }
      }
    },
    {
      "cell_type": "markdown",
      "source": [
        "# 4 - Compute target setup"
      ],
      "metadata": {
        "nteract": {
          "transient": {
            "deleting": false
          }
        }
      }
    },
    {
      "cell_type": "code",
      "source": [
        "# Create or Attach existing AmlCompute\n",
        "\n",
        "from azure.ai.ml.entities import AmlCompute\n",
        "from azure.core.exceptions import ResourceNotFoundError\n",
        "\n",
        "compute_name = \"cpu-cluster\"\n",
        "\n",
        "try:\n",
        "    _ = ml_client.compute.get(compute_name)\n",
        "    print(\"Found existing compute target.\")\n",
        "except ResourceNotFoundError:\n",
        "    print(\"Creating a new compute target...\")\n",
        "    compute_config = AmlCompute(\n",
        "        name=compute_name,\n",
        "        type=\"amlcompute\",\n",
        "        size=\"STANDARD_DS12_V2\",\n",
        "        idle_time_before_scale_down=120,\n",
        "        min_instances=0,\n",
        "        max_instances=6,\n",
        "    )\n",
        "    ml_client.begin_create_or_update(compute_config).result()"
      ],
      "outputs": [
        {
          "output_type": "stream",
          "name": "stdout",
          "text": "Creating a new compute target...\n"
        }
      ],
      "execution_count": 10,
      "metadata": {
        "jupyter": {
          "source_hidden": false,
          "outputs_hidden": false
        },
        "nteract": {
          "transient": {
            "deleting": false
          }
        },
        "gather": {
          "logged": 1714190958723
        }
      }
    },
    {
      "cell_type": "markdown",
      "source": [
        "# 5 - Configure and run AutoML classification job"
      ],
      "metadata": {
        "nteract": {
          "transient": {
            "deleting": false
          }
        }
      }
    },
    {
      "cell_type": "code",
      "source": [
        "max_trials = 5\n",
        "exp_name = \"bank-marketing-classification-experiment\""
      ],
      "outputs": [],
      "execution_count": 11,
      "metadata": {
        "jupyter": {
          "source_hidden": false,
          "outputs_hidden": false
        },
        "nteract": {
          "transient": {
            "deleting": false
          }
        },
        "gather": {
          "logged": 1714190996697
        }
      }
    },
    {
      "cell_type": "code",
      "source": [
        "# AutoML classification job\n",
        "classification_job = automl.classification(\n",
        "    compute=compute_name,\n",
        "    experiment_name=exp_name,\n",
        "    training_data=my_training_data_input,\n",
        "    target_column_name='y',\n",
        "    primary_metric='accuracy',\n",
        "    n_cross_validations=5,\n",
        "    enable_model_explainability=True,\n",
        "    tags={\"custom tag\":\"custom value\"}\n",
        ")\n",
        "\n",
        "# Limits\n",
        "classification_job.set_limits(\n",
        "    timeout_minutes=60,\n",
        "    trial_timeout_minutes=5,\n",
        "    max_trials=max_trials,\n",
        "    enable_early_termination=True\n",
        ")\n",
        "\n",
        "# Training properties (optional)\n",
        "classification_job.set_training(\n",
        "    blocked_training_algorithms=[ClassificationModels.LOGISTIC_REGRESSION],\n",
        "    enable_onnx_compatible_models=True\n",
        ")"
      ],
      "outputs": [],
      "execution_count": 12,
      "metadata": {
        "jupyter": {
          "source_hidden": false,
          "outputs_hidden": false
        },
        "nteract": {
          "transient": {
            "deleting": false
          }
        },
        "gather": {
          "logged": 1714190999234
        }
      }
    },
    {
      "cell_type": "code",
      "source": [
        "# Submit AutoML job\n",
        "\n",
        "returned_job = ml_client.create_or_update(classification_job)\n",
        "print(f\"Created job: {returned_job}\")"
      ],
      "outputs": [
        {
          "output_type": "stream",
          "name": "stdout",
          "text": "Created job: compute: azureml:cpu-cluster\ncreation_context:\n  created_at: '2024-04-27T04:10:05.867246+00:00'\n  created_by: Vijay Gadhave\n  created_by_type: User\ndisplay_name: dynamic_frog_vww91ltjw6\nexperiment_name: bank-marketing-classification-experiment\nid: azureml:/subscriptions/3b57d2fe-08b1-4fe9-b535-f5c4387b9a66/resourceGroups/automl-rg/providers/Microsoft.MachineLearningServices/workspaces/automl-ws/jobs/dynamic_frog_vww91ltjw6\nlimits:\n  enable_early_termination: true\n  max_concurrent_trials: 1\n  max_cores_per_trial: -1\n  max_nodes: 1\n  max_trials: 5\n  timeout_minutes: 60\n  trial_timeout_minutes: 5\nlog_verbosity: info\nn_cross_validations: 5\nname: dynamic_frog_vww91ltjw6\noutputs: {}\nprimary_metric: accuracy\nproperties: {}\nresources:\n  instance_count: 1\n  shm_size: 2g\nservices:\n  Studio:\n    endpoint: https://ml.azure.com/runs/dynamic_frog_vww91ltjw6?wsid=/subscriptions/3b57d2fe-08b1-4fe9-b535-f5c4387b9a66/resourcegroups/automl-rg/workspaces/automl-ws&tid=843e1e65-e875-4fbd-8ddc-ce696f3a551d\n  Tracking:\n    endpoint: azureml://westus.api.azureml.ms/mlflow/v1.0/subscriptions/3b57d2fe-08b1-4fe9-b535-f5c4387b9a66/resourceGroups/automl-rg/providers/Microsoft.MachineLearningServices/workspaces/automl-ws?\nstatus: NotStarted\ntags:\n  custom tag: custom value\ntarget_column_name: y\ntask: classification\ntraining:\n  blocked_training_algorithms:\n  - logistic_regression\n  enable_dnn_training: false\n  enable_model_explainability: true\n  enable_onnx_compatible_models: true\n  enable_stack_ensemble: true\n  enable_vote_ensemble: true\n  ensemble_model_download_timeout_minutes: 5\n  training_mode: auto\ntraining_data:\n  path: azureml://datastores/workspaceblobstore/paths/LocalUpload/3f461f5d81e3812486eac8cca0b5a756/training-mltable-folder\n  type: mltable\ntype: automl\nvalidation_data:\n  type: mltable\n\n"
        }
      ],
      "execution_count": 13,
      "metadata": {
        "jupyter": {
          "source_hidden": false,
          "outputs_hidden": false
        },
        "nteract": {
          "transient": {
            "deleting": false
          }
        },
        "gather": {
          "logged": 1714191007009
        }
      }
    },
    {
      "cell_type": "code",
      "source": [
        "# Wait until the AutoML job is finished\n",
        "\n",
        "ml_client.jobs.stream(returned_job.name)"
      ],
      "outputs": [
        {
          "output_type": "stream",
          "name": "stdout",
          "text": "RunId: dynamic_frog_vww91ltjw6\nWeb View: https://ml.azure.com/runs/dynamic_frog_vww91ltjw6?wsid=/subscriptions/3b57d2fe-08b1-4fe9-b535-f5c4387b9a66/resourcegroups/automl-rg/workspaces/automl-ws\n\nExecution Summary\n=================\nRunId: dynamic_frog_vww91ltjw6\nWeb View: https://ml.azure.com/runs/dynamic_frog_vww91ltjw6?wsid=/subscriptions/3b57d2fe-08b1-4fe9-b535-f5c4387b9a66/resourcegroups/automl-rg/workspaces/automl-ws\n\n"
        }
      ],
      "execution_count": 14,
      "metadata": {
        "jupyter": {
          "source_hidden": false,
          "outputs_hidden": false
        },
        "nteract": {
          "transient": {
            "deleting": false
          }
        },
        "gather": {
          "logged": 1714192019058
        }
      }
    },
    {
      "cell_type": "code",
      "source": [
        "# URL for the status of job\n",
        "\n",
        "returned_job.services[\"Studio\"].endpoint"
      ],
      "outputs": [
        {
          "output_type": "execute_result",
          "execution_count": 15,
          "data": {
            "text/plain": "'https://ml.azure.com/runs/dynamic_frog_vww91ltjw6?wsid=/subscriptions/3b57d2fe-08b1-4fe9-b535-f5c4387b9a66/resourcegroups/automl-rg/workspaces/automl-ws&tid=843e1e65-e875-4fbd-8ddc-ce696f3a551d'"
          },
          "metadata": {}
        }
      ],
      "execution_count": 15,
      "metadata": {
        "jupyter": {
          "source_hidden": false,
          "outputs_hidden": false
        },
        "nteract": {
          "transient": {
            "deleting": false
          }
        },
        "gather": {
          "logged": 1714192021257
        }
      }
    },
    {
      "cell_type": "code",
      "source": [
        "print(returned_job.name)"
      ],
      "outputs": [
        {
          "output_type": "stream",
          "name": "stdout",
          "text": "dynamic_frog_vww91ltjw6\n"
        }
      ],
      "execution_count": 16,
      "metadata": {
        "jupyter": {
          "source_hidden": false,
          "outputs_hidden": false
        },
        "nteract": {
          "transient": {
            "deleting": false
          }
        },
        "gather": {
          "logged": 1714192022981
        }
      }
    },
    {
      "cell_type": "markdown",
      "source": [
        "# 6 - Retrieve Best Trial"
      ],
      "metadata": {
        "nteract": {
          "transient": {
            "deleting": false
          }
        }
      }
    },
    {
      "cell_type": "markdown",
      "source": [
        "### Obtain the tracking URI for MLFlow"
      ],
      "metadata": {
        "nteract": {
          "transient": {
            "deleting": false
          }
        }
      }
    },
    {
      "cell_type": "code",
      "source": [
        "# Obtain the tracking URI from MLClient\n",
        "\n",
        "import mlflow\n",
        "\n",
        "MLFLOW_TRACKING_URI = ml_client.workspaces.get(name=ml_client.workspace_name).mlflow_tracking_uri\n",
        "print(MLFLOW_TRACKING_URI)"
      ],
      "outputs": [
        {
          "output_type": "stream",
          "name": "stdout",
          "text": "azureml://westus.api.azureml.ms/mlflow/v1.0/subscriptions/3b57d2fe-08b1-4fe9-b535-f5c4387b9a66/resourceGroups/automl-rg/providers/Microsoft.MachineLearningServices/workspaces/automl-ws\n"
        }
      ],
      "execution_count": 17,
      "metadata": {
        "jupyter": {
          "source_hidden": false,
          "outputs_hidden": false
        },
        "nteract": {
          "transient": {
            "deleting": false
          }
        },
        "gather": {
          "logged": 1714192027963
        }
      }
    },
    {
      "cell_type": "code",
      "source": [
        "# Set the MLFLOW TRACKING URI\n",
        "\n",
        "mlflow.set_tracking_uri(MLFLOW_TRACKING_URI)\n",
        "print(\"\\nCurrent tracking uri: {}\".format(mlflow.get_tracking_uri()))"
      ],
      "outputs": [
        {
          "output_type": "stream",
          "name": "stdout",
          "text": "\nCurrent tracking uri: azureml://westus.api.azureml.ms/mlflow/v1.0/subscriptions/3b57d2fe-08b1-4fe9-b535-f5c4387b9a66/resourceGroups/automl-rg/providers/Microsoft.MachineLearningServices/workspaces/automl-ws\n"
        }
      ],
      "execution_count": 18,
      "metadata": {
        "jupyter": {
          "source_hidden": false,
          "outputs_hidden": false
        },
        "nteract": {
          "transient": {
            "deleting": false
          }
        },
        "gather": {
          "logged": 1714192028147
        }
      }
    },
    {
      "cell_type": "code",
      "source": [
        "# Initialize MLFlow client\n",
        "\n",
        "from mlflow.tracking.client import MlflowClient\n",
        "from mlflow.artifacts import download_artifacts\n",
        "\n",
        "mlflow_client = MlflowClient()"
      ],
      "outputs": [],
      "execution_count": 19,
      "metadata": {
        "jupyter": {
          "source_hidden": false,
          "outputs_hidden": false
        },
        "nteract": {
          "transient": {
            "deleting": false
          }
        },
        "gather": {
          "logged": 1714192031514
        }
      }
    },
    {
      "cell_type": "markdown",
      "source": [
        "### Get the AutoML parent Job"
      ],
      "metadata": {
        "nteract": {
          "transient": {
            "deleting": false
          }
        }
      }
    },
    {
      "cell_type": "code",
      "source": [
        "job_name = returned_job.name\n",
        "\n",
        "# Get the parent run\n",
        "mlflow_parent_run = mlflow_client.get_run(job_name)\n",
        "\n",
        "print(\"Parent Run: \")\n",
        "print(mlflow_parent_run)"
      ],
      "outputs": [
        {
          "output_type": "stream",
          "name": "stdout",
          "text": "Parent Run: \n<Run: data=<RunData: metrics={'AUC_macro': 0.9442633462069479,\n 'AUC_micro': 0.9795048011808609,\n 'AUC_weighted': 0.9442633462069481,\n 'accuracy': 0.9152636883925098,\n 'average_precision_score_macro': 0.8241834777332924,\n 'average_precision_score_micro': 0.9800798378260417,\n 'average_precision_score_weighted': 0.9544901293375855,\n 'balanced_accuracy': 0.7645028339705318,\n 'f1_score_macro': 0.7773895268653437,\n 'f1_score_micro': 0.9152636883925098,\n 'f1_score_weighted': 0.9131363593971006,\n 'log_loss': 0.23949491741258805,\n 'matthews_correlation': 0.5562323797216543,\n 'norm_macro_recall': 0.5290056679410634,\n 'precision_score_macro': 0.7925153276316099,\n 'precision_score_micro': 0.9152636883925098,\n 'precision_score_weighted': 0.9115919038485016,\n 'recall_score_macro': 0.7645028339705318,\n 'recall_score_micro': 0.9152636883925098,\n 'recall_score_weighted': 0.9152636883925098,\n 'weighted_accuracy': 0.9529157927206361}, params={}, tags={'automl_best_child_run_id': 'dynamic_frog_vww91ltjw6_3',\n 'custom tag': 'custom value',\n 'fit_time_000': '0.2517304;1.0225922;0.6604823999999999;3;8',\n 'iteration_000': '0;1;2;3;4',\n 'mlflow.rootRunId': 'dynamic_frog_vww91ltjw6',\n 'mlflow.runName': 'dynamic_frog_vww91ltjw6',\n 'mlflow.user': 'Vijay Gadhave',\n 'model_explain_best_run_child_id': 'dynamic_frog_vww91ltjw6_3',\n 'model_explain_run': 'best_run',\n 'pipeline_id_000': '5dfac790c5c209f98a1da2dc1c7fb76f0397324f;c7af0367625be6ac5c2fecbfc72ed444cb7a2111;799d2168db11fc19b9e1c6c1df62f8981ad39fe9;__AutoML_Ensemble__;__AutoML_Stack_Ensemble__',\n 'predicted_cost_000': '0;0;0.5;0;0',\n 'run_algorithm_000': 'LightGBM;XGBoostClassifier;ExtremeRandomTrees;VotingEnsemble;StackEnsemble',\n 'run_preprocessor_000': 'MaxAbsScaler;MaxAbsScaler;MaxAbsScaler;;',\n 'score_000': '0.9148970272823249;0.9118635939323221;0.7368249430460632;0.9152636883925098;0.9143636328276934',\n 'training_percent_000': '100;100;100;100;100'}>, info=<RunInfo: artifact_uri='azureml://westus.api.azureml.ms/mlflow/v2.0/subscriptions/3b57d2fe-08b1-4fe9-b535-f5c4387b9a66/resourceGroups/automl-rg/providers/Microsoft.MachineLearningServices/workspaces/automl-ws/experiments/2ebe08e7-ff4c-4f65-a252-abb84fac054f/runs/dynamic_frog_vww91ltjw6/artifacts', end_time=1714191898209, experiment_id='2ebe08e7-ff4c-4f65-a252-abb84fac054f', lifecycle_stage='active', run_id='dynamic_frog_vww91ltjw6', run_name='dynamic_frog_vww91ltjw6', run_uuid='dynamic_frog_vww91ltjw6', start_time=1714191021545, status='FINISHED', user_id='c46e826b-809e-4ae5-9a2b-97a274ed9bc7'>, inputs=<RunInputs: dataset_inputs=[]>>\n"
        }
      ],
      "execution_count": 20,
      "metadata": {
        "jupyter": {
          "source_hidden": false,
          "outputs_hidden": false
        },
        "nteract": {
          "transient": {
            "deleting": false
          }
        },
        "gather": {
          "logged": 1714192033652
        }
      }
    },
    {
      "cell_type": "code",
      "source": [
        "# Print parent run tags. 'automl_best_child_run_id' tag should be there.\n",
        "print(mlflow_parent_run.data.tags)"
      ],
      "outputs": [
        {
          "output_type": "stream",
          "name": "stdout",
          "text": "{'custom tag': 'custom value', 'model_explain_run': 'best_run', 'pipeline_id_000': '5dfac790c5c209f98a1da2dc1c7fb76f0397324f;c7af0367625be6ac5c2fecbfc72ed444cb7a2111;799d2168db11fc19b9e1c6c1df62f8981ad39fe9;__AutoML_Ensemble__;__AutoML_Stack_Ensemble__', 'score_000': '0.9148970272823249;0.9118635939323221;0.7368249430460632;0.9152636883925098;0.9143636328276934', 'predicted_cost_000': '0;0;0.5;0;0', 'fit_time_000': '0.2517304;1.0225922;0.6604823999999999;3;8', 'training_percent_000': '100;100;100;100;100', 'iteration_000': '0;1;2;3;4', 'run_preprocessor_000': 'MaxAbsScaler;MaxAbsScaler;MaxAbsScaler;;', 'run_algorithm_000': 'LightGBM;XGBoostClassifier;ExtremeRandomTrees;VotingEnsemble;StackEnsemble', 'automl_best_child_run_id': 'dynamic_frog_vww91ltjw6_3', 'model_explain_best_run_child_id': 'dynamic_frog_vww91ltjw6_3', 'mlflow.rootRunId': 'dynamic_frog_vww91ltjw6', 'mlflow.runName': 'dynamic_frog_vww91ltjw6', 'mlflow.user': 'Vijay Gadhave'}\n"
        }
      ],
      "execution_count": 21,
      "metadata": {
        "jupyter": {
          "source_hidden": false,
          "outputs_hidden": false
        },
        "nteract": {
          "transient": {
            "deleting": false
          }
        },
        "gather": {
          "logged": 1714192036945
        }
      }
    },
    {
      "cell_type": "markdown",
      "source": [
        "### Get the AutoML best child run"
      ],
      "metadata": {
        "nteract": {
          "transient": {
            "deleting": false
          }
        }
      }
    },
    {
      "cell_type": "code",
      "source": [
        "# Get the best model's child run\n",
        "\n",
        "best_child_run_id = mlflow_parent_run.data.tags[\"automl_best_child_run_id\"]\n",
        "print(\"Found best child run id: \", best_child_run_id)\n",
        "\n",
        "best_run = mlflow_client.get_run(best_child_run_id)\n",
        "\n",
        "print(\"Best child run: \")\n",
        "print(best_run)"
      ],
      "outputs": [
        {
          "output_type": "stream",
          "name": "stdout",
          "text": "Found best child run id:  dynamic_frog_vww91ltjw6_3\nBest child run: \n<Run: data=<RunData: metrics={'AUC_macro': 0.9442633462069479,\n 'AUC_micro': 0.9795048011808609,\n 'AUC_weighted': 0.9442633462069481,\n 'accuracy': 0.9152636883925098,\n 'average_precision_score_macro': 0.8241834777332924,\n 'average_precision_score_micro': 0.9800798378260417,\n 'average_precision_score_weighted': 0.9544901293375855,\n 'balanced_accuracy': 0.7645028339705318,\n 'f1_score_macro': 0.7773895268653437,\n 'f1_score_micro': 0.9152636883925098,\n 'f1_score_weighted': 0.9131363593971006,\n 'log_loss': 0.23949491741258805,\n 'matthews_correlation': 0.5562323797216543,\n 'norm_macro_recall': 0.5290056679410634,\n 'precision_score_macro': 0.7925153276316099,\n 'precision_score_micro': 0.9152636883925098,\n 'precision_score_weighted': 0.9115919038485016,\n 'recall_score_macro': 0.7645028339705318,\n 'recall_score_micro': 0.9152636883925098,\n 'recall_score_weighted': 0.9152636883925098,\n 'weighted_accuracy': 0.9529157927206361}, params={}, tags={'mlflow.parentRunId': 'dynamic_frog_vww91ltjw6',\n 'mlflow.rootRunId': 'dynamic_frog_vww91ltjw6',\n 'mlflow.runName': 'heroic_snail_tbs2pcmj',\n 'mlflow.source.name': 'automl_driver.py',\n 'mlflow.source.type': 'JOB',\n 'mlflow.user': 'Vijay Gadhave',\n 'model_explain_run_id': 'dynamic_frog_vww91ltjw6_ModelExplain',\n 'model_explanation': 'True'}>, info=<RunInfo: artifact_uri='azureml://westus.api.azureml.ms/mlflow/v2.0/subscriptions/3b57d2fe-08b1-4fe9-b535-f5c4387b9a66/resourceGroups/automl-rg/providers/Microsoft.MachineLearningServices/workspaces/automl-ws/experiments/2ebe08e7-ff4c-4f65-a252-abb84fac054f/runs/dynamic_frog_vww91ltjw6_3/artifacts', end_time=1714191814173, experiment_id='2ebe08e7-ff4c-4f65-a252-abb84fac054f', lifecycle_stage='active', run_id='dynamic_frog_vww91ltjw6_3', run_name='heroic_snail_tbs2pcmj', run_uuid='dynamic_frog_vww91ltjw6_3', start_time=1714191762219, status='FINISHED', user_id='c46e826b-809e-4ae5-9a2b-97a274ed9bc7'>, inputs=<RunInputs: dataset_inputs=[]>>\n"
        }
      ],
      "execution_count": 22,
      "metadata": {
        "jupyter": {
          "source_hidden": false,
          "outputs_hidden": false
        },
        "nteract": {
          "transient": {
            "deleting": false
          }
        },
        "gather": {
          "logged": 1714192039141
        }
      }
    },
    {
      "cell_type": "code",
      "source": [
        "# Get best model run's metrics\n",
        "best_run.data.metrics"
      ],
      "outputs": [
        {
          "output_type": "execute_result",
          "execution_count": 23,
          "data": {
            "text/plain": "{'log_loss': 0.23949491741258805,\n 'f1_score_weighted': 0.9131363593971006,\n 'recall_score_macro': 0.7645028339705318,\n 'balanced_accuracy': 0.7645028339705318,\n 'AUC_weighted': 0.9442633462069481,\n 'AUC_macro': 0.9442633462069479,\n 'recall_score_weighted': 0.9152636883925098,\n 'average_precision_score_macro': 0.8241834777332924,\n 'precision_score_macro': 0.7925153276316099,\n 'accuracy': 0.9152636883925098,\n 'AUC_micro': 0.9795048011808609,\n 'norm_macro_recall': 0.5290056679410634,\n 'precision_score_weighted': 0.9115919038485016,\n 'weighted_accuracy': 0.9529157927206361,\n 'recall_score_micro': 0.9152636883925098,\n 'average_precision_score_micro': 0.9800798378260417,\n 'f1_score_macro': 0.7773895268653437,\n 'f1_score_micro': 0.9152636883925098,\n 'precision_score_micro': 0.9152636883925098,\n 'average_precision_score_weighted': 0.9544901293375855,\n 'matthews_correlation': 0.5562323797216543}"
          },
          "metadata": {}
        }
      ],
      "execution_count": 23,
      "metadata": {
        "jupyter": {
          "source_hidden": false,
          "outputs_hidden": false
        },
        "nteract": {
          "transient": {
            "deleting": false
          }
        },
        "gather": {
          "logged": 1714192041077
        }
      }
    },
    {
      "cell_type": "markdown",
      "source": [
        "### Download the best model locally"
      ],
      "metadata": {
        "nteract": {
          "transient": {
            "deleting": false
          }
        }
      }
    },
    {
      "cell_type": "code",
      "source": [
        "import os\n",
        "\n",
        "# Create local folder\n",
        "local_dir = \"./artifact_downloads\"\n",
        "if not os.path.exists(local_dir):\n",
        "    os.mkdir(local_dir)"
      ],
      "outputs": [],
      "execution_count": 24,
      "metadata": {
        "jupyter": {
          "source_hidden": false,
          "outputs_hidden": false
        },
        "nteract": {
          "transient": {
            "deleting": false
          }
        },
        "gather": {
          "logged": 1714192043231
        }
      }
    },
    {
      "cell_type": "code",
      "source": [
        "# Download run's artifacts/outputs\n",
        "\n",
        "local_path = download_artifacts(run_id=best_run.info.run_id, artifact_path=\"outputs\", dst_path=local_dir)\n",
        "print(\"Artifacts downloaded in: {}\".format(local_path))\n",
        "print(\"Artifacts: {}\".format(os.listdir(local_path)))"
      ],
      "outputs": [
        {
          "output_type": "stream",
          "name": "stdout",
          "text": "Artifacts downloaded in: /mnt/batch/tasks/shared/LS_root/mounts/clusters/compute-instance01/code/Users/vijaygadhave199/artifact_downloads/outputs\nArtifacts: ['.amlignore', '.amlignore.amltmp', 'conda_env_v_1_0_0.yml', 'engineered_feature_names.json', 'env_dependencies.json', 'featurization_summary.json', 'generated_code', 'internal_cross_validated_models.pkl', 'mlflow-model', 'model.onnx', 'model.pkl', 'model_onnx.json', 'pipeline_graph.json', 'run_id.txt', 'scoring_file_pbi_v_1_0_0.py', 'scoring_file_v_1_0_0.py', 'scoring_file_v_2_0_0.py']\n"
        }
      ],
      "execution_count": 25,
      "metadata": {
        "jupyter": {
          "source_hidden": false,
          "outputs_hidden": false
        },
        "nteract": {
          "transient": {
            "deleting": false
          }
        },
        "gather": {
          "logged": 1714192046887
        }
      }
    },
    {
      "cell_type": "code",
      "source": [
        "# Show the contents of the MLFlow model folder\n",
        "os.listdir(\"./artifact_downloads/outputs/mlflow-model\")"
      ],
      "outputs": [
        {
          "output_type": "execute_result",
          "execution_count": 26,
          "data": {
            "text/plain": "['.amlignore',\n '.amlignore.amltmp',\n 'conda.yaml',\n 'MLmodel',\n 'model.pkl',\n 'python_env.yaml',\n 'requirements.txt']"
          },
          "metadata": {}
        }
      ],
      "execution_count": 26,
      "metadata": {
        "jupyter": {
          "source_hidden": false,
          "outputs_hidden": false
        },
        "nteract": {
          "transient": {
            "deleting": false
          }
        },
        "gather": {
          "logged": 1714192047192
        }
      }
    },
    {
      "cell_type": "markdown",
      "source": [
        "# 7 - Create managed online endpoint"
      ],
      "metadata": {
        "nteract": {
          "transient": {
            "deleting": false
          }
        }
      }
    },
    {
      "cell_type": "code",
      "source": [
        "# import required libraries\n",
        "\n",
        "from azure.ai.ml.entities import (\n",
        "    ManagedOnlineEndpoint,\n",
        "    ManagedOnlineDeployment,\n",
        "    Model,\n",
        "    Environment,\n",
        "    CodeConfiguration,\n",
        "    ProbeSettings,\n",
        ")\n",
        "from azure.ai.ml.constants import ModelType"
      ],
      "outputs": [],
      "execution_count": null,
      "metadata": {
        "jupyter": {
          "source_hidden": false,
          "outputs_hidden": false
        },
        "nteract": {
          "transient": {
            "deleting": false
          }
        },
        "gather": {
          "logged": 1713996625441
        }
      }
    },
    {
      "cell_type": "code",
      "source": [
        "# Creating unique endpoint name with current datetime to avoid conflicts\n",
        "import datetime\n",
        "\n",
        "online_endpoint_name = \"bankmarketing-\" + datetime.datetime.now().strftime(\"%m%d%H%M%f\")"
      ],
      "outputs": [],
      "execution_count": null,
      "metadata": {
        "jupyter": {
          "source_hidden": false,
          "outputs_hidden": false
        },
        "nteract": {
          "transient": {
            "deleting": false
          }
        },
        "gather": {
          "logged": 1713996716677
        }
      }
    },
    {
      "cell_type": "code",
      "source": [
        "# Create an online endpoint\n",
        "\n",
        "endpoint = ManagedOnlineEndpoint(\n",
        "    name=online_endpoint_name,\n",
        "    description=\"Online endpoint for mlflow model\",\n",
        "    auth_mode=\"key\",\n",
        "    tags={\"foo\": \"bar\"}\n",
        ")"
      ],
      "outputs": [],
      "execution_count": null,
      "metadata": {
        "jupyter": {
          "source_hidden": false,
          "outputs_hidden": false
        },
        "nteract": {
          "transient": {
            "deleting": false
          }
        },
        "gather": {
          "logged": 1713996885400
        }
      }
    },
    {
      "cell_type": "code",
      "source": [
        "ml_client.begin_create_or_update(endpoint).result()"
      ],
      "outputs": [],
      "execution_count": null,
      "metadata": {
        "jupyter": {
          "source_hidden": false,
          "outputs_hidden": false
        },
        "nteract": {
          "transient": {
            "deleting": false
          }
        },
        "gather": {
          "logged": 1713996975319
        }
      }
    },
    {
      "cell_type": "markdown",
      "source": [
        "# 8 - Register best model"
      ],
      "metadata": {
        "nteract": {
          "transient": {
            "deleting": false
          }
        }
      }
    },
    {
      "cell_type": "code",
      "source": [
        "model_name = \"bankmarketing-model\"\n",
        "\n",
        "model = Model(\n",
        "    path=f\"azureml://jobs/{best_run.info.run_id}/outputs/artifacts/outputs/mlflow-model/\",\n",
        "    name=model_name,\n",
        "    description=\"classification model\",\n",
        "    type=AssetTypes.MLFLOW_MODEL\n",
        ")\n",
        "\n",
        "registered_model = ml_client.create_or_update(model)"
      ],
      "outputs": [],
      "execution_count": null,
      "metadata": {
        "jupyter": {
          "source_hidden": false,
          "outputs_hidden": false
        },
        "nteract": {
          "transient": {
            "deleting": false
          }
        },
        "gather": {
          "logged": 1713997723651
        }
      }
    },
    {
      "cell_type": "code",
      "source": [
        "registered_model.id"
      ],
      "outputs": [],
      "execution_count": null,
      "metadata": {
        "jupyter": {
          "source_hidden": false,
          "outputs_hidden": false
        },
        "nteract": {
          "transient": {
            "deleting": false
          }
        },
        "gather": {
          "logged": 1713997773050
        }
      }
    },
    {
      "cell_type": "markdown",
      "source": [
        "# 9 - Deploy best model"
      ],
      "metadata": {
        "nteract": {
          "transient": {
            "deleting": false
          }
        }
      }
    },
    {
      "cell_type": "code",
      "source": [
        "deployment = ManagedOnlineDeployment(\n",
        "    name=\"bankmarketing-deploy\",\n",
        "    endpoint_name=online_endpoint_name,\n",
        "    model=registered_model.id,\n",
        "    instance_type=\"Standard_DS2_V2\",\n",
        "    instance_count=1,\n",
        "    liveness_probe=ProbeSettings(\n",
        "        failure_threshold=30,\n",
        "        success_threshold=1,\n",
        "        timeout=2,\n",
        "        period=10,\n",
        "        initial_delay=2000\n",
        "    ),\n",
        "    readiness_probe=ProbeSettings(\n",
        "        failure_threshold=10,\n",
        "        success_threshold=1,\n",
        "        timeout=10,\n",
        "        period=10,\n",
        "        initial_delay=2000\n",
        "    ),\n",
        ")"
      ],
      "outputs": [],
      "execution_count": null,
      "metadata": {
        "jupyter": {
          "source_hidden": false,
          "outputs_hidden": false
        },
        "nteract": {
          "transient": {
            "deleting": false
          }
        },
        "gather": {
          "logged": 1714000573136
        }
      }
    },
    {
      "cell_type": "code",
      "source": [
        "ml_client.online_deployments.begin_create_or_update(deployment).result()"
      ],
      "outputs": [],
      "execution_count": null,
      "metadata": {
        "jupyter": {
          "source_hidden": false,
          "outputs_hidden": false
        },
        "nteract": {
          "transient": {
            "deleting": false
          }
        },
        "gather": {
          "logged": 1714003205570
        }
      }
    },
    {
      "cell_type": "code",
      "source": [
        "print(endpoint.traffic)"
      ],
      "outputs": [],
      "execution_count": null,
      "metadata": {
        "jupyter": {
          "source_hidden": false,
          "outputs_hidden": false
        },
        "nteract": {
          "transient": {
            "deleting": false
          }
        },
        "gather": {
          "logged": 1714003574313
        }
      }
    },
    {
      "cell_type": "code",
      "source": [
        "endpoint.traffic = {\"bankmarketing-deploy\":100}\n",
        "ml_client.begin_create_or_update(endpoint)"
      ],
      "outputs": [],
      "execution_count": null,
      "metadata": {
        "jupyter": {
          "source_hidden": false,
          "outputs_hidden": false
        },
        "nteract": {
          "transient": {
            "deleting": false
          }
        },
        "gather": {
          "logged": 1714003719036
        }
      }
    },
    {
      "cell_type": "code",
      "source": [
        "print(endpoint.traffic)"
      ],
      "outputs": [],
      "execution_count": null,
      "metadata": {
        "jupyter": {
          "source_hidden": false,
          "outputs_hidden": false
        },
        "nteract": {
          "transient": {
            "deleting": false
          }
        },
        "gather": {
          "logged": 1714005984730
        }
      }
    },
    {
      "cell_type": "markdown",
      "source": [
        "# 10 - Test the deployment"
      ],
      "metadata": {
        "nteract": {
          "transient": {
            "deleting": false
          }
        }
      }
    },
    {
      "cell_type": "code",
      "source": [
        "# Create MLTable\n",
        "\n",
        "import mltable\n",
        "\n",
        "paths = [{'file': './data/test-mltable-folder/bank_marketing_test_data.csv'}]\n",
        "\n",
        "test_table = mltable.from_delimited_files(paths)\n",
        "test_table.save(\"./data/test-mltable-folder\")"
      ],
      "outputs": [],
      "execution_count": null,
      "metadata": {
        "jupyter": {
          "source_hidden": false,
          "outputs_hidden": false
        },
        "nteract": {
          "transient": {
            "deleting": false
          }
        },
        "gather": {
          "logged": 1714006236213
        }
      }
    },
    {
      "cell_type": "code",
      "source": [
        "# test deployment with sample data\n",
        "\n",
        "import pandas as pd\n",
        "\n",
        "test_data = pd.read_csv(\"./data/test-mltable-folder/bank_marketing_test_data.csv\")\n",
        "test_data = test_data.drop(\"y\", axis=1)\n",
        "\n",
        "# Convert Data to JSON format\n",
        "test_data_json = test_data.to_json(orient=\"records\", indent=4)\n",
        "data = (\n",
        "    '{ \\\n",
        "          \"input_data\": {\"data\": '\n",
        "    + test_data_json\n",
        "    + \"}}\"\n",
        ")\n",
        "\n",
        "#  Prepare Request File\n",
        "request_file_name = \"sample-request-bankmarketing.json\"\n",
        "\n",
        "with open(request_file_name, \"w\") as request_file:\n",
        "    request_file.write(data)\n",
        "\n",
        "# Invoke the Deployed Model Endpoint\n",
        "ml_client.online_endpoints.invoke(\n",
        "    endpoint_name=online_endpoint_name,\n",
        "    deployment_name=\"bankmarketing-deploy\",\n",
        "    request_file=request_file_name,\n",
        ")"
      ],
      "outputs": [],
      "execution_count": null,
      "metadata": {
        "jupyter": {
          "source_hidden": false,
          "outputs_hidden": false
        },
        "nteract": {
          "transient": {
            "deleting": false
          }
        },
        "gather": {
          "logged": 1714006618407
        }
      }
    },
    {
      "cell_type": "code",
      "source": [
        "# Get the details for online endpoint\n",
        "endpoint = ml_client.online_endpoints.get(name=online_endpoint_name)\n",
        "\n",
        "# existing traffic details\n",
        "print(endpoint.traffic)\n",
        "\n",
        "# Get the scoring URI\n",
        "print(endpoint.scoring_uri)"
      ],
      "outputs": [],
      "execution_count": null,
      "metadata": {
        "jupyter": {
          "source_hidden": false,
          "outputs_hidden": false
        },
        "nteract": {
          "transient": {
            "deleting": false
          }
        },
        "gather": {
          "logged": 1714006697472
        }
      }
    },
    {
      "cell_type": "code",
      "source": [
        "# Delete Deployment and endpoint\n",
        "\n",
        "ml_client.online_endpoints.begin_delete(name=online_endpoint_name)"
      ],
      "outputs": [],
      "execution_count": null,
      "metadata": {
        "jupyter": {
          "source_hidden": false,
          "outputs_hidden": false
        },
        "nteract": {
          "transient": {
            "deleting": false
          }
        },
        "gather": {
          "logged": 1714006771234
        }
      }
    },
    {
      "cell_type": "markdown",
      "source": [
        "# 11 - Use auto generated model training code for retraining on new data"
      ],
      "metadata": {
        "nteract": {
          "transient": {
            "deleting": false
          }
        }
      }
    },
    {
      "cell_type": "markdown",
      "source": [
        "### Create Compute Target"
      ],
      "metadata": {
        "nteract": {
          "transient": {
            "deleting": false
          }
        }
      }
    },
    {
      "cell_type": "code",
      "source": [
        "# Create or Attach existing AmlCompute\n",
        "\n",
        "from azure.ai.ml.entities import AmlCompute\n",
        "from azure.core.exceptions import ResourceNotFoundError\n",
        "\n",
        "compute_name = \"cpu-cluster\"\n",
        "\n",
        "try:\n",
        "    _ = ml_client.compute.get(compute_name)\n",
        "    print(\"Found existing compute target.\")\n",
        "except ResourceNotFoundError:\n",
        "    print(\"Creating a new compute target...\")\n",
        "    compute_config = AmlCompute(\n",
        "        name=compute_name,\n",
        "        type=\"amlcompute\",\n",
        "        size=\"STANDARD_DS3_V2\",\n",
        "        idle_time_before_scale_down=120,\n",
        "        min_instances=0,\n",
        "        max_instances=6,\n",
        "    )\n",
        "    ml_client.begin_create_or_update(compute_config).result()"
      ],
      "outputs": [
        {
          "output_type": "stream",
          "name": "stdout",
          "text": "Found existing compute target.\n"
        }
      ],
      "execution_count": 45,
      "metadata": {
        "jupyter": {
          "source_hidden": false,
          "outputs_hidden": false
        },
        "nteract": {
          "transient": {
            "deleting": false
          }
        },
        "gather": {
          "logged": 1714196723189
        }
      }
    },
    {
      "cell_type": "markdown",
      "source": [
        "### Register the dataset"
      ],
      "metadata": {
        "nteract": {
          "transient": {
            "deleting": false
          }
        }
      }
    },
    {
      "cell_type": "code",
      "source": [
        "# Create MLTable\n",
        "\n",
        "import mltable\n",
        "\n",
        "paths = [{'file': './data/retrained-mltable-folder/bank_marketing_retrain_data.csv'}]\n",
        "\n",
        "retrain_table = mltable.from_delimited_files(paths)\n",
        "retrain_table.save('./data/retrained-mltable-folder')"
      ],
      "outputs": [],
      "execution_count": 46,
      "metadata": {
        "jupyter": {
          "source_hidden": false,
          "outputs_hidden": false
        },
        "nteract": {
          "transient": {
            "deleting": false
          }
        },
        "gather": {
          "logged": 1714196919296
        }
      }
    },
    {
      "cell_type": "code",
      "source": [
        "retrain_data = Data(\n",
        "    path=\"./data/retrained-mltable-folder/\",\n",
        "    type=AssetTypes.MLTABLE,\n",
        "    description=\"Updated training dataset\",\n",
        "    name=\"retrain-bankmarketing-data\"\n",
        ")\n",
        "\n",
        "retrain_data = ml_client.data.create_or_update(retrain_data)"
      ],
      "outputs": [],
      "execution_count": 47,
      "metadata": {
        "jupyter": {
          "source_hidden": false,
          "outputs_hidden": false
        },
        "nteract": {
          "transient": {
            "deleting": false
          }
        },
        "gather": {
          "logged": 1714197099327
        }
      }
    },
    {
      "cell_type": "code",
      "source": [
        "import mlflow\n",
        "\n",
        "# Obtain the tracking URI from MLClient\n",
        "MLFLOW_TRACKING_URI = ml_client.workspaces.get(name=ml_client.workspace_name).mlflow_tracking_uri\n",
        "print(MLFLOW_TRACKING_URI)\n",
        "\n",
        "# Set the MLFLOW TRACKING URI\n",
        "mlflow.set_tracking_uri(MLFLOW_TRACKING_URI)\n",
        "\n",
        "print(\"\\nCurrent tracking uri: {}\".format(mlflow.get_tracking_uri()))"
      ],
      "outputs": [
        {
          "output_type": "stream",
          "name": "stdout",
          "text": "azureml://westus.api.azureml.ms/mlflow/v1.0/subscriptions/3b57d2fe-08b1-4fe9-b535-f5c4387b9a66/resourceGroups/automl-rg/providers/Microsoft.MachineLearningServices/workspaces/automl-ws\n\nCurrent tracking uri: azureml://westus.api.azureml.ms/mlflow/v1.0/subscriptions/3b57d2fe-08b1-4fe9-b535-f5c4387b9a66/resourceGroups/automl-rg/providers/Microsoft.MachineLearningServices/workspaces/automl-ws\n"
        }
      ],
      "execution_count": 48,
      "metadata": {
        "jupyter": {
          "source_hidden": false,
          "outputs_hidden": false
        },
        "nteract": {
          "transient": {
            "deleting": false
          }
        },
        "gather": {
          "logged": 1714197258424
        }
      }
    },
    {
      "cell_type": "markdown",
      "source": [
        "### Download script"
      ],
      "metadata": {
        "nteract": {
          "transient": {
            "deleting": false
          }
        }
      }
    },
    {
      "cell_type": "code",
      "source": [
        "from mlflow.tracking.client import MlflowClient\n",
        "\n",
        "# Initialize MLFlow client\n",
        "mlflow_client = MlflowClient()\n",
        "\n",
        "# Get the parent run\n",
        "job_name = returned_job.name\n",
        "mlflow_parent_run = mlflow_client.get_run(job_name)\n",
        "print(\"Parent Run: \")\n",
        "print(mlflow_parent_run)\n",
        "\n",
        "# Get the best model's child run\n",
        "best_child_run_id = mlflow_parent_run.data.tags[\"automl_best_child_run_id\"]\n",
        "print(\"Found best child run id: \", best_child_run_id)\n",
        "best_run = mlflow_client.get_run(best_child_run_id)\n",
        "\n",
        "# Download run's artifacts/outputs\n",
        "local_dir = \"./artifact_downloads/\"\n",
        "if not os.path.exists(local_dir):\n",
        "    os.mkdir(local_dir)\n",
        "local_path = download_artifacts(\n",
        "    run_id=best_run.info.run_id, artifact_path=\"outputs\", dst_path=local_dir\n",
        ")\n",
        "print(\"Artifacts downloaded in: {}\".format(local_path))\n",
        "print(\"Artifacts: {}\".format(os.listdir(local_path)))"
      ],
      "outputs": [
        {
          "output_type": "stream",
          "name": "stdout",
          "text": "Parent Run: \n<Run: data=<RunData: metrics={'AUC_macro': 0.9442633462069479,\n 'AUC_micro': 0.9795048011808609,\n 'AUC_weighted': 0.9442633462069481,\n 'accuracy': 0.9152636883925098,\n 'average_precision_score_macro': 0.8241834777332924,\n 'average_precision_score_micro': 0.9800798378260417,\n 'average_precision_score_weighted': 0.9544901293375855,\n 'balanced_accuracy': 0.7645028339705318,\n 'f1_score_macro': 0.7773895268653437,\n 'f1_score_micro': 0.9152636883925098,\n 'f1_score_weighted': 0.9131363593971006,\n 'log_loss': 0.23949491741258805,\n 'matthews_correlation': 0.5562323797216543,\n 'norm_macro_recall': 0.5290056679410634,\n 'precision_score_macro': 0.7925153276316099,\n 'precision_score_micro': 0.9152636883925098,\n 'precision_score_weighted': 0.9115919038485016,\n 'recall_score_macro': 0.7645028339705318,\n 'recall_score_micro': 0.9152636883925098,\n 'recall_score_weighted': 0.9152636883925098,\n 'weighted_accuracy': 0.9529157927206361}, params={}, tags={'automl_best_child_run_id': 'dynamic_frog_vww91ltjw6_3',\n 'custom tag': 'custom value',\n 'fit_time_000': '0.2517304;1.0225922;0.6604823999999999;3;8',\n 'iteration_000': '0;1;2;3;4',\n 'mlflow.rootRunId': 'dynamic_frog_vww91ltjw6',\n 'mlflow.runName': 'dynamic_frog_vww91ltjw6',\n 'mlflow.user': 'Vijay Gadhave',\n 'model_explain_best_run_child_id': 'dynamic_frog_vww91ltjw6_3',\n 'model_explain_run': 'best_run',\n 'pipeline_id_000': '5dfac790c5c209f98a1da2dc1c7fb76f0397324f;c7af0367625be6ac5c2fecbfc72ed444cb7a2111;799d2168db11fc19b9e1c6c1df62f8981ad39fe9;__AutoML_Ensemble__;__AutoML_Stack_Ensemble__',\n 'predicted_cost_000': '0;0;0.5;0;0',\n 'run_algorithm_000': 'LightGBM;XGBoostClassifier;ExtremeRandomTrees;VotingEnsemble;StackEnsemble',\n 'run_preprocessor_000': 'MaxAbsScaler;MaxAbsScaler;MaxAbsScaler;;',\n 'score_000': '0.9148970272823249;0.9118635939323221;0.7368249430460632;0.9152636883925098;0.9143636328276934',\n 'training_percent_000': '100;100;100;100;100'}>, info=<RunInfo: artifact_uri='azureml://westus.api.azureml.ms/mlflow/v2.0/subscriptions/3b57d2fe-08b1-4fe9-b535-f5c4387b9a66/resourceGroups/automl-rg/providers/Microsoft.MachineLearningServices/workspaces/automl-ws/experiments/2ebe08e7-ff4c-4f65-a252-abb84fac054f/runs/dynamic_frog_vww91ltjw6/artifacts', end_time=1714191898209, experiment_id='2ebe08e7-ff4c-4f65-a252-abb84fac054f', lifecycle_stage='active', run_id='dynamic_frog_vww91ltjw6', run_name='dynamic_frog_vww91ltjw6', run_uuid='dynamic_frog_vww91ltjw6', start_time=1714191021545, status='FINISHED', user_id='c46e826b-809e-4ae5-9a2b-97a274ed9bc7'>, inputs=<RunInputs: dataset_inputs=[]>>\nFound best child run id:  dynamic_frog_vww91ltjw6_3\nArtifacts downloaded in: /mnt/batch/tasks/shared/LS_root/mounts/clusters/compute-instance01/code/Users/vijaygadhave199/artifact_downloads/outputs\nArtifacts: ['conda_env_v_1_0_0.yml', 'engineered_feature_names.json', 'env_dependencies.json', 'featurization_summary.json', 'generated_code', 'internal_cross_validated_models.pkl', 'mlflow-model', 'model.onnx', 'model.pkl', 'model_onnx.json', 'pipeline_graph.json', 'run_id.txt', 'scoring_file_pbi_v_1_0_0.py', 'scoring_file_v_1_0_0.py', 'scoring_file_v_2_0_0.py']\n"
        }
      ],
      "execution_count": 49,
      "metadata": {
        "jupyter": {
          "source_hidden": false,
          "outputs_hidden": false
        },
        "nteract": {
          "transient": {
            "deleting": false
          }
        },
        "gather": {
          "logged": 1714197573029
        }
      }
    },
    {
      "cell_type": "code",
      "source": [
        "# Find the curated environment used for training\n",
        "\n",
        "import yaml\n",
        "\n",
        "# constructing the path to the \"MLmodel\"\n",
        "model_file = os.path.join(local_dir, \"outputs\", \"mlflow-model\", \"MLmodel\")\n",
        "\n",
        "with open(model_file, \"r\") as model_stream:\n",
        "    model_yaml = yaml.safe_load(model_stream)\n",
        "\n",
        "    # extracting the name of the training environment from the model_yaml dictionary\n",
        "    training_environment_name = (\n",
        "        \"AzureML-AutoML:\" + model_yaml[\"metadata\"][\"azureml.base_image\"].split(\":\")[-1]\n",
        "    )\n",
        "    print(\"Training emvironment {}\".format(training_environment_name))"
      ],
      "outputs": [
        {
          "output_type": "stream",
          "name": "stdout",
          "text": "Training emvironment AzureML-AutoML:167\n"
        }
      ],
      "execution_count": 50,
      "metadata": {
        "jupyter": {
          "source_hidden": false,
          "outputs_hidden": false
        },
        "nteract": {
          "transient": {
            "deleting": false
          }
        },
        "gather": {
          "logged": 1714197830937
        }
      }
    },
    {
      "cell_type": "markdown",
      "source": [
        "### Create and run command"
      ],
      "metadata": {
        "nteract": {
          "transient": {
            "deleting": false
          }
        }
      }
    },
    {
      "cell_type": "code",
      "source": [
        "# constructs a string that defines the command to be executed in the job\n",
        "command_str = f\"python script.py --training_dataset_uri {retrain_data.path}\"\n",
        "\n",
        "command_job = command(\n",
        "    code=\"./artifact_downloads/outputs/generated_code/\",\n",
        "    command=command_str,\n",
        "    tags=dict(automl_child_run_id=best_run.info.run_id),\n",
        "    environment=training_environment_name,\n",
        "    compute=compute_name,\n",
        "    experiment_name=exp_name,\n",
        ")\n",
        "\n",
        "script_job = ml_client.create_or_update(command_job)"
      ],
      "outputs": [],
      "execution_count": 51,
      "metadata": {
        "jupyter": {
          "source_hidden": false,
          "outputs_hidden": false
        },
        "nteract": {
          "transient": {
            "deleting": false
          }
        },
        "gather": {
          "logged": 1714198207801
        }
      }
    }
  ],
  "metadata": {
    "kernelspec": {
      "name": "python310-sdkv2",
      "language": "python",
      "display_name": "Python 3.10 - SDK v2"
    },
    "language_info": {
      "name": "python",
      "version": "3.10.11",
      "mimetype": "text/x-python",
      "codemirror_mode": {
        "name": "ipython",
        "version": 3
      },
      "pygments_lexer": "ipython3",
      "nbconvert_exporter": "python",
      "file_extension": ".py"
    },
    "microsoft": {
      "ms_spell_check": {
        "ms_spell_check_language": "en"
      },
      "host": {
        "AzureML": {
          "notebookHasBeenCompleted": true
        }
      }
    },
    "kernel_info": {
      "name": "python310-sdkv2"
    },
    "nteract": {
      "version": "nteract-front-end@1.0.0"
    }
  },
  "nbformat": 4,
  "nbformat_minor": 2
}