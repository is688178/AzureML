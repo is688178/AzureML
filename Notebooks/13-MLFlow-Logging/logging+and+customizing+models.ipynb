{
  "cells": [
    {
      "cell_type": "markdown",
      "source": [
        "# 1 - Prerequisites"
      ],
      "metadata": {
        "nteract": {
          "transient": {
            "deleting": false
          }
        }
      }
    },
    {
      "cell_type": "code",
      "source": [
        "# Ensure you have the dependencies for this notebook\n",
        "%pip install -r logging_and_customizing_models.txt"
      ],
      "outputs": [
        {
          "output_type": "stream",
          "name": "stdout",
          "text": "Requirement already satisfied: xgboost in /anaconda/envs/azureml_py310_sdkv2/lib/python3.10/site-packages (from -r logging_and_customizing_models.txt (line 1)) (2.0.3)\nRequirement already satisfied: mlflow in /anaconda/envs/azureml_py310_sdkv2/lib/python3.10/site-packages (from -r logging_and_customizing_models.txt (line 2)) (2.4.1)\nRequirement already satisfied: azureml-mlflow in /anaconda/envs/azureml_py310_sdkv2/lib/python3.10/site-packages (from -r logging_and_customizing_models.txt (line 3)) (1.51.0)\nRequirement already satisfied: scikit-learn in /anaconda/envs/azureml_py310_sdkv2/lib/python3.10/site-packages (from -r logging_and_customizing_models.txt (line 4)) (1.2.2)\nRequirement already satisfied: pandas in /anaconda/envs/azureml_py310_sdkv2/lib/python3.10/site-packages (from -r logging_and_customizing_models.txt (line 5)) (2.0.2)\nRequirement already satisfied: numpy in /anaconda/envs/azureml_py310_sdkv2/lib/python3.10/site-packages (from -r logging_and_customizing_models.txt (line 6)) (1.25.0)\nRequirement already satisfied: matplotlib in /anaconda/envs/azureml_py310_sdkv2/lib/python3.10/site-packages (from -r logging_and_customizing_models.txt (line 7)) (3.7.1)\nRequirement already satisfied: scipy in /anaconda/envs/azureml_py310_sdkv2/lib/python3.10/site-packages (from xgboost->-r logging_and_customizing_models.txt (line 1)) (1.10.1)\nRequirement already satisfied: click<9,>=7.0 in /anaconda/envs/azureml_py310_sdkv2/lib/python3.10/site-packages (from mlflow->-r logging_and_customizing_models.txt (line 2)) (8.1.7)\nRequirement already satisfied: cloudpickle<3 in /anaconda/envs/azureml_py310_sdkv2/lib/python3.10/site-packages (from mlflow->-r logging_and_customizing_models.txt (line 2)) (2.2.1)\nRequirement already satisfied: databricks-cli<1,>=0.8.7 in /anaconda/envs/azureml_py310_sdkv2/lib/python3.10/site-packages (from mlflow->-r logging_and_customizing_models.txt (line 2)) (0.17.7)\nRequirement already satisfied: entrypoints<1 in /anaconda/envs/azureml_py310_sdkv2/lib/python3.10/site-packages (from mlflow->-r logging_and_customizing_models.txt (line 2)) (0.4)\nRequirement already satisfied: gitpython<4,>=2.1.0 in /anaconda/envs/azureml_py310_sdkv2/lib/python3.10/site-packages (from mlflow->-r logging_and_customizing_models.txt (line 2)) (3.1.31)\nRequirement already satisfied: pyyaml<7,>=5.1 in /anaconda/envs/azureml_py310_sdkv2/lib/python3.10/site-packages (from mlflow->-r logging_and_customizing_models.txt (line 2)) (6.0)\nRequirement already satisfied: protobuf<5,>=3.12.0 in /anaconda/envs/azureml_py310_sdkv2/lib/python3.10/site-packages (from mlflow->-r logging_and_customizing_models.txt (line 2)) (3.20.3)\nRequirement already satisfied: pytz<2024 in /anaconda/envs/azureml_py310_sdkv2/lib/python3.10/site-packages (from mlflow->-r logging_and_customizing_models.txt (line 2)) (2023.3)\nRequirement already satisfied: requests<3,>=2.17.3 in /anaconda/envs/azureml_py310_sdkv2/lib/python3.10/site-packages (from mlflow->-r logging_and_customizing_models.txt (line 2)) (2.31.0)\nRequirement already satisfied: packaging<24 in /anaconda/envs/azureml_py310_sdkv2/lib/python3.10/site-packages (from mlflow->-r logging_and_customizing_models.txt (line 2)) (23.0)\nRequirement already satisfied: importlib-metadata!=4.7.0,<7,>=3.7.0 in /anaconda/envs/azureml_py310_sdkv2/lib/python3.10/site-packages (from mlflow->-r logging_and_customizing_models.txt (line 2)) (6.7.0)\nRequirement already satisfied: sqlparse<1,>=0.4.0 in /anaconda/envs/azureml_py310_sdkv2/lib/python3.10/site-packages (from mlflow->-r logging_and_customizing_models.txt (line 2)) (0.4.4)\nRequirement already satisfied: alembic!=1.10.0,<2 in /anaconda/envs/azureml_py310_sdkv2/lib/python3.10/site-packages (from mlflow->-r logging_and_customizing_models.txt (line 2)) (1.11.1)\nRequirement already satisfied: docker<7,>=4.0.0 in /anaconda/envs/azureml_py310_sdkv2/lib/python3.10/site-packages (from mlflow->-r logging_and_customizing_models.txt (line 2)) (6.1.3)\nRequirement already satisfied: Flask<3 in /anaconda/envs/azureml_py310_sdkv2/lib/python3.10/site-packages (from mlflow->-r logging_and_customizing_models.txt (line 2)) (2.3.2)\nRequirement already satisfied: querystring-parser<2 in /anaconda/envs/azureml_py310_sdkv2/lib/python3.10/site-packages (from mlflow->-r logging_and_customizing_models.txt (line 2)) (1.2.4)\nRequirement already satisfied: sqlalchemy<3,>=1.4.0 in /anaconda/envs/azureml_py310_sdkv2/lib/python3.10/site-packages (from mlflow->-r logging_and_customizing_models.txt (line 2)) (2.0.16)\nRequirement already satisfied: pyarrow<13,>=4.0.0 in /anaconda/envs/azureml_py310_sdkv2/lib/python3.10/site-packages (from mlflow->-r logging_and_customizing_models.txt (line 2)) (12.0.1)\nRequirement already satisfied: markdown<4,>=3.3 in /anaconda/envs/azureml_py310_sdkv2/lib/python3.10/site-packages (from mlflow->-r logging_and_customizing_models.txt (line 2)) (3.4.3)\nRequirement already satisfied: gunicorn<21 in /anaconda/envs/azureml_py310_sdkv2/lib/python3.10/site-packages (from mlflow->-r logging_and_customizing_models.txt (line 2)) (20.1.0)\nRequirement already satisfied: Jinja2<4,>=2.11 in /anaconda/envs/azureml_py310_sdkv2/lib/python3.10/site-packages (from mlflow->-r logging_and_customizing_models.txt (line 2)) (3.1.2)\nRequirement already satisfied: jsonpickle in /anaconda/envs/azureml_py310_sdkv2/lib/python3.10/site-packages (from azureml-mlflow->-r logging_and_customizing_models.txt (line 3)) (3.0.1)\nRequirement already satisfied: mlflow-skinny in /anaconda/envs/azureml_py310_sdkv2/lib/python3.10/site-packages (from azureml-mlflow->-r logging_and_customizing_models.txt (line 3)) (2.4.1)\nRequirement already satisfied: azure-identity in /anaconda/envs/azureml_py310_sdkv2/lib/python3.10/site-packages (from azureml-mlflow->-r logging_and_customizing_models.txt (line 3)) (1.13.0)\nRequirement already satisfied: msrest>=0.6.18 in /anaconda/envs/azureml_py310_sdkv2/lib/python3.10/site-packages (from azureml-mlflow->-r logging_and_customizing_models.txt (line 3)) (0.7.1)\nRequirement already satisfied: azure-core!=1.22.0,<2.0.0,>=1.8.0 in /anaconda/envs/azureml_py310_sdkv2/lib/python3.10/site-packages (from azureml-mlflow->-r logging_and_customizing_models.txt (line 3)) (1.27.1)\nRequirement already satisfied: azure-mgmt-core<2.0.0,>=1.2.0 in /anaconda/envs/azureml_py310_sdkv2/lib/python3.10/site-packages (from azureml-mlflow->-r logging_and_customizing_models.txt (line 3)) (1.4.0)\nRequirement already satisfied: azure-storage-blob<=12.13.0,>=12.5.0 in /anaconda/envs/azureml_py310_sdkv2/lib/python3.10/site-packages (from azureml-mlflow->-r logging_and_customizing_models.txt (line 3)) (12.13.0)\nRequirement already satisfied: azure-common<2.0.0,>=1.1 in /anaconda/envs/azureml_py310_sdkv2/lib/python3.10/site-packages (from azureml-mlflow->-r logging_and_customizing_models.txt (line 3)) (1.1.28)\nRequirement already satisfied: cryptography in /anaconda/envs/azureml_py310_sdkv2/lib/python3.10/site-packages (from azureml-mlflow->-r logging_and_customizing_models.txt (line 3)) (41.0.1)\nRequirement already satisfied: python-dateutil<3.0.0,>=2.7.3 in /anaconda/envs/azureml_py310_sdkv2/lib/python3.10/site-packages (from azureml-mlflow->-r logging_and_customizing_models.txt (line 3)) (2.8.2)\nRequirement already satisfied: joblib>=1.1.1 in /anaconda/envs/azureml_py310_sdkv2/lib/python3.10/site-packages (from scikit-learn->-r logging_and_customizing_models.txt (line 4)) (1.2.0)\nRequirement already satisfied: threadpoolctl>=2.0.0 in /anaconda/envs/azureml_py310_sdkv2/lib/python3.10/site-packages (from scikit-learn->-r logging_and_customizing_models.txt (line 4)) (3.1.0)\nRequirement already satisfied: tzdata>=2022.1 in /anaconda/envs/azureml_py310_sdkv2/lib/python3.10/site-packages (from pandas->-r logging_and_customizing_models.txt (line 5)) (2023.3)\nRequirement already satisfied: contourpy>=1.0.1 in /anaconda/envs/azureml_py310_sdkv2/lib/python3.10/site-packages (from matplotlib->-r logging_and_customizing_models.txt (line 7)) (1.1.0)\nRequirement already satisfied: cycler>=0.10 in /anaconda/envs/azureml_py310_sdkv2/lib/python3.10/site-packages (from matplotlib->-r logging_and_customizing_models.txt (line 7)) (0.11.0)\nRequirement already satisfied: fonttools>=4.22.0 in /anaconda/envs/azureml_py310_sdkv2/lib/python3.10/site-packages (from matplotlib->-r logging_and_customizing_models.txt (line 7)) (4.40.0)\nRequirement already satisfied: kiwisolver>=1.0.1 in /anaconda/envs/azureml_py310_sdkv2/lib/python3.10/site-packages (from matplotlib->-r logging_and_customizing_models.txt (line 7)) (1.4.4)\nRequirement already satisfied: pillow>=6.2.0 in /anaconda/envs/azureml_py310_sdkv2/lib/python3.10/site-packages (from matplotlib->-r logging_and_customizing_models.txt (line 7)) (9.5.0)\nRequirement already satisfied: pyparsing>=2.3.1 in /anaconda/envs/azureml_py310_sdkv2/lib/python3.10/site-packages (from matplotlib->-r logging_and_customizing_models.txt (line 7)) (3.1.0)\nRequirement already satisfied: Mako in /anaconda/envs/azureml_py310_sdkv2/lib/python3.10/site-packages (from alembic!=1.10.0,<2->mlflow->-r logging_and_customizing_models.txt (line 2)) (1.2.4)\nRequirement already satisfied: typing-extensions>=4 in /anaconda/envs/azureml_py310_sdkv2/lib/python3.10/site-packages (from alembic!=1.10.0,<2->mlflow->-r logging_and_customizing_models.txt (line 2)) (4.6.3)\nRequirement already satisfied: six>=1.11.0 in /anaconda/envs/azureml_py310_sdkv2/lib/python3.10/site-packages (from azure-core!=1.22.0,<2.0.0,>=1.8.0->azureml-mlflow->-r logging_and_customizing_models.txt (line 3)) (1.16.0)\nRequirement already satisfied: cffi>=1.12 in /anaconda/envs/azureml_py310_sdkv2/lib/python3.10/site-packages (from cryptography->azureml-mlflow->-r logging_and_customizing_models.txt (line 3)) (1.15.1)\nRequirement already satisfied: pyjwt>=1.7.0 in /anaconda/envs/azureml_py310_sdkv2/lib/python3.10/site-packages (from databricks-cli<1,>=0.8.7->mlflow->-r logging_and_customizing_models.txt (line 2)) (2.7.0)\nRequirement already satisfied: oauthlib>=3.1.0 in /anaconda/envs/azureml_py310_sdkv2/lib/python3.10/site-packages (from databricks-cli<1,>=0.8.7->mlflow->-r logging_and_customizing_models.txt (line 2)) (3.2.2)\nRequirement already satisfied: tabulate>=0.7.7 in /anaconda/envs/azureml_py310_sdkv2/lib/python3.10/site-packages (from databricks-cli<1,>=0.8.7->mlflow->-r logging_and_customizing_models.txt (line 2)) (0.9.0)\nRequirement already satisfied: urllib3<2.0.0,>=1.26.7 in /anaconda/envs/azureml_py310_sdkv2/lib/python3.10/site-packages (from databricks-cli<1,>=0.8.7->mlflow->-r logging_and_customizing_models.txt (line 2)) (1.26.16)\nRequirement already satisfied: websocket-client>=0.32.0 in /anaconda/envs/azureml_py310_sdkv2/lib/python3.10/site-packages (from docker<7,>=4.0.0->mlflow->-r logging_and_customizing_models.txt (line 2)) (1.6.0)\nRequirement already satisfied: Werkzeug>=2.3.3 in /anaconda/envs/azureml_py310_sdkv2/lib/python3.10/site-packages (from Flask<3->mlflow->-r logging_and_customizing_models.txt (line 2)) (2.3.6)\nRequirement already satisfied: itsdangerous>=2.1.2 in /anaconda/envs/azureml_py310_sdkv2/lib/python3.10/site-packages (from Flask<3->mlflow->-r logging_and_customizing_models.txt (line 2)) (2.1.2)\nRequirement already satisfied: blinker>=1.6.2 in /anaconda/envs/azureml_py310_sdkv2/lib/python3.10/site-packages (from Flask<3->mlflow->-r logging_and_customizing_models.txt (line 2)) (1.6.2)\nRequirement already satisfied: gitdb<5,>=4.0.1 in /anaconda/envs/azureml_py310_sdkv2/lib/python3.10/site-packages (from gitpython<4,>=2.1.0->mlflow->-r logging_and_customizing_models.txt (line 2)) (4.0.10)\nRequirement already satisfied: setuptools>=3.0 in /anaconda/envs/azureml_py310_sdkv2/lib/python3.10/site-packages (from gunicorn<21->mlflow->-r logging_and_customizing_models.txt (line 2)) (67.8.0)\nRequirement already satisfied: zipp>=0.5 in /anaconda/envs/azureml_py310_sdkv2/lib/python3.10/site-packages (from importlib-metadata!=4.7.0,<7,>=3.7.0->mlflow->-r logging_and_customizing_models.txt (line 2)) (3.15.0)\nRequirement already satisfied: MarkupSafe>=2.0 in /anaconda/envs/azureml_py310_sdkv2/lib/python3.10/site-packages (from Jinja2<4,>=2.11->mlflow->-r logging_and_customizing_models.txt (line 2)) (2.1.3)\nRequirement already satisfied: certifi>=2017.4.17 in /anaconda/envs/azureml_py310_sdkv2/lib/python3.10/site-packages (from msrest>=0.6.18->azureml-mlflow->-r logging_and_customizing_models.txt (line 3)) (2023.5.7)\nRequirement already satisfied: isodate>=0.6.0 in /anaconda/envs/azureml_py310_sdkv2/lib/python3.10/site-packages (from msrest>=0.6.18->azureml-mlflow->-r logging_and_customizing_models.txt (line 3)) (0.6.1)\nRequirement already satisfied: requests-oauthlib>=0.5.0 in /anaconda/envs/azureml_py310_sdkv2/lib/python3.10/site-packages (from msrest>=0.6.18->azureml-mlflow->-r logging_and_customizing_models.txt (line 3)) (1.3.1)\nRequirement already satisfied: charset-normalizer<4,>=2 in /anaconda/envs/azureml_py310_sdkv2/lib/python3.10/site-packages (from requests<3,>=2.17.3->mlflow->-r logging_and_customizing_models.txt (line 2)) (3.1.0)\nRequirement already satisfied: idna<4,>=2.5 in /anaconda/envs/azureml_py310_sdkv2/lib/python3.10/site-packages (from requests<3,>=2.17.3->mlflow->-r logging_and_customizing_models.txt (line 2)) (3.4)\nRequirement already satisfied: greenlet!=0.4.17 in /anaconda/envs/azureml_py310_sdkv2/lib/python3.10/site-packages (from sqlalchemy<3,>=1.4.0->mlflow->-r logging_and_customizing_models.txt (line 2)) (2.0.2)\nRequirement already satisfied: msal<2.0.0,>=1.20.0 in /anaconda/envs/azureml_py310_sdkv2/lib/python3.10/site-packages (from azure-identity->azureml-mlflow->-r logging_and_customizing_models.txt (line 3)) (1.22.0)\nRequirement already satisfied: msal-extensions<2.0.0,>=0.3.0 in /anaconda/envs/azureml_py310_sdkv2/lib/python3.10/site-packages (from azure-identity->azureml-mlflow->-r logging_and_customizing_models.txt (line 3)) (1.0.0)\nRequirement already satisfied: pycparser in /anaconda/envs/azureml_py310_sdkv2/lib/python3.10/site-packages (from cffi>=1.12->cryptography->azureml-mlflow->-r logging_and_customizing_models.txt (line 3)) (2.21)\nRequirement already satisfied: smmap<6,>=3.0.1 in /anaconda/envs/azureml_py310_sdkv2/lib/python3.10/site-packages (from gitdb<5,>=4.0.1->gitpython<4,>=2.1.0->mlflow->-r logging_and_customizing_models.txt (line 2)) (5.0.0)\nRequirement already satisfied: portalocker<3,>=1.0 in /anaconda/envs/azureml_py310_sdkv2/lib/python3.10/site-packages (from msal-extensions<2.0.0,>=0.3.0->azure-identity->azureml-mlflow->-r logging_and_customizing_models.txt (line 3)) (2.7.0)\nNote: you may need to restart the kernel to use updated packages.\n"
        }
      ],
      "execution_count": 15,
      "metadata": {
        "gather": {
          "logged": 1715552610160
        }
      }
    },
    {
      "cell_type": "code",
      "source": [
        "# Setting Up Experiment\n",
        "\n",
        "import mlflow\n",
        "mlflow.set_experiment(\"heart-disease-classifier\")"
      ],
      "outputs": [
        {
          "output_type": "execute_result",
          "execution_count": 16,
          "data": {
            "text/plain": "<Experiment: artifact_location='', creation_time=1715347798718, experiment_id='684cdabe-c571-4073-829c-5e45196eede9', last_update_time=None, lifecycle_stage='active', name='heart-disease-classifier', tags={}>"
          },
          "metadata": {}
        }
      ],
      "execution_count": 16,
      "metadata": {
        "jupyter": {
          "source_hidden": false,
          "outputs_hidden": false
        },
        "nteract": {
          "transient": {
            "deleting": false
          }
        },
        "gather": {
          "logged": 1715552611748
        }
      }
    },
    {
      "cell_type": "code",
      "source": [
        "# Reading the data\n",
        "\n",
        "import pandas as pd\n",
        "\n",
        "file_url = \"https://azuremlexampledata.blob.core.windows.net/data/heart-disease-uci/data/heart.csv\"\n",
        "df = pd.read_csv(file_url)\n",
        "df[\"thal\"] = df[\"thal\"].astype(\"category\").cat.codes"
      ],
      "outputs": [],
      "execution_count": 17,
      "metadata": {
        "jupyter": {
          "source_hidden": false,
          "outputs_hidden": false
        },
        "nteract": {
          "transient": {
            "deleting": false
          }
        },
        "gather": {
          "logged": 1715552613550
        }
      }
    },
    {
      "cell_type": "code",
      "source": [
        "# Split data into train and test set\n",
        "\n",
        "from sklearn.model_selection import train_test_split\n",
        "\n",
        "X_train, X_test, y_train, y_test = train_test_split(\n",
        "    df.drop(\"target\", axis=1), df[\"target\"], test_size=0.3\n",
        ")"
      ],
      "outputs": [],
      "execution_count": 18,
      "metadata": {
        "jupyter": {
          "source_hidden": false,
          "outputs_hidden": false
        },
        "nteract": {
          "transient": {
            "deleting": false
          }
        },
        "gather": {
          "logged": 1715552614968
        }
      }
    },
    {
      "cell_type": "markdown",
      "source": [
        "# 2 - Logging models using `autolog()`"
      ],
      "metadata": {
        "nteract": {
          "transient": {
            "deleting": false
          }
        }
      }
    },
    {
      "cell_type": "code",
      "source": [
        "import mlflow\n",
        "from xgboost import XGBClassifier\n",
        "from sklearn.metrics import accuracy_score\n",
        "\n",
        "with mlflow.start_run():\n",
        "\n",
        "    mlflow.xgboost.autolog()\n",
        "\n",
        "    model = XGBClassifier(use_label_encoder=False, eval_metric=\"logloss\")\n",
        "    model.fit(X_train, y_train, eval_set=[(X_test, y_test)], verbose=False)\n",
        "    y_pred = model.predict(X_test)\n",
        "\n",
        "    accuracy = accuracy_score(y_test, y_pred)\n",
        "    mlflow.log_metric(\"accuracy\", accuracy)"
      ],
      "outputs": [
        {
          "output_type": "stream",
          "name": "stderr",
          "text": "2024/05/12 22:23:37 WARNING mlflow.utils.autologging_utils: You are using an unsupported version of xgboost. If you encounter errors during autologging, try upgrading / downgrading xgboost to a supported version, or try upgrading MLflow.\n2024/05/12 22:23:42 WARNING mlflow.utils.autologging_utils: MLflow autologging encountered a warning: \"/anaconda/envs/azureml_py310_sdkv2/lib/python3.10/site-packages/mlflow/models/signature.py:144: UserWarning: Hint: Inferred schema contains integer column(s). Integer columns in Python cannot represent missing values. If your input data contains missing values at inference time, it will be encoded as floats and will cause a schema enforcement error. The best way to avoid this problem is to infer the model schema based on a realistic data sample (training dataset) that includes missing values. Alternatively, you can declare integer columns as doubles (float64) whenever these columns may have missing values. See `Handling Integers With Missing Values <https://www.mlflow.org/docs/latest/models.html#handling-integers-with-missing-values>`_ for more details.\"\n2024/05/12 22:23:42 WARNING mlflow.utils.autologging_utils: MLflow autologging encountered a warning: \"/anaconda/envs/azureml_py310_sdkv2/lib/python3.10/site-packages/xgboost/core.py:160: UserWarning: [22:23:42] WARNING: /workspace/src/c_api/c_api.cc:1240: Saving into deprecated binary model format, please consider using `json` or `ubj`. Model format will default to JSON in XGBoost 2.2 if not specified.\"\n2024/05/12 22:23:55 WARNING mlflow.utils.autologging_utils: MLflow autologging encountered a warning: \"/anaconda/envs/azureml_py310_sdkv2/lib/python3.10/site-packages/mlflow/data/pandas_dataset.py:116: UserWarning: Hint: Inferred schema contains integer column(s). Integer columns in Python cannot represent missing values. If your input data contains missing values at inference time, it will be encoded as floats and will cause a schema enforcement error. The best way to avoid this problem is to infer the model schema based on a realistic data sample (training dataset) that includes missing values. Alternatively, you can declare integer columns as doubles (float64) whenever these columns may have missing values. See `Handling Integers With Missing Values <https://www.mlflow.org/docs/latest/models.html#handling-integers-with-missing-values>`_ for more details.\"\n2024/05/12 22:23:55 WARNING mlflow.sklearn: Failed to log evaluation dataset information to MLflow Tracking. Reason: BAD_REQUEST: Response: {'Error': {'Code': 'UserError', 'Severity': None, 'Message': 'Cannot log the same dataset with different context', 'MessageFormat': None, 'MessageParameters': None, 'ReferenceCode': None, 'DetailsUri': None, 'Target': None, 'Details': [], 'InnerError': None, 'DebugInfo': None, 'AdditionalInfo': None}, 'Correlation': {'operation': '8f54fb44c156922fe567ec703b162f98', 'request': 'c7a198be44f7fde1'}, 'Environment': 'westus', 'Location': 'westus', 'Time': '2024-05-12T22:23:55.2992429+00:00', 'ComponentName': 'mlflow', 'statusCode': 400, 'error_code': 'BAD_REQUEST'}\n"
        }
      ],
      "execution_count": 19,
      "metadata": {
        "jupyter": {
          "source_hidden": false,
          "outputs_hidden": false
        },
        "nteract": {
          "transient": {
            "deleting": false
          }
        },
        "gather": {
          "logged": 1715552637367
        }
      }
    },
    {
      "cell_type": "markdown",
      "source": [
        "# 3 - Logging models supported by MLFlow"
      ],
      "metadata": {
        "nteract": {
          "transient": {
            "deleting": false
          }
        }
      }
    },
    {
      "cell_type": "markdown",
      "source": [
        "If you need to log the models in a particular way, then you can use the method `log_model` to log the models as you need to\n",
        "\n",
        "**Usually, you will log the model in this way when:**\n",
        "\n",
        "* You need to indicate `pip` packages or dependencies different from the ones that are automatically detected.\n",
        "* You need to indicate a `conda` environment different from the default one.\n",
        "* Your models uses a signature different from the one inferred. This is specifically important when you deal with inputs that are tensors where the signature needs specific shapes.\n",
        "* You want to include input examples.\n",
        "* You want to include specific artifacts into the package that will be needed.\n",
        "* Somehow the default behaviour of autolog doesn't fill your purpoise.\n",
        "\n",
        "To log a model, you use the `log_method` model of the flavor you are working with"
      ],
      "metadata": {
        "nteract": {
          "transient": {
            "deleting": false
          }
        }
      }
    },
    {
      "cell_type": "code",
      "source": [
        "import mlflow\n",
        "from xgboost import XGBClassifier\n",
        "from sklearn.metrics import accuracy_score\n",
        "from mlflow.models import infer_signature\n",
        "\n",
        "with mlflow.start_run():\n",
        "\n",
        "    mlflow.xgboost.autolog(log_models=False)\n",
        "\n",
        "    model = XGBClassifier(use_label_encoder=False, eval_metric=\"logloss\")\n",
        "    model.fit(X_train, y_train, eval_set=[(X_test, y_test)], verbose=False)\n",
        "    y_pred = model.predict(X_test)\n",
        "\n",
        "    accuracy = accuracy_score(y_test, y_pred)\n",
        "    mlflow.log_metric(\"accuracy\", accuracy)\n",
        "\n",
        "    signature = infer_signature(X_test, y_test)\n",
        "    mlflow.xgboost.log_model(model, \"classifier\", signature=signature)"
      ],
      "outputs": [
        {
          "output_type": "stream",
          "name": "stderr",
          "text": "2024/05/12 22:24:03 WARNING mlflow.utils.autologging_utils: You are using an unsupported version of xgboost. If you encounter errors during autologging, try upgrading / downgrading xgboost to a supported version, or try upgrading MLflow.\n2024/05/12 22:24:05 WARNING mlflow.utils.autologging_utils: MLflow autologging encountered a warning: \"/anaconda/envs/azureml_py310_sdkv2/lib/python3.10/site-packages/mlflow/data/pandas_dataset.py:116: UserWarning: Hint: Inferred schema contains integer column(s). Integer columns in Python cannot represent missing values. If your input data contains missing values at inference time, it will be encoded as floats and will cause a schema enforcement error. The best way to avoid this problem is to infer the model schema based on a realistic data sample (training dataset) that includes missing values. Alternatively, you can declare integer columns as doubles (float64) whenever these columns may have missing values. See `Handling Integers With Missing Values <https://www.mlflow.org/docs/latest/models.html#handling-integers-with-missing-values>`_ for more details.\"\n2024/05/12 22:24:05 WARNING mlflow.sklearn: Failed to log evaluation dataset information to MLflow Tracking. Reason: BAD_REQUEST: Response: {'Error': {'Code': 'UserError', 'Severity': None, 'Message': 'Cannot log the same dataset with different context', 'MessageFormat': None, 'MessageParameters': None, 'ReferenceCode': None, 'DetailsUri': None, 'Target': None, 'Details': [], 'InnerError': None, 'DebugInfo': None, 'AdditionalInfo': None}, 'Correlation': {'operation': 'f7d21a1379dc00830f8fab699cdd18a1', 'request': '2beefbedaf4efd6a'}, 'Environment': 'westus', 'Location': 'westus', 'Time': '2024-05-12T22:24:05.2852573+00:00', 'ComponentName': 'mlflow', 'statusCode': 400, 'error_code': 'BAD_REQUEST'}\n/anaconda/envs/azureml_py310_sdkv2/lib/python3.10/site-packages/mlflow/models/signature.py:144: UserWarning: Hint: Inferred schema contains integer column(s). Integer columns in Python cannot represent missing values. If your input data contains missing values at inference time, it will be encoded as floats and will cause a schema enforcement error. The best way to avoid this problem is to infer the model schema based on a realistic data sample (training dataset) that includes missing values. Alternatively, you can declare integer columns as doubles (float64) whenever these columns may have missing values. See `Handling Integers With Missing Values <https://www.mlflow.org/docs/latest/models.html#handling-integers-with-missing-values>`_ for more details.\n  inputs = _infer_schema(model_input)\n/anaconda/envs/azureml_py310_sdkv2/lib/python3.10/site-packages/mlflow/models/signature.py:145: UserWarning: Hint: Inferred schema contains integer column(s). Integer columns in Python cannot represent missing values. If your input data contains missing values at inference time, it will be encoded as floats and will cause a schema enforcement error. The best way to avoid this problem is to infer the model schema based on a realistic data sample (training dataset) that includes missing values. Alternatively, you can declare integer columns as doubles (float64) whenever these columns may have missing values. See `Handling Integers With Missing Values <https://www.mlflow.org/docs/latest/models.html#handling-integers-with-missing-values>`_ for more details.\n  outputs = _infer_schema(model_output) if model_output is not None else None\n/anaconda/envs/azureml_py310_sdkv2/lib/python3.10/site-packages/xgboost/core.py:160: UserWarning: [22:24:06] WARNING: /workspace/src/c_api/c_api.cc:1240: Saving into deprecated binary model format, please consider using `json` or `ubj`. Model format will default to JSON in XGBoost 2.2 if not specified.\n  warnings.warn(smsg, UserWarning)\n"
        }
      ],
      "execution_count": 20,
      "metadata": {
        "jupyter": {
          "source_hidden": false,
          "outputs_hidden": false
        },
        "nteract": {
          "transient": {
            "deleting": false
          }
        },
        "gather": {
          "logged": 1715552659483
        }
      }
    },
    {
      "cell_type": "code",
      "source": [
        "# If you need to indicate a custom environment with packages, you can use:\n",
        "\n",
        "import mlflow\n",
        "from xgboost import XGBClassifier\n",
        "from sklearn.metrics import accuracy_score\n",
        "from mlflow.models import infer_signature\n",
        "\n",
        "from mlflow.utils.environment import _mlflow_conda_env\n",
        "\n",
        "# Define custom packages for MLflow conda environment\n",
        "custom_packages = _mlflow_conda_env(\n",
        "    additional_conda_deps=None,\n",
        "    additional_pip_deps=[\"xgboost==1.5.2\"],\n",
        "    additional_conda_channels=None,\n",
        ")\n",
        "\n",
        "with mlflow.start_run():\n",
        "    mlflow.xgboost.autolog(log_models=False)\n",
        "\n",
        "    model = XGBClassifier(use_label_encoder=False, eval_metric=\"logloss\")\n",
        "    model.fit(X_train, y_train, eval_set=[(X_test, y_test)], verbose=False)\n",
        "    y_pred = model.predict(X_test)\n",
        "\n",
        "    accuracy = accuracy_score(y_test, y_pred)\n",
        "    mlflow.log_metric(\"accuracy\", accuracy)\n",
        "\n",
        "    signature = infer_signature(X_test, y_test)\n",
        "    mlflow.xgboost.log_model(model, \"classifier\", signature=signature, conda_env=custom_packages)"
      ],
      "outputs": [
        {
          "output_type": "stream",
          "name": "stderr",
          "text": "2024/05/12 22:24:24 WARNING mlflow.utils.autologging_utils: You are using an unsupported version of xgboost. If you encounter errors during autologging, try upgrading / downgrading xgboost to a supported version, or try upgrading MLflow.\n2024/05/12 22:24:26 WARNING mlflow.utils.autologging_utils: MLflow autologging encountered a warning: \"/anaconda/envs/azureml_py310_sdkv2/lib/python3.10/site-packages/mlflow/data/pandas_dataset.py:116: UserWarning: Hint: Inferred schema contains integer column(s). Integer columns in Python cannot represent missing values. If your input data contains missing values at inference time, it will be encoded as floats and will cause a schema enforcement error. The best way to avoid this problem is to infer the model schema based on a realistic data sample (training dataset) that includes missing values. Alternatively, you can declare integer columns as doubles (float64) whenever these columns may have missing values. See `Handling Integers With Missing Values <https://www.mlflow.org/docs/latest/models.html#handling-integers-with-missing-values>`_ for more details.\"\n2024/05/12 22:24:26 WARNING mlflow.sklearn: Failed to log evaluation dataset information to MLflow Tracking. Reason: BAD_REQUEST: Response: {'Error': {'Code': 'UserError', 'Severity': None, 'Message': 'Cannot log the same dataset with different context', 'MessageFormat': None, 'MessageParameters': None, 'ReferenceCode': None, 'DetailsUri': None, 'Target': None, 'Details': [], 'InnerError': None, 'DebugInfo': None, 'AdditionalInfo': None}, 'Correlation': {'operation': '31f7c3bf4902d1a533038af0cf66b0d7', 'request': '4ac3f5b5923cc66b'}, 'Environment': 'westus', 'Location': 'westus', 'Time': '2024-05-12T22:24:26.5018665+00:00', 'ComponentName': 'mlflow', 'statusCode': 400, 'error_code': 'BAD_REQUEST'}\n/anaconda/envs/azureml_py310_sdkv2/lib/python3.10/site-packages/mlflow/models/signature.py:144: UserWarning: Hint: Inferred schema contains integer column(s). Integer columns in Python cannot represent missing values. If your input data contains missing values at inference time, it will be encoded as floats and will cause a schema enforcement error. The best way to avoid this problem is to infer the model schema based on a realistic data sample (training dataset) that includes missing values. Alternatively, you can declare integer columns as doubles (float64) whenever these columns may have missing values. See `Handling Integers With Missing Values <https://www.mlflow.org/docs/latest/models.html#handling-integers-with-missing-values>`_ for more details.\n  inputs = _infer_schema(model_input)\n/anaconda/envs/azureml_py310_sdkv2/lib/python3.10/site-packages/mlflow/models/signature.py:145: UserWarning: Hint: Inferred schema contains integer column(s). Integer columns in Python cannot represent missing values. If your input data contains missing values at inference time, it will be encoded as floats and will cause a schema enforcement error. The best way to avoid this problem is to infer the model schema based on a realistic data sample (training dataset) that includes missing values. Alternatively, you can declare integer columns as doubles (float64) whenever these columns may have missing values. See `Handling Integers With Missing Values <https://www.mlflow.org/docs/latest/models.html#handling-integers-with-missing-values>`_ for more details.\n  outputs = _infer_schema(model_output) if model_output is not None else None\n/anaconda/envs/azureml_py310_sdkv2/lib/python3.10/site-packages/xgboost/core.py:160: UserWarning: [22:24:27] WARNING: /workspace/src/c_api/c_api.cc:1240: Saving into deprecated binary model format, please consider using `json` or `ubj`. Model format will default to JSON in XGBoost 2.2 if not specified.\n  warnings.warn(smsg, UserWarning)\n"
        }
      ],
      "execution_count": 21,
      "metadata": {
        "jupyter": {
          "source_hidden": false,
          "outputs_hidden": false
        },
        "nteract": {
          "transient": {
            "deleting": false
          }
        },
        "gather": {
          "logged": 1715552669175
        }
      }
    },
    {
      "cell_type": "markdown",
      "source": [
        "# 4 - Logging custom models (Theory)"
      ],
      "metadata": {
        "nteract": {
          "transient": {
            "deleting": false
          }
        }
      }
    },
    {
      "cell_type": "markdown",
      "source": [
        "**MLflow works with many tools** like FastAI, TensorFlow, and Scikit-Learn, but sometimes you might need to use something different. In those cases, you can build a custom recipe for MLflow to understand your unique model.\n",
        "\n",
        "**Here's when you might need a custom recipe:**\n",
        "\n",
        "* **Your model uses special tools:** If your model relies on things that MLflow doesn't normally recognize, you can create a custom recipe to tell MLflow how to handle them.\n",
        "* **Your model does more than predictions:** Maybe your model not only makes predictions but also performs other tasks like forecasting. A custom recipe can help MLflow understand these extra features.\n",
        "\n",
        "For example, if you use Scikit-Learn to make forecasts (which it doesn't do by default), you'd create a custom recipe to explain this forecasting ability to MLflow.\n"
      ],
      "metadata": {
        "nteract": {
          "transient": {
            "deleting": false
          }
        }
      }
    },
    {
      "cell_type": "markdown",
      "source": [
        "**a) Logging custom models that are serializable**\n",
        "\n",
        "**b) Logging custom models that are not serializable**\n",
        "- Option 1: Use artifacts with the PythonModel object\n",
        "- Option 2: Use a loader module"
      ],
      "metadata": {
        "nteract": {
          "transient": {
            "deleting": false
          }
        }
      }
    },
    {
      "cell_type": "markdown",
      "source": [
        "# 5 - Logging custom models that are serializable"
      ],
      "metadata": {
        "nteract": {
          "transient": {
            "deleting": false
          }
        }
      }
    },
    {
      "cell_type": "markdown",
      "source": [
        "**Saving and Loading Python Objects**\n",
        "\n",
        "- **Making objects last:** In Python, you can save objects (like data or settings) to files so you can use them later. This is called serialization. The saved object is like a snapshot that can be brought back to life when needed.\n",
        "- **Bringing objects back:** When you load a saved object from a file, it's like restoring a picture from a snapshot. You get all the original values, properties, and methods that the object had when it was saved.\n",
        "\n",
        "**Using the `pyfunc` Flavor**\n",
        "\n",
        "- **MLflow's special recipe for any object:** MLflow has a feature called `pyfunc` that lets you save any kind of object as a model, as long as it meets two requirements:\n",
        "    1. **Inherits from `mlflow.pyfunc.PythonModel`:** This is like making sure your object speaks the same language as `pyfunc`.\n",
        "    2. **Has a `predict` method:** This method is like the object's main job, telling you what it can do (like making predictions).\n",
        "\n",
        "**Example: Saving a Scikit-Learn Model**\n",
        "\n",
        "- **Scikit-Learn models already speak the language:** If your model uses Scikit-Learn, you don't need `pyfunc`. Scikit-Learn has its own way of saving models that MLflow understands.\n",
        "  - **Think of it like using a built-in translator:** You don't need a separate recipe because Scikit-Learn models already speak the language MLflow expects."
      ],
      "metadata": {
        "nteract": {
          "transient": {
            "deleting": false
          }
        }
      }
    },
    {
      "cell_type": "code",
      "source": [
        "# implementation of the XGBoost flavor (it returns the probabilities instead of the classes):\n",
        "\n",
        "from mlflow.pyfunc import PythonModel, PythonModelContext\n",
        "\n",
        "\n",
        "class ModelWrapper(PythonModel):\n",
        "    def __init__(self, model):\n",
        "        self._model = model\n",
        "\n",
        "    def predict(self, context: PythonModelContext, data):\n",
        "        # You don't have to keep the semantic meaning of `predict`. You can use here model.recommend(), model.forecast(), etc\n",
        "        return self._model.predict_proba(data)\n",
        "\n",
        "    # You can even add extra functions if you need to. Since the model is serialized,\n",
        "    # all of them will be available when you load your model back.\n",
        "    def predict_batch(self, data):\n",
        "        pass"
      ],
      "outputs": [],
      "execution_count": 22,
      "metadata": {
        "jupyter": {
          "source_hidden": false,
          "outputs_hidden": false
        },
        "nteract": {
          "transient": {
            "deleting": false
          }
        },
        "gather": {
          "logged": 1715552692776
        }
      }
    },
    {
      "cell_type": "code",
      "source": [
        "# Log and run custom model\n",
        "\n",
        "import mlflow\n",
        "from xgboost import XGBClassifier\n",
        "from sklearn.metrics import accuracy_score\n",
        "from mlflow.models import infer_signature\n",
        "\n",
        "with mlflow.start_run():\n",
        "    mlflow.xgboost.autolog(log_models=False)\n",
        "\n",
        "    model = XGBClassifier(use_label_encoder=False, eval_metric=\"logloss\")\n",
        "    model.fit(X_train, y_train, eval_set=[(X_test, y_test)], verbose=False)\n",
        "    y_probs = model.predict_proba(X_test)\n",
        "\n",
        "    accuracy = accuracy_score(y_test, y_probs.argmax(axis=1))\n",
        "    mlflow.log_metric(\"accuracy\", accuracy)\n",
        "\n",
        "    signature = infer_signature(X_test, y_probs)\n",
        "    mlflow.pyfunc.log_model(\"classifier\", python_model=ModelWrapper(model), signature=signature)"
      ],
      "outputs": [
        {
          "output_type": "stream",
          "name": "stderr",
          "text": "2024/05/12 22:24:54 WARNING mlflow.utils.autologging_utils: You are using an unsupported version of xgboost. If you encounter errors during autologging, try upgrading / downgrading xgboost to a supported version, or try upgrading MLflow.\n2024/05/12 22:24:56 WARNING mlflow.utils.autologging_utils: MLflow autologging encountered a warning: \"/anaconda/envs/azureml_py310_sdkv2/lib/python3.10/site-packages/mlflow/data/pandas_dataset.py:116: UserWarning: Hint: Inferred schema contains integer column(s). Integer columns in Python cannot represent missing values. If your input data contains missing values at inference time, it will be encoded as floats and will cause a schema enforcement error. The best way to avoid this problem is to infer the model schema based on a realistic data sample (training dataset) that includes missing values. Alternatively, you can declare integer columns as doubles (float64) whenever these columns may have missing values. See `Handling Integers With Missing Values <https://www.mlflow.org/docs/latest/models.html#handling-integers-with-missing-values>`_ for more details.\"\n2024/05/12 22:24:56 WARNING mlflow.sklearn: Failed to log evaluation dataset information to MLflow Tracking. Reason: BAD_REQUEST: Response: {'Error': {'Code': 'UserError', 'Severity': None, 'Message': 'Cannot log the same dataset with different context', 'MessageFormat': None, 'MessageParameters': None, 'ReferenceCode': None, 'DetailsUri': None, 'Target': None, 'Details': [], 'InnerError': None, 'DebugInfo': None, 'AdditionalInfo': None}, 'Correlation': {'operation': '03f5e089b93551e2002ad38e444f25bb', 'request': '7a21ffca70486f1e'}, 'Environment': 'westus', 'Location': 'westus', 'Time': '2024-05-12T22:24:56.2653996+00:00', 'ComponentName': 'mlflow', 'statusCode': 400, 'error_code': 'BAD_REQUEST'}\n/anaconda/envs/azureml_py310_sdkv2/lib/python3.10/site-packages/mlflow/models/signature.py:144: UserWarning: Hint: Inferred schema contains integer column(s). Integer columns in Python cannot represent missing values. If your input data contains missing values at inference time, it will be encoded as floats and will cause a schema enforcement error. The best way to avoid this problem is to infer the model schema based on a realistic data sample (training dataset) that includes missing values. Alternatively, you can declare integer columns as doubles (float64) whenever these columns may have missing values. See `Handling Integers With Missing Values <https://www.mlflow.org/docs/latest/models.html#handling-integers-with-missing-values>`_ for more details.\n  inputs = _infer_schema(model_input)\n"
        }
      ],
      "execution_count": 23,
      "metadata": {
        "jupyter": {
          "source_hidden": false,
          "outputs_hidden": false
        },
        "nteract": {
          "transient": {
            "deleting": false
          }
        },
        "gather": {
          "logged": 1715552709688
        }
      }
    },
    {
      "cell_type": "markdown",
      "source": [
        "# 6 - Logging custom models that are not serializable (Theory)"
      ],
      "metadata": {
        "nteract": {
          "transient": {
            "deleting": false
          }
        }
      }
    },
    {
      "cell_type": "markdown",
      "source": [
        "- Some machine learning models can't be saved as regular files. This means you'll need a different way to store them for later use\n",
        "- Mlflow can help with this. It will take all the pieces your model needs and bundle them together"
      ],
      "metadata": {
        "nteract": {
          "transient": {
            "deleting": false
          }
        }
      }
    },
    {
      "cell_type": "markdown",
      "source": [
        "- Models that are not serializable means that they cannot be serialized as a Pickle file\n",
        "- This includes models that holds references to code that can't be serialized, that do not support serialization, or that provides a more efficient way to be persisted in disk\n",
        "- In this case, you are required to use a different method to persist the artifacts that you need for your model to run\n",
        "- Then, Mlflow will snapshot all these artifacts and package them all for you. You have two different ways to do this, depending on your preferences:\n",
        "\n",
        "- **Option 1: Use artifacts with the `PythonModel` object**\n",
        "- **Option 2: Use a loader module**"
      ],
      "metadata": {
        "nteract": {
          "transient": {
            "deleting": false
          }
        }
      }
    },
    {
      "cell_type": "markdown",
      "source": [
        "### Option 1: Use artifacts with the PythonModel object"
      ],
      "metadata": {
        "nteract": {
          "transient": {
            "deleting": false
          }
        }
      }
    },
    {
      "cell_type": "markdown",
      "source": [
        "- Use this if you want to retain the state of your model's properties\n",
        "- For instance, in a recommender system you might want to store the number of elements to recommend to any user as a parameter\n",
        "- Here, you will implement a model wrapper as you did in the option above, but in this case you will use `artifacts` to indicate MLflow extra files that you want to include for loading the model state"
      ],
      "metadata": {
        "nteract": {
          "transient": {
            "deleting": false
          }
        }
      }
    },
    {
      "cell_type": "code",
      "source": [
        "from mlflow.pyfunc import PythonModel, PythonModelContext\n",
        "\n",
        "\n",
        "class ModelWrapper(PythonModel):\n",
        "    def load_context(self, context: PythonModelContext):\n",
        "        from xgboost import XGBClassifier\n",
        "\n",
        "        self._model = XGBClassifier(use_label_encoder=False, eval_metric=\"logloss\")\n",
        "        self._model.load_model(context.artifacts[\"model\"])\n",
        "\n",
        "    def predict(self, context: PythonModelContext, data):\n",
        "        return self._model.predict_proba(data)"
      ],
      "outputs": [],
      "execution_count": 24,
      "metadata": {
        "jupyter": {
          "source_hidden": false,
          "outputs_hidden": false
        },
        "nteract": {
          "transient": {
            "deleting": false
          }
        },
        "gather": {
          "logged": 1715554406178
        }
      }
    },
    {
      "cell_type": "code",
      "source": [
        "# Log and run custom model\n",
        "\n",
        "import mlflow\n",
        "from xgboost import XGBClassifier\n",
        "from sklearn.metrics import accuracy_score\n",
        "from mlflow.models import infer_signature\n",
        "\n",
        "with mlflow.start_run():\n",
        "    mlflow.xgboost.autolog(log_models=False)\n",
        "\n",
        "    model = XGBClassifier(use_label_encoder=False, eval_metric=\"logloss\")\n",
        "    model.fit(X_train, y_train, eval_set=[(X_test, y_test)], verbose=False)\n",
        "    y_probs = model.predict_proba(X_test)\n",
        "\n",
        "    accuracy = accuracy_score(y_test, y_probs.argmax(axis=1))\n",
        "    mlflow.log_metric(\"accuracy\", accuracy)\n",
        "\n",
        "    model_path = \"xgb.model\"\n",
        "    model.save_model(model_path)\n",
        "\n",
        "    signature = infer_signature(X_test, y_probs)\n",
        "    mlflow.pyfunc.log_model(\n",
        "        \"classifier\",\n",
        "        python_model=ModelWrapper(),\n",
        "        artifacts={\"model\": model_path},\n",
        "        signature=signature,\n",
        "    )"
      ],
      "outputs": [
        {
          "output_type": "stream",
          "name": "stderr",
          "text": "2024/05/12 23:05:44 WARNING mlflow.utils.autologging_utils: You are using an unsupported version of xgboost. If you encounter errors during autologging, try upgrading / downgrading xgboost to a supported version, or try upgrading MLflow.\n2024/05/12 23:05:47 WARNING mlflow.utils.autologging_utils: MLflow autologging encountered a warning: \"/anaconda/envs/azureml_py310_sdkv2/lib/python3.10/site-packages/mlflow/data/pandas_dataset.py:116: UserWarning: Hint: Inferred schema contains integer column(s). Integer columns in Python cannot represent missing values. If your input data contains missing values at inference time, it will be encoded as floats and will cause a schema enforcement error. The best way to avoid this problem is to infer the model schema based on a realistic data sample (training dataset) that includes missing values. Alternatively, you can declare integer columns as doubles (float64) whenever these columns may have missing values. See `Handling Integers With Missing Values <https://www.mlflow.org/docs/latest/models.html#handling-integers-with-missing-values>`_ for more details.\"\n2024/05/12 23:05:47 WARNING mlflow.sklearn: Failed to log evaluation dataset information to MLflow Tracking. Reason: BAD_REQUEST: Response: {'Error': {'Code': 'UserError', 'Severity': None, 'Message': 'Cannot log the same dataset with different context', 'MessageFormat': None, 'MessageParameters': None, 'ReferenceCode': None, 'DetailsUri': None, 'Target': None, 'Details': [], 'InnerError': None, 'DebugInfo': None, 'AdditionalInfo': None}, 'Correlation': {'operation': '5c3e4f5d11d6dc21ca921cfce340c81b', 'request': 'ee70b66d4b287560'}, 'Environment': 'westus', 'Location': 'westus', 'Time': '2024-05-12T23:05:47.4872711+00:00', 'ComponentName': 'mlflow', 'statusCode': 400, 'error_code': 'BAD_REQUEST'}\n/anaconda/envs/azureml_py310_sdkv2/lib/python3.10/site-packages/xgboost/core.py:160: UserWarning: [23:05:47] WARNING: /workspace/src/c_api/c_api.cc:1240: Saving into deprecated binary model format, please consider using `json` or `ubj`. Model format will default to JSON in XGBoost 2.2 if not specified.\n  warnings.warn(smsg, UserWarning)\n/anaconda/envs/azureml_py310_sdkv2/lib/python3.10/site-packages/mlflow/models/signature.py:144: UserWarning: Hint: Inferred schema contains integer column(s). Integer columns in Python cannot represent missing values. If your input data contains missing values at inference time, it will be encoded as floats and will cause a schema enforcement error. The best way to avoid this problem is to infer the model schema based on a realistic data sample (training dataset) that includes missing values. Alternatively, you can declare integer columns as doubles (float64) whenever these columns may have missing values. See `Handling Integers With Missing Values <https://www.mlflow.org/docs/latest/models.html#handling-integers-with-missing-values>`_ for more details.\n  inputs = _infer_schema(model_input)\n"
        }
      ],
      "execution_count": 25,
      "metadata": {
        "jupyter": {
          "source_hidden": false,
          "outputs_hidden": false
        },
        "nteract": {
          "transient": {
            "deleting": false
          }
        },
        "gather": {
          "logged": 1715555162656
        }
      }
    },
    {
      "cell_type": "markdown",
      "source": [
        "### Option 2: Use a loader module"
      ],
      "metadata": {
        "nteract": {
          "transient": {
            "deleting": false
          }
        }
      }
    },
    {
      "cell_type": "markdown",
      "source": [
        "- Sometimes your model logic is complex and there are several source code files being used to make your model work\n",
        "- This would be the case when you have a Python library for your model for instance\n",
        "- In this scenario, you want to package the library all along with your model so it can move from one place to another as a single piece"
      ],
      "metadata": {
        "nteract": {
          "transient": {
            "deleting": false
          }
        }
      }
    },
    {
      "cell_type": "code",
      "source": [
        "%%writefile loader_module.py\n",
        "\n",
        "class MyModel():\n",
        "    def __init__(self, model):\n",
        "        self._model = model\n",
        "\n",
        "    def predict(self, data):\n",
        "        return self._model.predict_proba(data)\n",
        "\n",
        "def _load_pyfunc(data_path: str):\n",
        "    import os\n",
        "\n",
        "    model = XGBClassifier(use_label_encoder=False, eval_metric='logloss')\n",
        "    model.load_model(os.path.abspath(data_path))\n",
        "\n",
        "    return MyModel(model)"
      ],
      "outputs": [
        {
          "output_type": "stream",
          "name": "stdout",
          "text": "Overwriting loader_module.py\n"
        }
      ],
      "execution_count": 26,
      "metadata": {
        "jupyter": {
          "source_hidden": false,
          "outputs_hidden": false
        },
        "nteract": {
          "transient": {
            "deleting": false
          }
        }
      }
    },
    {
      "cell_type": "markdown",
      "source": [
        "**How to Use This Module:**\n",
        "\n",
        "1. **Save Your Trained Model:** Make sure you have a pre-trained XGBoost model saved in a specific location (e.g., `.sav`, `.model`).\n",
        "2. **Import the Module:** In your main script or notebook, you can import this module using `from loader_module import _load_pyfunc`.\n",
        "3. **Load the Model:** Call the `_load_pyfunc` function, providing the path to your saved model file. This will return a `MyModel` instance.\n",
        "4. **Make Predictions:** Use the `predict` method of the returned `MyModel` object to make predictions on new data. For example, `predictions = my_model.predict(new_data)`.\n"
      ],
      "metadata": {
        "nteract": {
          "transient": {
            "deleting": false
          }
        }
      }
    },
    {
      "cell_type": "code",
      "source": [
        "# Log and run custom model\n",
        "\n",
        "import mlflow\n",
        "from xgboost import XGBClassifier\n",
        "from sklearn.metrics import accuracy_score\n",
        "from mlflow.models import infer_signature\n",
        "\n",
        "with mlflow.start_run():\n",
        "    mlflow.xgboost.autolog(log_models=False)\n",
        "\n",
        "    model = XGBClassifier(use_label_encoder=False, eval_metric=\"logloss\")\n",
        "    model.fit(X_train, y_train, eval_set=[(X_test, y_test)], verbose=False)\n",
        "    y_probs = model.predict_proba(X_test)\n",
        "\n",
        "    accuracy = accuracy_score(y_test, y_probs.argmax(axis=1))\n",
        "    mlflow.log_metric(\"accuracy\", accuracy)\n",
        "\n",
        "    model_path = \"xgb.model\"\n",
        "    model.save_model(model_path)\n",
        "\n",
        "    signature = infer_signature(X_test, y_probs)\n",
        "    mlflow.pyfunc.log_model(\n",
        "        \"classifier\",\n",
        "        data_path=model_path,\n",
        "        code_path=[\"loader_module.py\"],\n",
        "        loader_module=\"loader_module\",\n",
        "        signature=signature,\n",
        "    )"
      ],
      "outputs": [
        {
          "output_type": "stream",
          "name": "stderr",
          "text": "2024/05/12 23:52:23 WARNING mlflow.utils.autologging_utils: You are using an unsupported version of xgboost. If you encounter errors during autologging, try upgrading / downgrading xgboost to a supported version, or try upgrading MLflow.\n2024/05/12 23:52:26 WARNING mlflow.utils.autologging_utils: MLflow autologging encountered a warning: \"/anaconda/envs/azureml_py310_sdkv2/lib/python3.10/site-packages/mlflow/data/pandas_dataset.py:116: UserWarning: Hint: Inferred schema contains integer column(s). Integer columns in Python cannot represent missing values. If your input data contains missing values at inference time, it will be encoded as floats and will cause a schema enforcement error. The best way to avoid this problem is to infer the model schema based on a realistic data sample (training dataset) that includes missing values. Alternatively, you can declare integer columns as doubles (float64) whenever these columns may have missing values. See `Handling Integers With Missing Values <https://www.mlflow.org/docs/latest/models.html#handling-integers-with-missing-values>`_ for more details.\"\n2024/05/12 23:52:27 WARNING mlflow.sklearn: Failed to log evaluation dataset information to MLflow Tracking. Reason: BAD_REQUEST: Response: {'Error': {'Code': 'UserError', 'Severity': None, 'Message': 'Cannot log the same dataset with different context', 'MessageFormat': None, 'MessageParameters': None, 'ReferenceCode': None, 'DetailsUri': None, 'Target': None, 'Details': [], 'InnerError': None, 'DebugInfo': None, 'AdditionalInfo': None}, 'Correlation': {'operation': '00b3ee157fe6c03dabca58d5dc91156b', 'request': '46ee3d75a1d6cd9a'}, 'Environment': 'westus', 'Location': 'westus', 'Time': '2024-05-12T23:52:27.0683075+00:00', 'ComponentName': 'mlflow', 'statusCode': 400, 'error_code': 'BAD_REQUEST'}\n/anaconda/envs/azureml_py310_sdkv2/lib/python3.10/site-packages/xgboost/core.py:160: UserWarning: [23:52:27] WARNING: /workspace/src/c_api/c_api.cc:1240: Saving into deprecated binary model format, please consider using `json` or `ubj`. Model format will default to JSON in XGBoost 2.2 if not specified.\n  warnings.warn(smsg, UserWarning)\n/anaconda/envs/azureml_py310_sdkv2/lib/python3.10/site-packages/mlflow/models/signature.py:144: UserWarning: Hint: Inferred schema contains integer column(s). Integer columns in Python cannot represent missing values. If your input data contains missing values at inference time, it will be encoded as floats and will cause a schema enforcement error. The best way to avoid this problem is to infer the model schema based on a realistic data sample (training dataset) that includes missing values. Alternatively, you can declare integer columns as doubles (float64) whenever these columns may have missing values. See `Handling Integers With Missing Values <https://www.mlflow.org/docs/latest/models.html#handling-integers-with-missing-values>`_ for more details.\n  inputs = _infer_schema(model_input)\n2024/05/12 23:52:29 WARNING mlflow.utils.environment: Encountered an unexpected error while inferring pip requirements (model URI: /tmp/tmpakoi2nf0/model, flavor: python_function), fall back to return ['cloudpickle==2.2.1']. Set logging level to DEBUG to see the full traceback.\n"
        }
      ],
      "execution_count": 27,
      "metadata": {
        "jupyter": {
          "source_hidden": false,
          "outputs_hidden": false
        },
        "nteract": {
          "transient": {
            "deleting": false
          }
        },
        "gather": {
          "logged": 1715557952404
        }
      }
    }
  ],
  "metadata": {
    "kernelspec": {
      "name": "python310-sdkv2",
      "language": "python",
      "display_name": "Python 3.10 - SDK v2"
    },
    "language_info": {
      "name": "python",
      "version": "3.10.11",
      "mimetype": "text/x-python",
      "codemirror_mode": {
        "name": "ipython",
        "version": 3
      },
      "pygments_lexer": "ipython3",
      "nbconvert_exporter": "python",
      "file_extension": ".py"
    },
    "microsoft": {
      "ms_spell_check": {
        "ms_spell_check_language": "en"
      },
      "host": {
        "AzureML": {
          "notebookHasBeenCompleted": true
        }
      }
    },
    "kernel_info": {
      "name": "python310-sdkv2"
    },
    "nteract": {
      "version": "nteract-front-end@1.0.0"
    }
  },
  "nbformat": 4,
  "nbformat_minor": 2
}