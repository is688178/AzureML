{
  "cells": [
    {
      "cell_type": "markdown",
      "source": [
        "# 1 - Develop a training script"
      ],
      "metadata": {
        "nteract": {
          "transient": {
            "deleting": false
          }
        }
      }
    },
    {
      "cell_type": "code",
      "source": [
        "# Import packages and libraries\n",
        "\n",
        "import os\n",
        "import argparse\n",
        "import pandas as pd\n",
        "import mlflow\n",
        "import mlflow.sklearn\n",
        "from sklearn.ensemble import GradientBoostingClassifier\n",
        "from sklearn.metrics import classification_report\n",
        "from sklearn.model_selection import train_test_split"
      ],
      "outputs": [
        {
          "output_type": "stream",
          "name": "stderr",
          "text": "/anaconda/envs/workstation_env/lib/python3.8/site-packages/scipy/__init__.py:146: UserWarning: A NumPy version >=1.16.5 and <1.23.0 is required for this version of SciPy (detected version 1.24.3\n  warnings.warn(f\"A NumPy version >={np_minversion} and <{np_maxversion}\"\n"
        }
      ],
      "execution_count": 2,
      "metadata": {
        "jupyter": {
          "source_hidden": false,
          "outputs_hidden": false
        },
        "nteract": {
          "transient": {
            "deleting": false
          }
        },
        "gather": {
          "logged": 1713128099570
        }
      }
    },
    {
      "cell_type": "code",
      "source": [
        "# load the data\n",
        "credit_df = pd.read_csv(\n",
        "    \"https://azuremlexamples.blob.core.windows.net/datasets/credit_card/default_of_credit_card_clients.csv\",\n",
        "    header=1,\n",
        "    index_col=0,\n",
        ")\n",
        "\n",
        "train_df, test_df = train_test_split(\n",
        "    credit_df,\n",
        "    test_size=0.25,\n",
        ")"
      ],
      "outputs": [],
      "execution_count": 3,
      "metadata": {
        "jupyter": {
          "source_hidden": false,
          "outputs_hidden": false
        },
        "nteract": {
          "transient": {
            "deleting": false
          }
        },
        "gather": {
          "logged": 1713128243383
        }
      }
    },
    {
      "cell_type": "code",
      "source": [
        "# Extracting the label column\n",
        "y_train = train_df.pop(\"default payment next month\")\n",
        "\n",
        "# convert the dataframe values to array\n",
        "X_train = train_df.values\n",
        "\n",
        "# Extracting the label column\n",
        "y_test = test_df.pop(\"default payment next month\")\n",
        "\n",
        "# convert the dataframe values to array\n",
        "X_test = test_df.values"
      ],
      "outputs": [],
      "execution_count": 4,
      "metadata": {
        "jupyter": {
          "source_hidden": false,
          "outputs_hidden": false
        },
        "nteract": {
          "transient": {
            "deleting": false
          }
        },
        "gather": {
          "logged": 1713128328913
        }
      }
    },
    {
      "cell_type": "code",
      "source": [
        "# set name for logging\n",
        "mlflow.set_experiment(\"Develop on cloud tutorial\")\n",
        "\n",
        "# enable autologging with MLflow\n",
        "mlflow.sklearn.autolog()"
      ],
      "outputs": [
        {
          "output_type": "stream",
          "name": "stderr",
          "text": "2024/04/14 21:00:44 INFO mlflow.tracking.fluent: Experiment with name 'Develop on cloud tutorial' does not exist. Creating a new experiment.\n"
        }
      ],
      "execution_count": 5,
      "metadata": {
        "jupyter": {
          "source_hidden": false,
          "outputs_hidden": false
        },
        "nteract": {
          "transient": {
            "deleting": false
          }
        },
        "gather": {
          "logged": 1713128448002
        }
      }
    },
    {
      "cell_type": "code",
      "source": [
        "# Train Gradient Boosting Classifier\n",
        "\n",
        "print(f\"Training with data of shape {X_train.shape}\")\n",
        "\n",
        "mlflow.start_run()\n",
        "clf = GradientBoostingClassifier(n_estimators=100, learning_rate=0.1)\n",
        "clf.fit(X_train, y_train)\n",
        "\n",
        "y_pred = clf.predict(X_test)\n",
        "\n",
        "print(classification_report(y_test, y_pred))\n",
        "# Stop logging for this model\n",
        "mlflow.end_run()"
      ],
      "outputs": [
        {
          "output_type": "stream",
          "name": "stdout",
          "text": "Training with data of shape (22500, 23)\n              precision    recall  f1-score   support\n\n           0       0.84      0.95      0.89      5876\n           1       0.65      0.37      0.47      1624\n\n    accuracy                           0.82      7500\n   macro avg       0.75      0.66      0.68      7500\nweighted avg       0.80      0.82      0.80      7500\n\n"
        },
        {
          "output_type": "stream",
          "name": "stderr",
          "text": "2024/04/14 21:04:16 WARNING mlflow.sklearn: Failed to log training dataset information to MLflow Tracking. Reason: 'Series' object has no attribute 'flatten'\n2024/04/14 21:04:31 WARNING mlflow.utils.autologging_utils: MLflow autologging encountered a warning: \"/anaconda/envs/workstation_env/lib/python3.8/site-packages/_distutils_hack/__init__.py:33: UserWarning: Setuptools is replacing distutils.\"\n"
        }
      ],
      "execution_count": 6,
      "metadata": {
        "jupyter": {
          "source_hidden": false,
          "outputs_hidden": false
        },
        "nteract": {
          "transient": {
            "deleting": false
          }
        },
        "gather": {
          "logged": 1713128677769
        }
      }
    },
    {
      "cell_type": "markdown",
      "source": [
        "# 2 - Iterate"
      ],
      "metadata": {
        "nteract": {
          "transient": {
            "deleting": false
          }
        }
      }
    },
    {
      "cell_type": "code",
      "source": [
        "# Train AdaBoost Classifier\n",
        "from sklearn.ensemble import AdaBoostClassifier\n",
        "\n",
        "print(f\"Training with data of shape {X_train.shape}\")\n",
        "\n",
        "mlflow.start_run()\n",
        "ada = AdaBoostClassifier()\n",
        "\n",
        "ada.fit(X_train, y_train)\n",
        "\n",
        "y_pred = ada.predict(X_test)\n",
        "\n",
        "print(classification_report(y_test, y_pred))\n",
        "# Stop logging for this model\n",
        "mlflow.end_run()"
      ],
      "outputs": [
        {
          "output_type": "stream",
          "name": "stdout",
          "text": "Training with data of shape (22500, 23)\n              precision    recall  f1-score   support\n\n           0       0.84      0.95      0.89      5876\n           1       0.65      0.33      0.44      1624\n\n    accuracy                           0.82      7500\n   macro avg       0.75      0.64      0.66      7500\nweighted avg       0.80      0.82      0.79      7500\n\n"
        },
        {
          "output_type": "stream",
          "name": "stderr",
          "text": "2024/04/14 21:12:54 WARNING mlflow.sklearn: Failed to log training dataset information to MLflow Tracking. Reason: 'Series' object has no attribute 'flatten'\n"
        }
      ],
      "execution_count": 7,
      "metadata": {
        "jupyter": {
          "source_hidden": false,
          "outputs_hidden": false
        },
        "nteract": {
          "transient": {
            "deleting": false
          }
        },
        "gather": {
          "logged": 1713129186677
        }
      }
    }
  ],
  "metadata": {
    "kernelspec": {
      "name": "workstation_env",
      "language": "python",
      "display_name": "Workstation env"
    },
    "language_info": {
      "name": "python",
      "version": "3.8.19",
      "mimetype": "text/x-python",
      "codemirror_mode": {
        "name": "ipython",
        "version": 3
      },
      "pygments_lexer": "ipython3",
      "nbconvert_exporter": "python",
      "file_extension": ".py"
    },
    "microsoft": {
      "ms_spell_check": {
        "ms_spell_check_language": "en"
      }
    },
    "kernel_info": {
      "name": "workstation_env"
    },
    "nteract": {
      "version": "nteract-front-end@1.0.0"
    }
  },
  "nbformat": 4,
  "nbformat_minor": 2
}