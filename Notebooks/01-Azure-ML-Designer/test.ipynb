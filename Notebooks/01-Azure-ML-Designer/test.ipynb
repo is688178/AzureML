{
 "cells": [
  {
   "cell_type": "code",
   "source": [
    "import pandas as pd"
   ],
   "outputs": [],
   "execution_count": 1,
   "metadata": {
    "gather": {
     "logged": 1709674796861
    }
   }
  },
  {
   "cell_type": "code",
   "source": [
    "from azureml.core import Workspace\n",
    "\n",
    "ws = Workspace.get(\n",
    "    name='azureml-ws',\n",
    "    subscription_id='your_subscription_id',\n",
    "    resource_group='you_resource_group',\n",
    ")\n"
   ],
   "outputs": [],
   "execution_count": 3,
   "metadata": {
    "nteract": {
     "transient": {
      "deleting": false
     }
    },
    "gather": {
     "logged": 1709674967422
    }
   }
  },
  {
   "cell_type": "code",
   "source": [
    "ws.get_default_datastore()"
   ],
   "outputs": [],
   "execution_count": null,
   "metadata": {
    "nteract": {
     "transient": {
      "deleting": false
     }
    },
    "gather": {
     "logged": 1709674986442
    }
   }
  }
 ],
 "metadata": {
  "kernelspec": {
   "name": "python310-sdkv2",
   "language": "python",
   "display_name": "Python 3.10 - SDK v2"
  },
  "language_info": {
   "name": "python",
   "version": "3.10.11",
   "mimetype": "text/x-python",
   "codemirror_mode": {
    "name": "ipython",
    "version": 3
   },
   "pygments_lexer": "ipython3",
   "nbconvert_exporter": "python",
   "file_extension": ".py"
  },
  "microsoft": {
   "ms_spell_check": {
    "ms_spell_check_language": "en"
   }
  },
  "kernel_info": {
   "name": "python310-sdkv2"
  },
  "nteract": {
   "version": "nteract-front-end@1.0.0"
  }
 },
 "nbformat": 4,
 "nbformat_minor": 2
}
