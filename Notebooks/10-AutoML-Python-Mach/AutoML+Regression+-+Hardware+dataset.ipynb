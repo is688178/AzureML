{
 "cells": [
  {
   "cell_type": "markdown",
   "source": [
    "# 1 - Business Problem"
   ],
   "metadata": {
    "nteract": {
     "transient": {
      "deleting": false
     }
    }
   }
  },
  {
   "cell_type": "code",
   "source": [
    "import pandas as pd\n",
    "\n",
    "df = pd.read_csv(\"./Data/machine_dataset_train_data.csv\")\n",
    "df.head()"
   ],
   "outputs": [
    {
     "output_type": "execute_result",
     "execution_count": 1,
     "data": {
      "text/plain": "  VendorName ModelName  MYCT  MMIN   MMAX  CACH  CHMIN  CHMAX  PRP  ERP\n0    adviser     32/60   125   256   6000   256     16    128  198  199\n1     amdahl    470v/7    29  8000  32000    32      8     32  269  253\n2     amdahl   470v/7a    29  8000  32000    32      8     32  220  253\n3     amdahl   470v/7b    29  8000  32000    32      8     32  172  253\n4     amdahl   470v/7c    29  8000  16000    32      8     16  132  132",
      "text/html": "<div>\n<style scoped>\n    .dataframe tbody tr th:only-of-type {\n        vertical-align: middle;\n    }\n\n    .dataframe tbody tr th {\n        vertical-align: top;\n    }\n\n    .dataframe thead th {\n        text-align: right;\n    }\n</style>\n<table border=\"1\" class=\"dataframe\">\n  <thead>\n    <tr style=\"text-align: right;\">\n      <th></th>\n      <th>VendorName</th>\n      <th>ModelName</th>\n      <th>MYCT</th>\n      <th>MMIN</th>\n      <th>MMAX</th>\n      <th>CACH</th>\n      <th>CHMIN</th>\n      <th>CHMAX</th>\n      <th>PRP</th>\n      <th>ERP</th>\n    </tr>\n  </thead>\n  <tbody>\n    <tr>\n      <th>0</th>\n      <td>adviser</td>\n      <td>32/60</td>\n      <td>125</td>\n      <td>256</td>\n      <td>6000</td>\n      <td>256</td>\n      <td>16</td>\n      <td>128</td>\n      <td>198</td>\n      <td>199</td>\n    </tr>\n    <tr>\n      <th>1</th>\n      <td>amdahl</td>\n      <td>470v/7</td>\n      <td>29</td>\n      <td>8000</td>\n      <td>32000</td>\n      <td>32</td>\n      <td>8</td>\n      <td>32</td>\n      <td>269</td>\n      <td>253</td>\n    </tr>\n    <tr>\n      <th>2</th>\n      <td>amdahl</td>\n      <td>470v/7a</td>\n      <td>29</td>\n      <td>8000</td>\n      <td>32000</td>\n      <td>32</td>\n      <td>8</td>\n      <td>32</td>\n      <td>220</td>\n      <td>253</td>\n    </tr>\n    <tr>\n      <th>3</th>\n      <td>amdahl</td>\n      <td>470v/7b</td>\n      <td>29</td>\n      <td>8000</td>\n      <td>32000</td>\n      <td>32</td>\n      <td>8</td>\n      <td>32</td>\n      <td>172</td>\n      <td>253</td>\n    </tr>\n    <tr>\n      <th>4</th>\n      <td>amdahl</td>\n      <td>470v/7c</td>\n      <td>29</td>\n      <td>8000</td>\n      <td>16000</td>\n      <td>32</td>\n      <td>8</td>\n      <td>16</td>\n      <td>132</td>\n      <td>132</td>\n    </tr>\n  </tbody>\n</table>\n</div>"
     },
     "metadata": {}
    }
   ],
   "execution_count": 1,
   "metadata": {
    "gather": {
     "logged": 1714329885921
    }
   }
  },
  {
   "cell_type": "code",
   "source": [
    "df.shape"
   ],
   "outputs": [
    {
     "output_type": "execute_result",
     "execution_count": 2,
     "data": {
      "text/plain": "(189, 10)"
     },
     "metadata": {}
    }
   ],
   "execution_count": 2,
   "metadata": {
    "nteract": {
     "transient": {
      "deleting": false
     }
    },
    "gather": {
     "logged": 1714329963097
    }
   }
  },
  {
   "cell_type": "code",
   "source": [
    "df.info()"
   ],
   "outputs": [
    {
     "output_type": "stream",
     "name": "stdout",
     "text": "<class 'pandas.core.frame.DataFrame'>\nRangeIndex: 189 entries, 0 to 188\nData columns (total 10 columns):\n #   Column      Non-Null Count  Dtype \n---  ------      --------------  ----- \n 0   VendorName  189 non-null    object\n 1   ModelName   189 non-null    object\n 2   MYCT        189 non-null    int64 \n 3   MMIN        189 non-null    int64 \n 4   MMAX        189 non-null    int64 \n 5   CACH        189 non-null    int64 \n 6   CHMIN       189 non-null    int64 \n 7   CHMAX       189 non-null    int64 \n 8   PRP         189 non-null    int64 \n 9   ERP         189 non-null    int64 \ndtypes: int64(8), object(2)\nmemory usage: 14.9+ KB\n"
    }
   ],
   "execution_count": 3,
   "metadata": {
    "nteract": {
     "transient": {
      "deleting": false
     }
    },
    "gather": {
     "logged": 1714329979306
    }
   }
  },
  {
   "cell_type": "markdown",
   "source": [
    "# 2 - Connect to Azure Machine Learning Workspace"
   ],
   "metadata": {
    "nteract": {
     "transient": {
      "deleting": false
     }
    }
   }
  },
  {
   "cell_type": "code",
   "source": [
    "# Import required libraries\n",
    "from azure.identity import DefaultAzureCredential\n",
    "from azure.ai.ml import MLClient\n",
    "\n",
    "from azure.ai.ml.constants import AssetTypes\n",
    "from azure.ai.ml import automl, Input, command"
   ],
   "outputs": [],
   "execution_count": 4,
   "metadata": {
    "nteract": {
     "transient": {
      "deleting": false
     }
    },
    "gather": {
     "logged": 1714330200409
    }
   }
  },
  {
   "cell_type": "code",
   "source": [
    "# Configure workspace details and get a handle to workspace\n",
    "\n",
    "# Details of azure ML workspace\n",
    "subscription_id='your_subscription_id'\n",
    "resource_group='you_resource_group'\n",
    "workspace = \"automl-ws12\"\n",
    "\n",
    "# Get a handle to workspace\n",
    "ml_client = MLClient(DefaultAzureCredential(), subscription_id, resource_group, workspace)"
   ],
   "outputs": [],
   "execution_count": 7,
   "metadata": {
    "nteract": {
     "transient": {
      "deleting": false
     }
    },
    "gather": {
     "logged": 1714330294896
    }
   }
  },
  {
   "cell_type": "code",
   "source": [
    "# Show Azure ML Workspace information\n",
    "\n",
    "workspace = ml_client.workspaces.get(name=ml_client.workspace_name)\n",
    "\n",
    "subscription_id = ml_client.connections._subscription_id\n",
    "resource_group = workspace.resource_group\n",
    "workspace_name = ml_client.workspace_name\n",
    "\n",
    "output = {}\n",
    "output[\"Workspace\"] = workspace_name\n",
    "output[\"Subscription ID\"] = subscription_id\n",
    "output[\"Resource Group\"] = resource_group\n",
    "output[\"Location\"] = workspace.location\n",
    "output"
   ],
   "outputs": [
    {
     "output_type": "execute_result",
     "execution_count": 8,
     "data": {
      "text/plain": "{'Workspace': 'automl-ws12',\n 'Subscription ID': '3b57d2fe-08b1-4fe9-b535-f5c4387b9a66',\n 'Resource Group': 'automl-rg12',\n 'Location': 'westus'}"
     },
     "metadata": {}
    }
   ],
   "execution_count": 8,
   "metadata": {
    "nteract": {
     "transient": {
      "deleting": false
     }
    },
    "gather": {
     "logged": 1714330298047
    }
   }
  },
  {
   "cell_type": "markdown",
   "source": [
    "# 3 - MLTable with input Training Data"
   ],
   "metadata": {
    "nteract": {
     "transient": {
      "deleting": false
     }
    }
   }
  },
  {
   "cell_type": "code",
   "source": [
    "# Create mltable\n",
    "\n",
    "import mltable\n",
    "\n",
    "paths = [{\"file\": \"./data/training-mltable-folder/machine_dataset_train_data.csv\"}]\n",
    "\n",
    "train_table = mltable.from_delimited_files(paths)\n",
    "train_table.save(\"./data/training-mltable-folder\")"
   ],
   "outputs": [],
   "execution_count": 9,
   "metadata": {
    "nteract": {
     "transient": {
      "deleting": false
     }
    },
    "gather": {
     "logged": 1714330492046
    }
   }
  },
  {
   "cell_type": "code",
   "source": [
    "# Create mltable data input\n",
    "\n",
    "my_training_data_input = Input(type=AssetTypes.MLTABLE, path=\"./data/training-mltable-folder\")"
   ],
   "outputs": [],
   "execution_count": 10,
   "metadata": {
    "nteract": {
     "transient": {
      "deleting": false
     }
    },
    "gather": {
     "logged": 1714330573315
    }
   }
  },
  {
   "cell_type": "markdown",
   "source": [
    "# 4 - Compute target setup"
   ],
   "metadata": {
    "nteract": {
     "transient": {
      "deleting": false
     }
    }
   }
  },
  {
   "cell_type": "code",
   "source": [
    "from azure.ai.ml.entities import AmlCompute\n",
    "from azure.core.exceptions import ResourceNotFoundError\n",
    "\n",
    "compute_name = \"cpu-cluster\"\n",
    "\n",
    "try:\n",
    "    _ = ml_client.compute.get(compute_name)\n",
    "    print(\"Found existing compute target.\")\n",
    "except ResourceNotFoundError:\n",
    "    print(\"Creating a new compute target...\")\n",
    "    compute_config = AmlCompute(\n",
    "        name=compute_name,\n",
    "        type=\"amlcompute\",\n",
    "        size=\"STANDARD_DS12_V2\",\n",
    "        idle_time_before_scale_down=120,\n",
    "        min_instances=0,\n",
    "        max_instances=6,\n",
    "    )\n",
    "    ml_client.begin_create_or_update(compute_config).result()"
   ],
   "outputs": [
    {
     "output_type": "stream",
     "name": "stdout",
     "text": "Creating a new compute target...\n"
    }
   ],
   "execution_count": 11,
   "metadata": {
    "nteract": {
     "transient": {
      "deleting": false
     }
    },
    "gather": {
     "logged": 1714330881879
    }
   }
  },
  {
   "cell_type": "markdown",
   "source": [
    "# 5 - Configure and run AutoML Regression training job"
   ],
   "metadata": {
    "nteract": {
     "transient": {
      "deleting": false
     }
    }
   }
  },
  {
   "cell_type": "code",
   "source": [
    "max_trials = 5\n",
    "exp_name = \"regression-experiment\""
   ],
   "outputs": [],
   "execution_count": 13,
   "metadata": {
    "nteract": {
     "transient": {
      "deleting": false
     }
    },
    "gather": {
     "logged": 1714331802451
    }
   }
  },
  {
   "cell_type": "code",
   "source": [
    "# AutoML regression job\n",
    "\n",
    "regression_job = automl.regression(\n",
    "    experiment_name=exp_name,\n",
    "    training_data=my_training_data_input,\n",
    "    target_column_name='ERP',\n",
    "    primary_metric=\"R2Score\",\n",
    "    n_cross_validations=5,\n",
    "    enable_model_explainability=True,\n",
    "    tags={\"my custom key\": \"my custom value\"}\n",
    ")\n",
    "\n",
    "# Limits\n",
    "regression_job.set_limits(\n",
    "    timeout_minutes=60,\n",
    "    trial_timeout_minutes=4,\n",
    "    max_trials=max_trials,\n",
    "    enable_early_termination=True\n",
    ")"
   ],
   "outputs": [],
   "execution_count": 14,
   "metadata": {
    "nteract": {
     "transient": {
      "deleting": false
     }
    },
    "gather": {
     "logged": 1714331804298
    }
   }
  },
  {
   "cell_type": "code",
   "source": [
    "# Submit the job run\n",
    "\n",
    "returned_job = ml_client.jobs.create_or_update(regression_job)\n",
    "print(f\"Created Job: {returned_job}\")"
   ],
   "outputs": [
    {
     "output_type": "stream",
     "name": "stderr",
     "text": "\u001B[32mUploading training-mltable-folder (0.01 MBs): 100%|██████████| 8579/8579 [00:00<00:00, 69627.09it/s]\n\u001B[39m\n\n"
    },
    {
     "output_type": "stream",
     "name": "stdout",
     "text": "Created Job: compute: azureml:/subscriptions/3b57d2fe-08b1-4fe9-b535-f5c4387b9a66/resourceGroups/automl-rg12/providers/Microsoft.MachineLearningServices/workspaces/automl-ws12/computes/\ncreation_context:\n  created_at: '2024-04-28T19:19:08.099146+00:00'\n  created_by: Vijay Gadhave\n  created_by_type: User\ndisplay_name: olive_fennel_dct48dckcj\nexperiment_name: regression-experiment\nid: azureml:/subscriptions/3b57d2fe-08b1-4fe9-b535-f5c4387b9a66/resourceGroups/automl-rg12/providers/Microsoft.MachineLearningServices/workspaces/automl-ws12/jobs/olive_fennel_dct48dckcj\nlimits:\n  enable_early_termination: true\n  max_concurrent_trials: 1\n  max_cores_per_trial: -1\n  max_nodes: 1\n  max_trials: 5\n  timeout_minutes: 60\n  trial_timeout_minutes: 4\nlog_verbosity: info\nn_cross_validations: 5\nname: olive_fennel_dct48dckcj\noutputs: {}\nprimary_metric: r2_score\nproperties: {}\nresources:\n  instance_count: 1\n  shm_size: 2g\nservices:\n  Studio:\n    endpoint: https://ml.azure.com/runs/olive_fennel_dct48dckcj?wsid=/subscriptions/3b57d2fe-08b1-4fe9-b535-f5c4387b9a66/resourcegroups/automl-rg12/workspaces/automl-ws12&tid=843e1e65-e875-4fbd-8ddc-ce696f3a551d\n  Tracking:\n    endpoint: azureml://westus.api.azureml.ms/mlflow/v1.0/subscriptions/3b57d2fe-08b1-4fe9-b535-f5c4387b9a66/resourceGroups/automl-rg12/providers/Microsoft.MachineLearningServices/workspaces/automl-ws12?\nstatus: NotStarted\ntags:\n  my custom key: my custom value\ntarget_column_name: ERP\ntask: regression\ntraining:\n  enable_dnn_training: false\n  enable_model_explainability: true\n  enable_onnx_compatible_models: false\n  enable_stack_ensemble: true\n  enable_vote_ensemble: true\n  ensemble_model_download_timeout_minutes: 5\n  training_mode: auto\ntraining_data:\n  path: azureml://datastores/workspaceblobstore/paths/LocalUpload/b7d55034232dfababaf64c4af76b39c8/training-mltable-folder\n  type: mltable\ntype: automl\nvalidation_data:\n  type: mltable\n\n"
    }
   ],
   "execution_count": 15,
   "metadata": {
    "nteract": {
     "transient": {
      "deleting": false
     }
    },
    "gather": {
     "logged": 1714331950746
    }
   }
  },
  {
   "cell_type": "code",
   "source": [
    "# Wait for job to complete and stream updates\n",
    "\n",
    "ml_client.jobs.stream(returned_job.name)"
   ],
   "outputs": [
    {
     "output_type": "stream",
     "name": "stdout",
     "text": "RunId: olive_fennel_dct48dckcj\nWeb View: https://ml.azure.com/runs/olive_fennel_dct48dckcj?wsid=/subscriptions/3b57d2fe-08b1-4fe9-b535-f5c4387b9a66/resourcegroups/automl-rg12/workspaces/automl-ws12\n\nExecution Summary\n=================\nRunId: olive_fennel_dct48dckcj\nWeb View: https://ml.azure.com/runs/olive_fennel_dct48dckcj?wsid=/subscriptions/3b57d2fe-08b1-4fe9-b535-f5c4387b9a66/resourcegroups/automl-rg12/workspaces/automl-ws12\n\n"
    }
   ],
   "execution_count": 16,
   "metadata": {
    "nteract": {
     "transient": {
      "deleting": false
     }
    },
    "gather": {
     "logged": 1714332814968
    }
   }
  },
  {
   "cell_type": "code",
   "source": [
    "# Get a URL for the status of the job\n",
    "returned_job.services[\"Studio\"].endpoint"
   ],
   "outputs": [
    {
     "output_type": "execute_result",
     "execution_count": 17,
     "data": {
      "text/plain": "'https://ml.azure.com/runs/olive_fennel_dct48dckcj?wsid=/subscriptions/3b57d2fe-08b1-4fe9-b535-f5c4387b9a66/resourcegroups/automl-rg12/workspaces/automl-ws12&tid=843e1e65-e875-4fbd-8ddc-ce696f3a551d'"
     },
     "metadata": {}
    }
   ],
   "execution_count": 17,
   "metadata": {
    "nteract": {
     "transient": {
      "deleting": false
     }
    },
    "gather": {
     "logged": 1714333461549
    }
   }
  },
  {
   "cell_type": "code",
   "source": [
    "returned_job.name"
   ],
   "outputs": [
    {
     "output_type": "execute_result",
     "execution_count": 18,
     "data": {
      "text/plain": "'olive_fennel_dct48dckcj'"
     },
     "metadata": {}
    }
   ],
   "execution_count": 18,
   "metadata": {
    "nteract": {
     "transient": {
      "deleting": false
     }
    },
    "gather": {
     "logged": 1714333478076
    }
   }
  },
  {
   "cell_type": "markdown",
   "source": [
    "# 6 - Retrieve Best Trial"
   ],
   "metadata": {
    "nteract": {
     "transient": {
      "deleting": false
     }
    }
   }
  },
  {
   "cell_type": "markdown",
   "source": [
    "### Obtain tracking URI for MLFlow"
   ],
   "metadata": {
    "nteract": {
     "transient": {
      "deleting": false
     }
    }
   }
  },
  {
   "cell_type": "code",
   "source": [
    "# Obtain the tracking URI from MLClient\n",
    "\n",
    "import mlflow\n",
    "\n",
    "MLFLOW_TRACKING_URI = ml_client.workspaces.get(name=ml_client.workspace_name).mlflow_tracking_uri\n",
    "print(MLFLOW_TRACKING_URI)"
   ],
   "outputs": [
    {
     "output_type": "stream",
     "name": "stdout",
     "text": "azureml://westus.api.azureml.ms/mlflow/v1.0/subscriptions/3b57d2fe-08b1-4fe9-b535-f5c4387b9a66/resourceGroups/automl-rg12/providers/Microsoft.MachineLearningServices/workspaces/automl-ws12\n"
    }
   ],
   "execution_count": 19,
   "metadata": {
    "nteract": {
     "transient": {
      "deleting": false
     }
    },
    "gather": {
     "logged": 1714333942465
    }
   }
  },
  {
   "cell_type": "code",
   "source": [
    "# Set the MLFLOW TRACKING URI\n",
    "\n",
    "mlflow.set_tracking_uri(MLFLOW_TRACKING_URI)\n",
    "print(\"\\nCurrent tracking uri: {}\".format(mlflow.get_tracking_uri()))"
   ],
   "outputs": [
    {
     "output_type": "stream",
     "name": "stdout",
     "text": "\nCurrent tracking uri: azureml://westus.api.azureml.ms/mlflow/v1.0/subscriptions/3b57d2fe-08b1-4fe9-b535-f5c4387b9a66/resourceGroups/automl-rg12/providers/Microsoft.MachineLearningServices/workspaces/automl-ws12\n"
    }
   ],
   "execution_count": 20,
   "metadata": {
    "nteract": {
     "transient": {
      "deleting": false
     }
    },
    "gather": {
     "logged": 1714333970137
    }
   }
  },
  {
   "cell_type": "code",
   "source": [
    "# Initialize MLFlow client\n",
    "\n",
    "from mlflow.tracking.client import MlflowClient\n",
    "from mlflow.artifacts import download_artifacts\n",
    "\n",
    "\n",
    "mlflow_client = MlflowClient()"
   ],
   "outputs": [],
   "execution_count": 21,
   "metadata": {
    "nteract": {
     "transient": {
      "deleting": false
     }
    },
    "gather": {
     "logged": 1714334007947
    }
   }
  },
  {
   "cell_type": "markdown",
   "source": [
    "### Get AutoML parent Job"
   ],
   "metadata": {
    "nteract": {
     "transient": {
      "deleting": false
     }
    }
   }
  },
  {
   "cell_type": "code",
   "source": [
    "job_name = returned_job.name\n",
    "\n",
    "# Get the parent run\n",
    "mlflow_parent_run = mlflow_client.get_run(job_name)\n",
    "\n",
    "print(\"Parent Run: \")\n",
    "print(mlflow_parent_run)"
   ],
   "outputs": [
    {
     "output_type": "stream",
     "name": "stdout",
     "text": "Parent Run: \n<Run: data=<RunData: metrics={'explained_variance': 0.8920387935716176,\n 'mean_absolute_error': 13.539137179346207,\n 'mean_absolute_percentage_error': 8.872139228421817,\n 'median_absolute_error': 2.567427062988281,\n 'normalized_mean_absolute_error': 0.011070431054248736,\n 'normalized_median_absolute_error': 0.002099286233023942,\n 'normalized_root_mean_squared_error': 0.034096838205383236,\n 'normalized_root_mean_squared_log_error': 0.03225134363934273,\n 'r2_score': 0.8877571661083964,\n 'root_mean_squared_error': 41.70043312518369,\n 'root_mean_squared_log_error': 0.14027628901087677,\n 'spearman_correlation': 0.9849634259945527}, params={}, tags={'_azureml.ComputeTargetType': '',\n 'automl_best_child_run_id': 'olive_fennel_dct48dckcj_1',\n 'fit_time_000': '0.0226334;0.0766718;0.05308700000000001;2;2',\n 'iteration_000': '0;1;2;3;4',\n 'mlflow.rootRunId': 'olive_fennel_dct48dckcj',\n 'mlflow.runName': 'olive_fennel_dct48dckcj',\n 'mlflow.user': 'Vijay Gadhave',\n 'model_explain_best_run_child_id': 'olive_fennel_dct48dckcj_1',\n 'model_explain_run': 'best_run',\n 'my custom key': 'my custom value',\n 'pipeline_id_000': 'faf12f74cf9bbd358ca5525682c5030d36f7be7c;4bc4ec47eb8df2d5d68b361cd60120e65196f757;5cc37daec73ea64276ef956449645cdb519fdfc6;__AutoML_Ensemble__;__AutoML_Stack_Ensemble__',\n 'predicted_cost_000': '0;0;0.5;0;0',\n 'run_algorithm_000': 'LightGBM;XGBoostRegressor;XGBoostRegressor;VotingEnsemble;StackEnsemble',\n 'run_preprocessor_000': 'MaxAbsScaler;MaxAbsScaler;StandardScalerWrapper;;',\n 'score_000': '0.6359901279465644;0.8877571661083964;-0.4691851490369148;0.8877571661083964;0.8100906326416171',\n 'training_percent_000': '100;100;100;100;100'}>, info=<RunInfo: artifact_uri='azureml://westus.api.azureml.ms/mlflow/v2.0/subscriptions/3b57d2fe-08b1-4fe9-b535-f5c4387b9a66/resourceGroups/automl-rg12/providers/Microsoft.MachineLearningServices/workspaces/automl-ws12/experiments/11a05c2b-de08-4333-be4c-9daa1d805499/runs/olive_fennel_dct48dckcj/artifacts', end_time=1714332760840, experiment_id='11a05c2b-de08-4333-be4c-9daa1d805499', lifecycle_stage='active', run_id='olive_fennel_dct48dckcj', run_name='olive_fennel_dct48dckcj', run_uuid='olive_fennel_dct48dckcj', start_time=1714331967393, status='FINISHED', user_id='c46e826b-809e-4ae5-9a2b-97a274ed9bc7'>, inputs=<RunInputs: dataset_inputs=[]>>\n"
    }
   ],
   "execution_count": 22,
   "metadata": {
    "nteract": {
     "transient": {
      "deleting": false
     }
    },
    "gather": {
     "logged": 1714334067208
    }
   }
  },
  {
   "cell_type": "code",
   "source": [
    "# Print parent run tags. 'automl_best_child_run_id' tag should be there.\n",
    "print(mlflow_parent_run.data.tags)"
   ],
   "outputs": [
    {
     "output_type": "stream",
     "name": "stdout",
     "text": "{'my custom key': 'my custom value', 'model_explain_run': 'best_run', '_azureml.ComputeTargetType': '', 'pipeline_id_000': 'faf12f74cf9bbd358ca5525682c5030d36f7be7c;4bc4ec47eb8df2d5d68b361cd60120e65196f757;5cc37daec73ea64276ef956449645cdb519fdfc6;__AutoML_Ensemble__;__AutoML_Stack_Ensemble__', 'score_000': '0.6359901279465644;0.8877571661083964;-0.4691851490369148;0.8877571661083964;0.8100906326416171', 'predicted_cost_000': '0;0;0.5;0;0', 'fit_time_000': '0.0226334;0.0766718;0.05308700000000001;2;2', 'training_percent_000': '100;100;100;100;100', 'iteration_000': '0;1;2;3;4', 'run_preprocessor_000': 'MaxAbsScaler;MaxAbsScaler;StandardScalerWrapper;;', 'run_algorithm_000': 'LightGBM;XGBoostRegressor;XGBoostRegressor;VotingEnsemble;StackEnsemble', 'automl_best_child_run_id': 'olive_fennel_dct48dckcj_1', 'model_explain_best_run_child_id': 'olive_fennel_dct48dckcj_1', 'mlflow.rootRunId': 'olive_fennel_dct48dckcj', 'mlflow.runName': 'olive_fennel_dct48dckcj', 'mlflow.user': 'Vijay Gadhave'}\n"
    }
   ],
   "execution_count": 23,
   "metadata": {
    "nteract": {
     "transient": {
      "deleting": false
     }
    },
    "gather": {
     "logged": 1714334103633
    }
   }
  },
  {
   "cell_type": "markdown",
   "source": [
    "### Get AutoML best child run"
   ],
   "metadata": {
    "nteract": {
     "transient": {
      "deleting": false
     }
    }
   }
  },
  {
   "cell_type": "code",
   "source": [
    "# Get the best model's child run\n",
    "\n",
    "best_child_run_id = mlflow_parent_run.data.tags[\"automl_best_child_run_id\"]\n",
    "print(\"Found best child run id: \", best_child_run_id)\n",
    "\n",
    "best_run = mlflow_client.get_run(best_child_run_id)\n",
    "\n",
    "print(\"Best child run: \")\n",
    "print(best_run)"
   ],
   "outputs": [],
   "execution_count": null,
   "metadata": {
    "nteract": {
     "transient": {
      "deleting": false
     }
    }
   }
  },
  {
   "cell_type": "code",
   "source": [
    "# Get best model run's metrics\n",
    "best_run.data.metrics"
   ],
   "outputs": [
    {
     "output_type": "execute_result",
     "execution_count": 26,
     "data": {
      "text/plain": "{'r2_score': 0.8877571661083964,\n 'normalized_mean_absolute_error': 0.011070431054248736,\n 'mean_absolute_error': 13.539137179346207,\n 'mean_absolute_percentage_error': 8.872139228421817,\n 'normalized_root_mean_squared_log_error': 0.03225134363934273,\n 'spearman_correlation': 0.9849634259945527,\n 'explained_variance': 0.8920387935716176,\n 'root_mean_squared_log_error': 0.14027628901087677,\n 'root_mean_squared_error': 41.70043312518369,\n 'normalized_root_mean_squared_error': 0.034096838205383236,\n 'median_absolute_error': 2.567427062988281,\n 'normalized_median_absolute_error': 0.002099286233023942}"
     },
     "metadata": {}
    }
   ],
   "execution_count": 26,
   "metadata": {
    "nteract": {
     "transient": {
      "deleting": false
     }
    },
    "gather": {
     "logged": 1714334265679
    }
   }
  },
  {
   "cell_type": "markdown",
   "source": [
    "### Download best model locally"
   ],
   "metadata": {
    "nteract": {
     "transient": {
      "deleting": false
     }
    }
   }
  },
  {
   "cell_type": "code",
   "source": [
    "import os\n",
    "\n",
    "# Create local folder\n",
    "local_dir = \"./artifact_downloads\"\n",
    "if not os.path.exists(local_dir):\n",
    "    os.mkdir(local_dir)"
   ],
   "outputs": [],
   "execution_count": 27,
   "metadata": {
    "nteract": {
     "transient": {
      "deleting": false
     }
    },
    "gather": {
     "logged": 1714334321681
    }
   }
  },
  {
   "cell_type": "code",
   "source": [
    "# Download run's artifacts/outputs\n",
    "local_path = download_artifacts(run_id=best_run.info.run_id, artifact_path=\"outputs\", dst_path=local_dir)\n",
    "print(\"Artifacts downloaded in: {}\".format(local_path))\n",
    "print(\"Artifacts: {}\".format(os.listdir(local_path)))"
   ],
   "outputs": [
    {
     "output_type": "stream",
     "name": "stdout",
     "text": "Artifacts downloaded in: /mnt/batch/tasks/shared/LS_root/mounts/clusters/compute-instance01/code/Users/vijaygadhave199/artifact_downloads/outputs\nArtifacts: ['conda_env_v_1_0_0.yml', 'engineered_feature_names.json', 'env_dependencies.json', 'featurization_summary.json', 'generated_code', 'internal_cross_validated_models.pkl', 'mlflow-model', 'model.pkl', 'pipeline_graph.json', 'run_id.txt', 'scoring_file_pbi_v_1_0_0.py', 'scoring_file_v_1_0_0.py', 'scoring_file_v_2_0_0.py']\n"
    }
   ],
   "execution_count": 28,
   "metadata": {
    "nteract": {
     "transient": {
      "deleting": false
     }
    },
    "gather": {
     "logged": 1714334416695
    }
   }
  },
  {
   "cell_type": "code",
   "source": [
    "# Show the contents of MLFlow model folder\n",
    "os.listdir(\"./artifact_downloads/outputs/mlflow-model\")"
   ],
   "outputs": [
    {
     "output_type": "execute_result",
     "execution_count": 29,
     "data": {
      "text/plain": "['.amlignore',\n '.amlignore.amltmp',\n 'conda.yaml',\n 'MLmodel',\n 'model.pkl',\n 'python_env.yaml',\n 'requirements.txt']"
     },
     "metadata": {}
    }
   ],
   "execution_count": 29,
   "metadata": {
    "nteract": {
     "transient": {
      "deleting": false
     }
    },
    "gather": {
     "logged": 1714334468504
    }
   }
  },
  {
   "cell_type": "markdown",
   "source": [
    "# 7 - Create managed online endpoint"
   ],
   "metadata": {
    "nteract": {
     "transient": {
      "deleting": false
     }
    }
   }
  },
  {
   "cell_type": "code",
   "source": [
    "# import required libraries\n",
    "from azure.ai.ml.entities import (\n",
    "    ManagedOnlineEndpoint,\n",
    "    ManagedOnlineDeployment,\n",
    "    Model,\n",
    "    Environment,\n",
    "    CodeConfiguration,\n",
    "    ProbeSettings,\n",
    ")\n",
    "from azure.ai.ml.constants import ModelType"
   ],
   "outputs": [],
   "execution_count": 30,
   "metadata": {
    "nteract": {
     "transient": {
      "deleting": false
     }
    },
    "gather": {
     "logged": 1714336061880
    }
   }
  },
  {
   "cell_type": "code",
   "source": [
    "# Creating an unique endpoint name with current datetime to avoid conflicts\n",
    "import datetime\n",
    "\n",
    "online_endpoint_name = \"regression-\" + datetime.datetime.now().strftime(\"%m%d%H%M%f\")\n",
    "print(online_endpoint_name)"
   ],
   "outputs": [
    {
     "output_type": "stream",
     "name": "stdout",
     "text": "regression-04282028824106\n"
    }
   ],
   "execution_count": 31,
   "metadata": {
    "nteract": {
     "transient": {
      "deleting": false
     }
    },
    "gather": {
     "logged": 1714336106754
    }
   }
  },
  {
   "cell_type": "code",
   "source": [
    "# create an online endpoint\n",
    "\n",
    "endpoint = ManagedOnlineEndpoint(\n",
    "    name=online_endpoint_name,\n",
    "    description=\"this is a sample online endpoint for mlflow model\",\n",
    "    auth_mode=\"key\",\n",
    "    tags={\"foo\": \"bar\"},\n",
    ")"
   ],
   "outputs": [],
   "execution_count": 32,
   "metadata": {
    "nteract": {
     "transient": {
      "deleting": false
     }
    },
    "gather": {
     "logged": 1714336147142
    }
   }
  },
  {
   "cell_type": "code",
   "source": [
    "ml_client.begin_create_or_update(endpoint).result()"
   ],
   "outputs": [
    {
     "output_type": "execute_result",
     "execution_count": 33,
     "data": {
      "text/plain": "ManagedOnlineEndpoint({'public_network_access': 'Enabled', 'provisioning_state': 'Succeeded', 'scoring_uri': 'https://regression-04282028824106.westus.inference.ml.azure.com/score', 'openapi_uri': 'https://regression-04282028824106.westus.inference.ml.azure.com/swagger.json', 'name': 'regression-04282028824106', 'description': 'this is a sample online endpoint for mlflow model', 'tags': {'foo': 'bar'}, 'properties': {'azureml.onlineendpointid': '/subscriptions/3b57d2fe-08b1-4fe9-b535-f5c4387b9a66/resourcegroups/automl-rg12/providers/microsoft.machinelearningservices/workspaces/automl-ws12/onlineendpoints/regression-04282028824106', 'AzureAsyncOperationUri': 'https://management.azure.com/subscriptions/3b57d2fe-08b1-4fe9-b535-f5c4387b9a66/providers/Microsoft.MachineLearningServices/locations/westus/mfeOperationsStatus/oe:37ec976d-d4c6-40eb-a7f5-e15ebf372a4d:16f0d4f1-3ba3-4e4a-80f8-fdd29ce2b4a3?api-version=2022-02-01-preview'}, 'print_as_yaml': True, 'id': '/subscriptions/3b57d2fe-08b1-4fe9-b535-f5c4387b9a66/resourceGroups/automl-rg12/providers/Microsoft.MachineLearningServices/workspaces/automl-ws12/onlineEndpoints/regression-04282028824106', 'Resource__source_path': None, 'base_path': '/mnt/batch/tasks/shared/LS_root/mounts/clusters/compute-instance01/code/Users/vijaygadhave199', 'creation_context': None, 'serialize': <msrest.serialization.Serializer object at 0x7f391efedb10>, 'auth_mode': 'key', 'location': 'westus', 'identity': <azure.ai.ml.entities._credentials.IdentityConfiguration object at 0x7f391efeee30>, 'traffic': {}, 'mirror_traffic': {}, 'kind': 'Managed'})"
     },
     "metadata": {}
    }
   ],
   "execution_count": 33,
   "metadata": {
    "nteract": {
     "transient": {
      "deleting": false
     }
    },
    "gather": {
     "logged": 1714336279348
    }
   }
  },
  {
   "cell_type": "markdown",
   "source": [
    "# 8 - Register best model"
   ],
   "metadata": {
    "nteract": {
     "transient": {
      "deleting": false
     }
    }
   }
  },
  {
   "cell_type": "code",
   "source": [
    "model_name = \"hardware-performance-model\"\n",
    "\n",
    "model = Model(\n",
    "    path=f\"azureml://jobs/{best_run.info.run_id}/outputs/artifacts/outputs/mlflow-model/\",\n",
    "    name=model_name,\n",
    "    description=\"my regression model\",\n",
    "    type=AssetTypes.MLFLOW_MODEL,\n",
    ")\n",
    "\n",
    "registered_model = ml_client.models.create_or_update(model)"
   ],
   "outputs": [],
   "execution_count": 34,
   "metadata": {
    "nteract": {
     "transient": {
      "deleting": false
     }
    },
    "gather": {
     "logged": 1714336498367
    }
   }
  },
  {
   "cell_type": "code",
   "source": [
    "registered_model.id"
   ],
   "outputs": [
    {
     "output_type": "execute_result",
     "execution_count": 35,
     "data": {
      "text/plain": "'/subscriptions/3b57d2fe-08b1-4fe9-b535-f5c4387b9a66/resourceGroups/automl-rg12/providers/Microsoft.MachineLearningServices/workspaces/automl-ws12/models/hardware-performance-model/versions/1'"
     },
     "metadata": {}
    }
   ],
   "execution_count": 35,
   "metadata": {
    "nteract": {
     "transient": {
      "deleting": false
     }
    },
    "gather": {
     "logged": 1714336515199
    }
   }
  },
  {
   "cell_type": "markdown",
   "source": [
    "# 9 - Deploy best model"
   ],
   "metadata": {
    "nteract": {
     "transient": {
      "deleting": false
     }
    }
   }
  },
  {
   "cell_type": "code",
   "source": [
    "deployment = ManagedOnlineDeployment(\n",
    "    name=\"hardware-performance-deploy\",\n",
    "    endpoint_name=online_endpoint_name,\n",
    "    model=registered_model.id,\n",
    "    instance_type=\"Standard_DS2_V2\",\n",
    "    instance_count=1,\n",
    "    liveness_probe=ProbeSettings(\n",
    "        failure_threshold=30,\n",
    "        success_threshold=1,\n",
    "        timeout=2,\n",
    "        period=10,\n",
    "        initial_delay=2000,\n",
    "    ),\n",
    "    readiness_probe=ProbeSettings(\n",
    "        failure_threshold=10,\n",
    "        success_threshold=1,\n",
    "        timeout=10,\n",
    "        period=10,\n",
    "        initial_delay=2000,\n",
    "    ),\n",
    ")"
   ],
   "outputs": [],
   "execution_count": 39,
   "metadata": {
    "nteract": {
     "transient": {
      "deleting": false
     }
    },
    "gather": {
     "logged": 1714337281925
    }
   }
  },
  {
   "cell_type": "code",
   "source": [
    "ml_client.online_deployments.begin_create_or_update(deployment).result()"
   ],
   "outputs": [
    {
     "output_type": "stream",
     "name": "stderr",
     "text": "Instance type Standard_DS2_V2 may be too small for compute resources. Minimum recommended compute SKU is Standard_DS3_v2 for general purpose endpoints. Learn more about SKUs here: https://learn.microsoft.com/en-us/azure/machine-learning/referencemanaged-online-endpoints-vm-sku-list\nCheck: endpoint regression-04282028824106 exists\n"
    },
    {
     "output_type": "stream",
     "name": "stdout",
     "text": "........................................................................................................................................................................................................................................................................................................................................................................................................................................................................................................"
    },
    {
     "output_type": "execute_result",
     "execution_count": 40,
     "data": {
      "text/plain": "ManagedOnlineDeployment({'private_network_connection': None, 'provisioning_state': 'Succeeded', 'endpoint_name': 'regression-04282028824106', 'type': 'Managed', 'name': 'hardware-performance-deploy', 'description': None, 'tags': {}, 'properties': {'AzureAsyncOperationUri': 'https://management.azure.com/subscriptions/3b57d2fe-08b1-4fe9-b535-f5c4387b9a66/providers/Microsoft.MachineLearningServices/locations/westus/mfeOperationsStatus/od:37ec976d-d4c6-40eb-a7f5-e15ebf372a4d:aa8124c4-a235-401d-b9c2-115b3b33c4bf?api-version=2023-04-01-preview'}, 'print_as_yaml': True, 'id': '/subscriptions/3b57d2fe-08b1-4fe9-b535-f5c4387b9a66/resourceGroups/automl-rg12/providers/Microsoft.MachineLearningServices/workspaces/automl-ws12/onlineEndpoints/regression-04282028824106/deployments/hardware-performance-deploy', 'Resource__source_path': None, 'base_path': '/mnt/batch/tasks/shared/LS_root/mounts/clusters/compute-instance01/code/Users/vijaygadhave199', 'creation_context': None, 'serialize': <msrest.serialization.Serializer object at 0x7f391ecef190>, 'model': '/subscriptions/3b57d2fe-08b1-4fe9-b535-f5c4387b9a66/resourceGroups/automl-rg12/providers/Microsoft.MachineLearningServices/workspaces/automl-ws12/models/hardware-performance-model/versions/1', 'code_configuration': None, 'environment': None, 'environment_variables': {}, 'app_insights_enabled': False, 'scale_settings': <azure.ai.ml.entities._deployment.scale_settings.DefaultScaleSettings object at 0x7f391ecefd30>, 'request_settings': <azure.ai.ml.entities._deployment.deployment_settings.OnlineRequestSettings object at 0x7f391ecedc90>, 'liveness_probe': <azure.ai.ml.entities._deployment.deployment_settings.ProbeSettings object at 0x7f391ecedde0>, 'readiness_probe': <azure.ai.ml.entities._deployment.deployment_settings.ProbeSettings object at 0x7f391ecef130>, 'instance_count': 1, 'arm_type': 'online_deployment', 'model_mount_path': None, 'instance_type': 'Standard_DS2_V2', 'data_collector': None, 'egress_public_network_access': 'Enabled'})"
     },
     "metadata": {}
    }
   ],
   "execution_count": 40,
   "metadata": {
    "nteract": {
     "transient": {
      "deleting": false
     }
    },
    "gather": {
     "logged": 1714339853414
    }
   }
  },
  {
   "cell_type": "code",
   "source": [
    "# existing traffic details\n",
    "print(endpoint.traffic)"
   ],
   "outputs": [
    {
     "output_type": "stream",
     "name": "stdout",
     "text": "{}\n"
    }
   ],
   "execution_count": 41,
   "metadata": {
    "nteract": {
     "transient": {
      "deleting": false
     }
    },
    "gather": {
     "logged": 1714340649438
    }
   }
  },
  {
   "cell_type": "code",
   "source": [
    "# hardware performance deployment to take 100% traffic\n",
    "endpoint.traffic = {\"hardware-performance-deploy\": 100}\n",
    "ml_client.begin_create_or_update(endpoint).result()"
   ],
   "outputs": [
    {
     "output_type": "execute_result",
     "execution_count": 42,
     "data": {
      "text/plain": "ManagedOnlineEndpoint({'public_network_access': 'Enabled', 'provisioning_state': 'Succeeded', 'scoring_uri': 'https://regression-04282028824106.westus.inference.ml.azure.com/score', 'openapi_uri': 'https://regression-04282028824106.westus.inference.ml.azure.com/swagger.json', 'name': 'regression-04282028824106', 'description': 'this is a sample online endpoint for mlflow model', 'tags': {'foo': 'bar'}, 'properties': {'azureml.onlineendpointid': '/subscriptions/3b57d2fe-08b1-4fe9-b535-f5c4387b9a66/resourcegroups/automl-rg12/providers/microsoft.machinelearningservices/workspaces/automl-ws12/onlineendpoints/regression-04282028824106', 'AzureAsyncOperationUri': 'https://management.azure.com/subscriptions/3b57d2fe-08b1-4fe9-b535-f5c4387b9a66/providers/Microsoft.MachineLearningServices/locations/westus/mfeOperationsStatus/oe:37ec976d-d4c6-40eb-a7f5-e15ebf372a4d:648b3e0a-e9c8-42ae-9cb0-430073b0bdb5?api-version=2022-02-01-preview'}, 'print_as_yaml': True, 'id': '/subscriptions/3b57d2fe-08b1-4fe9-b535-f5c4387b9a66/resourceGroups/automl-rg12/providers/Microsoft.MachineLearningServices/workspaces/automl-ws12/onlineEndpoints/regression-04282028824106', 'Resource__source_path': None, 'base_path': '/mnt/batch/tasks/shared/LS_root/mounts/clusters/compute-instance01/code/Users/vijaygadhave199', 'creation_context': None, 'serialize': <msrest.serialization.Serializer object at 0x7f391ecef880>, 'auth_mode': 'key', 'location': 'westus', 'identity': <azure.ai.ml.entities._credentials.IdentityConfiguration object at 0x7f391ecee9e0>, 'traffic': {'hardware-performance-deploy': 100}, 'mirror_traffic': {}, 'kind': 'Managed'})"
     },
     "metadata": {}
    }
   ],
   "execution_count": 42,
   "metadata": {
    "nteract": {
     "transient": {
      "deleting": false
     }
    },
    "gather": {
     "logged": 1714340711747
    }
   }
  },
  {
   "cell_type": "code",
   "source": [
    "# existing traffic details\n",
    "print(endpoint.traffic)"
   ],
   "outputs": [
    {
     "output_type": "stream",
     "name": "stdout",
     "text": "{'hardware-performance-deploy': 100}\n"
    }
   ],
   "execution_count": 43,
   "metadata": {
    "nteract": {
     "transient": {
      "deleting": false
     }
    },
    "gather": {
     "logged": 1714340723391
    }
   }
  },
  {
   "cell_type": "markdown",
   "source": [
    "# 10 - Test the deployment"
   ],
   "metadata": {
    "nteract": {
     "transient": {
      "deleting": false
     }
    }
   }
  },
  {
   "cell_type": "code",
   "source": [
    "# test the deployment with sample data\n",
    "\n",
    "import pandas as pd\n",
    "\n",
    "test_data = pd.read_csv(\"./data/test-mltable-folder/machine_dataset_test_data.csv\")\n",
    "test_data = test_data.drop(\"ERP\", axis=1)\n",
    "\n",
    "# Convert Data to JSON format\n",
    "test_data_json = test_data.to_json(orient=\"records\", indent=4)\n",
    "data = (\n",
    "    '{ \\\n",
    "          \"input_data\": {\"data\": '\n",
    "    + test_data_json\n",
    "    + \"}}\"\n",
    ")\n",
    "\n",
    "#  Prepare Request File\n",
    "request_file_name = \"sample-request-hardware-performance.json\"\n",
    "\n",
    "with open(request_file_name, \"w\") as request_file:\n",
    "    request_file.write(data)\n",
    "\n",
    "# Invoke the Deployed Model Endpoint\n",
    "ml_client.online_endpoints.invoke(\n",
    "    endpoint_name=online_endpoint_name,\n",
    "    deployment_name=\"hardware-performance-deploy\",\n",
    "    request_file=\"sample-request-hardware-performance.json\",\n",
    ")"
   ],
   "outputs": [
    {
     "output_type": "execute_result",
     "execution_count": 48,
     "data": {
      "text/plain": "'[198.94456481933594, 253.0386505126953, 22.967561721801758, 44.99810791015625, 28.005020141601562, 102.0025634765625, 30.003328323364258, 38.003334045410156, 33.990787506103516, 33.9858283996582, 156.9995574951172, 17.967273712158203, 52.994171142578125, 22.97707176208496, 20.012155532836914]'"
     },
     "metadata": {}
    }
   ],
   "execution_count": 48,
   "metadata": {
    "nteract": {
     "transient": {
      "deleting": false
     }
    },
    "gather": {
     "logged": 1714342604255
    }
   }
  },
  {
   "cell_type": "code",
   "source": [
    "# Get the details for online endpoint\n",
    "endpoint = ml_client.online_endpoints.get(name=online_endpoint_name)\n",
    "\n",
    "# existing traffic details\n",
    "print(endpoint.traffic)\n",
    "\n",
    "# Get the scoring URI\n",
    "print(endpoint.scoring_uri)"
   ],
   "outputs": [
    {
     "output_type": "stream",
     "name": "stdout",
     "text": "{'hardware-performance-deploy': 100}\nhttps://regression-04282028824106.westus.inference.ml.azure.com/score\n"
    }
   ],
   "execution_count": 49,
   "metadata": {
    "nteract": {
     "transient": {
      "deleting": false
     }
    },
    "gather": {
     "logged": 1714342748611
    }
   }
  },
  {
   "cell_type": "code",
   "source": [
    "# Delete the deployment and endpoint\n",
    "ml_client.online_endpoints.begin_delete(name=online_endpoint_name)"
   ],
   "outputs": [
    {
     "output_type": "execute_result",
     "execution_count": 50,
     "data": {
      "text/plain": "<azure.core.polling._poller.LROPoller at 0x7f391e0863e0>"
     },
     "metadata": {}
    },
    {
     "output_type": "stream",
     "name": "stdout",
     "text": "................................................................."
    }
   ],
   "execution_count": 50,
   "metadata": {
    "nteract": {
     "transient": {
      "deleting": false
     }
    },
    "gather": {
     "logged": 1714342780584
    }
   }
  },
  {
   "cell_type": "markdown",
   "source": [
    "# 11 - Use auto generated model training code for retraining on new data"
   ],
   "metadata": {
    "nteract": {
     "transient": {
      "deleting": false
     }
    }
   }
  },
  {
   "cell_type": "markdown",
   "source": [
    "### Create Compute Target"
   ],
   "metadata": {
    "nteract": {
     "transient": {
      "deleting": false
     }
    }
   }
  },
  {
   "cell_type": "code",
   "source": [
    "# Create or Attach existing AmlCompute\n",
    "\n",
    "from azure.ai.ml.entities import AmlCompute\n",
    "from azure.core.exceptions import ResourceNotFoundError\n",
    "\n",
    "compute_name = \"cpu-cluster\"\n",
    "\n",
    "try:\n",
    "    _ = ml_client.compute.get(compute_name)\n",
    "    print(\"Found existing compute target.\")\n",
    "except ResourceNotFoundError:\n",
    "    print(\"Creating a new compute target...\")\n",
    "    compute_config = AmlCompute(\n",
    "        name=compute_name,\n",
    "        type=\"amlcompute\",\n",
    "        size=\"STANDARD_DS3_V2\",\n",
    "        idle_time_before_scale_down=120,\n",
    "        min_instances=0,\n",
    "        max_instances=6,\n",
    "    )\n",
    "    ml_client.begin_create_or_update(compute_config).result()"
   ],
   "outputs": [
    {
     "output_type": "stream",
     "name": "stdout",
     "text": "Creating a new compute target...\n"
    }
   ],
   "execution_count": 51,
   "metadata": {
    "nteract": {
     "transient": {
      "deleting": false
     }
    },
    "gather": {
     "logged": 1714345136777
    }
   }
  },
  {
   "cell_type": "markdown",
   "source": [
    "### Register the dataset"
   ],
   "metadata": {
    "nteract": {
     "transient": {
      "deleting": false
     }
    }
   }
  },
  {
   "cell_type": "code",
   "source": [
    "# Create MLTable\n",
    "\n",
    "import mltable\n",
    "\n",
    "paths = [{'file': './data/retrained-mltable-folder/machine_dataset_retrain_data.csv'}]\n",
    "\n",
    "retrain_table = mltable.from_delimited_files(paths)\n",
    "retrain_table.save('./data/retrained-mltable-folder')"
   ],
   "outputs": [],
   "execution_count": 52,
   "metadata": {
    "nteract": {
     "transient": {
      "deleting": false
     }
    },
    "gather": {
     "logged": 1714345176258
    }
   }
  },
  {
   "cell_type": "code",
   "source": [
    "from azure.ai.ml.entities import Data\n",
    "\n",
    "retrain_data = Data(\n",
    "    path=\"./data/retrained-mltable-folder/\",\n",
    "    type=AssetTypes.MLTABLE,\n",
    "    description=\"Updated training dataset\",\n",
    "    name=\"machine\"\n",
    ")\n",
    "\n",
    "retrain_data = ml_client.data.create_or_update(retrain_data)"
   ],
   "outputs": [
    {
     "output_type": "stream",
     "name": "stderr",
     "text": "\r\u001B[32mUploading retrained-mltable-folder (0.01 MBs):   0%|          | 0/9423 [00:00<?, ?it/s]\r\u001B[32mUploading retrained-mltable-folder (0.01 MBs):   7%|▋         | 653/9423 [00:00<00:01, 5602.48it/s]\r\u001B[32mUploading retrained-mltable-folder (0.01 MBs): 100%|██████████| 9423/9423 [00:00<00:00, 78717.91it/s]\n\u001B[39m\n\n"
    }
   ],
   "execution_count": 53,
   "metadata": {
    "nteract": {
     "transient": {
      "deleting": false
     }
    },
    "gather": {
     "logged": 1714345232130
    }
   }
  },
  {
   "cell_type": "code",
   "source": [
    "import mlflow\n",
    "\n",
    "# Obtain the tracking URI from MLClient\n",
    "MLFLOW_TRACKING_URI = ml_client.workspaces.get(name=ml_client.workspace_name).mlflow_tracking_uri\n",
    "print(MLFLOW_TRACKING_URI)\n",
    "\n",
    "# Set the MLFLOW TRACKING URI\n",
    "mlflow.set_tracking_uri(MLFLOW_TRACKING_URI)\n",
    "\n",
    "print(\"\\nCurrent tracking uri: {}\".format(mlflow.get_tracking_uri()))"
   ],
   "outputs": [
    {
     "output_type": "stream",
     "name": "stdout",
     "text": "azureml://westus.api.azureml.ms/mlflow/v1.0/subscriptions/3b57d2fe-08b1-4fe9-b535-f5c4387b9a66/resourceGroups/automl-rg12/providers/Microsoft.MachineLearningServices/workspaces/automl-ws12\n\nCurrent tracking uri: azureml://westus.api.azureml.ms/mlflow/v1.0/subscriptions/3b57d2fe-08b1-4fe9-b535-f5c4387b9a66/resourceGroups/automl-rg12/providers/Microsoft.MachineLearningServices/workspaces/automl-ws12\n"
    }
   ],
   "execution_count": 54,
   "metadata": {
    "nteract": {
     "transient": {
      "deleting": false
     }
    },
    "gather": {
     "logged": 1714345263298
    }
   }
  },
  {
   "cell_type": "markdown",
   "source": [
    "### Download script"
   ],
   "metadata": {
    "nteract": {
     "transient": {
      "deleting": false
     }
    }
   }
  },
  {
   "cell_type": "code",
   "source": [
    "from mlflow.tracking.client import MlflowClient\n",
    "\n",
    "# Initialize MLFlow client\n",
    "mlflow_client = MlflowClient()\n",
    "\n",
    "# Get the parent run\n",
    "job_name = returned_job.name\n",
    "mlflow_parent_run = mlflow_client.get_run(job_name)\n",
    "print(\"Parent Run: \")\n",
    "print(mlflow_parent_run)\n",
    "\n",
    "# Get the best model's child run\n",
    "best_child_run_id = mlflow_parent_run.data.tags[\"automl_best_child_run_id\"]\n",
    "print(\"Found best child run id: \", best_child_run_id)\n",
    "best_run = mlflow_client.get_run(best_child_run_id)\n",
    "\n",
    "# Download run's artifacts/outputs\n",
    "local_dir = \"./artifact_downloads/\"\n",
    "if not os.path.exists(local_dir):\n",
    "    os.mkdir(local_dir)\n",
    "local_path = download_artifacts(\n",
    "    run_id=best_run.info.run_id, artifact_path=\"outputs\", dst_path=local_dir\n",
    ")\n",
    "print(\"Artifacts downloaded in: {}\".format(local_path))\n",
    "print(\"Artifacts: {}\".format(os.listdir(local_path)))"
   ],
   "outputs": [
    {
     "output_type": "stream",
     "name": "stdout",
     "text": "Parent Run: \n<Run: data=<RunData: metrics={'explained_variance': 0.8920387935716176,\n 'mean_absolute_error': 13.539137179346207,\n 'mean_absolute_percentage_error': 8.872139228421817,\n 'median_absolute_error': 2.567427062988281,\n 'normalized_mean_absolute_error': 0.011070431054248736,\n 'normalized_median_absolute_error': 0.002099286233023942,\n 'normalized_root_mean_squared_error': 0.034096838205383236,\n 'normalized_root_mean_squared_log_error': 0.03225134363934273,\n 'r2_score': 0.8877571661083964,\n 'root_mean_squared_error': 41.70043312518369,\n 'root_mean_squared_log_error': 0.14027628901087677,\n 'spearman_correlation': 0.9849634259945527}, params={}, tags={'_azureml.ComputeTargetType': '',\n 'automl_best_child_run_id': 'olive_fennel_dct48dckcj_1',\n 'fit_time_000': '0.0226334;0.0766718;0.05308700000000001;2;2',\n 'iteration_000': '0;1;2;3;4',\n 'mlflow.rootRunId': 'olive_fennel_dct48dckcj',\n 'mlflow.runName': 'olive_fennel_dct48dckcj',\n 'mlflow.user': 'Vijay Gadhave',\n 'model_explain_best_run_child_id': 'olive_fennel_dct48dckcj_1',\n 'model_explain_run': 'best_run',\n 'my custom key': 'my custom value',\n 'pipeline_id_000': 'faf12f74cf9bbd358ca5525682c5030d36f7be7c;4bc4ec47eb8df2d5d68b361cd60120e65196f757;5cc37daec73ea64276ef956449645cdb519fdfc6;__AutoML_Ensemble__;__AutoML_Stack_Ensemble__',\n 'predicted_cost_000': '0;0;0.5;0;0',\n 'run_algorithm_000': 'LightGBM;XGBoostRegressor;XGBoostRegressor;VotingEnsemble;StackEnsemble',\n 'run_preprocessor_000': 'MaxAbsScaler;MaxAbsScaler;StandardScalerWrapper;;',\n 'score_000': '0.6359901279465644;0.8877571661083964;-0.4691851490369148;0.8877571661083964;0.8100906326416171',\n 'training_percent_000': '100;100;100;100;100'}>, info=<RunInfo: artifact_uri='azureml://westus.api.azureml.ms/mlflow/v2.0/subscriptions/3b57d2fe-08b1-4fe9-b535-f5c4387b9a66/resourceGroups/automl-rg12/providers/Microsoft.MachineLearningServices/workspaces/automl-ws12/experiments/11a05c2b-de08-4333-be4c-9daa1d805499/runs/olive_fennel_dct48dckcj/artifacts', end_time=1714332760840, experiment_id='11a05c2b-de08-4333-be4c-9daa1d805499', lifecycle_stage='active', run_id='olive_fennel_dct48dckcj', run_name='olive_fennel_dct48dckcj', run_uuid='olive_fennel_dct48dckcj', start_time=1714331967393, status='FINISHED', user_id='c46e826b-809e-4ae5-9a2b-97a274ed9bc7'>, inputs=<RunInputs: dataset_inputs=[]>>\nFound best child run id:  olive_fennel_dct48dckcj_1\nArtifacts downloaded in: /mnt/batch/tasks/shared/LS_root/mounts/clusters/compute-instance01/code/Users/vijaygadhave199/artifact_downloads/outputs\nArtifacts: ['conda_env_v_1_0_0.yml', 'engineered_feature_names.json', 'env_dependencies.json', 'featurization_summary.json', 'generated_code', 'internal_cross_validated_models.pkl', 'mlflow-model', 'model.pkl', 'pipeline_graph.json', 'run_id.txt', 'scoring_file_pbi_v_1_0_0.py', 'scoring_file_v_1_0_0.py', 'scoring_file_v_2_0_0.py']\n"
    }
   ],
   "execution_count": 55,
   "metadata": {
    "nteract": {
     "transient": {
      "deleting": false
     }
    },
    "gather": {
     "logged": 1714345349939
    }
   }
  },
  {
   "cell_type": "code",
   "source": [
    "# Find the curated environment used for training\n",
    "\n",
    "import yaml\n",
    "\n",
    "# constructing the path to the \"MLmodel\"\n",
    "model_file = os.path.join(local_dir, \"outputs\", \"mlflow-model\", \"MLmodel\")\n",
    "\n",
    "with open(model_file, \"r\") as model_stream:\n",
    "    model_yaml = yaml.safe_load(model_stream)\n",
    "\n",
    "    # extracting the name of the training environment from the model_yaml dictionary\n",
    "    training_environment_name = (\n",
    "        \"AzureML-AutoML:\" + model_yaml[\"metadata\"][\"azureml.base_image\"].split(\":\")[-1]\n",
    "    )\n",
    "    print(\"Training emvironment {}\".format(training_environment_name))"
   ],
   "outputs": [
    {
     "output_type": "stream",
     "name": "stdout",
     "text": "Training emvironment AzureML-AutoML:167\n"
    }
   ],
   "execution_count": 56,
   "metadata": {
    "nteract": {
     "transient": {
      "deleting": false
     }
    },
    "gather": {
     "logged": 1714345449434
    }
   }
  },
  {
   "cell_type": "markdown",
   "source": [
    "### Create and run command"
   ],
   "metadata": {
    "nteract": {
     "transient": {
      "deleting": false
     }
    }
   }
  },
  {
   "cell_type": "code",
   "source": [
    "# constructs a string that defines the command to be executed in the job\n",
    "command_str = f\"python script.py --training_dataset_uri {retrain_data.path}\"\n",
    "\n",
    "command_job = command(\n",
    "    code=\"./artifact_downloads/outputs/generated_code/\",\n",
    "    command=command_str,\n",
    "    tags=dict(automl_child_run_id=best_run.info.run_id),\n",
    "    environment=training_environment_name,\n",
    "    compute=compute_name,\n",
    "    experiment_name=exp_name,\n",
    ")\n",
    "\n",
    "script_job = ml_client.create_or_update(command_job)"
   ],
   "outputs": [
    {
     "output_type": "stream",
     "name": "stderr",
     "text": "Class AutoDeleteSettingSchema: This is an experimental class, and may change at any time. Please see https://aka.ms/azuremlexperimental for more information.\nClass AutoDeleteConditionSchema: This is an experimental class, and may change at any time. Please see https://aka.ms/azuremlexperimental for more information.\nClass BaseAutoDeleteSettingSchema: This is an experimental class, and may change at any time. Please see https://aka.ms/azuremlexperimental for more information.\nClass IntellectualPropertySchema: This is an experimental class, and may change at any time. Please see https://aka.ms/azuremlexperimental for more information.\nClass ProtectionLevelSchema: This is an experimental class, and may change at any time. Please see https://aka.ms/azuremlexperimental for more information.\nClass BaseIntellectualPropertySchema: This is an experimental class, and may change at any time. Please see https://aka.ms/azuremlexperimental for more information.\n\u001B[32mUploading generated_code (0.02 MBs): 100%|██████████| 23627/23627 [00:00<00:00, 202580.68it/s]\n\u001B[39m\n\n"
    }
   ],
   "execution_count": 57,
   "metadata": {
    "nteract": {
     "transient": {
      "deleting": false
     }
    },
    "gather": {
     "logged": 1714345586034
    }
   }
  }
 ],
 "metadata": {
  "kernelspec": {
   "name": "python310-sdkv2",
   "language": "python",
   "display_name": "Python 3.10 - SDK v2"
  },
  "language_info": {
   "name": "python",
   "version": "3.10.11",
   "mimetype": "text/x-python",
   "codemirror_mode": {
    "name": "ipython",
    "version": 3
   },
   "pygments_lexer": "ipython3",
   "nbconvert_exporter": "python",
   "file_extension": ".py"
  },
  "microsoft": {
   "ms_spell_check": {
    "ms_spell_check_language": "en"
   },
   "host": {
    "AzureML": {
     "notebookHasBeenCompleted": true
    }
   }
  },
  "kernel_info": {
   "name": "python310-sdkv2"
  },
  "nteract": {
   "version": "nteract-front-end@1.0.0"
  }
 },
 "nbformat": 4,
 "nbformat_minor": 2
}
